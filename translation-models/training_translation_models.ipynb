{
 "cells": [
  {
   "cell_type": "code",
   "execution_count": 1,
   "id": "a676793e-5a12-4d46-ac03-8833e0f15f7b",
   "metadata": {},
   "outputs": [
    {
     "name": "stderr",
     "output_type": "stream",
     "text": [
      "2025-02-27 21:16:46.702573: I tensorflow/core/platform/cpu_feature_guard.cc:182] This TensorFlow binary is optimized to use available CPU instructions in performance-critical operations.\n",
      "To enable the following instructions: AVX2 FMA, in other operations, rebuild TensorFlow with the appropriate compiler flags.\n",
      "2025-02-27 21:16:47.562594: W tensorflow/compiler/tf2tensorrt/utils/py_utils.cc:38] TF-TRT Warning: Could not find TensorRT\n"
     ]
    }
   ],
   "source": [
    "import torch\n",
    "from pathlib import Path\n",
    "from seq2seq_train import Seq2SeqTrainer"
   ]
  },
  {
   "cell_type": "code",
   "execution_count": 2,
   "id": "80aa479d-017f-4c74-89f5-3d03838fdffe",
   "metadata": {},
   "outputs": [
    {
     "name": "stdout",
     "output_type": "stream",
     "text": [
      "cuda\n"
     ]
    }
   ],
   "source": [
    "if torch.cuda.is_available():\n",
    "    print(\"cuda\")\n",
    "    torch.cuda.empty_cache()"
   ]
  },
  {
   "cell_type": "code",
   "execution_count": 3,
   "id": "8fd38379-eb35-4183-a499-8be6a044b283",
   "metadata": {},
   "outputs": [
    {
     "name": "stdout",
     "output_type": "stream",
     "text": [
      "Initializing trainer with full dataset for vocabulary building...\n",
      "Using device: cuda\n",
      "Device name: NVIDIA A100 80GB PCIe\n",
      "Device memory: 79.253662109375 GB\n",
      "Original shape: (100000, 3)\n",
      "Final shape: (100000, 3)\n",
      "The config file has been saved on translation_trial/eng_zul_seg_one\n",
      "the dataset length: 100000\n",
      "Tokenizer path: translation_trial/eng_zul_seg_one/tokenizers/tokenizers_english.json\n",
      "Tokenizer not found. Creating a new one...\n",
      "Creating default Tokenizer\n",
      "Tokenizer path: translation_trial/eng_zul_seg_one/tokenizers/tokenizers_segmenter_one.json\n",
      "Tokenizer not found. Creating a new one...\n",
      "Creating custom Segment Tokenizer\n",
      "Training tokenizer...\n",
      "Pruning vocabulary...\n",
      "\n",
      "Vocabulary Stats before pruning:\n",
      "Total unique tokens: 34709\n",
      "Tokens after frequency filtering (min_freq=1): 34709\n",
      "Tokens after size limiting: 29996\n",
      "Final vocabulary size (including special tokens): 30000\n",
      "Vocabulary size after pruning: 30000\n",
      "Vocabulary finalized\n",
      "Max length of source sentence: 77\n",
      "Max length of target sentence: 301\n",
      "Reducing dataset size for hyperparameter tuning...\n",
      "Using device: cuda\n",
      "Device name: NVIDIA A100 80GB PCIe\n",
      "Device memory: 79.253662109375 GB\n",
      "Original shape: (100000, 3)\n",
      "Final shape: (20000, 3)\n",
      "The config file has been saved on translation_trial/eng_zul_seg_one\n",
      "the dataset length: 20000\n",
      "Tokenizer path: translation_trial/eng_zul_seg_one/tokenizers/tokenizers_english.json\n",
      "Loading existing tokenizer from translation_trial/eng_zul_seg_one/tokenizers/tokenizers_english.json\n",
      "Tokenizer path: translation_trial/eng_zul_seg_one/tokenizers/tokenizers_segmenter_one.json\n",
      "Loading existing tokenizer from translation_trial/eng_zul_seg_one/tokenizers/tokenizers_segmenter_one.json\n",
      "Vocabulary finalized for inference\n",
      "Max length of source sentence: 69\n",
      "Max length of target sentence: 279\n",
      "huggingface/tokenizers: The current process just got forked, after parallelism has already been used. Disabling parallelism to avoid deadlocks...\n",
      "To disable this warning, you can either:\n",
      "\t- Avoid using `tokenizers` before the fork if possible\n",
      "\t- Explicitly set the environment variable TOKENIZERS_PARALLELISM=(true | false)\n",
      "huggingface/tokenizers: The current process just got forked, after parallelism has already been used. Disabling parallelism to avoid deadlocks...\n",
      "To disable this warning, you can either:\n",
      "\t- Avoid using `tokenizers` before the fork if possible\n",
      "\t- Explicitly set the environment variable TOKENIZERS_PARALLELISM=(true | false)\n",
      "huggingface/tokenizers: The current process just got forked, after parallelism has already been used. Disabling parallelism to avoid deadlocks...\n",
      "To disable this warning, you can either:\n",
      "\t- Avoid using `tokenizers` before the fork if possible\n",
      "\t- Explicitly set the environment variable TOKENIZERS_PARALLELISM=(true | false)\n",
      "huggingface/tokenizers: The current process just got forked, after parallelism has already been used. Disabling parallelism to avoid deadlocks...\n",
      "To disable this warning, you can either:\n",
      "\t- Avoid using `tokenizers` before the fork if possible\n",
      "\t- Explicitly set the environment variable TOKENIZERS_PARALLELISM=(true | false)\n",
      "huggingface/tokenizers: The current process just got forked, after parallelism has already been used. Disabling parallelism to avoid deadlocks...\n",
      "To disable this warning, you can either:\n",
      "\t- Avoid using `tokenizers` before the fork if possible\n",
      "\t- Explicitly set the environment variable TOKENIZERS_PARALLELISM=(true | false)\n"
     ]
    },
    {
     "name": "stderr",
     "output_type": "stream",
     "text": [
      "2025-02-27 21:17:09,542\tINFO worker.py:1821 -- Started a local Ray instance.\n"
     ]
    },
    {
     "name": "stdout",
     "output_type": "stream",
     "text": [
      "/workspace/pytorch-transformer_2/translation_trial/eng_zul_seg_one/ray_results\n"
     ]
    },
    {
     "name": "stderr",
     "output_type": "stream",
     "text": [
      "2025-02-27 21:17:10,650\tINFO tune.py:616 -- [output] This uses the legacy output and progress reporter, as Jupyter notebooks are not supported by the new engine, yet. For more information, please see https://github.com/ray-project/ray/issues/36949\n",
      "[I 2025-02-27 21:17:10,678] A new study created in memory with name: optuna\n"
     ]
    },
    {
     "data": {
      "text/html": [
       "<div class=\"tuneStatus\">\n",
       "  <div style=\"display: flex;flex-direction: row\">\n",
       "    <div style=\"display: flex;flex-direction: column;\">\n",
       "      <h3>Tune Status</h3>\n",
       "      <table>\n",
       "<tbody>\n",
       "<tr><td>Current time:</td><td>2025-02-27 23:19:52</td></tr>\n",
       "<tr><td>Running for: </td><td>02:02:41.40        </td></tr>\n",
       "<tr><td>Memory:      </td><td>9.5/125.8 GiB      </td></tr>\n",
       "</tbody>\n",
       "</table>\n",
       "    </div>\n",
       "    <div class=\"vDivider\"></div>\n",
       "    <div class=\"systemInfo\">\n",
       "      <h3>System Info</h3>\n",
       "      Using AsyncHyperBand: num_stopped=5<br>Bracket: Iter 4.000: -0.9839098798036575 | Iter 2.000: -2.0514742615520953<br>Bracket: Iter 4.000: -2.1506110516190526<br>Bracket: <br>Logical resource usage: 32.0/64 CPUs, 1.0/1 GPUs (0.0/1.0 accelerator_type:A100)\n",
       "    </div>\n",
       "    \n",
       "  </div>\n",
       "  <div class=\"hDivider\"></div>\n",
       "  <div class=\"trialStatus\">\n",
       "    <h3>Trial Status</h3>\n",
       "    <table>\n",
       "<thead>\n",
       "<tr><th>Trial name                </th><th>status    </th><th>loc            </th><th style=\"text-align: right;\">  d_ff</th><th style=\"text-align: right;\">  d_model</th><th style=\"text-align: right;\">  dropout</th><th style=\"text-align: right;\">  label_smoothing</th><th style=\"text-align: right;\">         lr</th><th style=\"text-align: right;\">  max_grad_norm</th><th style=\"text-align: right;\">  num_heads</th><th style=\"text-align: right;\">  num_layers</th><th style=\"text-align: right;\">  iter</th><th style=\"text-align: right;\">  total time (s)</th><th style=\"text-align: right;\">  train_loss</th><th style=\"text-align: right;\">  val_loss</th><th style=\"text-align: right;\">  epoch</th></tr>\n",
       "</thead>\n",
       "<tbody>\n",
       "<tr><td>training_function_ee2b2bd5</td><td>TERMINATED</td><td>172.17.0.2:6413</td><td style=\"text-align: right;\">  2048</td><td style=\"text-align: right;\">      512</td><td style=\"text-align: right;\"> 0.167518</td><td style=\"text-align: right;\">       0.0764303 </td><td style=\"text-align: right;\">0.00012653 </td><td style=\"text-align: right;\">       0.879368</td><td style=\"text-align: right;\">         16</td><td style=\"text-align: right;\">           4</td><td style=\"text-align: right;\">     5</td><td style=\"text-align: right;\">         940.07 </td><td style=\"text-align: right;\">    1.42693 </td><td style=\"text-align: right;\">  1.41546 </td><td style=\"text-align: right;\">      4</td></tr>\n",
       "<tr><td>training_function_20b6add1</td><td>TERMINATED</td><td>172.17.0.2:6802</td><td style=\"text-align: right;\">   512</td><td style=\"text-align: right;\">     1024</td><td style=\"text-align: right;\"> 0.180819</td><td style=\"text-align: right;\">       0.131948  </td><td style=\"text-align: right;\">0.000129025</td><td style=\"text-align: right;\">       0.915276</td><td style=\"text-align: right;\">          8</td><td style=\"text-align: right;\">           3</td><td style=\"text-align: right;\">     5</td><td style=\"text-align: right;\">        1105    </td><td style=\"text-align: right;\">    2.0463  </td><td style=\"text-align: right;\">  2.04368 </td><td style=\"text-align: right;\">      4</td></tr>\n",
       "<tr><td>training_function_75e54215</td><td>TERMINATED</td><td>172.17.0.2:7148</td><td style=\"text-align: right;\">  1024</td><td style=\"text-align: right;\">      128</td><td style=\"text-align: right;\"> 0.260743</td><td style=\"text-align: right;\">       0.0583802 </td><td style=\"text-align: right;\">3.25543e-05</td><td style=\"text-align: right;\">       0.532579</td><td style=\"text-align: right;\">         16</td><td style=\"text-align: right;\">           3</td><td style=\"text-align: right;\">     5</td><td style=\"text-align: right;\">         408.678</td><td style=\"text-align: right;\">    2.1218  </td><td style=\"text-align: right;\">  1.77407 </td><td style=\"text-align: right;\">      4</td></tr>\n",
       "<tr><td>training_function_addeeb7f</td><td>TERMINATED</td><td>172.17.0.2:7397</td><td style=\"text-align: right;\">   512</td><td style=\"text-align: right;\">      128</td><td style=\"text-align: right;\"> 0.244843</td><td style=\"text-align: right;\">       0.174772  </td><td style=\"text-align: right;\">2.03298e-05</td><td style=\"text-align: right;\">       0.63828 </td><td style=\"text-align: right;\">          4</td><td style=\"text-align: right;\">           6</td><td style=\"text-align: right;\">     5</td><td style=\"text-align: right;\">         418.424</td><td style=\"text-align: right;\">    5.18503 </td><td style=\"text-align: right;\">  4.66269 </td><td style=\"text-align: right;\">      4</td></tr>\n",
       "<tr><td>training_function_cbec6aea</td><td>TERMINATED</td><td>172.17.0.2:7660</td><td style=\"text-align: right;\">  2048</td><td style=\"text-align: right;\">      256</td><td style=\"text-align: right;\"> 0.225271</td><td style=\"text-align: right;\">       0.177432  </td><td style=\"text-align: right;\">0.000301443</td><td style=\"text-align: right;\">       1.48046 </td><td style=\"text-align: right;\">         16</td><td style=\"text-align: right;\">           6</td><td style=\"text-align: right;\">     3</td><td style=\"text-align: right;\">         534.442</td><td style=\"text-align: right;\">    2.67983 </td><td style=\"text-align: right;\">  2.66282 </td><td style=\"text-align: right;\">      2</td></tr>\n",
       "<tr><td>training_function_b2a8b0d3</td><td>TERMINATED</td><td>172.17.0.2:7984</td><td style=\"text-align: right;\">  2048</td><td style=\"text-align: right;\">      512</td><td style=\"text-align: right;\"> 0.124793</td><td style=\"text-align: right;\">       0.149748  </td><td style=\"text-align: right;\">0.000387341</td><td style=\"text-align: right;\">       1.17571 </td><td style=\"text-align: right;\">         16</td><td style=\"text-align: right;\">           6</td><td style=\"text-align: right;\">     5</td><td style=\"text-align: right;\">        1287.81 </td><td style=\"text-align: right;\">    2.26075 </td><td style=\"text-align: right;\">  2.25754 </td><td style=\"text-align: right;\">      4</td></tr>\n",
       "<tr><td>training_function_55dc511a</td><td>TERMINATED</td><td>172.17.0.2:8489</td><td style=\"text-align: right;\">   512</td><td style=\"text-align: right;\">      128</td><td style=\"text-align: right;\"> 0.141828</td><td style=\"text-align: right;\">       0.073403  </td><td style=\"text-align: right;\">3.26284e-05</td><td style=\"text-align: right;\">       1.33433 </td><td style=\"text-align: right;\">          4</td><td style=\"text-align: right;\">           3</td><td style=\"text-align: right;\">     3</td><td style=\"text-align: right;\">         176.039</td><td style=\"text-align: right;\">    5.05589 </td><td style=\"text-align: right;\">  4.11318 </td><td style=\"text-align: right;\">      2</td></tr>\n",
       "<tr><td>training_function_57661dd3</td><td>TERMINATED</td><td>172.17.0.2:8741</td><td style=\"text-align: right;\">   512</td><td style=\"text-align: right;\">      512</td><td style=\"text-align: right;\"> 0.286428</td><td style=\"text-align: right;\">       0.00793993</td><td style=\"text-align: right;\">4.4479e-05 </td><td style=\"text-align: right;\">       1.21109 </td><td style=\"text-align: right;\">         16</td><td style=\"text-align: right;\">           4</td><td style=\"text-align: right;\">     5</td><td style=\"text-align: right;\">         810.549</td><td style=\"text-align: right;\">    0.645983</td><td style=\"text-align: right;\">  0.638553</td><td style=\"text-align: right;\">      4</td></tr>\n",
       "<tr><td>training_function_1adb1cc0</td><td>TERMINATED</td><td>172.17.0.2:9637</td><td style=\"text-align: right;\">  2048</td><td style=\"text-align: right;\">      512</td><td style=\"text-align: right;\"> 0.129179</td><td style=\"text-align: right;\">       0.170628  </td><td style=\"text-align: right;\">3.44347e-05</td><td style=\"text-align: right;\">       0.874015</td><td style=\"text-align: right;\">          4</td><td style=\"text-align: right;\">           3</td><td style=\"text-align: right;\">     3</td><td style=\"text-align: right;\">         405.117</td><td style=\"text-align: right;\">    2.65538 </td><td style=\"text-align: right;\">  2.64381 </td><td style=\"text-align: right;\">      2</td></tr>\n",
       "<tr><td>training_function_67627763</td><td>TERMINATED</td><td>172.17.0.2:9904</td><td style=\"text-align: right;\">  1024</td><td style=\"text-align: right;\">     1024</td><td style=\"text-align: right;\"> 0.165184</td><td style=\"text-align: right;\">       0.0488127 </td><td style=\"text-align: right;\">0.000299822</td><td style=\"text-align: right;\">       1.41449 </td><td style=\"text-align: right;\">          8</td><td style=\"text-align: right;\">           3</td><td style=\"text-align: right;\">     5</td><td style=\"text-align: right;\">        1161.98 </td><td style=\"text-align: right;\">    0.985756</td><td style=\"text-align: right;\">  0.98391 </td><td style=\"text-align: right;\">      4</td></tr>\n",
       "</tbody>\n",
       "</table>\n",
       "  </div>\n",
       "</div>\n",
       "<style>\n",
       ".tuneStatus {\n",
       "  color: var(--jp-ui-font-color1);\n",
       "}\n",
       ".tuneStatus .systemInfo {\n",
       "  display: flex;\n",
       "  flex-direction: column;\n",
       "}\n",
       ".tuneStatus td {\n",
       "  white-space: nowrap;\n",
       "}\n",
       ".tuneStatus .trialStatus {\n",
       "  display: flex;\n",
       "  flex-direction: column;\n",
       "}\n",
       ".tuneStatus h3 {\n",
       "  font-weight: bold;\n",
       "}\n",
       ".tuneStatus .hDivider {\n",
       "  border-bottom-width: var(--jp-border-width);\n",
       "  border-bottom-color: var(--jp-border-color0);\n",
       "  border-bottom-style: solid;\n",
       "}\n",
       ".tuneStatus .vDivider {\n",
       "  border-left-width: var(--jp-border-width);\n",
       "  border-left-color: var(--jp-border-color0);\n",
       "  border-left-style: solid;\n",
       "  margin: 0.5em 1em 0.5em 1em;\n",
       "}\n",
       "</style>\n"
      ],
      "text/plain": [
       "<IPython.core.display.HTML object>"
      ]
     },
     "metadata": {},
     "output_type": "display_data"
    },
    {
     "name": "stderr",
     "output_type": "stream",
     "text": [
      "\u001b[36m(pid=6413)\u001b[0m 2025-02-27 21:17:15.309443: I tensorflow/core/platform/cpu_feature_guard.cc:182] This TensorFlow binary is optimized to use available CPU instructions in performance-critical operations.\n",
      "\u001b[36m(pid=6413)\u001b[0m To enable the following instructions: AVX2 FMA, in other operations, rebuild TensorFlow with the appropriate compiler flags.\n",
      "\u001b[36m(pid=6413)\u001b[0m 2025-02-27 21:17:16.148149: W tensorflow/compiler/tf2tensorrt/utils/py_utils.cc:38] TF-TRT Warning: Could not find TensorRT\n"
     ]
    },
    {
     "data": {
      "text/html": [
       "<div class=\"trialProgress\">\n",
       "  <h3>Trial Progress</h3>\n",
       "  <table>\n",
       "<thead>\n",
       "<tr><th>Trial name                </th><th style=\"text-align: right;\">  epoch</th><th style=\"text-align: right;\">  train_loss</th><th style=\"text-align: right;\">  val_loss</th></tr>\n",
       "</thead>\n",
       "<tbody>\n",
       "<tr><td>training_function_1adb1cc0</td><td style=\"text-align: right;\">      2</td><td style=\"text-align: right;\">    2.65538 </td><td style=\"text-align: right;\">  2.64381 </td></tr>\n",
       "<tr><td>training_function_20b6add1</td><td style=\"text-align: right;\">      4</td><td style=\"text-align: right;\">    2.0463  </td><td style=\"text-align: right;\">  2.04368 </td></tr>\n",
       "<tr><td>training_function_55dc511a</td><td style=\"text-align: right;\">      2</td><td style=\"text-align: right;\">    5.05589 </td><td style=\"text-align: right;\">  4.11318 </td></tr>\n",
       "<tr><td>training_function_57661dd3</td><td style=\"text-align: right;\">      4</td><td style=\"text-align: right;\">    0.645983</td><td style=\"text-align: right;\">  0.638553</td></tr>\n",
       "<tr><td>training_function_67627763</td><td style=\"text-align: right;\">      4</td><td style=\"text-align: right;\">    0.985756</td><td style=\"text-align: right;\">  0.98391 </td></tr>\n",
       "<tr><td>training_function_75e54215</td><td style=\"text-align: right;\">      4</td><td style=\"text-align: right;\">    2.1218  </td><td style=\"text-align: right;\">  1.77407 </td></tr>\n",
       "<tr><td>training_function_addeeb7f</td><td style=\"text-align: right;\">      4</td><td style=\"text-align: right;\">    5.18503 </td><td style=\"text-align: right;\">  4.66269 </td></tr>\n",
       "<tr><td>training_function_b2a8b0d3</td><td style=\"text-align: right;\">      4</td><td style=\"text-align: right;\">    2.26075 </td><td style=\"text-align: right;\">  2.25754 </td></tr>\n",
       "<tr><td>training_function_cbec6aea</td><td style=\"text-align: right;\">      2</td><td style=\"text-align: right;\">    2.67983 </td><td style=\"text-align: right;\">  2.66282 </td></tr>\n",
       "<tr><td>training_function_ee2b2bd5</td><td style=\"text-align: right;\">      4</td><td style=\"text-align: right;\">    1.42693 </td><td style=\"text-align: right;\">  1.41546 </td></tr>\n",
       "</tbody>\n",
       "</table>\n",
       "</div>\n",
       "<style>\n",
       ".trialProgress {\n",
       "  display: flex;\n",
       "  flex-direction: column;\n",
       "  color: var(--jp-ui-font-color1);\n",
       "}\n",
       ".trialProgress h3 {\n",
       "  font-weight: bold;\n",
       "}\n",
       ".trialProgress td {\n",
       "  white-space: nowrap;\n",
       "}\n",
       "</style>\n"
      ],
      "text/plain": [
       "<IPython.core.display.HTML object>"
      ]
     },
     "metadata": {},
     "output_type": "display_data"
    },
    {
     "name": "stderr",
     "output_type": "stream",
     "text": [
      "\u001b[36m(pid=6802)\u001b[0m 2025-02-27 21:33:01.910978: I tensorflow/core/platform/cpu_feature_guard.cc:182] This TensorFlow binary is optimized to use available CPU instructions in performance-critical operations.\n",
      "\u001b[36m(pid=6802)\u001b[0m To enable the following instructions: AVX2 FMA, in other operations, rebuild TensorFlow with the appropriate compiler flags.\n",
      "\u001b[36m(pid=6802)\u001b[0m 2025-02-27 21:33:02.754175: W tensorflow/compiler/tf2tensorrt/utils/py_utils.cc:38] TF-TRT Warning: Could not find TensorRT\n",
      "2025-02-27 21:47:32,823\tWARNING experiment_state.py:233 -- Saving the experiment state (which holds a global view of trial statuses and is used to restore the experiment) has already taken 30.19 seconds, which may cause consistency issues upon restoration if your driver script ungracefully exits.\n",
      "This could be due to a large number of trials, large logfiles from lots of reported metrics, or throttling from the remote storage if uploading too frequently.\n",
      "You may want to consider switching the `RunConfig(storage_filesystem)` to a more performant storage backend such as s3fs for a S3 storage path.\n",
      "You can suppress this error by setting the environment variable TUNE_WARN_SLOW_EXPERIMENT_CHECKPOINT_SYNC_THRESHOLD_S to a higher value than the current threshold (30.0).\n",
      "2025-02-27 21:47:42,885\tWARNING experiment_state.py:233 -- Saving the experiment state (which holds a global view of trial statuses and is used to restore the experiment) has already taken 40.26 seconds, which may cause consistency issues upon restoration if your driver script ungracefully exits.\n",
      "This could be due to a large number of trials, large logfiles from lots of reported metrics, or throttling from the remote storage if uploading too frequently.\n",
      "You may want to consider switching the `RunConfig(storage_filesystem)` to a more performant storage backend such as s3fs for a S3 storage path.\n",
      "You can suppress this error by setting the environment variable TUNE_WARN_SLOW_EXPERIMENT_CHECKPOINT_SYNC_THRESHOLD_S to a higher value than the current threshold (30.0).\n",
      "2025-02-27 21:47:52,949\tWARNING experiment_state.py:233 -- Saving the experiment state (which holds a global view of trial statuses and is used to restore the experiment) has already taken 50.32 seconds, which may cause consistency issues upon restoration if your driver script ungracefully exits.\n",
      "This could be due to a large number of trials, large logfiles from lots of reported metrics, or throttling from the remote storage if uploading too frequently.\n",
      "You may want to consider switching the `RunConfig(storage_filesystem)` to a more performant storage backend such as s3fs for a S3 storage path.\n",
      "You can suppress this error by setting the environment variable TUNE_WARN_SLOW_EXPERIMENT_CHECKPOINT_SYNC_THRESHOLD_S to a higher value than the current threshold (30.0).\n",
      "2025-02-27 21:48:36,209\tWARNING util.py:201 -- The `callbacks.on_trial_result` operation took 42.577 s, which may be a performance bottleneck.\n",
      "2025-02-27 21:48:36,211\tWARNING util.py:201 -- The `process_trial_result` operation took 42.579 s, which may be a performance bottleneck.\n",
      "2025-02-27 21:48:36,212\tWARNING util.py:201 -- Processing trial results took 42.579 s, which may be a performance bottleneck. Please consider reporting results less frequently to Ray Tune.\n",
      "2025-02-27 21:48:36,212\tWARNING util.py:201 -- The `process_trial_result` operation took 42.580 s, which may be a performance bottleneck.\n",
      "\u001b[36m(pid=7148)\u001b[0m 2025-02-27 21:52:16.128046: I tensorflow/core/platform/cpu_feature_guard.cc:182] This TensorFlow binary is optimized to use available CPU instructions in performance-critical operations.\n",
      "\u001b[36m(pid=7148)\u001b[0m To enable the following instructions: AVX2 FMA, in other operations, rebuild TensorFlow with the appropriate compiler flags.\n",
      "\u001b[36m(pid=7148)\u001b[0m 2025-02-27 21:52:16.982935: W tensorflow/compiler/tf2tensorrt/utils/py_utils.cc:38] TF-TRT Warning: Could not find TensorRT\n",
      "\u001b[36m(pid=7397)\u001b[0m 2025-02-27 21:59:11.987899: I tensorflow/core/platform/cpu_feature_guard.cc:182] This TensorFlow binary is optimized to use available CPU instructions in performance-critical operations.\n",
      "\u001b[36m(pid=7397)\u001b[0m To enable the following instructions: AVX2 FMA, in other operations, rebuild TensorFlow with the appropriate compiler flags.\n",
      "\u001b[36m(pid=7397)\u001b[0m 2025-02-27 21:59:12.814873: W tensorflow/compiler/tf2tensorrt/utils/py_utils.cc:38] TF-TRT Warning: Could not find TensorRT\n",
      "\u001b[36m(pid=7660)\u001b[0m 2025-02-27 22:06:17.044715: I tensorflow/core/platform/cpu_feature_guard.cc:182] This TensorFlow binary is optimized to use available CPU instructions in performance-critical operations.\n",
      "\u001b[36m(pid=7660)\u001b[0m To enable the following instructions: AVX2 FMA, in other operations, rebuild TensorFlow with the appropriate compiler flags.\n",
      "\u001b[36m(pid=7660)\u001b[0m 2025-02-27 22:06:17.897660: W tensorflow/compiler/tf2tensorrt/utils/py_utils.cc:38] TF-TRT Warning: Could not find TensorRT\n",
      "\u001b[36m(pid=7984)\u001b[0m 2025-02-27 22:15:18.272734: I tensorflow/core/platform/cpu_feature_guard.cc:182] This TensorFlow binary is optimized to use available CPU instructions in performance-critical operations.\n",
      "\u001b[36m(pid=7984)\u001b[0m To enable the following instructions: AVX2 FMA, in other operations, rebuild TensorFlow with the appropriate compiler flags.\n",
      "\u001b[36m(pid=7984)\u001b[0m 2025-02-27 22:15:19.110361: W tensorflow/compiler/tf2tensorrt/utils/py_utils.cc:38] TF-TRT Warning: Could not find TensorRT\n",
      "\u001b[36m(pid=8489)\u001b[0m 2025-02-27 22:36:53.504468: I tensorflow/core/platform/cpu_feature_guard.cc:182] This TensorFlow binary is optimized to use available CPU instructions in performance-critical operations.\n",
      "\u001b[36m(pid=8489)\u001b[0m To enable the following instructions: AVX2 FMA, in other operations, rebuild TensorFlow with the appropriate compiler flags.\n",
      "\u001b[36m(pid=8489)\u001b[0m 2025-02-27 22:36:54.413838: W tensorflow/compiler/tf2tensorrt/utils/py_utils.cc:38] TF-TRT Warning: Could not find TensorRT\n",
      "\u001b[36m(pid=8741)\u001b[0m 2025-02-27 22:39:56.451131: I tensorflow/core/platform/cpu_feature_guard.cc:182] This TensorFlow binary is optimized to use available CPU instructions in performance-critical operations.\n",
      "\u001b[36m(pid=8741)\u001b[0m To enable the following instructions: AVX2 FMA, in other operations, rebuild TensorFlow with the appropriate compiler flags.\n",
      "\u001b[36m(pid=8741)\u001b[0m 2025-02-27 22:39:57.425196: W tensorflow/compiler/tf2tensorrt/utils/py_utils.cc:38] TF-TRT Warning: Could not find TensorRT\n",
      "\u001b[36m(pid=9637)\u001b[0m 2025-02-27 22:53:34.569996: I tensorflow/core/platform/cpu_feature_guard.cc:182] This TensorFlow binary is optimized to use available CPU instructions in performance-critical operations.\n",
      "\u001b[36m(pid=9637)\u001b[0m To enable the following instructions: AVX2 FMA, in other operations, rebuild TensorFlow with the appropriate compiler flags.\n",
      "\u001b[36m(pid=9637)\u001b[0m 2025-02-27 22:53:35.516048: W tensorflow/compiler/tf2tensorrt/utils/py_utils.cc:38] TF-TRT Warning: Could not find TensorRT\n",
      "\u001b[36m(pid=9904)\u001b[0m 2025-02-27 23:00:26.735495: I tensorflow/core/platform/cpu_feature_guard.cc:182] This TensorFlow binary is optimized to use available CPU instructions in performance-critical operations.\n",
      "\u001b[36m(pid=9904)\u001b[0m To enable the following instructions: AVX2 FMA, in other operations, rebuild TensorFlow with the appropriate compiler flags.\n",
      "\u001b[36m(pid=9904)\u001b[0m 2025-02-27 23:00:27.673181: W tensorflow/compiler/tf2tensorrt/utils/py_utils.cc:38] TF-TRT Warning: Could not find TensorRT\n",
      "2025-02-27 23:19:52,145\tINFO tune.py:1009 -- Wrote the latest version of all result files and experiment state to '/workspace/pytorch-transformer_2/translation_trial/eng_zul_seg_one/ray_results/transformer_tune' in 0.0255s.\n",
      "2025-02-27 23:19:52,155\tINFO tune.py:1041 -- Total run time: 7361.50 seconds (7361.38 seconds for the tuning loop).\n"
     ]
    },
    {
     "name": "stdout",
     "output_type": "stream",
     "text": [
      "\n",
      "Best hyperparameters found:\n",
      "{'lr': 4.447904991816398e-05, 'd_model': 512, 'num_layers': 4, 'num_heads': 16, 'd_ff': 512, 'dropout': 0.2864280352289551, 'label_smoothing': 0.00793992659707945, 'max_grad_norm': 1.2110879744248009}\n",
      "Increasing dataset size for full training...\n",
      "Using device: cuda\n",
      "Device name: NVIDIA A100 80GB PCIe\n",
      "Device memory: 79.253662109375 GB\n",
      "Original shape: (100000, 3)\n",
      "Final shape: (100000, 3)\n",
      "The config file has been saved on translation_trial/eng_zul_seg_one\n",
      "the dataset length: 100000\n",
      "Tokenizer path: translation_trial/eng_zul_seg_one/tokenizers/tokenizers_english.json\n",
      "Loading existing tokenizer from translation_trial/eng_zul_seg_one/tokenizers/tokenizers_english.json\n",
      "Tokenizer path: translation_trial/eng_zul_seg_one/tokenizers/tokenizers_segmenter_one.json\n",
      "Loading existing tokenizer from translation_trial/eng_zul_seg_one/tokenizers/tokenizers_segmenter_one.json\n",
      "Vocabulary finalized for inference\n",
      "Max length of source sentence: 77\n",
      "Max length of target sentence: 301\n",
      "\n",
      "Training with the following configuration:\n",
      "Dataset size: 100000\n",
      "Learning rate: 4.447904991816398e-05\n",
      "Model architecture:\n",
      "- d_model: 512\n",
      "- num_layers: 4\n",
      "- num_heads: 16\n",
      "- d_ff: 512\n",
      "- dropout: 0.2864280352289551\n",
      "Training parameters:\n",
      "- label_smoothing: 0.00793992659707945\n",
      "- max_grad_norm: 1.2110879744248009\n",
      "\n",
      "No pretrained model found, starting from scratch.\n"
     ]
    },
    {
     "name": "stderr",
     "output_type": "stream",
     "text": [
      "Processing Epoch 00: 100%|██████████| 1250/1250 [10:55<00:00,  1.91it/s, loss=0.627]\n"
     ]
    },
    {
     "name": "stdout",
     "output_type": "stream",
     "text": [
      "    SOURCE: if you are really lucky you may even end up getting to play the progressive jackpot making it one of the most exciting parts of the casino pay by mobile slot game\n",
      "    TARGET: u-m-a u-n-e-n-hlanhla ng-e-m-pela u-nga-qed-a ku-z-e ko-ku-thol-a uku-dlal-a jackot oku-qhubek-a-yo o-kw-enz-a ku-b-e o-muny-e i-zingxenye ejabulis-a ka-khulu w-e pay- ye-khasino m-ob-ile s-lot gam-e\n",
      " PREDICTED: u-a u-a u-a u-a-a u-a-a u-a-a i-a-a i-a-a i-a-a i-a-a-a i-a-a-a i-a-a-a-a i-a-a-a-a-a-a-a i-a-a-a-a-a-a-a-a-a-a-a i-a-a-a-a-a-a-a-a-a-a-a-a-a i-a-a-a-a-a-a-a-a-a e-a-a-a-a-a-a-e-e-a-a-a e-a-a-a-a-a-a-a-a-a-a-a-a-a-a-a-a-a-a e e-a-a-a-a-a-a-a-a-a-a i-a-a e i-a-a-a i-a-a-a-a-a i-a-a-a-a-a-a-a-a-a-a-a-a-a-a-a i\n",
      "    SOURCE: i had no choice but to ring the police\n",
      "    TARGET: ng-a-ngi-nge-na-ku-kheth-a ko-dwa uku-biz-a a-ma-phoyisa\n",
      " PREDICTED: u-a u-a u-a-a u-a-a u-a-a-a u-a-a-a i-a-a-a i-a-a-a\n",
      "    SOURCE: for a team to work effectively it must be led by a leader as is the case during a work in group\n",
      "    TARGET: uku-z-e i-qembu li-sebenz-e ng-o-ku-phumelel-a-yo ku-fanel-e li-holw-a u-m-holi njengoba ku-njalo ng-e-si-khathi u-m-sebenzi we-qembu\n",
      " PREDICTED: u-a u-a u-a u-a-a u-a-a u-a-a i-a-a i-a-a i-a-a-a i-a-a-a-a i-a-a-a i-a-a-a-a-a-a-a i-a-a-a-a-a-a-a-a-a-a-a-a-a-a-a-a-a-a-a-a-a i-a-a-a-a-a-a-a-a-a-a-e-e-a-e-e-e-a-a-a-e-e-e-e-e-e-e e-e-e-a-a-e-e-a-a-a-a-a e-a-a-e-e-a-a-a-e-a e\n",
      "----------------------------------------------------------------------------------------------------\n",
      "Epoch 0 - Validation Loss: 0.0006\n",
      "Saved best model from epoch 0 with validation loss: 0.000623\n",
      "Initial best loss set to 0.000623.\n"
     ]
    },
    {
     "name": "stderr",
     "output_type": "stream",
     "text": [
      "Processing Epoch 01: 100%|██████████| 1250/1250 [10:54<00:00,  1.91it/s, loss=0.554]\n"
     ]
    },
    {
     "name": "stdout",
     "output_type": "stream",
     "text": [
      "    SOURCE: if you are really lucky you may even end up getting to play the progressive jackpot making it one of the most exciting parts of the casino pay by mobile slot game\n",
      "    TARGET: u-m-a u-n-e-n-hlanhla ng-e-m-pela u-nga-qed-a ku-z-e ko-ku-thol-a uku-dlal-a jackot oku-qhubek-a-yo o-kw-enz-a ku-b-e o-muny-e i-zingxenye ejabulis-a ka-khulu w-e pay- ye-khasino m-ob-ile s-lot gam-e\n",
      " PREDICTED: u-m-a u-m-a u-thi u-m-a u-thi u-m-a u-m-a u-m-a u-m-sebenzi u-m-a u-m-thi u-thi u-m-a u-m-sebenzi u-thi u-m-a u-m-sebenzi u-thi e-ku-m-eni e-m-sebenzi e-m-ntu e-m-thi e-m-thi e-m-thi e-m-khulu e-thi e-m-thi e-m-thi e-m-thi e-m-m-thi e-thi e-m-m-thi e-thi e-m-m-thi e-m-m-m-thi e e-m-m-thi e-m-m-nye e-m-m-thi e-thi e-m-m-m-m-thi e e e-m-m-m-m-thi e-m-thi e-thi e-thi e-ntu e-m-m-m-m-m-m-m-m-m-m-m-m-m\n",
      "    SOURCE: i had no choice but to ring the police\n",
      "    TARGET: ng-a-ngi-nge-na-ku-kheth-a ko-dwa uku-biz-a a-ma-phoyisa\n",
      " PREDICTED: u-m-a u-m-a u-m-a u-m-a u-m-a u-m-a u-m-a\n",
      "    SOURCE: for a team to work effectively it must be led by a leader as is the case during a work in group\n",
      "    TARGET: uku-z-e i-qembu li-sebenz-e ng-o-ku-phumelel-a-yo ku-fanel-e li-holw-a u-m-holi njengoba ku-njalo ng-e-si-khathi u-m-sebenzi we-qembu\n",
      " PREDICTED: u-m-a u-m-a u-m-a u-m-eni u-m-eni u-m-eni u-m-eni u-m-eni e-ku-khathi e-ku-khathi e-ku-khathi e-ku-khathi e-ku-khathi e-si-khathi e-ku-khathi e-si-khathi\n",
      "----------------------------------------------------------------------------------------------------\n",
      "Epoch 1 - Validation Loss: 0.0006\n",
      "Improvement: 0.000623 -> 0.000606\n",
      "Saved best model from epoch 1 with validation loss: 0.000606\n"
     ]
    },
    {
     "name": "stderr",
     "output_type": "stream",
     "text": [
      "Processing Epoch 02: 100%|██████████| 1250/1250 [10:57<00:00,  1.90it/s, loss=0.590]\n"
     ]
    },
    {
     "name": "stdout",
     "output_type": "stream",
     "text": [
      "    SOURCE: if you are really lucky you may even end up getting to play the progressive jackpot making it one of the most exciting parts of the casino pay by mobile slot game\n",
      "    TARGET: u-m-a u-n-e-n-hlanhla ng-e-m-pela u-nga-qed-a ku-z-e ko-ku-thol-a uku-dlal-a jackot oku-qhubek-a-yo o-kw-enz-a ku-b-e o-muny-e i-zingxenye ejabulis-a ka-khulu w-e pay- ye-khasino m-ob-ile s-lot gam-e\n",
      " PREDICTED: u-m-a u-m-a u-m-a u-m-a u-m-a u-m-a u-m-a u-m-a u-m-a u-m-a u-m-a u-m-a u-m-a u-m-a u-m-a u-m-a u-m-a u-m-a u-m-a u-m-a u-m-a u-m-a u-m-a n-e-m-nye e-n-e\n",
      "    SOURCE: i had no choice but to ring the police\n",
      "    TARGET: ng-a-ngi-nge-na-ku-kheth-a ko-dwa uku-biz-a a-ma-phoyisa\n",
      " PREDICTED: ngi-nga-nga-ngi-thi ngi-thi ngi-thi ngi-nga-nga-nga-nga-nga-nga-n-e-si-khathi ya-ku-nga-nga-nga-nga-nga-n-e-si-khathi\n",
      "    SOURCE: for a team to work effectively it must be led by a leader as is the case during a work in group\n",
      "    TARGET: uku-z-e i-qembu li-sebenz-e ng-o-ku-phumelel-a-yo ku-fanel-e li-holw-a u-m-holi njengoba ku-njalo ng-e-si-khathi u-m-sebenzi we-qembu\n",
      " PREDICTED: u-m-a u-m-a u-m-a u-m-a u-m-a u-m-a u-m-a u-m-sebenzi u-m-a u-m-hlaba u-m-a u-m-hlaba o-m-hlaba o-m-hlaba\n",
      "----------------------------------------------------------------------------------------------------\n",
      "Epoch 2 - Validation Loss: 0.0006\n",
      "Improvement: 0.000606 -> 0.000594\n",
      "Saved best model from epoch 2 with validation loss: 0.000594\n"
     ]
    },
    {
     "name": "stderr",
     "output_type": "stream",
     "text": [
      "Processing Epoch 03: 100%|██████████| 1250/1250 [10:54<00:00,  1.91it/s, loss=0.525]\n"
     ]
    },
    {
     "name": "stdout",
     "output_type": "stream",
     "text": [
      "    SOURCE: if you are really lucky you may even end up getting to play the progressive jackpot making it one of the most exciting parts of the casino pay by mobile slot game\n",
      "    TARGET: u-m-a u-n-e-n-hlanhla ng-e-m-pela u-nga-qed-a ku-z-e ko-ku-thol-a uku-dlal-a jackot oku-qhubek-a-yo o-kw-enz-a ku-b-e o-muny-e i-zingxenye ejabulis-a ka-khulu w-e pay- ye-khasino m-ob-ile s-lot gam-e\n",
      " PREDICTED: u-m-a u-m-a u-m-a u-m-a u-m-a u-m-a u-m-a u-m-a u-m-a u-m-a u-m-a u-m-a u-m-a u-m-hlaba o-m-hlaba o-m-hlaba o-m-hlaba o-m-hlaba o-ma-nje e-zin-to ezi-nga-nga-qala e-si-khathi ezi-nga-nga-nga-ma e-si-khathi e-khathi e-si-khathi e-n-o-m-a\n",
      "    SOURCE: i had no choice but to ring the police\n",
      "    TARGET: ng-a-ngi-nge-na-ku-kheth-a ko-dwa uku-biz-a a-ma-phoyisa\n",
      " PREDICTED: ngi-ya-ngi-thi ngi-nga-thi ngi-nga-nga-qala i-n-dlela e-mi-nyaka e-mi-nyaka\n",
      "    SOURCE: for a team to work effectively it must be led by a leader as is the case during a work in group\n",
      "    TARGET: uku-z-e i-qembu li-sebenz-e ng-o-ku-phumelel-a-yo ku-fanel-e li-holw-a u-m-holi njengoba ku-njalo ng-e-si-khathi u-m-sebenzi we-qembu\n",
      " PREDICTED: i-si-khathi ezi-nga-qala i-si-khathi esi-nga-nga-thi i-si-khathi esi-nga-nga-kho u-m-a u-m-a u-m-a u-m-a u-m-a u-m-a u-m-hlaba\n",
      "----------------------------------------------------------------------------------------------------\n",
      "Epoch 3 - Validation Loss: 0.0006\n",
      "Improvement: 0.000594 -> 0.000586\n",
      "Saved best model from epoch 3 with validation loss: 0.000586\n"
     ]
    },
    {
     "name": "stderr",
     "output_type": "stream",
     "text": [
      "Processing Epoch 04: 100%|██████████| 1250/1250 [10:56<00:00,  1.90it/s, loss=0.495]\n"
     ]
    },
    {
     "name": "stdout",
     "output_type": "stream",
     "text": [
      "    SOURCE: if you are really lucky you may even end up getting to play the progressive jackpot making it one of the most exciting parts of the casino pay by mobile slot game\n",
      "    TARGET: u-m-a u-n-e-n-hlanhla ng-e-m-pela u-nga-qed-a ku-z-e ko-ku-thol-a uku-dlal-a jackot oku-qhubek-a-yo o-kw-enz-a ku-b-e o-muny-e i-zingxenye ejabulis-a ka-khulu w-e pay- ye-khasino m-ob-ile s-lot gam-e\n",
      " PREDICTED: u-m-a u-m-a u-m-a u-m-a u-m-a uku-thi ngi-nga-thi ngi-nga-kw-az-i uku-thi i-si-khathi esi-nga-phezu ku-phel-a i-zin-to ezi-ningi ezi-y-i-si-khathi ezi-y-i-si-khathi ezi-ningi ezi-y-i-si-khathi ezi-y-i-si-khathi ezi-y-i-si-khathi ezi-d-e e e-zin-hlelo ezi-khulu\n",
      "    SOURCE: i had no choice but to ring the police\n",
      "    TARGET: ng-a-ngi-nge-na-ku-kheth-a ko-dwa uku-biz-a a-ma-phoyisa\n",
      " PREDICTED: ngi-ya-ngi-bon-a uku-thi u-m-a u-m-a u-m-a u-m-a e-zin-to ezi-ningi\n",
      "    SOURCE: for a team to work effectively it must be led by a leader as is the case during a work in group\n",
      "    TARGET: uku-z-e i-qembu li-sebenz-e ng-o-ku-phumelel-a-yo ku-fanel-e li-holw-a u-m-holi njengoba ku-njalo ng-e-si-khathi u-m-sebenzi we-qembu\n",
      " PREDICTED: i-si-bonelo i-si-khathi esi-nga-phezu ku-fanel-e u-m-sebenzi we-si-khathi esi-nga-phezu ku-fanel-e u-m-a u-m-sebenzi wa-kho e-si-khathi esi-y-i-si-khathi esi-y-i-si-khathi esi-d-e\n",
      "----------------------------------------------------------------------------------------------------\n",
      "Epoch 4 - Validation Loss: 0.0006\n",
      "Improvement: 0.000586 -> 0.000581\n",
      "Saved best model from epoch 4 with validation loss: 0.000581\n"
     ]
    },
    {
     "name": "stderr",
     "output_type": "stream",
     "text": [
      "Processing Epoch 05: 100%|██████████| 1250/1250 [10:58<00:00,  1.90it/s, loss=0.484]\n"
     ]
    },
    {
     "name": "stdout",
     "output_type": "stream",
     "text": [
      "    SOURCE: if you are really lucky you may even end up getting to play the progressive jackpot making it one of the most exciting parts of the casino pay by mobile slot game\n",
      "    TARGET: u-m-a u-n-e-n-hlanhla ng-e-m-pela u-nga-qed-a ku-z-e ko-ku-thol-a uku-dlal-a jackot oku-qhubek-a-yo o-kw-enz-a ku-b-e o-muny-e i-zingxenye ejabulis-a ka-khulu w-e pay- ye-khasino m-ob-ile s-lot gam-e\n",
      " PREDICTED: u-m-a u-m-a u-m-a u-m-a u-m-a ngi-nga-kw-az-i uku-thi u-m-a u-m-a u-m-a u-m-sebenzi we-mi-nyaka e-ntsh-a e-ku-qala u-m-hlaba u-m-a u-m-hlaba we-mi-nyaka e-ntsh-a e-mhlab-eni e-n-kulu\n",
      "    SOURCE: i had no choice but to ring the police\n",
      "    TARGET: ng-a-ngi-nge-na-ku-kheth-a ko-dwa uku-biz-a a-ma-phoyisa\n",
      " PREDICTED: ngi-nga-kw-az-i uku-thi u-m-a u-m-a u-m-a i-n-dawo e-mi-nyaka\n",
      "    SOURCE: for a team to work effectively it must be led by a leader as is the case during a work in group\n",
      "    TARGET: uku-z-e i-qembu li-sebenz-e ng-o-ku-phumelel-a-yo ku-fanel-e li-holw-a u-m-holi njengoba ku-njalo ng-e-si-khathi u-m-sebenzi we-qembu\n",
      " PREDICTED: i-si-bonelo i-si-khathi esi-nga-dingek-a uku-thi u-m-sebenzi we-si-khathi esi-nga-kw-azi uku-thi u-m-a u-m-a u-m-sebenzi we-si-khathi esi-d-e\n",
      "----------------------------------------------------------------------------------------------------\n",
      "Epoch 5 - Validation Loss: 0.0006\n",
      "Improvement: 0.000581 -> 0.000579\n",
      "Saved best model from epoch 5 with validation loss: 0.000579\n"
     ]
    },
    {
     "name": "stderr",
     "output_type": "stream",
     "text": [
      "Processing Epoch 06: 100%|██████████| 1250/1250 [10:54<00:00,  1.91it/s, loss=0.471]\n"
     ]
    },
    {
     "name": "stdout",
     "output_type": "stream",
     "text": [
      "    SOURCE: if you are really lucky you may even end up getting to play the progressive jackpot making it one of the most exciting parts of the casino pay by mobile slot game\n",
      "    TARGET: u-m-a u-n-e-n-hlanhla ng-e-m-pela u-nga-qed-a ku-z-e ko-ku-thol-a uku-dlal-a jackot oku-qhubek-a-yo o-kw-enz-a ku-b-e o-muny-e i-zingxenye ejabulis-a ka-khulu w-e pay- ye-khasino m-ob-ile s-lot gam-e\n",
      " PREDICTED: u-m-a u-m-a u-m-a u-m-a ng-o-ku-thi ngi-nga-kw-az-i uku-thi u-m-sebenzi wa-kho uku-thi u-m-sebenzi wa-kho u-m-sebenzi we-si-khathi esi-d-e i-zin-hlelo ezi-d-e ezi-sh-a n-o-ma i-nkampani e-ntsh-a\n",
      "    SOURCE: i had no choice but to ring the police\n",
      "    TARGET: ng-a-ngi-nge-na-ku-kheth-a ko-dwa uku-biz-a a-ma-phoyisa\n",
      " PREDICTED: ngi-nga-ku-b-a u-m-a u-m-sebenzi wa-ma-nzi a-ma-nzi a-ma-nzi\n",
      "    SOURCE: for a team to work effectively it must be led by a leader as is the case during a work in group\n",
      "    TARGET: uku-z-e i-qembu li-sebenz-e ng-o-ku-phumelel-a-yo ku-fanel-e li-holw-a u-m-holi njengoba ku-njalo ng-e-si-khathi u-m-sebenzi we-qembu\n",
      " PREDICTED: ng-e-si-khathi esi-balulek-ile uku-thi u-m-sebenzi o-nga-ku-fanel-e ku-fanel-e u-m-sebenzi we-si-khathi esi-d-e ng-o-ku-shesh-a i-si-khathi esi-d-e\n",
      "----------------------------------------------------------------------------------------------------\n",
      "Epoch 6 - Validation Loss: 0.0006\n",
      "Improvement: 0.000579 -> 0.000574\n",
      "Saved best model from epoch 6 with validation loss: 0.000574\n"
     ]
    },
    {
     "name": "stderr",
     "output_type": "stream",
     "text": [
      "Processing Epoch 07: 100%|██████████| 1250/1250 [10:56<00:00,  1.90it/s, loss=0.483]\n"
     ]
    },
    {
     "name": "stdout",
     "output_type": "stream",
     "text": [
      "    SOURCE: if you are really lucky you may even end up getting to play the progressive jackpot making it one of the most exciting parts of the casino pay by mobile slot game\n",
      "    TARGET: u-m-a u-n-e-n-hlanhla ng-e-m-pela u-nga-qed-a ku-z-e ko-ku-thol-a uku-dlal-a jackot oku-qhubek-a-yo o-kw-enz-a ku-b-e o-muny-e i-zingxenye ejabulis-a ka-khulu w-e pay- ye-khasino m-ob-ile s-lot gam-e\n",
      " PREDICTED: u-m-a u-m-a u-m-a u-nga-kw-az-i uku-thi ngi-thol-e uku-thi u-thol-e i-si-celo esi-nga-thol-a i-si-celo esi-nga-sebenzis-a uku-thi u-m-sebenzi we-bhizinisi lo-ku-sebenz-a i-zin-hlelo ze-zin-hlelo ze-bhizinisi ya-ma-hhala\n",
      "    SOURCE: i had no choice but to ring the police\n",
      "    TARGET: ng-a-ngi-nge-na-ku-kheth-a ko-dwa uku-biz-a a-ma-phoyisa\n",
      " PREDICTED: ngi-nga-kw-az-i uku-thi u-m-sebenzi wa-ma-nzi a-ma-nzi\n",
      "    SOURCE: for a team to work effectively it must be led by a leader as is the case during a work in group\n",
      "    TARGET: uku-z-e i-qembu li-sebenz-e ng-o-ku-phumelel-a-yo ku-fanel-e li-holw-a u-m-holi njengoba ku-njalo ng-e-si-khathi u-m-sebenzi we-qembu\n",
      " PREDICTED: ng-o-ku-vam-ile uku-thi i-mi-khiqizo e-nga-ku-fanel-e ku-fanel-e ku-fanel-e u-m-sebenzi we-si-mo esi-d-e n-o-m-thetho we-si-khathi esi-d-e\n",
      "----------------------------------------------------------------------------------------------------\n",
      "Epoch 7 - Validation Loss: 0.0006\n",
      "Improvement: 0.000574 -> 0.000571\n",
      "Saved best model from epoch 7 with validation loss: 0.000571\n"
     ]
    },
    {
     "name": "stderr",
     "output_type": "stream",
     "text": [
      "Processing Epoch 08: 100%|██████████| 1250/1250 [10:56<00:00,  1.91it/s, loss=0.417]\n"
     ]
    },
    {
     "name": "stdout",
     "output_type": "stream",
     "text": [
      "    SOURCE: if you are really lucky you may even end up getting to play the progressive jackpot making it one of the most exciting parts of the casino pay by mobile slot game\n",
      "    TARGET: u-m-a u-n-e-n-hlanhla ng-e-m-pela u-nga-qed-a ku-z-e ko-ku-thol-a uku-dlal-a jackot oku-qhubek-a-yo o-kw-enz-a ku-b-e o-muny-e i-zingxenye ejabulis-a ka-khulu w-e pay- ye-khasino m-ob-ile s-lot gam-e\n",
      " PREDICTED: u-m-a u-n-e-n-kathi i-n-dlela e-nga-ku-gcin-a ng-o-ku-thi u-thol-e uku-thol-a i-mali e-ntsh-a e-ku-gcin-e-ni uku-thi u-kw-enz-a i-zin-to ezi-ningi ezi-ningi ezi-y-i-n-dawo e-ntsh-a ye-zin-hlelo zo-m-dlalo we-zimali\n",
      "    SOURCE: i had no choice but to ring the police\n",
      "    TARGET: ng-a-ngi-nge-na-ku-kheth-a ko-dwa uku-biz-a a-ma-phoyisa\n",
      " PREDICTED: ngi-nga-kw-az-i uku-thi u-m-sebenzi wa-ma-nzi a-ma-nzi\n",
      "    SOURCE: for a team to work effectively it must be led by a leader as is the case during a work in group\n",
      "    TARGET: uku-z-e i-qembu li-sebenz-e ng-o-ku-phumelel-a-yo ku-fanel-e li-holw-a u-m-holi njengoba ku-njalo ng-e-si-khathi u-m-sebenzi we-qembu\n",
      " PREDICTED: ng-o-ku-b-a i-qembu eli-sh-a ku-fanel-e ku-fanel-e ku-fanel-e ku-fanel-e ku-fanel-e u-m-thetho we-qembu eli-y-i-si-khathi esi-d-e e-dolobh-eni e-ntsh-a\n",
      "----------------------------------------------------------------------------------------------------\n",
      "Epoch 8 - Validation Loss: 0.0006\n",
      "Improvement: 0.000571 -> 0.000566\n",
      "Saved best model from epoch 8 with validation loss: 0.000566\n"
     ]
    },
    {
     "name": "stderr",
     "output_type": "stream",
     "text": [
      "Processing Epoch 09: 100%|██████████| 1250/1250 [10:56<00:00,  1.90it/s, loss=0.419]\n"
     ]
    },
    {
     "name": "stdout",
     "output_type": "stream",
     "text": [
      "    SOURCE: if you are really lucky you may even end up getting to play the progressive jackpot making it one of the most exciting parts of the casino pay by mobile slot game\n",
      "    TARGET: u-m-a u-n-e-n-hlanhla ng-e-m-pela u-nga-qed-a ku-z-e ko-ku-thol-a uku-dlal-a jackot oku-qhubek-a-yo o-kw-enz-a ku-b-e o-muny-e i-zingxenye ejabulis-a ka-khulu w-e pay- ye-khasino m-ob-ile s-lot gam-e\n",
      " PREDICTED: u-m-a u-n-e-n-daba e-n-kulu ng-o-ku-thi u-nga-thol-a uku-dlal-a uku-dlal-a i-mi-niningwane e-nga-dlal-i i-zi-thombe ezi-nga-phakath-i kwe-zin-to ezi-ningi ezi-ningi ezi-ningi ezi-ningi i-zin-hlelo ze-zimali ze-zimali e-ntsh-a ng-o-m-dlalo we-vidiyo\n",
      "    SOURCE: i had no choice but to ring the police\n",
      "    TARGET: ng-a-ngi-nge-na-ku-kheth-a ko-dwa uku-biz-a a-ma-phoyisa\n",
      " PREDICTED: ngi-nga-kw-az-i uku-thi u-m-bono wa-ma-nzi a-ma-nzi\n",
      "    SOURCE: for a team to work effectively it must be led by a leader as is the case during a work in group\n",
      "    TARGET: uku-z-e i-qembu li-sebenz-e ng-o-ku-phumelel-a-yo ku-fanel-e li-holw-a u-m-holi njengoba ku-njalo ng-e-si-khathi u-m-sebenzi we-qembu\n",
      " PREDICTED: ng-e-nxa ye-qembu eli-sh-a ku-fanel-e ku-fanel-e ku-fanel-e ku-fanel-e ku-b-e u-m-lando we-qembu eli-sh-a ng-o-ku-shesh-a e-qembu eli-khulu\n",
      "----------------------------------------------------------------------------------------------------\n",
      "Epoch 9 - Validation Loss: 0.0006\n",
      "Improvement: 0.000566 -> 0.000562\n",
      "Saved best model from epoch 9 with validation loss: 0.000562\n"
     ]
    },
    {
     "name": "stderr",
     "output_type": "stream",
     "text": [
      "Processing Epoch 10: 100%|██████████| 1250/1250 [10:57<00:00,  1.90it/s, loss=0.448]\n"
     ]
    },
    {
     "name": "stdout",
     "output_type": "stream",
     "text": [
      "    SOURCE: if you are really lucky you may even end up getting to play the progressive jackpot making it one of the most exciting parts of the casino pay by mobile slot game\n",
      "    TARGET: u-m-a u-n-e-n-hlanhla ng-e-m-pela u-nga-qed-a ku-z-e ko-ku-thol-a uku-dlal-a jackot oku-qhubek-a-yo o-kw-enz-a ku-b-e o-muny-e i-zingxenye ejabulis-a ka-khulu w-e pay- ye-khasino m-ob-ile s-lot gam-e\n",
      " PREDICTED: u-m-a u-n-e-n-hlanhla u-nga-kw-az-i uku-thi u-nga-thol-a uku-dlal-a i-si-khathi esi-d-e uku-dlal-a i-zinkampani ezi-nga-phans-i kwe-zin-to ezi-ningi ezi-ningi ezi-ningi zo-m-dlalo we-zimali e-maketh-e yo-m-dlalo we-zimali we-zimali\n",
      "    SOURCE: i had no choice but to ring the police\n",
      "    TARGET: ng-a-ngi-nge-na-ku-kheth-a ko-dwa uku-biz-a a-ma-phoyisa\n",
      " PREDICTED: a-ngi-kw-az-i uku-b-a u-kw-enz-a ko-dwa a-ma-phoyisa a-ma-phoyisa\n",
      "    SOURCE: for a team to work effectively it must be led by a leader as is the case during a work in group\n",
      "    TARGET: uku-z-e i-qembu li-sebenz-e ng-o-ku-phumelel-a-yo ku-fanel-e li-holw-a u-m-holi njengoba ku-njalo ng-e-si-khathi u-m-sebenzi we-qembu\n",
      " PREDICTED: ng-o-ku-b-a i-qembu eli-sebenz-a-yo ku-fanel-e ku-fanel-e ku-fanel-e ku-fanel-e u-m-lando we-qembu lo-m-sebenzi we-qembu eli-d-e ng-e-si-khathi esi-d-e\n",
      "----------------------------------------------------------------------------------------------------\n",
      "Epoch 10 - Validation Loss: 0.0006\n",
      "Improvement: 0.000562 -> 0.000559\n",
      "Saved best model from epoch 10 with validation loss: 0.000559\n"
     ]
    },
    {
     "name": "stderr",
     "output_type": "stream",
     "text": [
      "Processing Epoch 11: 100%|██████████| 1250/1250 [10:55<00:00,  1.91it/s, loss=0.417]\n"
     ]
    },
    {
     "name": "stdout",
     "output_type": "stream",
     "text": [
      "    SOURCE: if you are really lucky you may even end up getting to play the progressive jackpot making it one of the most exciting parts of the casino pay by mobile slot game\n",
      "    TARGET: u-m-a u-n-e-n-hlanhla ng-e-m-pela u-nga-qed-a ku-z-e ko-ku-thol-a uku-dlal-a jackot oku-qhubek-a-yo o-kw-enz-a ku-b-e o-muny-e i-zingxenye ejabulis-a ka-khulu w-e pay- ye-khasino m-ob-ile s-lot gam-e\n",
      " PREDICTED: u-m-a u-n-e-n-hlanhla u-nga-kw-az-i uku-thi u-nga-thol-a uku-dlal-a i-qhaz-a e-ku-qal-e-ni uku-dlal-a i-zinkampani ezi-nhl-e ka-khulu ezi-ningi ezi-ningi ezi-ningi ezi-ningi i-zinkampani ezi-ningi zo-m-dlalo we-zimali we-zimali\n",
      "    SOURCE: i had no choice but to ring the police\n",
      "    TARGET: ng-a-ngi-nge-na-ku-kheth-a ko-dwa uku-biz-a a-ma-phoyisa\n",
      " PREDICTED: a-ngi-kw-az-i uku-kheth-a ko-dwa a-ma-phoyisa a-ma-phoyisa\n",
      "    SOURCE: for a team to work effectively it must be led by a leader as is the case during a work in group\n",
      "    TARGET: uku-z-e i-qembu li-sebenz-e ng-o-ku-phumelel-a-yo ku-fanel-e li-holw-a u-m-holi njengoba ku-njalo ng-e-si-khathi u-m-sebenzi we-qembu\n",
      " PREDICTED: ng-o-ku-b-a i-qembu lo-m-sebenzi ku-fanel-e ku-fanel-e ku-fanel-e ku-b-e ku-fanel-e u-m-holi we-qembu eli-y-i-si-khathi esi-d-e ng-e-si-khathi esi-d-e\n",
      "----------------------------------------------------------------------------------------------------\n",
      "Epoch 11 - Validation Loss: 0.0006\n",
      "Improvement: 0.000559 -> 0.000556\n",
      "Saved best model from epoch 11 with validation loss: 0.000556\n"
     ]
    },
    {
     "name": "stderr",
     "output_type": "stream",
     "text": [
      "Processing Epoch 12: 100%|██████████| 1250/1250 [10:56<00:00,  1.91it/s, loss=0.398]\n"
     ]
    },
    {
     "name": "stdout",
     "output_type": "stream",
     "text": [
      "    SOURCE: if you are really lucky you may even end up getting to play the progressive jackpot making it one of the most exciting parts of the casino pay by mobile slot game\n",
      "    TARGET: u-m-a u-n-e-n-hlanhla ng-e-m-pela u-nga-qed-a ku-z-e ko-ku-thol-a uku-dlal-a jackot oku-qhubek-a-yo o-kw-enz-a ku-b-e o-muny-e i-zingxenye ejabulis-a ka-khulu w-e pay- ye-khasino m-ob-ile s-lot gam-e\n",
      " PREDICTED: u-m-a u-n-e-n-hlanhla ng-e-n-hlanhla ng-o-ku-thi u-nga-thol-a uku-dlal-a i-qhaz-a e-ku-qal-e-ni kwe-zimali e-ku-dlal-e-ni kwe-zimali ezi-ningi ezi-ningi ezi-ningi zo-ku-xhuman-a n-o-m-dlalo we-zinkampani e-phakem-e yo-m-dlalo we-webhu\n",
      "    SOURCE: i had no choice but to ring the police\n",
      "    TARGET: ng-a-ngi-nge-na-ku-kheth-a ko-dwa uku-biz-a a-ma-phoyisa\n",
      " PREDICTED: a-ngi-kw-az-i uku-kheth-a ko-dwa a-ma-phoyisa a-ma-phoyisa\n",
      "    SOURCE: for a team to work effectively it must be led by a leader as is the case during a work in group\n",
      "    TARGET: uku-z-e i-qembu li-sebenz-e ng-o-ku-phumelel-a-yo ku-fanel-e li-holw-a u-m-holi njengoba ku-njalo ng-e-si-khathi u-m-sebenzi we-qembu\n",
      " PREDICTED: ng-o-ku-b-a i-qembu lo-m-sebenzi ku-fanel-e ku-fanel-e ku-b-e ku-fanel-e u-m-holi we-si-khathi esi-holel-a e-qenj-ini eli-d-e ng-e-si-khathi esi-d-e\n",
      "----------------------------------------------------------------------------------------------------\n",
      "Epoch 12 - Validation Loss: 0.0006\n",
      "Improvement: 0.000556 -> 0.000553\n",
      "Saved best model from epoch 12 with validation loss: 0.000553\n"
     ]
    },
    {
     "name": "stderr",
     "output_type": "stream",
     "text": [
      "Processing Epoch 13: 100%|██████████| 1250/1250 [10:58<00:00,  1.90it/s, loss=0.396]\n"
     ]
    },
    {
     "name": "stdout",
     "output_type": "stream",
     "text": [
      "    SOURCE: if you are really lucky you may even end up getting to play the progressive jackpot making it one of the most exciting parts of the casino pay by mobile slot game\n",
      "    TARGET: u-m-a u-n-e-n-hlanhla ng-e-m-pela u-nga-qed-a ku-z-e ko-ku-thol-a uku-dlal-a jackot oku-qhubek-a-yo o-kw-enz-a ku-b-e o-muny-e i-zingxenye ejabulis-a ka-khulu w-e pay- ye-khasino m-ob-ile s-lot gam-e\n",
      " PREDICTED: u-m-a u-y-i-n-hlanhla u-nga-kw-az-i uku-thi u-nga-thol-a uku-dlal-a ngi-sho uku-dlal-a i-qhaz-a e-ku-gcin-e-ni u-kw-enz-a i-zingxenye ezi-ningi ezi-ningi ezi-ningi ezi-ningi zo-m-dlalo we-zinkampani ezi-ningi ku-akhawunti ya-ma-hhala\n",
      "    SOURCE: i had no choice but to ring the police\n",
      "    TARGET: ng-a-ngi-nge-na-ku-kheth-a ko-dwa uku-biz-a a-ma-phoyisa\n",
      " PREDICTED: a-ngi-kw-az-i uku-kheth-a ko-dwa a-ma-phoyisa ko-dwa\n",
      "    SOURCE: for a team to work effectively it must be led by a leader as is the case during a work in group\n",
      "    TARGET: uku-z-e i-qembu li-sebenz-e ng-o-ku-phumelel-a-yo ku-fanel-e li-holw-a u-m-holi njengoba ku-njalo ng-e-si-khathi u-m-sebenzi we-qembu\n",
      " PREDICTED: ng-o-ku-b-a i-qembu lo-m-sebenzi ku-fanel-e ku-fanel-e ku-b-e ku-fanel-e u-m-holi n-o-m-holi we-qembu eli-s-e-ma-qembu e-m-pil-weni e-zimbili\n",
      "----------------------------------------------------------------------------------------------------\n",
      "Epoch 13 - Validation Loss: 0.0006\n",
      "Improvement: 0.000553 -> 0.000552\n",
      "Saved best model from epoch 13 with validation loss: 0.000552\n"
     ]
    },
    {
     "name": "stderr",
     "output_type": "stream",
     "text": [
      "Processing Epoch 14: 100%|██████████| 1250/1250 [10:54<00:00,  1.91it/s, loss=0.392]\n"
     ]
    },
    {
     "name": "stdout",
     "output_type": "stream",
     "text": [
      "    SOURCE: if you are really lucky you may even end up getting to play the progressive jackpot making it one of the most exciting parts of the casino pay by mobile slot game\n",
      "    TARGET: u-m-a u-n-e-n-hlanhla ng-e-m-pela u-nga-qed-a ku-z-e ko-ku-thol-a uku-dlal-a jackot oku-qhubek-a-yo o-kw-enz-a ku-b-e o-muny-e i-zingxenye ejabulis-a ka-khulu w-e pay- ye-khasino m-ob-ile s-lot gam-e\n",
      " PREDICTED: u-m-a u-ng-enzek-a ng-e-n-hlanhla u-nga-thol-a i-n-hlanhla ngi-sho uku-dlal-a i-qhaz-a e-ku-dlal-e-ni kwe-zimali oku-hl-e ka-khulu u-kw-enz-a i-zingxenye ezi-ningi ezi-ningi zo-m-dlalo we-zimali ku-fanel-e u-khokh-e i-zin-ga lo-m-dlalo\n",
      "    SOURCE: i had no choice but to ring the police\n",
      "    TARGET: ng-a-ngi-nge-na-ku-kheth-a ko-dwa uku-biz-a a-ma-phoyisa\n",
      " PREDICTED: a-ngi-kw-az-i uku-kheth-a ko-dwa a-ma-phoyisa a-ma-phoyisa\n",
      "    SOURCE: for a team to work effectively it must be led by a leader as is the case during a work in group\n",
      "    TARGET: uku-z-e i-qembu li-sebenz-e ng-o-ku-phumelel-a-yo ku-fanel-e li-holw-a u-m-holi njengoba ku-njalo ng-e-si-khathi u-m-sebenzi we-qembu\n",
      " PREDICTED: ng-o-ku-b-a i-qembu lo-m-sebenzi ku-fanel-e ku-b-e ku-fanel-e ku-b-e ku-fanel-e u-m-holi n-o-m-holi we-qembu eli-sebenz-a ng-e-si-khathi so-m-sebenzi\n",
      "----------------------------------------------------------------------------------------------------\n",
      "Epoch 14 - Validation Loss: 0.0006\n",
      "Improvement: 0.000552 -> 0.000551\n",
      "Saved best model from epoch 14 with validation loss: 0.000551\n"
     ]
    },
    {
     "name": "stderr",
     "output_type": "stream",
     "text": [
      "Processing Epoch 15: 100%|██████████| 1250/1250 [10:55<00:00,  1.91it/s, loss=0.385]\n"
     ]
    },
    {
     "name": "stdout",
     "output_type": "stream",
     "text": [
      "    SOURCE: if you are really lucky you may even end up getting to play the progressive jackpot making it one of the most exciting parts of the casino pay by mobile slot game\n",
      "    TARGET: u-m-a u-n-e-n-hlanhla ng-e-m-pela u-nga-qed-a ku-z-e ko-ku-thol-a uku-dlal-a jackot oku-qhubek-a-yo o-kw-enz-a ku-b-e o-muny-e i-zingxenye ejabulis-a ka-khulu w-e pay- ye-khasino m-ob-ile s-lot gam-e\n",
      " PREDICTED: u-m-a u-ng-u-m-a i-n-hlanhla u-nga-kw-az-i uku-thol-a i-m-pilo ngi-sho uku-dlal-a i-appl-e i-appl-e i-tholakal-e ka-khulu i-zingxenye ezi-ningi ezi-thakazelis-a-yo ka-khulu ku-akhawunti ya-ma-khasino e-maketh-e\n",
      "    SOURCE: i had no choice but to ring the police\n",
      "    TARGET: ng-a-ngi-nge-na-ku-kheth-a ko-dwa uku-biz-a a-ma-phoyisa\n",
      " PREDICTED: a-ngi-kw-az-i uku-kheth-a ko-dwa a-ma-phoyisa a-ma-phoyisa\n",
      "    SOURCE: for a team to work effectively it must be led by a leader as is the case during a work in group\n",
      "    TARGET: uku-z-e i-qembu li-sebenz-e ng-o-ku-phumelel-a-yo ku-fanel-e li-holw-a u-m-holi njengoba ku-njalo ng-e-si-khathi u-m-sebenzi we-qembu\n",
      " PREDICTED: ng-o-ba i-qembu lo-m-sebenzi ku-fanel-e ku-b-e y-i-m-pumelelo ku-fanel-e ku-holel-e u-m-holi n-o-m-phakathi kwe-qembu la-s-e-qenj-ini\n",
      "----------------------------------------------------------------------------------------------------\n",
      "Epoch 15 - Validation Loss: 0.0005\n",
      "Improvement: 0.000551 -> 0.000549\n",
      "Saved best model from epoch 15 with validation loss: 0.000549\n"
     ]
    },
    {
     "name": "stderr",
     "output_type": "stream",
     "text": [
      "Processing Epoch 16: 100%|██████████| 1250/1250 [10:58<00:00,  1.90it/s, loss=0.355]\n"
     ]
    },
    {
     "name": "stdout",
     "output_type": "stream",
     "text": [
      "    SOURCE: if you are really lucky you may even end up getting to play the progressive jackpot making it one of the most exciting parts of the casino pay by mobile slot game\n",
      "    TARGET: u-m-a u-n-e-n-hlanhla ng-e-m-pela u-nga-qed-a ku-z-e ko-ku-thol-a uku-dlal-a jackot oku-qhubek-a-yo o-kw-enz-a ku-b-e o-muny-e i-zingxenye ejabulis-a ka-khulu w-e pay- ye-khasino m-ob-ile s-lot gam-e\n",
      " PREDICTED: u-m-a u-ng-enzek-a ng-e-n-hlanhla u-nga-s-e u-nga-thol-a i-m-pilo ngi-sho uku-dlal-a i-phorokethi e-fan-a-yo yo-ku-dlal-a oku-ningi oku-thakazelis-a-yo ka-khulu i-zingxenye ezi-thakazelis-a-yo ka-khulu ku-akhawunti ye-khasino y-i-n-hloko yo-m-dlalo\n",
      "    SOURCE: i had no choice but to ring the police\n",
      "    TARGET: ng-a-ngi-nge-na-ku-kheth-a ko-dwa uku-biz-a a-ma-phoyisa\n",
      " PREDICTED: a-ngi-kw-az-i uku-kheth-a ko-dwa a-ma-phoyisa a-ma-phoyisa\n",
      "    SOURCE: for a team to work effectively it must be led by a leader as is the case during a work in group\n",
      "    TARGET: uku-z-e i-qembu li-sebenz-e ng-o-ku-phumelel-a-yo ku-fanel-e li-holw-a u-m-holi njengoba ku-njalo ng-e-si-khathi u-m-sebenzi we-qembu\n",
      " PREDICTED: ng-o-ku-b-a i-qembu lo-m-sebenzi ku-fanel-e ku-b-e ku-fanel-e ku-b-e u-m-holi njengoba u-m-holi n-o-m-holi we-qembu eli-phans-i ng-e-si-khathi se-qembu\n",
      "----------------------------------------------------------------------------------------------------\n",
      "Epoch 16 - Validation Loss: 0.0005\n",
      "Improvement: 0.000549 -> 0.000546\n",
      "Saved best model from epoch 16 with validation loss: 0.000546\n"
     ]
    },
    {
     "name": "stderr",
     "output_type": "stream",
     "text": [
      "Processing Epoch 17: 100%|██████████| 1250/1250 [10:56<00:00,  1.90it/s, loss=0.362]\n"
     ]
    },
    {
     "name": "stdout",
     "output_type": "stream",
     "text": [
      "    SOURCE: if you are really lucky you may even end up getting to play the progressive jackpot making it one of the most exciting parts of the casino pay by mobile slot game\n",
      "    TARGET: u-m-a u-n-e-n-hlanhla ng-e-m-pela u-nga-qed-a ku-z-e ko-ku-thol-a uku-dlal-a jackot oku-qhubek-a-yo o-kw-enz-a ku-b-e o-muny-e i-zingxenye ejabulis-a ka-khulu w-e pay- ye-khasino m-ob-ile s-lot gam-e\n",
      " PREDICTED: u-m-a u-ng-u-m-a i-n-hlanhla u-nga-s-e u-nga-thol-a uku-dlal-a i-phorokethi e-vulek-ile yo-kw-enz-a i-zingxenye ezi-thakazelis-a-yo ezi-thakazelis-a-yo ka-khulu e-maketh-e ye-khasino e-vulek-ile u-m-dlalo we-khasino we-khasino\n",
      "    SOURCE: i had no choice but to ring the police\n",
      "    TARGET: ng-a-ngi-nge-na-ku-kheth-a ko-dwa uku-biz-a a-ma-phoyisa\n",
      " PREDICTED: a-ngi-kw-az-i uku-kheth-a ko-dwa a-ma-phoyisa a-ma-phoyisa\n",
      "    SOURCE: for a team to work effectively it must be led by a leader as is the case during a work in group\n",
      "    TARGET: uku-z-e i-qembu li-sebenz-e ng-o-ku-phumelel-a-yo ku-fanel-e li-holw-a u-m-holi njengoba ku-njalo ng-e-si-khathi u-m-sebenzi we-qembu\n",
      " PREDICTED: ng-o-ku-b-a i-qembu lo-m-sebenzi ku-fanel-e ku-b-e y-i-m-pumelelo ku-fanel-e u-m-holi njengoba u-m-sebenzi ng-e-si-khathi so-m-sebenzi we-qembu\n",
      "----------------------------------------------------------------------------------------------------\n",
      "Epoch 17 - Validation Loss: 0.0005\n",
      "Improvement: 0.000546 -> 0.000544\n",
      "Saved best model from epoch 17 with validation loss: 0.000544\n"
     ]
    },
    {
     "name": "stderr",
     "output_type": "stream",
     "text": [
      "Processing Epoch 18: 100%|██████████| 1250/1250 [10:56<00:00,  1.90it/s, loss=0.354]\n"
     ]
    },
    {
     "name": "stdout",
     "output_type": "stream",
     "text": [
      "    SOURCE: if you are really lucky you may even end up getting to play the progressive jackpot making it one of the most exciting parts of the casino pay by mobile slot game\n",
      "    TARGET: u-m-a u-n-e-n-hlanhla ng-e-m-pela u-nga-qed-a ku-z-e ko-ku-thol-a uku-dlal-a jackot oku-qhubek-a-yo o-kw-enz-a ku-b-e o-muny-e i-zingxenye ejabulis-a ka-khulu w-e pay- ye-khasino m-ob-ile s-lot gam-e\n",
      " PREDICTED: u-m-a u-ng-u-m-a u-ng-enzek-a ng-e-n-hlanhla u-nga-thol-a uku-dlal-a i-phorokethi yo-ku-dlal-a i-s-enzo ezi-thakazelis-a-yo zo-kw-enz-a i-zingxenye ezi-thakazelis-a-yo ka-khulu e-maketh-e yo-m-dlalo we-khasino we-khasino u-khokh-a i-n-dawo yo-m-dlalo\n",
      "    SOURCE: i had no choice but to ring the police\n",
      "    TARGET: ng-a-ngi-nge-na-ku-kheth-a ko-dwa uku-biz-a a-ma-phoyisa\n",
      " PREDICTED: a-ngi-kw-az-i uku-kheth-a ko-dwa a-ma-phoyisa a-ma-phoyisa\n",
      "    SOURCE: for a team to work effectively it must be led by a leader as is the case during a work in group\n",
      "    TARGET: uku-z-e i-qembu li-sebenz-e ng-o-ku-phumelel-a-yo ku-fanel-e li-holw-a u-m-holi njengoba ku-njalo ng-e-si-khathi u-m-sebenzi we-qembu\n",
      " PREDICTED: ng-o-ku-b-a i-qembu lo-m-sebenzi ku-fanel-e ku-b-e y-i-m-pumelelo ku-fanel-e u-hol-e n-o-m-holi we-qembu la-s-e-qenj-ini\n",
      "----------------------------------------------------------------------------------------------------\n",
      "Epoch 18 - Validation Loss: 0.0005\n",
      "Improvement: 0.000544 -> 0.000542\n",
      "Saved best model from epoch 18 with validation loss: 0.000542\n"
     ]
    },
    {
     "name": "stderr",
     "output_type": "stream",
     "text": [
      "Processing Epoch 19: 100%|██████████| 1250/1250 [10:56<00:00,  1.90it/s, loss=0.403]\n"
     ]
    },
    {
     "name": "stdout",
     "output_type": "stream",
     "text": [
      "    SOURCE: if you are really lucky you may even end up getting to play the progressive jackpot making it one of the most exciting parts of the casino pay by mobile slot game\n",
      "    TARGET: u-m-a u-n-e-n-hlanhla ng-e-m-pela u-nga-qed-a ku-z-e ko-ku-thol-a uku-dlal-a jackot oku-qhubek-a-yo o-kw-enz-a ku-b-e o-muny-e i-zingxenye ejabulis-a ka-khulu w-e pay- ye-khasino m-ob-ile s-lot gam-e\n",
      " PREDICTED: u-m-a u-ng-u-n-e-n-hlanhla u-nga-s-e u-nga-thol-a ngi-sho uku-dlal-a i-mali e-vulek-ile yo-kw-enz-a i-mali e-yo-dwa i-ya-jabul-a ka-khulu e-maketh-e ye-khasino e-n-kulu yo-m-dlalo we-khasino u-m-dlalo we-khasino\n",
      "    SOURCE: i had no choice but to ring the police\n",
      "    TARGET: ng-a-ngi-nge-na-ku-kheth-a ko-dwa uku-biz-a a-ma-phoyisa\n",
      " PREDICTED: a-ngi-zang-e ngi-kheth-e k-eph-a a-ma-phoyisa a-ma-phoyisa\n",
      "    SOURCE: for a team to work effectively it must be led by a leader as is the case during a work in group\n",
      "    TARGET: uku-z-e i-qembu li-sebenz-e ng-o-ku-phumelel-a-yo ku-fanel-e li-holw-a u-m-holi njengoba ku-njalo ng-e-si-khathi u-m-sebenzi we-qembu\n",
      " PREDICTED: ng-o-ku-b-a i-qembu lo-ku-sebenz-a ku-fanel-e ku-b-e y-i-m-pumelelo ku-fanel-e u-m-holi njengoba u-m-sebenzi ng-e-si-khathi so-m-sebenzi we-qembu\n",
      "----------------------------------------------------------------------------------------------------\n",
      "Epoch 19 - Validation Loss: 0.0005\n",
      "Improvement: 0.000542 -> 0.000541\n",
      "Saved best model from epoch 19 with validation loss: 0.000541\n"
     ]
    },
    {
     "name": "stderr",
     "output_type": "stream",
     "text": [
      "Processing Epoch 20: 100%|██████████| 1250/1250 [10:55<00:00,  1.91it/s, loss=0.357]\n"
     ]
    },
    {
     "name": "stdout",
     "output_type": "stream",
     "text": [
      "    SOURCE: if you are really lucky you may even end up getting to play the progressive jackpot making it one of the most exciting parts of the casino pay by mobile slot game\n",
      "    TARGET: u-m-a u-n-e-n-hlanhla ng-e-m-pela u-nga-qed-a ku-z-e ko-ku-thol-a uku-dlal-a jackot oku-qhubek-a-yo o-kw-enz-a ku-b-e o-muny-e i-zingxenye ejabulis-a ka-khulu w-e pay- ye-khasino m-ob-ile s-lot gam-e\n",
      " PREDICTED: u-m-a u-ng-u-n-e-n-hlanhla u-nga-s-e u-b-e n-e-n-hlanhla ngi-sho uku-thol-a uku-dlal-a i-appl-e i-s-enzo esi-hl-e so-ku-dlal-a i-zingxenye ezi-thakazelis-a-yo ka-khulu e-maketh-e ye-khasino y-i-n-to e-nhle yo-m-dlalo we-khasino\n",
      "    SOURCE: i had no choice but to ring the police\n",
      "    TARGET: ng-a-ngi-nge-na-ku-kheth-a ko-dwa uku-biz-a a-ma-phoyisa\n",
      " PREDICTED: a-ngi-zang-e ngi-kheth-e k-eph-a a-ma-phoyisa a-yi-sebenzis-i a-ma-phoyisa\n",
      "    SOURCE: for a team to work effectively it must be led by a leader as is the case during a work in group\n",
      "    TARGET: uku-z-e i-qembu li-sebenz-e ng-o-ku-phumelel-a-yo ku-fanel-e li-holw-a u-m-holi njengoba ku-njalo ng-e-si-khathi u-m-sebenzi we-qembu\n",
      " PREDICTED: ng-o-ku-b-a i-qembu lo-ku-sebenz-a ku-fanel-e ku-b-e y-i-m-pumelelo ku-fanel-e u-hol-e u-m-holi n-e-qembu la-s-e-qenj-ini\n",
      "----------------------------------------------------------------------------------------------------\n",
      "Epoch 20 - Validation Loss: 0.0005\n",
      "Improvement: 0.000541 -> 0.000540\n",
      "Saved best model from epoch 20 with validation loss: 0.000540\n"
     ]
    },
    {
     "name": "stderr",
     "output_type": "stream",
     "text": [
      "Processing Epoch 21: 100%|██████████| 1250/1250 [10:58<00:00,  1.90it/s, loss=0.352]\n"
     ]
    },
    {
     "name": "stdout",
     "output_type": "stream",
     "text": [
      "    SOURCE: if you are really lucky you may even end up getting to play the progressive jackpot making it one of the most exciting parts of the casino pay by mobile slot game\n",
      "    TARGET: u-m-a u-n-e-n-hlanhla ng-e-m-pela u-nga-qed-a ku-z-e ko-ku-thol-a uku-dlal-a jackot oku-qhubek-a-yo o-kw-enz-a ku-b-e o-muny-e i-zingxenye ejabulis-a ka-khulu w-e pay- ye-khasino m-ob-ile s-lot gam-e\n",
      " PREDICTED: u-m-a u-ng-u-n-e-n-hlanhla ng-e-m-pela u-nga-s-e u-thol-e uku-dlal-a i-appl-e uku-dlal-a i-appl-e i-sebenz-e ka-khulu e-ku-thol-e-ni i-zingxenye ezi-thakazelis-a-yo ka-khulu zo-m-dlalo we-khasino u-m-dlalo we-khasino u-m-dlalo we-khasino\n",
      "    SOURCE: i had no choice but to ring the police\n",
      "    TARGET: ng-a-ngi-nge-na-ku-kheth-a ko-dwa uku-biz-a a-ma-phoyisa\n",
      " PREDICTED: a-ngi-zang-e ngi-kheth-e k-eph-a a-ma-phoyisa a-ma-phoyisa\n",
      "    SOURCE: for a team to work effectively it must be led by a leader as is the case during a work in group\n",
      "    TARGET: uku-z-e i-qembu li-sebenz-e ng-o-ku-phumelel-a-yo ku-fanel-e li-holw-a u-m-holi njengoba ku-njalo ng-e-si-khathi u-m-sebenzi we-qembu\n",
      " PREDICTED: ng-o-ku-b-a i-qembu lo-ku-sebenz-a ku-fanel-e ku-b-e y-i-m-pumelelo ku-fanel-e u-hol-e n-jengomuntu ng-e-si-khathi so-m-sebenzi we-qembu\n",
      "----------------------------------------------------------------------------------------------------\n",
      "Epoch 21 - Validation Loss: 0.0005\n",
      "Improvement: 0.000540 -> 0.000538\n",
      "Saved best model from epoch 21 with validation loss: 0.000538\n"
     ]
    },
    {
     "name": "stderr",
     "output_type": "stream",
     "text": [
      "Processing Epoch 22: 100%|██████████| 1250/1250 [10:57<00:00,  1.90it/s, loss=0.340]\n"
     ]
    },
    {
     "name": "stdout",
     "output_type": "stream",
     "text": [
      "    SOURCE: if you are really lucky you may even end up getting to play the progressive jackpot making it one of the most exciting parts of the casino pay by mobile slot game\n",
      "    TARGET: u-m-a u-n-e-n-hlanhla ng-e-m-pela u-nga-qed-a ku-z-e ko-ku-thol-a uku-dlal-a jackot oku-qhubek-a-yo o-kw-enz-a ku-b-e o-muny-e i-zingxenye ejabulis-a ka-khulu w-e pay- ye-khasino m-ob-ile s-lot gam-e\n",
      " PREDICTED: u-m-a u-n-e-n-hlanhla ng-e-m-pela u-nga-s-e u-thol-e ngi-sho uku-dlal-a i-appl-e i-thol-e i-appl-e i-n-o-kw-enz-a oku-hl-e oku-thakazelis-a-yo ka-khulu i-zingxenye ezi-thakazelis-a-yo zo-m-dlalo we-khasino u-m-dlalo we-khasino\n",
      "    SOURCE: i had no choice but to ring the police\n",
      "    TARGET: ng-a-ngi-nge-na-ku-kheth-a ko-dwa uku-biz-a a-ma-phoyisa\n",
      " PREDICTED: a-ngi-zang-e ngi-kheth-e k-eph-a a-ma-phoyisa a-ngu\n",
      "    SOURCE: for a team to work effectively it must be led by a leader as is the case during a work in group\n",
      "    TARGET: uku-z-e i-qembu li-sebenz-e ng-o-ku-phumelel-a-yo ku-fanel-e li-holw-a u-m-holi njengoba ku-njalo ng-e-si-khathi u-m-sebenzi we-qembu\n",
      " PREDICTED: ng-o-ku-b-a i-qembu lo-ku-sebenz-a ku-fanel-e ku-holel-e ng-e-m-pumelelo ku-fanel-e u-m-holi n-jengendlel-a yo-m-sebenzi e-qenj-ini\n",
      "----------------------------------------------------------------------------------------------------\n",
      "Epoch 22 - Validation Loss: 0.0005\n",
      "Loss increased: 0.000538 -> 0.000539. Counter: 1/5\n"
     ]
    },
    {
     "name": "stderr",
     "output_type": "stream",
     "text": [
      "Processing Epoch 23: 100%|██████████| 1250/1250 [10:56<00:00,  1.90it/s, loss=0.337]\n"
     ]
    },
    {
     "name": "stdout",
     "output_type": "stream",
     "text": [
      "    SOURCE: if you are really lucky you may even end up getting to play the progressive jackpot making it one of the most exciting parts of the casino pay by mobile slot game\n",
      "    TARGET: u-m-a u-n-e-n-hlanhla ng-e-m-pela u-nga-qed-a ku-z-e ko-ku-thol-a uku-dlal-a jackot oku-qhubek-a-yo o-kw-enz-a ku-b-e o-muny-e i-zingxenye ejabulis-a ka-khulu w-e pay- ye-khasino m-ob-ile s-lot gam-e\n",
      " PREDICTED: u-m-a u-n-e-n-hlanhla ng-e-m-pela u-nga-s-e u-thol-e ngi-sho uku-dlal-a i-posi eli-thunyelw-e e-ku-thol-e-ni i-njini yo-ku-thi i-zingxenye ezi-thakazelis-a-yo ka-khulu e-khasino i-khokh-a i-khasino e-n-kulu y-i-n-hloko yo-m-dlalo we-khasino\n",
      "    SOURCE: i had no choice but to ring the police\n",
      "    TARGET: ng-a-ngi-nge-na-ku-kheth-a ko-dwa uku-biz-a a-ma-phoyisa\n",
      " PREDICTED: a-ngi-zang-e ngi-kheth-e k-eph-a a-ma-phoyisa a-ngu\n",
      "    SOURCE: for a team to work effectively it must be led by a leader as is the case during a work in group\n",
      "    TARGET: uku-z-e i-qembu li-sebenz-e ng-o-ku-phumelel-a-yo ku-fanel-e li-holw-a u-m-holi njengoba ku-njalo ng-e-si-khathi u-m-sebenzi we-qembu\n",
      " PREDICTED: ng-o-ku-b-a i-qembu lo-ku-sebenz-a ku-fanel-e ku-holel-e ng-e-m-pumelelo ku-fanel-e u-m-holi njengoba u-m-sebenzi ng-e-si-khathi so-m-sebenzi we-qembu\n",
      "----------------------------------------------------------------------------------------------------\n",
      "Epoch 23 - Validation Loss: 0.0005\n",
      "Improvement: 0.000538 -> 0.000538\n",
      "Saved best model from epoch 23 with validation loss: 0.000538\n"
     ]
    },
    {
     "name": "stderr",
     "output_type": "stream",
     "text": [
      "Processing Epoch 24: 100%|██████████| 1250/1250 [10:56<00:00,  1.90it/s, loss=0.351]\n"
     ]
    },
    {
     "name": "stdout",
     "output_type": "stream",
     "text": [
      "    SOURCE: if you are really lucky you may even end up getting to play the progressive jackpot making it one of the most exciting parts of the casino pay by mobile slot game\n",
      "    TARGET: u-m-a u-n-e-n-hlanhla ng-e-m-pela u-nga-qed-a ku-z-e ko-ku-thol-a uku-dlal-a jackot oku-qhubek-a-yo o-kw-enz-a ku-b-e o-muny-e i-zingxenye ejabulis-a ka-khulu w-e pay- ye-khasino m-ob-ile s-lot gam-e\n",
      " PREDICTED: u-m-a u-n-e-n-hlanhla ng-e-m-pela u-nga-s-e u-fik-e ngi-sho uku-dlal-a i-posi eli-tolo lo-ku-dlal-a oku-nge-nye i-zingxenye ezi-thakazelis-a-yo ka-khulu e-maketh-e ye-khasino e-n-kulu yo-m-dlalo we-khasino u-m-dlalo we-khasino\n",
      "    SOURCE: i had no choice but to ring the police\n",
      "    TARGET: ng-a-ngi-nge-na-ku-kheth-a ko-dwa uku-biz-a a-ma-phoyisa\n",
      " PREDICTED: a-ngi-zang-e ngi-kheth-e k-eph-a a-ma-phoyisa a-ma-phoyisa\n",
      "    SOURCE: for a team to work effectively it must be led by a leader as is the case during a work in group\n",
      "    TARGET: uku-z-e i-qembu li-sebenz-e ng-o-ku-phumelel-a-yo ku-fanel-e li-holw-a u-m-holi njengoba ku-njalo ng-e-si-khathi u-m-sebenzi we-qembu\n",
      " PREDICTED: ng-o-ku-b-a i-qembu lo-ku-sebenz-a ku-fanel-e ku-holel-e ng-e-m-pumelelo ku-fanel-e u-m-holi njengoba u-m-sebenzi ng-e-si-khathi so-m-sebenzi\n",
      "----------------------------------------------------------------------------------------------------\n",
      "Epoch 24 - Validation Loss: 0.0005\n",
      "Improvement: 0.000538 -> 0.000535\n",
      "Saved best model from epoch 24 with validation loss: 0.000535\n"
     ]
    },
    {
     "name": "stderr",
     "output_type": "stream",
     "text": [
      "Processing Epoch 25: 100%|██████████| 1250/1250 [10:57<00:00,  1.90it/s, loss=0.335]\n"
     ]
    },
    {
     "name": "stdout",
     "output_type": "stream",
     "text": [
      "    SOURCE: if you are really lucky you may even end up getting to play the progressive jackpot making it one of the most exciting parts of the casino pay by mobile slot game\n",
      "    TARGET: u-m-a u-n-e-n-hlanhla ng-e-m-pela u-nga-qed-a ku-z-e ko-ku-thol-a uku-dlal-a jackot oku-qhubek-a-yo o-kw-enz-a ku-b-e o-muny-e i-zingxenye ejabulis-a ka-khulu w-e pay- ye-khasino m-ob-ile s-lot gam-e\n",
      " PREDICTED: u-m-a u-n-e-n-hlanhla ng-e-m-pela u-nga-s-e u-fik-e ngi-sho uku-thol-a i-posi eli-tolo lo-ku-dlal-a oku-nge-nye i-zingxenye ezi-thakazelis-a-yo ka-khulu e-zinyang-eni ezi-thakazelis-a-yo ka-khulu zo-m-dlalo we-khasino u-m-dlalo we-khasino\n",
      "    SOURCE: i had no choice but to ring the police\n",
      "    TARGET: ng-a-ngi-nge-na-ku-kheth-a ko-dwa uku-biz-a a-ma-phoyisa\n",
      " PREDICTED: a-ngi-zang-e ngi-kheth-e k-eph-a a-ma-phoyisa a-ngu\n",
      "    SOURCE: for a team to work effectively it must be led by a leader as is the case during a work in group\n",
      "    TARGET: uku-z-e i-qembu li-sebenz-e ng-o-ku-phumelel-a-yo ku-fanel-e li-holw-a u-m-holi njengoba ku-njalo ng-e-si-khathi u-m-sebenzi we-qembu\n",
      " PREDICTED: ng-o-ku-b-a i-qembu lo-ku-sebenz-a ng-e-m-pumelelo ku-fanel-e ku-holel-e e-u-m-holi njengoba u-m-holi ng-e-si-khathi so-m-sebenzi we-qembu\n",
      "----------------------------------------------------------------------------------------------------\n",
      "Epoch 25 - Validation Loss: 0.0005\n",
      "Improvement: 0.000535 -> 0.000534\n",
      "Saved best model from epoch 25 with validation loss: 0.000534\n"
     ]
    },
    {
     "name": "stderr",
     "output_type": "stream",
     "text": [
      "Processing Epoch 26: 100%|██████████| 1250/1250 [10:55<00:00,  1.91it/s, loss=0.373]\n"
     ]
    },
    {
     "name": "stdout",
     "output_type": "stream",
     "text": [
      "    SOURCE: if you are really lucky you may even end up getting to play the progressive jackpot making it one of the most exciting parts of the casino pay by mobile slot game\n",
      "    TARGET: u-m-a u-n-e-n-hlanhla ng-e-m-pela u-nga-qed-a ku-z-e ko-ku-thol-a uku-dlal-a jackot oku-qhubek-a-yo o-kw-enz-a ku-b-e o-muny-e i-zingxenye ejabulis-a ka-khulu w-e pay- ye-khasino m-ob-ile s-lot gam-e\n",
      " PREDICTED: u-m-a u-n-e-n-hlanhla ng-e-m-pela u-nga-s-e u-fik-e ngi-sho uku-dlal-a i-tharafikhi e-maketh-e yo-kw-enz-a i-s-enzo esi-thakazelis-a-yo ka-khulu e-maketh-e ye-khasino e-thakazelis-a-yo y-i-khasino u-m-dlalo we-khasino u-m-dlalo we-khasino\n",
      "    SOURCE: i had no choice but to ring the police\n",
      "    TARGET: ng-a-ngi-nge-na-ku-kheth-a ko-dwa uku-biz-a a-ma-phoyisa\n",
      " PREDICTED: a-ngi-zang-e ngi-kheth-e k-eph-a a-ma-phoyisa a-ngu\n",
      "    SOURCE: for a team to work effectively it must be led by a leader as is the case during a work in group\n",
      "    TARGET: uku-z-e i-qembu li-sebenz-e ng-o-ku-phumelel-a-yo ku-fanel-e li-holw-a u-m-holi njengoba ku-njalo ng-e-si-khathi u-m-sebenzi we-qembu\n",
      " PREDICTED: ng-o-ku-b-a i-qembu lo-ku-sebenz-a ng-e-m-pumelelo ku-fanel-e ku-holel-e u-m-holi njengoba u-m-holi ng-e-si-khathi so-m-sebenzi we-qembu\n",
      "----------------------------------------------------------------------------------------------------\n",
      "Epoch 26 - Validation Loss: 0.0005\n",
      "Improvement: 0.000534 -> 0.000534\n",
      "Saved best model from epoch 26 with validation loss: 0.000534\n"
     ]
    },
    {
     "name": "stderr",
     "output_type": "stream",
     "text": [
      "Processing Epoch 27: 100%|██████████| 1250/1250 [10:59<00:00,  1.90it/s, loss=0.364]\n"
     ]
    },
    {
     "name": "stdout",
     "output_type": "stream",
     "text": [
      "    SOURCE: if you are really lucky you may even end up getting to play the progressive jackpot making it one of the most exciting parts of the casino pay by mobile slot game\n",
      "    TARGET: u-m-a u-n-e-n-hlanhla ng-e-m-pela u-nga-qed-a ku-z-e ko-ku-thol-a uku-dlal-a jackot oku-qhubek-a-yo o-kw-enz-a ku-b-e o-muny-e i-zingxenye ejabulis-a ka-khulu w-e pay- ye-khasino m-ob-ile s-lot gam-e\n",
      " PREDICTED: u-m-a u-n-e-n-hlanhla ng-e-m-pela u-nga-s-e u-fik-e ngi-sho n-o-ku-thol-a uku-dlal-a oku-thunyelw-e kwe-zentengiselwano ku-y-enz-a i-zingxenye ezi-thakazelis-a-yo ka-khulu e-khasino i-khokh-a i-khasino i-m-pela u-m-dlalo we-khasino we-khasino\n",
      "    SOURCE: i had no choice but to ring the police\n",
      "    TARGET: ng-a-ngi-nge-na-ku-kheth-a ko-dwa uku-biz-a a-ma-phoyisa\n",
      " PREDICTED: a-ngi-na-so uku-kheth-a ko-dwa a-ma-phoyisa a-ngu\n",
      "    SOURCE: for a team to work effectively it must be led by a leader as is the case during a work in group\n",
      "    TARGET: uku-z-e i-qembu li-sebenz-e ng-o-ku-phumelel-a-yo ku-fanel-e li-holw-a u-m-holi njengoba ku-njalo ng-e-si-khathi u-m-sebenzi we-qembu\n",
      " PREDICTED: ng-o-ku-b-a i-qembu lo-ku-sebenz-a ng-e-m-pumelelo ku-fanel-e ku-holel-e e-u-m-holi njengoba i-si-mo se-qembu ng-e-si-khathi so-m-sebenzi\n",
      "----------------------------------------------------------------------------------------------------\n",
      "Epoch 27 - Validation Loss: 0.0005\n",
      "Improvement: 0.000534 -> 0.000533\n",
      "Saved best model from epoch 27 with validation loss: 0.000533\n"
     ]
    },
    {
     "name": "stderr",
     "output_type": "stream",
     "text": [
      "Processing Epoch 28: 100%|██████████| 1250/1250 [10:54<00:00,  1.91it/s, loss=0.326]\n"
     ]
    },
    {
     "name": "stdout",
     "output_type": "stream",
     "text": [
      "    SOURCE: if you are really lucky you may even end up getting to play the progressive jackpot making it one of the most exciting parts of the casino pay by mobile slot game\n",
      "    TARGET: u-m-a u-n-e-n-hlanhla ng-e-m-pela u-nga-qed-a ku-z-e ko-ku-thol-a uku-dlal-a jackot oku-qhubek-a-yo o-kw-enz-a ku-b-e o-muny-e i-zingxenye ejabulis-a ka-khulu w-e pay- ye-khasino m-ob-ile s-lot gam-e\n",
      " PREDICTED: u-m-a u-n-e-n-hlanhla ng-e-m-pela u-nga-s-e u-gcin-e ngi-sho uku-dlal-a i-posi eli-tolo lo-ku-dlal-a oku-nge-nye i-zingxenye ezi-thakazelis-a-yo ka-khulu e-maketh-e ye-khasino i-khokh-a i-m-dlalo we-khasino y-e m-dlalo we-khasino\n",
      "    SOURCE: i had no choice but to ring the police\n",
      "    TARGET: ng-a-ngi-nge-na-ku-kheth-a ko-dwa uku-biz-a a-ma-phoyisa\n",
      " PREDICTED: a-ngi-na-ku-kheth-a ko-dwa a-ma-phoyisa\n",
      "    SOURCE: for a team to work effectively it must be led by a leader as is the case during a work in group\n",
      "    TARGET: uku-z-e i-qembu li-sebenz-e ng-o-ku-phumelel-a-yo ku-fanel-e li-holw-a u-m-holi njengoba ku-njalo ng-e-si-khathi u-m-sebenzi we-qembu\n",
      " PREDICTED: ng-o-ku-b-a i-qembu lo-ku-sebenz-a ng-e-m-pumelelo ku-fanel-e li-holel-e e-u-m-holi njengoba i-si-mo ng-e-si-khathi so-m-sebenzi we-qembu\n",
      "----------------------------------------------------------------------------------------------------\n",
      "Epoch 28 - Validation Loss: 0.0005\n",
      "Improvement: 0.000533 -> 0.000532\n",
      "Saved best model from epoch 28 with validation loss: 0.000532\n"
     ]
    },
    {
     "name": "stderr",
     "output_type": "stream",
     "text": [
      "Processing Epoch 29: 100%|██████████| 1250/1250 [10:59<00:00,  1.90it/s, loss=0.351]\n"
     ]
    },
    {
     "name": "stdout",
     "output_type": "stream",
     "text": [
      "    SOURCE: if you are really lucky you may even end up getting to play the progressive jackpot making it one of the most exciting parts of the casino pay by mobile slot game\n",
      "    TARGET: u-m-a u-n-e-n-hlanhla ng-e-m-pela u-nga-qed-a ku-z-e ko-ku-thol-a uku-dlal-a jackot oku-qhubek-a-yo o-kw-enz-a ku-b-e o-muny-e i-zingxenye ejabulis-a ka-khulu w-e pay- ye-khasino m-ob-ile s-lot gam-e\n",
      " PREDICTED: u-m-a u-n-e-n-hlanhla ng-e-m-pela u-nga-s-e u-fik-e ngi-sho uku-dlal-a i-tharafikhi e-qhubek-a-yo u-kw-enz-a i-zingxenye ezi-thakazelis-a-yo ka-khulu e-maketh-e ye-khasino e-thakazelis-a-yo y-i-khasino y-e u-m-dlalo we-khasino\n",
      "    SOURCE: i had no choice but to ring the police\n",
      "    TARGET: ng-a-ngi-nge-na-ku-kheth-a ko-dwa uku-biz-a a-ma-phoyisa\n",
      " PREDICTED: a-ngi-zang-e ngi-kheth-e k-eph-a a-ma-phoyisa\n",
      "    SOURCE: for a team to work effectively it must be led by a leader as is the case during a work in group\n",
      "    TARGET: uku-z-e i-qembu li-sebenz-e ng-o-ku-phumelel-a-yo ku-fanel-e li-holw-a u-m-holi njengoba ku-njalo ng-e-si-khathi u-m-sebenzi we-qembu\n",
      " PREDICTED: ng-o-ku-b-a i-qembu lo-ku-sebenz-a ng-e-m-pumelelo ku-fanel-e li-holel-e e-u-m-holi njengoba i-si-mo ng-e-si-khathi so-m-sebenzi e-qenj-ini\n",
      "----------------------------------------------------------------------------------------------------\n",
      "Epoch 29 - Validation Loss: 0.0005\n",
      "Loss increased: 0.000532 -> 0.000532. Counter: 1/5\n"
     ]
    },
    {
     "name": "stderr",
     "output_type": "stream",
     "text": [
      "Processing Epoch 30: 100%|██████████| 1250/1250 [10:56<00:00,  1.91it/s, loss=0.349]\n"
     ]
    },
    {
     "name": "stdout",
     "output_type": "stream",
     "text": [
      "    SOURCE: if you are really lucky you may even end up getting to play the progressive jackpot making it one of the most exciting parts of the casino pay by mobile slot game\n",
      "    TARGET: u-m-a u-n-e-n-hlanhla ng-e-m-pela u-nga-qed-a ku-z-e ko-ku-thol-a uku-dlal-a jackot oku-qhubek-a-yo o-kw-enz-a ku-b-e o-muny-e i-zingxenye ejabulis-a ka-khulu w-e pay- ye-khasino m-ob-ile s-lot gam-e\n",
      " PREDICTED: u-m-a u-n-e-n-hlanhla ng-e-m-pela u-nga-s-e u-fik-e ngi-sho uku-dlal-a i-tharafikhi e-qhubek-a-yo u-kw-enz-a oku-ny-e i-zingxenye ezi-thakazelis-a-yo ka-khulu e-maketh-e ye-khasino e-ya-jabul-a ng-o-m-dlalo we-khasino o-m-ob-ile\n",
      "    SOURCE: i had no choice but to ring the police\n",
      "    TARGET: ng-a-ngi-nge-na-ku-kheth-a ko-dwa uku-biz-a a-ma-phoyisa\n",
      " PREDICTED: a-ngi-zang-e ngi-kheth-e ko-dwa a-ma-phoyisa e-n-kulu\n",
      "    SOURCE: for a team to work effectively it must be led by a leader as is the case during a work in group\n",
      "    TARGET: uku-z-e i-qembu li-sebenz-e ng-o-ku-phumelel-a-yo ku-fanel-e li-holw-a u-m-holi njengoba ku-njalo ng-e-si-khathi u-m-sebenzi we-qembu\n",
      " PREDICTED: ng-o-ku-b-a i-qembu lo-ku-sebenz-a ku-fanel-e li-holel-e ng-e-m-pumelelo ku-fanel-e u-m-holi njengoba u-m-sebenzi ng-e-si-khathi so-m-sebenzi\n",
      "----------------------------------------------------------------------------------------------------\n",
      "Epoch 30 - Validation Loss: 0.0005\n",
      "Loss increased: 0.000532 -> 0.000532. Counter: 2/5\n"
     ]
    },
    {
     "name": "stderr",
     "output_type": "stream",
     "text": [
      "Processing Epoch 31: 100%|██████████| 1250/1250 [10:57<00:00,  1.90it/s, loss=0.333]\n"
     ]
    },
    {
     "name": "stdout",
     "output_type": "stream",
     "text": [
      "    SOURCE: if you are really lucky you may even end up getting to play the progressive jackpot making it one of the most exciting parts of the casino pay by mobile slot game\n",
      "    TARGET: u-m-a u-n-e-n-hlanhla ng-e-m-pela u-nga-qed-a ku-z-e ko-ku-thol-a uku-dlal-a jackot oku-qhubek-a-yo o-kw-enz-a ku-b-e o-muny-e i-zingxenye ejabulis-a ka-khulu w-e pay- ye-khasino m-ob-ile s-lot gam-e\n",
      " PREDICTED: u-m-a u-n-e-n-hlanhla ng-e-m-pela u-nga-s-e u-fik-e ngi-sho uku-thol-a uku-dlal-a i-tharafikhi e-qhubek-a-yo u-kw-enz-a i-zingxenye ezi-thakazelis-a-yo ka-khulu e-khasino e-ku-jabulel-e-ni u-m-dlalo we-khasino we-khasino o-m-ob-ile we-st\n",
      "    SOURCE: i had no choice but to ring the police\n",
      "    TARGET: ng-a-ngi-nge-na-ku-kheth-a ko-dwa uku-biz-a a-ma-phoyisa\n",
      " PREDICTED: a-ngi-zang-e ngi-kheth-e k-eph-a a-ma-phoyisa\n",
      "    SOURCE: for a team to work effectively it must be led by a leader as is the case during a work in group\n",
      "    TARGET: uku-z-e i-qembu li-sebenz-e ng-o-ku-phumelel-a-yo ku-fanel-e li-holw-a u-m-holi njengoba ku-njalo ng-e-si-khathi u-m-sebenzi we-qembu\n",
      " PREDICTED: ng-o-ku-b-a i-qembu lo-ku-sebenz-a ng-e-m-pumelelo ku-fanel-e li-holel-e e-u-m-holi njengoba i-si-mo se-qembu ng-e-si-khathi so-m-sebenzi\n",
      "----------------------------------------------------------------------------------------------------\n",
      "Epoch 31 - Validation Loss: 0.0005\n",
      "Improvement: 0.000532 -> 0.000531\n",
      "Saved best model from epoch 31 with validation loss: 0.000531\n"
     ]
    },
    {
     "name": "stderr",
     "output_type": "stream",
     "text": [
      "Processing Epoch 32: 100%|██████████| 1250/1250 [10:56<00:00,  1.90it/s, loss=0.346]\n"
     ]
    },
    {
     "name": "stdout",
     "output_type": "stream",
     "text": [
      "    SOURCE: if you are really lucky you may even end up getting to play the progressive jackpot making it one of the most exciting parts of the casino pay by mobile slot game\n",
      "    TARGET: u-m-a u-n-e-n-hlanhla ng-e-m-pela u-nga-qed-a ku-z-e ko-ku-thol-a uku-dlal-a jackot oku-qhubek-a-yo o-kw-enz-a ku-b-e o-muny-e i-zingxenye ejabulis-a ka-khulu w-e pay- ye-khasino m-ob-ile s-lot gam-e\n",
      " PREDICTED: u-m-a u-n-e-n-hlanhla ng-e-m-pela u-nga-s-e u-fik-e ngi-sho uku-dlal-a i-tharafikhi e-shesh-a-yo u-kw-enz-a oku-ny-e i-zingxenye ezi-thakazelis-a-yo ka-khulu e-khasino i-khokh-a i-khasino e-n-kulu yo-m-dlalo we-khasino y-e\n",
      "    SOURCE: i had no choice but to ring the police\n",
      "    TARGET: ng-a-ngi-nge-na-ku-kheth-a ko-dwa uku-biz-a a-ma-phoyisa\n",
      " PREDICTED: a-ngi-zang-e ngi-kheth-e k-eph-a a-ma-phoyisa\n",
      "    SOURCE: for a team to work effectively it must be led by a leader as is the case during a work in group\n",
      "    TARGET: uku-z-e i-qembu li-sebenz-e ng-o-ku-phumelel-a-yo ku-fanel-e li-holw-a u-m-holi njengoba ku-njalo ng-e-si-khathi u-m-sebenzi we-qembu\n",
      " PREDICTED: ng-o-ku-b-a i-qembu lo-ku-sebenz-a ng-e-m-pumelelo ku-fanel-e li-holel-e e-u-m-holi njengoba i-si-mo ng-e-si-khathi so-m-sebenzi e-qenj-ini\n",
      "----------------------------------------------------------------------------------------------------\n",
      "Epoch 32 - Validation Loss: 0.0005\n",
      "Improvement: 0.000531 -> 0.000530\n",
      "Saved best model from epoch 32 with validation loss: 0.000530\n"
     ]
    },
    {
     "name": "stderr",
     "output_type": "stream",
     "text": [
      "Processing Epoch 33: 100%|██████████| 1250/1250 [11:03<00:00,  1.89it/s, loss=0.318]\n"
     ]
    },
    {
     "name": "stdout",
     "output_type": "stream",
     "text": [
      "    SOURCE: if you are really lucky you may even end up getting to play the progressive jackpot making it one of the most exciting parts of the casino pay by mobile slot game\n",
      "    TARGET: u-m-a u-n-e-n-hlanhla ng-e-m-pela u-nga-qed-a ku-z-e ko-ku-thol-a uku-dlal-a jackot oku-qhubek-a-yo o-kw-enz-a ku-b-e o-muny-e i-zingxenye ejabulis-a ka-khulu w-e pay- ye-khasino m-ob-ile s-lot gam-e\n",
      " PREDICTED: u-m-a u-n-e-n-hlanhla ng-e-m-pela u-nga-s-e u-fik-e ngi-sho n-o-ku-thol-a uku-dlal-a oku-thunyelw-e kwe-timu ye-timu e-nge-nye ye-zingxenye ezi-jabulis-a-yo ze-khasino e-ku-khokh-e-ni i-m-dlalo we-khasino y-e i-s-evisi y-e-s-emelik-a\n",
      "    SOURCE: i had no choice but to ring the police\n",
      "    TARGET: ng-a-ngi-nge-na-ku-kheth-a ko-dwa uku-biz-a a-ma-phoyisa\n",
      " PREDICTED: a-ngi-zang-e ngi-kheth-e ko-dwa a-ma-phoyisa a-yi-sebenzis-i\n",
      "    SOURCE: for a team to work effectively it must be led by a leader as is the case during a work in group\n",
      "    TARGET: uku-z-e i-qembu li-sebenz-e ng-o-ku-phumelel-a-yo ku-fanel-e li-holw-a u-m-holi njengoba ku-njalo ng-e-si-khathi u-m-sebenzi we-qembu\n",
      " PREDICTED: ng-o-ku-b-a i-qembu lo-ku-sebenz-a ku-fanel-e li-holel-e ng-e-m-pumelelo ku-fanel-e u-m-holi njengoba ku-b-e n-e-si-khathi so-m-sebenzi we-qembu\n",
      "----------------------------------------------------------------------------------------------------\n",
      "Epoch 33 - Validation Loss: 0.0005\n",
      "Improvement: 0.000530 -> 0.000529\n",
      "Saved best model from epoch 33 with validation loss: 0.000529\n"
     ]
    },
    {
     "name": "stderr",
     "output_type": "stream",
     "text": [
      "Processing Epoch 34: 100%|██████████| 1250/1250 [10:57<00:00,  1.90it/s, loss=0.314]\n"
     ]
    },
    {
     "name": "stdout",
     "output_type": "stream",
     "text": [
      "    SOURCE: if you are really lucky you may even end up getting to play the progressive jackpot making it one of the most exciting parts of the casino pay by mobile slot game\n",
      "    TARGET: u-m-a u-n-e-n-hlanhla ng-e-m-pela u-nga-qed-a ku-z-e ko-ku-thol-a uku-dlal-a jackot oku-qhubek-a-yo o-kw-enz-a ku-b-e o-muny-e i-zingxenye ejabulis-a ka-khulu w-e pay- ye-khasino m-ob-ile s-lot gam-e\n",
      " PREDICTED: u-m-a u-n-e-n-hlanhla ng-e-m-pela u-nga-s-e u-fik-e ngi-sho n-o-ku-thol-a uku-dlal-a oku-thunyelw-e kwe-glyophosate kw-enz-a eny-e ye-zingxenye ezi-thakazelis-a-yo ka-khulu e-khasino i-khokh-a i-m-pela u-m-dlalo we-khasino i-s-evisi y-e-s-emelik-a\n",
      "    SOURCE: i had no choice but to ring the police\n",
      "    TARGET: ng-a-ngi-nge-na-ku-kheth-a ko-dwa uku-biz-a a-ma-phoyisa\n",
      " PREDICTED: a-ngi-zang-e ngi-kheth-e ko-dwa a-ma-phoyisa e-n-daw-eni ya-ma-phoyisa\n",
      "    SOURCE: for a team to work effectively it must be led by a leader as is the case during a work in group\n",
      "    TARGET: uku-z-e i-qembu li-sebenz-e ng-o-ku-phumelel-a-yo ku-fanel-e li-holw-a u-m-holi njengoba ku-njalo ng-e-si-khathi u-m-sebenzi we-qembu\n",
      " PREDICTED: ng-o-ku-b-a i-qembu lo-ku-sebenz-a ng-e-m-pumelelo ku-fanel-e li-holel-e e-u-m-holi njengoba i-si-mo se-qembu e-qenj-ini\n",
      "----------------------------------------------------------------------------------------------------\n",
      "Epoch 34 - Validation Loss: 0.0005\n",
      "Improvement: 0.000529 -> 0.000529\n",
      "Saved best model from epoch 34 with validation loss: 0.000529\n"
     ]
    },
    {
     "name": "stderr",
     "output_type": "stream",
     "text": [
      "Processing Epoch 35: 100%|██████████| 1250/1250 [10:56<00:00,  1.90it/s, loss=0.339]\n"
     ]
    },
    {
     "name": "stdout",
     "output_type": "stream",
     "text": [
      "    SOURCE: if you are really lucky you may even end up getting to play the progressive jackpot making it one of the most exciting parts of the casino pay by mobile slot game\n",
      "    TARGET: u-m-a u-n-e-n-hlanhla ng-e-m-pela u-nga-qed-a ku-z-e ko-ku-thol-a uku-dlal-a jackot oku-qhubek-a-yo o-kw-enz-a ku-b-e o-muny-e i-zingxenye ejabulis-a ka-khulu w-e pay- ye-khasino m-ob-ile s-lot gam-e\n",
      " PREDICTED: u-m-a u-n-e-n-hlanhla ng-e-m-pela u-nga-s-e u-phel-e ngi-sho n-o-ku-thol-a uku-dlal-a oku-thunyelw-e kwe-glyophosate ku-y-enz-a eny-e ye-zingxenye ezi-jabulis-a-yo ze-khasino e-thakazelis-a-yo ka-khulu yo-m-dlalo we-khasino y-e i-s-evisi ya-s-e-s-evisi ya-s-e-s-e-ndaw-eni\n",
      "    SOURCE: i had no choice but to ring the police\n",
      "    TARGET: ng-a-ngi-nge-na-ku-kheth-a ko-dwa uku-biz-a a-ma-phoyisa\n",
      " PREDICTED: a-ngi-zang-e ngi-kheth-e k-eph-a a-ma-phoyisa\n",
      "    SOURCE: for a team to work effectively it must be led by a leader as is the case during a work in group\n",
      "    TARGET: uku-z-e i-qembu li-sebenz-e ng-o-ku-phumelel-a-yo ku-fanel-e li-holw-a u-m-holi njengoba ku-njalo ng-e-si-khathi u-m-sebenzi we-qembu\n",
      " PREDICTED: ng-o-ku-b-a i-qembu lo-ku-sebenz-a ng-e-m-pumelelo ku-fanel-e li-holel-e e-u-m-holi njengoba ku-y-i-n-to e-sebenz-a ng-e-si-khathi so-m-sebenzi we-qembu\n",
      "----------------------------------------------------------------------------------------------------\n",
      "Epoch 35 - Validation Loss: 0.0005\n",
      "Improvement: 0.000529 -> 0.000528\n",
      "Saved best model from epoch 35 with validation loss: 0.000528\n"
     ]
    },
    {
     "name": "stderr",
     "output_type": "stream",
     "text": [
      "Processing Epoch 36: 100%|██████████| 1250/1250 [10:56<00:00,  1.90it/s, loss=0.307]\n"
     ]
    },
    {
     "name": "stdout",
     "output_type": "stream",
     "text": [
      "    SOURCE: if you are really lucky you may even end up getting to play the progressive jackpot making it one of the most exciting parts of the casino pay by mobile slot game\n",
      "    TARGET: u-m-a u-n-e-n-hlanhla ng-e-m-pela u-nga-qed-a ku-z-e ko-ku-thol-a uku-dlal-a jackot oku-qhubek-a-yo o-kw-enz-a ku-b-e o-muny-e i-zingxenye ejabulis-a ka-khulu w-e pay- ye-khasino m-ob-ile s-lot gam-e\n",
      " PREDICTED: u-m-a u-n-e-n-hlanhla ng-e-m-pela u-nga-s-e u-gcin-e ngi-sho uku-dlal-a i-tharafikhi e-shesh-a-yo u-kw-enz-a eny-e ye-zingxenye ezi-thakazelis-a-yo ka-khulu e-maketh-e ye-khasino e-khokh-a i-m-pela ng-o-m-dlalo we-khasino m-ob-ile\n",
      "    SOURCE: i had no choice but to ring the police\n",
      "    TARGET: ng-a-ngi-nge-na-ku-kheth-a ko-dwa uku-biz-a a-ma-phoyisa\n",
      " PREDICTED: a-ngi-zang-e ngi-kheth-e ko-dwa uku-b-a ngi-y-e e-ma-phoyis-eni\n",
      "    SOURCE: for a team to work effectively it must be led by a leader as is the case during a work in group\n",
      "    TARGET: uku-z-e i-qembu li-sebenz-e ng-o-ku-phumelel-a-yo ku-fanel-e li-holw-a u-m-holi njengoba ku-njalo ng-e-si-khathi u-m-sebenzi we-qembu\n",
      " PREDICTED: ng-o-ku-b-a i-qembu lo-ku-sebenz-a ng-e-m-pumelelo ku-fanel-e li-holel-e e-u-m-holi njengoba ku-njalo ng-e-si-khathi so-m-sebenzi e-qenj-ini\n",
      "----------------------------------------------------------------------------------------------------\n",
      "Epoch 36 - Validation Loss: 0.0005\n",
      "Loss increased: 0.000528 -> 0.000529. Counter: 1/5\n"
     ]
    },
    {
     "name": "stderr",
     "output_type": "stream",
     "text": [
      "Processing Epoch 37: 100%|██████████| 1250/1250 [11:01<00:00,  1.89it/s, loss=0.310]\n"
     ]
    },
    {
     "name": "stdout",
     "output_type": "stream",
     "text": [
      "    SOURCE: if you are really lucky you may even end up getting to play the progressive jackpot making it one of the most exciting parts of the casino pay by mobile slot game\n",
      "    TARGET: u-m-a u-n-e-n-hlanhla ng-e-m-pela u-nga-qed-a ku-z-e ko-ku-thol-a uku-dlal-a jackot oku-qhubek-a-yo o-kw-enz-a ku-b-e o-muny-e i-zingxenye ejabulis-a ka-khulu w-e pay- ye-khasino m-ob-ile s-lot gam-e\n",
      " PREDICTED: u-m-a u-n-e-n-hlanhla ng-e-m-pela u-nga-s-e u-gcin-e ngi-sho uku-dlal-a i-tharafikhi e-qhubek-a-yo u-kw-enz-a oku-ny-e i-zingxenye ezi-jabulis-a-yo ka-khulu e-khasino e-khokh-a i-khasino i-khokh-a i-m-pela m-dlalo we-khasino\n",
      "    SOURCE: i had no choice but to ring the police\n",
      "    TARGET: ng-a-ngi-nge-na-ku-kheth-a ko-dwa uku-biz-a a-ma-phoyisa\n",
      " PREDICTED: a-ngi-zang-e ngi-kheth-e k-eph-a i-n-kosikazi ya-ma-phoyisa\n",
      "    SOURCE: for a team to work effectively it must be led by a leader as is the case during a work in group\n",
      "    TARGET: uku-z-e i-qembu li-sebenz-e ng-o-ku-phumelel-a-yo ku-fanel-e li-holw-a u-m-holi njengoba ku-njalo ng-e-si-khathi u-m-sebenzi we-qembu\n",
      " PREDICTED: ng-o-ku-b-a i-qembu lo-ku-sebenz-a ng-e-m-pumelelo ku-fanel-e li-holel-e e-u-m-holi njengoba ku-njalo ng-e-si-khathi so-m-sebenzi e-qenj-ini\n",
      "----------------------------------------------------------------------------------------------------\n",
      "Epoch 37 - Validation Loss: 0.0005\n",
      "Improvement: 0.000528 -> 0.000527\n",
      "Saved best model from epoch 37 with validation loss: 0.000527\n"
     ]
    },
    {
     "name": "stderr",
     "output_type": "stream",
     "text": [
      "Processing Epoch 38: 100%|██████████| 1250/1250 [10:55<00:00,  1.91it/s, loss=0.319]\n"
     ]
    },
    {
     "name": "stdout",
     "output_type": "stream",
     "text": [
      "    SOURCE: if you are really lucky you may even end up getting to play the progressive jackpot making it one of the most exciting parts of the casino pay by mobile slot game\n",
      "    TARGET: u-m-a u-n-e-n-hlanhla ng-e-m-pela u-nga-qed-a ku-z-e ko-ku-thol-a uku-dlal-a jackot oku-qhubek-a-yo o-kw-enz-a ku-b-e o-muny-e i-zingxenye ejabulis-a ka-khulu w-e pay- ye-khasino m-ob-ile s-lot gam-e\n",
      " PREDICTED: u-m-a u-n-e-n-hlanhla ng-e-m-pela u-nga-s-e u-gcin-e ngi-sho uku-dlal-a i-grand post o-kw-enz-a lo-kho o-muny-e we-zingxenye ezi-jabulis-a-yo ka-khulu e-khasino e-khokh-a i-khasino e-khokh-a i-m-pela m-dlalo we-khasino y-angases-e\n",
      "    SOURCE: i had no choice but to ring the police\n",
      "    TARGET: ng-a-ngi-nge-na-ku-kheth-a ko-dwa uku-biz-a a-ma-phoyisa\n",
      " PREDICTED: a-ngi-zang-e ngi-kheth-e k-eph-a a-ma-phoyisa\n",
      "    SOURCE: for a team to work effectively it must be led by a leader as is the case during a work in group\n",
      "    TARGET: uku-z-e i-qembu li-sebenz-e ng-o-ku-phumelel-a-yo ku-fanel-e li-holw-a u-m-holi njengoba ku-njalo ng-e-si-khathi u-m-sebenzi we-qembu\n",
      " PREDICTED: ng-o-ku-b-a i-qembu lo-ku-sebenz-a ng-e-m-pumelelo ku-fanel-e li-holel-e e-u-m-holi njengoba ku-njalo ng-e-si-khathi so-m-sebenzi e-qenj-ini\n",
      "----------------------------------------------------------------------------------------------------\n",
      "Epoch 38 - Validation Loss: 0.0005\n",
      "Improvement: 0.000527 -> 0.000526\n",
      "Saved best model from epoch 38 with validation loss: 0.000526\n"
     ]
    },
    {
     "name": "stderr",
     "output_type": "stream",
     "text": [
      "Processing Epoch 39: 100%|██████████| 1250/1250 [10:57<00:00,  1.90it/s, loss=0.316]\n"
     ]
    },
    {
     "name": "stdout",
     "output_type": "stream",
     "text": [
      "    SOURCE: if you are really lucky you may even end up getting to play the progressive jackpot making it one of the most exciting parts of the casino pay by mobile slot game\n",
      "    TARGET: u-m-a u-n-e-n-hlanhla ng-e-m-pela u-nga-qed-a ku-z-e ko-ku-thol-a uku-dlal-a jackot oku-qhubek-a-yo o-kw-enz-a ku-b-e o-muny-e i-zingxenye ejabulis-a ka-khulu w-e pay- ye-khasino m-ob-ile s-lot gam-e\n",
      " PREDICTED: u-m-a u-n-e-n-hlanhla ng-e-m-pela u-nga-s-e u-phel-e ngi-sho n-o-ku-thol-a uku-dlal-a oku-tolo oku-qhubek-a-yo kwe-nsimbi u-kw-enz-a oku-ny-e i-zingxenye ezi-thakazelis-a-yo ze-khasino e-ya-thakazelis-a ka-khulu ng-o-m-dlalo we-khasino u-m-dlalo we-s-elula\n",
      "    SOURCE: i had no choice but to ring the police\n",
      "    TARGET: ng-a-ngi-nge-na-ku-kheth-a ko-dwa uku-biz-a a-ma-phoyisa\n",
      " PREDICTED: a-ngi-zang-e ngi-kheth-e k-eph-a uku-b-a ngi-y-e n-e-soka la-ma-phoyisa\n",
      "    SOURCE: for a team to work effectively it must be led by a leader as is the case during a work in group\n",
      "    TARGET: uku-z-e i-qembu li-sebenz-e ng-o-ku-phumelel-a-yo ku-fanel-e li-holw-a u-m-holi njengoba ku-njalo ng-e-si-khathi u-m-sebenzi we-qembu\n",
      " PREDICTED: ng-o-ku-b-a i-qembu lo-ku-sebenz-a ng-e-m-pumelelo ku-fanel-e li-holel-e e-u-m-holi njengoba i-cala ng-e-si-khathi so-m-sebenzi e-qenj-ini\n",
      "----------------------------------------------------------------------------------------------------\n",
      "Epoch 39 - Validation Loss: 0.0005\n",
      "Loss increased: 0.000526 -> 0.000526. Counter: 1/5\n"
     ]
    },
    {
     "name": "stderr",
     "output_type": "stream",
     "text": [
      "Processing Epoch 40: 100%|██████████| 1250/1250 [10:54<00:00,  1.91it/s, loss=0.314]\n"
     ]
    },
    {
     "name": "stdout",
     "output_type": "stream",
     "text": [
      "    SOURCE: if you are really lucky you may even end up getting to play the progressive jackpot making it one of the most exciting parts of the casino pay by mobile slot game\n",
      "    TARGET: u-m-a u-n-e-n-hlanhla ng-e-m-pela u-nga-qed-a ku-z-e ko-ku-thol-a uku-dlal-a jackot oku-qhubek-a-yo o-kw-enz-a ku-b-e o-muny-e i-zingxenye ejabulis-a ka-khulu w-e pay- ye-khasino m-ob-ile s-lot gam-e\n",
      " PREDICTED: u-m-a u-n-e-n-hlanhla ng-e-m-pela u-nga-s-e u-gcin-e ngi-sho uku-dlal-a i-grand post o-f th-e xax-a u-kw-enz-a oku-ny-e i-zingxenye ezi-jabulis-a-yo ze-khasino e-thakazelis-a-yo ye-khasino i-khokh-e ng-u-m-dlalo we-ndawo\n",
      "    SOURCE: i had no choice but to ring the police\n",
      "    TARGET: ng-a-ngi-nge-na-ku-kheth-a ko-dwa uku-biz-a a-ma-phoyisa\n",
      " PREDICTED: a-ngi-zang-e ngi-kheth-e ko-dwa uku-thukuthel-a a-ma-phoyisa\n",
      "    SOURCE: for a team to work effectively it must be led by a leader as is the case during a work in group\n",
      "    TARGET: uku-z-e i-qembu li-sebenz-e ng-o-ku-phumelel-a-yo ku-fanel-e li-holw-a u-m-holi njengoba ku-njalo ng-e-si-khathi u-m-sebenzi we-qembu\n",
      " PREDICTED: ng-o-ku-b-a i-qembu lo-ku-sebenz-a ng-e-m-pumelelo ku-fanel-e li-holel-e e-u-m-holi njengoba ku-njalo ng-e-si-khathi so-m-sebenzi e-qenj-ini\n",
      "----------------------------------------------------------------------------------------------------\n",
      "Epoch 40 - Validation Loss: 0.0005\n",
      "Improvement: 0.000526 -> 0.000525\n",
      "Saved best model from epoch 40 with validation loss: 0.000525\n"
     ]
    },
    {
     "name": "stderr",
     "output_type": "stream",
     "text": [
      "Processing Epoch 41: 100%|██████████| 1250/1250 [10:55<00:00,  1.91it/s, loss=0.305]\n"
     ]
    },
    {
     "name": "stdout",
     "output_type": "stream",
     "text": [
      "    SOURCE: if you are really lucky you may even end up getting to play the progressive jackpot making it one of the most exciting parts of the casino pay by mobile slot game\n",
      "    TARGET: u-m-a u-n-e-n-hlanhla ng-e-m-pela u-nga-qed-a ku-z-e ko-ku-thol-a uku-dlal-a jackot oku-qhubek-a-yo o-kw-enz-a ku-b-e o-muny-e i-zingxenye ejabulis-a ka-khulu w-e pay- ye-khasino m-ob-ile s-lot gam-e\n",
      " PREDICTED: u-m-a u-n-e-n-hlanhla ng-e-m-pela u-nga-s-e u-gcin-e ngi-sho uku-dlal-a i-tharafikhi e-qhubek-a-yo u-kw-enz-a oku-ny-e i-zingxenye ezi-thakazelis-a-yo ze-khasino e-thakazelis-a-yo i-khasino i-khokh-a i-m-pela m-dlalo we-khasino\n",
      "    SOURCE: i had no choice but to ring the police\n",
      "    TARGET: ng-a-ngi-nge-na-ku-kheth-a ko-dwa uku-biz-a a-ma-phoyisa\n",
      " PREDICTED: a-ngi-zang-e ngi-kheth-e ko-dwa uku-b-a ngi-thukuthel-e a-ma-phoyisa\n",
      "    SOURCE: for a team to work effectively it must be led by a leader as is the case during a work in group\n",
      "    TARGET: uku-z-e i-qembu li-sebenz-e ng-o-ku-phumelel-a-yo ku-fanel-e li-holw-a u-m-holi njengoba ku-njalo ng-e-si-khathi u-m-sebenzi we-qembu\n",
      " PREDICTED: ng-o-ku-b-a i-qembu lo-ku-sebenz-a ng-e-m-pumelelo ku-fanel-e li-holw-e ng-u-m-holi njengoba ku-njalo ng-e-si-khathi so-m-sebenzi e-qenj-ini\n",
      "----------------------------------------------------------------------------------------------------\n",
      "Epoch 41 - Validation Loss: 0.0005\n",
      "Improvement: 0.000525 -> 0.000525\n",
      "Saved best model from epoch 41 with validation loss: 0.000525\n"
     ]
    },
    {
     "name": "stderr",
     "output_type": "stream",
     "text": [
      "Processing Epoch 42: 100%|██████████| 1250/1250 [10:57<00:00,  1.90it/s, loss=0.332]\n"
     ]
    },
    {
     "name": "stdout",
     "output_type": "stream",
     "text": [
      "    SOURCE: if you are really lucky you may even end up getting to play the progressive jackpot making it one of the most exciting parts of the casino pay by mobile slot game\n",
      "    TARGET: u-m-a u-n-e-n-hlanhla ng-e-m-pela u-nga-qed-a ku-z-e ko-ku-thol-a uku-dlal-a jackot oku-qhubek-a-yo o-kw-enz-a ku-b-e o-muny-e i-zingxenye ejabulis-a ka-khulu w-e pay- ye-khasino m-ob-ile s-lot gam-e\n",
      " PREDICTED: u-m-a u-n-e-n-hlanhla u-nga-s-e u-phel-e ngi-sho n-o-ku-thol-a uku-dlal-a i-grand post o-kw-enz-a-yo eny-e ye-zingxenye ezi-jabulis-a-yo ka-khulu e-khasino e-khokh-a i-khasino y-e-khasino ng-o-m-dlalo we-khasino\n",
      "    SOURCE: i had no choice but to ring the police\n",
      "    TARGET: ng-a-ngi-nge-na-ku-kheth-a ko-dwa uku-biz-a a-ma-phoyisa\n",
      " PREDICTED: a-ngi-zang-e ngi-kheth-e ko-dwa uku-b-a ngi-thukuthel-e a-ma-phoyisa\n",
      "    SOURCE: for a team to work effectively it must be led by a leader as is the case during a work in group\n",
      "    TARGET: uku-z-e i-qembu li-sebenz-e ng-o-ku-phumelel-a-yo ku-fanel-e li-holw-a u-m-holi njengoba ku-njalo ng-e-si-khathi u-m-sebenzi we-qembu\n",
      " PREDICTED: ng-o-ku-b-a i-qembu lo-ku-sebenz-a ng-e-m-pumelelo ku-fanel-e li-holw-e ng-u-m-holi njengoba ku-njalo u-m-sebenzi ng-e-si-khathi so-m-sebenzi e-qenj-ini\n",
      "----------------------------------------------------------------------------------------------------\n",
      "Epoch 42 - Validation Loss: 0.0005\n",
      "Loss increased: 0.000525 -> 0.000525. Counter: 1/5\n"
     ]
    },
    {
     "name": "stderr",
     "output_type": "stream",
     "text": [
      "Processing Epoch 43: 100%|██████████| 1250/1250 [10:56<00:00,  1.90it/s, loss=0.302]\n"
     ]
    },
    {
     "name": "stdout",
     "output_type": "stream",
     "text": [
      "    SOURCE: if you are really lucky you may even end up getting to play the progressive jackpot making it one of the most exciting parts of the casino pay by mobile slot game\n",
      "    TARGET: u-m-a u-n-e-n-hlanhla ng-e-m-pela u-nga-qed-a ku-z-e ko-ku-thol-a uku-dlal-a jackot oku-qhubek-a-yo o-kw-enz-a ku-b-e o-muny-e i-zingxenye ejabulis-a ka-khulu w-e pay- ye-khasino m-ob-ile s-lot gam-e\n",
      " PREDICTED: u-m-a u-n-e-n-hlanhla u-nga-s-e u-phel-e ngi-sho n-o-ku-thol-a uku-dlal-a oku-qhubek-a-yo kwe-grand jackot e-kw-enz-e-ni eny-e ye-zingxenye ezi-jabulis-a-yo ze-khasino e-ya-thakazelis-a ka-khulu yo-m-dlalo we-khasino y-e s-lot\n",
      "    SOURCE: i had no choice but to ring the police\n",
      "    TARGET: ng-a-ngi-nge-na-ku-kheth-a ko-dwa uku-biz-a a-ma-phoyisa\n",
      " PREDICTED: a-ngi-zang-e ngi-kheth-e k-eph-a uku-khal-a kwa-ma-phoyisa\n",
      "    SOURCE: for a team to work effectively it must be led by a leader as is the case during a work in group\n",
      "    TARGET: uku-z-e i-qembu li-sebenz-e ng-o-ku-phumelel-a-yo ku-fanel-e li-holw-a u-m-holi njengoba ku-njalo ng-e-si-khathi u-m-sebenzi we-qembu\n",
      " PREDICTED: ng-o-ku-b-a i-qembu lo-ku-sebenz-a ng-e-m-pumelelo ku-fanel-e li-holw-e ng-u-m-holi njengoba ku-njalo ng-e-si-khathi so-m-sebenzi e-qenj-ini\n",
      "----------------------------------------------------------------------------------------------------\n",
      "Epoch 43 - Validation Loss: 0.0005\n",
      "Improvement: 0.000525 -> 0.000524\n",
      "Saved best model from epoch 43 with validation loss: 0.000524\n"
     ]
    },
    {
     "name": "stderr",
     "output_type": "stream",
     "text": [
      "Processing Epoch 44: 100%|██████████| 1250/1250 [10:57<00:00,  1.90it/s, loss=0.316]\n"
     ]
    },
    {
     "name": "stdout",
     "output_type": "stream",
     "text": [
      "    SOURCE: if you are really lucky you may even end up getting to play the progressive jackpot making it one of the most exciting parts of the casino pay by mobile slot game\n",
      "    TARGET: u-m-a u-n-e-n-hlanhla ng-e-m-pela u-nga-qed-a ku-z-e ko-ku-thol-a uku-dlal-a jackot oku-qhubek-a-yo o-kw-enz-a ku-b-e o-muny-e i-zingxenye ejabulis-a ka-khulu w-e pay- ye-khasino m-ob-ile s-lot gam-e\n",
      " PREDICTED: u-m-a u-n-e-n-hlanhla ng-e-m-pela u-nga-s-e u-phel-e ngi-sho n-o-ku-thol-a uku-dlal-a oku-qhubek-a-yo kwe-grand jackot e-kw-enz-e-ni eny-e ye-zingxenye ezi-jabulis-a-yo ze-khasino e-ku-jabulel-e-ni u-m-dlalo we-khasino ng-o-m-dlalo we-s-elula\n",
      "    SOURCE: i had no choice but to ring the police\n",
      "    TARGET: ng-a-ngi-nge-na-ku-kheth-a ko-dwa uku-biz-a a-ma-phoyisa\n",
      " PREDICTED: a-ngi-zang-e ngi-kheth-e ko-dwa uku-b-a ngi-khal-e a-ma-phoyisa\n",
      "    SOURCE: for a team to work effectively it must be led by a leader as is the case during a work in group\n",
      "    TARGET: uku-z-e i-qembu li-sebenz-e ng-o-ku-phumelel-a-yo ku-fanel-e li-holw-a u-m-holi njengoba ku-njalo ng-e-si-khathi u-m-sebenzi we-qembu\n",
      " PREDICTED: ng-o-ku-b-a i-qembu lo-ku-sebenz-a ng-e-m-pumelelo ku-fanel-e li-holw-e u-m-holi njengoba i-cala ng-e-si-khathi so-m-sebenzi e-qenj-ini\n",
      "----------------------------------------------------------------------------------------------------\n",
      "Epoch 44 - Validation Loss: 0.0005\n",
      "Improvement: 0.000524 -> 0.000524\n",
      "Saved best model from epoch 44 with validation loss: 0.000524\n"
     ]
    },
    {
     "name": "stderr",
     "output_type": "stream",
     "text": [
      "Processing Epoch 45: 100%|██████████| 1250/1250 [10:57<00:00,  1.90it/s, loss=0.298]\n"
     ]
    },
    {
     "name": "stdout",
     "output_type": "stream",
     "text": [
      "    SOURCE: if you are really lucky you may even end up getting to play the progressive jackpot making it one of the most exciting parts of the casino pay by mobile slot game\n",
      "    TARGET: u-m-a u-n-e-n-hlanhla ng-e-m-pela u-nga-qed-a ku-z-e ko-ku-thol-a uku-dlal-a jackot oku-qhubek-a-yo o-kw-enz-a ku-b-e o-muny-e i-zingxenye ejabulis-a ka-khulu w-e pay- ye-khasino m-ob-ile s-lot gam-e\n",
      " PREDICTED: u-m-a u-n-e-n-hlanhla ng-e-m-pela u-nga-s-e u-gcin-e ngi-sho uku-thol-a uku-dlal-a i-grand post u-kw-enz-a lo-kho o-muny-e we-zingxenye ezi-jabulis-a-yo ze-khasino e-ya-thakazelis-a ka-khulu uku-khokh-a u-m-dlalo we-khasino\n",
      "    SOURCE: i had no choice but to ring the police\n",
      "    TARGET: ng-a-ngi-nge-na-ku-kheth-a ko-dwa uku-biz-a a-ma-phoyisa\n",
      " PREDICTED: a-ngi-zang-e ngi-kheth-e ko-dwa uku-khal-a kwa-ma-phoyisa\n",
      "    SOURCE: for a team to work effectively it must be led by a leader as is the case during a work in group\n",
      "    TARGET: uku-z-e i-qembu li-sebenz-e ng-o-ku-phumelel-a-yo ku-fanel-e li-holw-a u-m-holi njengoba ku-njalo ng-e-si-khathi u-m-sebenzi we-qembu\n",
      " PREDICTED: ng-o-ku-b-a i-qembu lo-ku-sebenz-a ng-e-m-pumelelo ku-fanel-e li-holw-e u-m-holi njengoba ku-njalo ng-e-si-khathi so-m-sebenzi e-qenj-ini\n",
      "----------------------------------------------------------------------------------------------------\n",
      "Epoch 45 - Validation Loss: 0.0005\n",
      "Improvement: 0.000524 -> 0.000523\n",
      "Saved best model from epoch 45 with validation loss: 0.000523\n"
     ]
    },
    {
     "name": "stderr",
     "output_type": "stream",
     "text": [
      "Processing Epoch 46: 100%|██████████| 1250/1250 [10:55<00:00,  1.91it/s, loss=0.307]\n"
     ]
    },
    {
     "name": "stdout",
     "output_type": "stream",
     "text": [
      "    SOURCE: if you are really lucky you may even end up getting to play the progressive jackpot making it one of the most exciting parts of the casino pay by mobile slot game\n",
      "    TARGET: u-m-a u-n-e-n-hlanhla ng-e-m-pela u-nga-qed-a ku-z-e ko-ku-thol-a uku-dlal-a jackot oku-qhubek-a-yo o-kw-enz-a ku-b-e o-muny-e i-zingxenye ejabulis-a ka-khulu w-e pay- ye-khasino m-ob-ile s-lot gam-e\n",
      " PREDICTED: u-m-a u-n-e-n-hlanhla ng-e-m-pela u-nga-s-e u-gcin-e ngi-sho uku-dlal-a i-grand jackot e-qhubek-a-yo u-kw-enz-a oku-ny-e i-zingxenye ezi-jabulis-a-yo ze-khasino e-nhle ka-khulu ye-khasino i-khokh-a u-m-dlalo we-s-evisi ya-s-e-s-elul-a\n",
      "    SOURCE: i had no choice but to ring the police\n",
      "    TARGET: ng-a-ngi-nge-na-ku-kheth-a ko-dwa uku-biz-a a-ma-phoyisa\n",
      " PREDICTED: a-ngi-zang-e ngi-kheth-e ko-dwa uku-khal-a kwa-ma-phoyisa\n",
      "    SOURCE: for a team to work effectively it must be led by a leader as is the case during a work in group\n",
      "    TARGET: uku-z-e i-qembu li-sebenz-e ng-o-ku-phumelel-a-yo ku-fanel-e li-holw-a u-m-holi njengoba ku-njalo ng-e-si-khathi u-m-sebenzi we-qembu\n",
      " PREDICTED: ng-o-ku-b-a i-qembu lo-ku-sebenz-a ng-e-m-pumelelo ku-fanel-e li-holw-e u-m-holi njengoba ku-njalo ng-e-si-khathi so-m-sebenzi e-qenj-ini\n",
      "----------------------------------------------------------------------------------------------------\n",
      "Epoch 46 - Validation Loss: 0.0005\n",
      "Improvement: 0.000523 -> 0.000522\n",
      "Saved best model from epoch 46 with validation loss: 0.000522\n"
     ]
    },
    {
     "name": "stderr",
     "output_type": "stream",
     "text": [
      "Processing Epoch 47: 100%|██████████| 1250/1250 [10:56<00:00,  1.90it/s, loss=0.298]\n"
     ]
    },
    {
     "name": "stdout",
     "output_type": "stream",
     "text": [
      "    SOURCE: if you are really lucky you may even end up getting to play the progressive jackpot making it one of the most exciting parts of the casino pay by mobile slot game\n",
      "    TARGET: u-m-a u-n-e-n-hlanhla ng-e-m-pela u-nga-qed-a ku-z-e ko-ku-thol-a uku-dlal-a jackot oku-qhubek-a-yo o-kw-enz-a ku-b-e o-muny-e i-zingxenye ejabulis-a ka-khulu w-e pay- ye-khasino m-ob-ile s-lot gam-e\n",
      " PREDICTED: u-m-a u-n-e-n-hlanhla ng-e-m-pela u-nga-s-e u-gcin-e ngi-sho uku-dlal-a i-grand jackot e-qhubek-a-yo u-kw-enz-a eny-e ye-zingxenye ezi-jabulis-a-yo ezi-jabulis-a-yo ze-khasino e-khokh-a i-m-pela ng-o-m-dlalo we-khasino\n",
      "    SOURCE: i had no choice but to ring the police\n",
      "    TARGET: ng-a-ngi-nge-na-ku-kheth-a ko-dwa uku-biz-a a-ma-phoyisa\n",
      " PREDICTED: a-ngi-zang-e ngi-kheth-e ko-dwa uku-khal-a kwa-ma-phoyisa\n",
      "    SOURCE: for a team to work effectively it must be led by a leader as is the case during a work in group\n",
      "    TARGET: uku-z-e i-qembu li-sebenz-e ng-o-ku-phumelel-a-yo ku-fanel-e li-holw-a u-m-holi njengoba ku-njalo ng-e-si-khathi u-m-sebenzi we-qembu\n",
      " PREDICTED: ng-o-ku-b-a i-qembu lo-ku-sebenz-a ng-e-m-pumelelo ku-mel-e li-holw-e u-m-holi njengoba ku-njalo ng-e-si-khathi so-m-sebenzi e-qenj-ini\n",
      "----------------------------------------------------------------------------------------------------\n",
      "Epoch 47 - Validation Loss: 0.0005\n",
      "Loss increased: 0.000522 -> 0.000523. Counter: 1/5\n"
     ]
    },
    {
     "name": "stderr",
     "output_type": "stream",
     "text": [
      "IOPub message rate exceeded.███████▋| 1208/1250 [10:35<00:21,  1.94it/s, loss=0.282]\n",
      "The Jupyter server will temporarily stop sending output\n",
      "to the client in order to avoid crashing it.\n",
      "To change this limit, set the config variable\n",
      "`--ServerApp.iopub_msg_rate_limit`.\n",
      "\n",
      "Current values:\n",
      "ServerApp.iopub_msg_rate_limit=1000.0 (msgs/sec)\n",
      "ServerApp.rate_limit_window=3.0 (secs)\n",
      "\n",
      "Processing Epoch 57: 100%|██████████| 1250/1250 [10:55<00:00,  1.91it/s, loss=0.270]\n"
     ]
    },
    {
     "name": "stdout",
     "output_type": "stream",
     "text": [
      "    SOURCE: if you are really lucky you may even end up getting to play the progressive jackpot making it one of the most exciting parts of the casino pay by mobile slot game\n",
      "    TARGET: u-m-a u-n-e-n-hlanhla ng-e-m-pela u-nga-qed-a ku-z-e ko-ku-thol-a uku-dlal-a jackot oku-qhubek-a-yo o-kw-enz-a ku-b-e o-muny-e i-zingxenye ejabulis-a ka-khulu w-e pay- ye-khasino m-ob-ile s-lot gam-e\n",
      " PREDICTED: u-m-a u-n-e-n-hlanhla ng-e-m-pela u-nga-s-e u-gcin-e ngi-sho n-o-ku-thol-a uku-dlal-a i-grand jackot e-qhubek-a-yo u-kw-enz-a i-zingxenye ezi-jabulis-a-yo ka-khulu ze-khasino e-khokh-a i-m-pela ng-o-m-dlalo we-s-elula\n",
      "    SOURCE: i had no choice but to ring the police\n",
      "    TARGET: ng-a-ngi-nge-na-ku-kheth-a ko-dwa uku-biz-a a-ma-phoyisa\n",
      " PREDICTED: a-ngi-zang-e ngi-kheth-e ko-dwa uku-khal-a kwa-ma-phoyisa\n",
      "    SOURCE: for a team to work effectively it must be led by a leader as is the case during a work in group\n",
      "    TARGET: uku-z-e i-qembu li-sebenz-e ng-o-ku-phumelel-a-yo ku-fanel-e li-holw-a u-m-holi njengoba ku-njalo ng-e-si-khathi u-m-sebenzi we-qembu\n",
      " PREDICTED: uku-z-e i-qembu lo-ku-sebenz-a ng-e-m-pumelelo ku-fanel-e li-holw-e u-m-holi njengoba ku-njalo ng-e-si-khathi so-m-sebenzi e-qenj-ini\n",
      "----------------------------------------------------------------------------------------------------\n",
      "Epoch 57 - Validation Loss: 0.0005\n",
      "Improvement: 0.000520 -> 0.000520\n",
      "Saved best model from epoch 57 with validation loss: 0.000520\n"
     ]
    },
    {
     "name": "stderr",
     "output_type": "stream",
     "text": [
      "Processing Epoch 58: 100%|██████████| 1250/1250 [10:57<00:00,  1.90it/s, loss=0.319]\n"
     ]
    },
    {
     "name": "stdout",
     "output_type": "stream",
     "text": [
      "    SOURCE: if you are really lucky you may even end up getting to play the progressive jackpot making it one of the most exciting parts of the casino pay by mobile slot game\n",
      "    TARGET: u-m-a u-n-e-n-hlanhla ng-e-m-pela u-nga-qed-a ku-z-e ko-ku-thol-a uku-dlal-a jackot oku-qhubek-a-yo o-kw-enz-a ku-b-e o-muny-e i-zingxenye ejabulis-a ka-khulu w-e pay- ye-khasino m-ob-ile s-lot gam-e\n",
      " PREDICTED: u-m-a u-n-e-n-hlanhla ng-e-m-pela u-nga-s-e u-gcin-e ngi-sho n-o-ku-thol-a uku-dlal-a i-grand jackot e-qhubek-a-yo u-kw-enz-a eny-e ye-zingxenye ezi-jabulis-a-yo ka-khulu ze-khasino a-khokh-e i-m-pela m-ob-ile s-lot o-f m-dlalo\n",
      "    SOURCE: i had no choice but to ring the police\n",
      "    TARGET: ng-a-ngi-nge-na-ku-kheth-a ko-dwa uku-biz-a a-ma-phoyisa\n",
      " PREDICTED: a-ngi-zang-e ngi-kheth-e ko-dwa uku-khal-a kwa-ma-phoyisa\n",
      "    SOURCE: for a team to work effectively it must be led by a leader as is the case during a work in group\n",
      "    TARGET: uku-z-e i-qembu li-sebenz-e ng-o-ku-phumelel-a-yo ku-fanel-e li-holw-a u-m-holi njengoba ku-njalo ng-e-si-khathi u-m-sebenzi we-qembu\n",
      " PREDICTED: ng-o-ku-b-a i-qembu lo-ku-sebenz-a ng-e-m-pumelelo ku-mel-e li-holw-e u-m-holi njengoba ku-njalo ng-e-si-khathi so-m-sebenzi e-qenj-ini\n",
      "----------------------------------------------------------------------------------------------------\n",
      "Epoch 58 - Validation Loss: 0.0005\n",
      "Improvement: 0.000520 -> 0.000520\n",
      "Saved best model from epoch 58 with validation loss: 0.000520\n"
     ]
    },
    {
     "name": "stderr",
     "output_type": "stream",
     "text": [
      "Processing Epoch 59: 100%|██████████| 1250/1250 [10:55<00:00,  1.91it/s, loss=0.290]\n"
     ]
    },
    {
     "name": "stdout",
     "output_type": "stream",
     "text": [
      "    SOURCE: if you are really lucky you may even end up getting to play the progressive jackpot making it one of the most exciting parts of the casino pay by mobile slot game\n",
      "    TARGET: u-m-a u-n-e-n-hlanhla ng-e-m-pela u-nga-qed-a ku-z-e ko-ku-thol-a uku-dlal-a jackot oku-qhubek-a-yo o-kw-enz-a ku-b-e o-muny-e i-zingxenye ejabulis-a ka-khulu w-e pay- ye-khasino m-ob-ile s-lot gam-e\n",
      " PREDICTED: u-m-a u-n-e-n-hlanhla ng-e-m-pela u-nga-s-e u-gcin-e ngi-sho uku-dlal-a i-grand jackot e-qhubek-a-yo u-kw-enz-a eny-e ye-zingxenye ezi-jabulis-a-yo ka-khulu ze-khasino i-khokh-a i-m-pela m-ob-ile s-lot o-f m-ob-ile\n",
      "    SOURCE: i had no choice but to ring the police\n",
      "    TARGET: ng-a-ngi-nge-na-ku-kheth-a ko-dwa uku-biz-a a-ma-phoyisa\n",
      " PREDICTED: a-ngi-zang-e ngi-kheth-e ko-dwa uku-khal-a kwa-ma-phoyisa\n",
      "    SOURCE: for a team to work effectively it must be led by a leader as is the case during a work in group\n",
      "    TARGET: uku-z-e i-qembu li-sebenz-e ng-o-ku-phumelel-a-yo ku-fanel-e li-holw-a u-m-holi njengoba ku-njalo ng-e-si-khathi u-m-sebenzi we-qembu\n",
      " PREDICTED: uku-z-e i-qembu lo-ku-sebenz-a ng-e-m-pumelelo ku-fanel-e li-holw-e ng-u-m-holi njengoba ku-njalo ng-e-si-khathi so-m-sebenzi e-qenj-ini\n",
      "----------------------------------------------------------------------------------------------------\n",
      "Epoch 59 - Validation Loss: 0.0005\n",
      "Improvement: 0.000520 -> 0.000519\n",
      "Saved best model from epoch 59 with validation loss: 0.000519\n"
     ]
    },
    {
     "name": "stderr",
     "output_type": "stream",
     "text": [
      "Processing Epoch 60: 100%|██████████| 1250/1250 [10:57<00:00,  1.90it/s, loss=0.292]\n"
     ]
    },
    {
     "name": "stdout",
     "output_type": "stream",
     "text": [
      "    SOURCE: if you are really lucky you may even end up getting to play the progressive jackpot making it one of the most exciting parts of the casino pay by mobile slot game\n",
      "    TARGET: u-m-a u-n-e-n-hlanhla ng-e-m-pela u-nga-qed-a ku-z-e ko-ku-thol-a uku-dlal-a jackot oku-qhubek-a-yo o-kw-enz-a ku-b-e o-muny-e i-zingxenye ejabulis-a ka-khulu w-e pay- ye-khasino m-ob-ile s-lot gam-e\n",
      " PREDICTED: u-m-a u-n-e-n-hlanhla ng-e-m-pela u-nga-s-e u-gcin-e ngi-sho n-o-ku-thol-a uku-dlal-a i-grand jackot e-qhubek-a-yo u-kw-enz-a lo-khu eny-e ye-zingxenye ezi-jabulis-a-yo ka-khulu ze-khasino i-khokh-a ng-o-m-dlalo we-s-elula\n",
      "    SOURCE: i had no choice but to ring the police\n",
      "    TARGET: ng-a-ngi-nge-na-ku-kheth-a ko-dwa uku-biz-a a-ma-phoyisa\n",
      " PREDICTED: a-ngi-zang-e ngi-kheth-e ko-dwa uku-khal-a kwa-ma-phoyisa\n",
      "    SOURCE: for a team to work effectively it must be led by a leader as is the case during a work in group\n",
      "    TARGET: uku-z-e i-qembu li-sebenz-e ng-o-ku-phumelel-a-yo ku-fanel-e li-holw-a u-m-holi njengoba ku-njalo ng-e-si-khathi u-m-sebenzi we-qembu\n",
      " PREDICTED: uku-z-e i-qembu lo-ku-sebenz-a ng-e-m-pumelelo ku-fanel-e li-holw-e u-m-holi njengoba ku-njalo ng-e-si-khathi so-m-sebenzi e-qenj-ini\n",
      "----------------------------------------------------------------------------------------------------\n",
      "Epoch 60 - Validation Loss: 0.0005\n",
      "Improvement: 0.000519 -> 0.000519\n",
      "Saved best model from epoch 60 with validation loss: 0.000519\n"
     ]
    },
    {
     "name": "stderr",
     "output_type": "stream",
     "text": [
      "Processing Epoch 61: 100%|██████████| 1250/1250 [10:57<00:00,  1.90it/s, loss=0.296]\n"
     ]
    },
    {
     "name": "stdout",
     "output_type": "stream",
     "text": [
      "    SOURCE: if you are really lucky you may even end up getting to play the progressive jackpot making it one of the most exciting parts of the casino pay by mobile slot game\n",
      "    TARGET: u-m-a u-n-e-n-hlanhla ng-e-m-pela u-nga-qed-a ku-z-e ko-ku-thol-a uku-dlal-a jackot oku-qhubek-a-yo o-kw-enz-a ku-b-e o-muny-e i-zingxenye ejabulis-a ka-khulu w-e pay- ye-khasino m-ob-ile s-lot gam-e\n",
      " PREDICTED: u-m-a u-n-e-n-hlanhla ng-e-m-pela u-nga-s-e u-gcin-e ngi-sho n-o-ku-thol-a uku-dlal-a i-grand jackot e-qhubek-a-yo u-kw-enz-a eny-e ye-zingxenye ezi-jabulis-a-yo ka-khulu ze-khasino e-khokh-a i-s-elul-a ng-o-m-dlalo we-s-elula\n",
      "    SOURCE: i had no choice but to ring the police\n",
      "    TARGET: ng-a-ngi-nge-na-ku-kheth-a ko-dwa uku-biz-a a-ma-phoyisa\n",
      " PREDICTED: a-ngi-zang-e ngi-kheth-e ko-dwa uku-khal-a kwa-ma-phoyisa\n",
      "    SOURCE: for a team to work effectively it must be led by a leader as is the case during a work in group\n",
      "    TARGET: uku-z-e i-qembu li-sebenz-e ng-o-ku-phumelel-a-yo ku-fanel-e li-holw-a u-m-holi njengoba ku-njalo ng-e-si-khathi u-m-sebenzi we-qembu\n",
      " PREDICTED: uku-z-e i-qembu lo-ku-sebenz-a ng-e-m-pumelelo ku-fanel-e li-holw-e u-m-holi njengoba ku-njalo ng-e-si-khathi so-m-sebenzi e-qenj-ini\n",
      "----------------------------------------------------------------------------------------------------\n",
      "Epoch 61 - Validation Loss: 0.0005\n",
      "Loss increased: 0.000519 -> 0.000519. Counter: 1/5\n"
     ]
    },
    {
     "name": "stderr",
     "output_type": "stream",
     "text": [
      "Processing Epoch 62: 100%|██████████| 1250/1250 [10:55<00:00,  1.91it/s, loss=0.283]\n"
     ]
    },
    {
     "name": "stdout",
     "output_type": "stream",
     "text": [
      "    SOURCE: if you are really lucky you may even end up getting to play the progressive jackpot making it one of the most exciting parts of the casino pay by mobile slot game\n",
      "    TARGET: u-m-a u-n-e-n-hlanhla ng-e-m-pela u-nga-qed-a ku-z-e ko-ku-thol-a uku-dlal-a jackot oku-qhubek-a-yo o-kw-enz-a ku-b-e o-muny-e i-zingxenye ejabulis-a ka-khulu w-e pay- ye-khasino m-ob-ile s-lot gam-e\n",
      " PREDICTED: u-m-a u-n-e-n-hlanhla ng-e-m-pela u-nga-s-e u-gcin-e ngi-sho n-o-ku-thol-a uku-dlal-a i-grand jackot e-qhubek-a-yo e-kw-enz-e-ni eny-e ye-zingxenye ezi-jabulis-a-yo ze-khasino e-khokh-a i-s-elul-a ng-o-m-dlalo s-lot o-f s-lot\n",
      "    SOURCE: i had no choice but to ring the police\n",
      "    TARGET: ng-a-ngi-nge-na-ku-kheth-a ko-dwa uku-biz-a a-ma-phoyisa\n",
      " PREDICTED: a-ngi-zang-e ngi-kheth-e ko-dwa uku-khal-a kwa-ma-phoyisa\n",
      "    SOURCE: for a team to work effectively it must be led by a leader as is the case during a work in group\n",
      "    TARGET: uku-z-e i-qembu li-sebenz-e ng-o-ku-phumelel-a-yo ku-fanel-e li-holw-a u-m-holi njengoba ku-njalo ng-e-si-khathi u-m-sebenzi we-qembu\n",
      " PREDICTED: uku-z-e i-qembu lo-ku-sebenz-a ng-e-m-pumelelo ku-fanel-e li-holw-e ng-u-m-holi njengoba ku-njalo ng-e-si-khathi so-m-sebenzi e-qenj-ini\n",
      "----------------------------------------------------------------------------------------------------\n",
      "Epoch 62 - Validation Loss: 0.0005\n",
      "Improvement: 0.000519 -> 0.000518\n",
      "Saved best model from epoch 62 with validation loss: 0.000518\n"
     ]
    },
    {
     "name": "stderr",
     "output_type": "stream",
     "text": [
      "Processing Epoch 63: 100%|██████████| 1250/1250 [10:55<00:00,  1.91it/s, loss=0.284]\n"
     ]
    },
    {
     "name": "stdout",
     "output_type": "stream",
     "text": [
      "    SOURCE: if you are really lucky you may even end up getting to play the progressive jackpot making it one of the most exciting parts of the casino pay by mobile slot game\n",
      "    TARGET: u-m-a u-n-e-n-hlanhla ng-e-m-pela u-nga-qed-a ku-z-e ko-ku-thol-a uku-dlal-a jackot oku-qhubek-a-yo o-kw-enz-a ku-b-e o-muny-e i-zingxenye ejabulis-a ka-khulu w-e pay- ye-khasino m-ob-ile s-lot gam-e\n",
      " PREDICTED: u-m-a u-n-e-n-hlanhla ng-e-m-pela u-nga-s-e u-gcin-e ngi-sho n-o-ku-thol-a uku-dlal-a i-grand jackot e-qhubek-a-yo u-kw-enz-a eny-e ye-zingxenye ezi-jabulis-a-yo ka-khulu ze-khasino i-khokh-a i-s-amb-a s-lot o-m-dlalo\n",
      "    SOURCE: i had no choice but to ring the police\n",
      "    TARGET: ng-a-ngi-nge-na-ku-kheth-a ko-dwa uku-biz-a a-ma-phoyisa\n",
      " PREDICTED: a-ngi-zang-e ngi-kheth-e ko-dwa uku-khal-a kwa-ma-phoyisa\n",
      "    SOURCE: for a team to work effectively it must be led by a leader as is the case during a work in group\n",
      "    TARGET: uku-z-e i-qembu li-sebenz-e ng-o-ku-phumelel-a-yo ku-fanel-e li-holw-a u-m-holi njengoba ku-njalo ng-e-si-khathi u-m-sebenzi we-qembu\n",
      " PREDICTED: uku-z-e i-qembu lo-ku-sebenz-a ng-e-m-pumelelo ku-fanel-e li-holw-e u-m-holi njengoba ku-njalo ng-e-si-khathi so-m-sebenzi e-qenj-ini\n",
      "----------------------------------------------------------------------------------------------------\n",
      "Epoch 63 - Validation Loss: 0.0005\n",
      "Loss increased: 0.000518 -> 0.000518. Counter: 1/5\n"
     ]
    },
    {
     "name": "stderr",
     "output_type": "stream",
     "text": [
      "Processing Epoch 64: 100%|██████████| 1250/1250 [10:56<00:00,  1.90it/s, loss=0.305]\n"
     ]
    },
    {
     "name": "stdout",
     "output_type": "stream",
     "text": [
      "    SOURCE: if you are really lucky you may even end up getting to play the progressive jackpot making it one of the most exciting parts of the casino pay by mobile slot game\n",
      "    TARGET: u-m-a u-n-e-n-hlanhla ng-e-m-pela u-nga-qed-a ku-z-e ko-ku-thol-a uku-dlal-a jackot oku-qhubek-a-yo o-kw-enz-a ku-b-e o-muny-e i-zingxenye ejabulis-a ka-khulu w-e pay- ye-khasino m-ob-ile s-lot gam-e\n",
      " PREDICTED: u-m-a u-n-e-n-hlanhla ng-e-m-pela u-nga-s-e u-gcin-e ngi-sho n-o-ku-thol-a uku-dlal-a i-grand jackot o-qhubek-a-yo u-kw-enz-a ng-e-nye ye-zingxenye ezi-jabulis-a-yo ka-khulu ze-khasino i-khokh-e i-s-amb-a se-m-pahla s-s-lot\n",
      "    SOURCE: i had no choice but to ring the police\n",
      "    TARGET: ng-a-ngi-nge-na-ku-kheth-a ko-dwa uku-biz-a a-ma-phoyisa\n",
      " PREDICTED: a-ngi-zang-e ngi-kheth-e ko-dwa uku-khal-a a-ma-phoyisa\n",
      "    SOURCE: for a team to work effectively it must be led by a leader as is the case during a work in group\n",
      "    TARGET: uku-z-e i-qembu li-sebenz-e ng-o-ku-phumelel-a-yo ku-fanel-e li-holw-a u-m-holi njengoba ku-njalo ng-e-si-khathi u-m-sebenzi we-qembu\n",
      " PREDICTED: uku-z-e i-qembu lo-ku-sebenz-a ng-e-m-pumelelo ku-fanel-e li-holw-e u-m-holi njengoba ku-njalo ng-e-si-khathi so-m-sebenzi e-qenj-ini\n",
      "----------------------------------------------------------------------------------------------------\n",
      "Epoch 64 - Validation Loss: 0.0005\n",
      "Improvement: 0.000518 -> 0.000518\n",
      "Saved best model from epoch 64 with validation loss: 0.000518\n"
     ]
    },
    {
     "name": "stderr",
     "output_type": "stream",
     "text": [
      "Processing Epoch 65: 100%|██████████| 1250/1250 [10:55<00:00,  1.91it/s, loss=0.278]\n"
     ]
    },
    {
     "name": "stdout",
     "output_type": "stream",
     "text": [
      "    SOURCE: if you are really lucky you may even end up getting to play the progressive jackpot making it one of the most exciting parts of the casino pay by mobile slot game\n",
      "    TARGET: u-m-a u-n-e-n-hlanhla ng-e-m-pela u-nga-qed-a ku-z-e ko-ku-thol-a uku-dlal-a jackot oku-qhubek-a-yo o-kw-enz-a ku-b-e o-muny-e i-zingxenye ejabulis-a ka-khulu w-e pay- ye-khasino m-ob-ile s-lot gam-e\n",
      " PREDICTED: u-m-a u-n-e-n-hlanhla ng-e-m-pela u-nga-s-e u-gcin-e ngi-sho n-o-ku-thol-a uku-dlal-a i-grand jackot e-qhubek-a-yo u-kw-enz-a ku-b-e ng-e-nye ye-zingxenye ezi-jabulis-a-yo ka-khulu ze-khasino i-khokh-e i-s-elul-a s-lot m-dlalo\n",
      "    SOURCE: i had no choice but to ring the police\n",
      "    TARGET: ng-a-ngi-nge-na-ku-kheth-a ko-dwa uku-biz-a a-ma-phoyisa\n",
      " PREDICTED: a-ngi-zang-e ngi-kheth-e ko-dwa uku-khal-a a-ma-phoyisa\n",
      "    SOURCE: for a team to work effectively it must be led by a leader as is the case during a work in group\n",
      "    TARGET: uku-z-e i-qembu li-sebenz-e ng-o-ku-phumelel-a-yo ku-fanel-e li-holw-a u-m-holi njengoba ku-njalo ng-e-si-khathi u-m-sebenzi we-qembu\n",
      " PREDICTED: uku-z-e i-qembu lo-ku-sebenz-a ng-e-m-pumelelo ku-mel-e li-holw-e ng-u-m-holi njengoba ku-njalo ng-e-si-khathi so-m-sebenzi e-qenj-ini\n",
      "----------------------------------------------------------------------------------------------------\n",
      "Epoch 65 - Validation Loss: 0.0005\n",
      "Loss increased: 0.000518 -> 0.000518. Counter: 1/5\n"
     ]
    },
    {
     "name": "stderr",
     "output_type": "stream",
     "text": [
      "Processing Epoch 66: 100%|██████████| 1250/1250 [10:55<00:00,  1.91it/s, loss=0.289]\n"
     ]
    },
    {
     "name": "stdout",
     "output_type": "stream",
     "text": [
      "    SOURCE: if you are really lucky you may even end up getting to play the progressive jackpot making it one of the most exciting parts of the casino pay by mobile slot game\n",
      "    TARGET: u-m-a u-n-e-n-hlanhla ng-e-m-pela u-nga-qed-a ku-z-e ko-ku-thol-a uku-dlal-a jackot oku-qhubek-a-yo o-kw-enz-a ku-b-e o-muny-e i-zingxenye ejabulis-a ka-khulu w-e pay- ye-khasino m-ob-ile s-lot gam-e\n",
      " PREDICTED: u-m-a u-n-e-n-hlanhla ng-e-m-pela u-nga-s-e u-gcin-e ngi-sho n-o-ku-thol-a uku-dlal-a i-grand jackot o-qhubek-a-yo u-kw-enz-a ku-b-e eny-e ye-zingxenye ezi-jabulis-a-yo ka-khulu ze-khasino e-khokh-a ng-o-m-dlalo we-s-elula\n",
      "    SOURCE: i had no choice but to ring the police\n",
      "    TARGET: ng-a-ngi-nge-na-ku-kheth-a ko-dwa uku-biz-a a-ma-phoyisa\n",
      " PREDICTED: a-ngi-zang-e ngi-kheth-e ko-dwa uku-khal-a kwa-ma-phoyisa\n",
      "    SOURCE: for a team to work effectively it must be led by a leader as is the case during a work in group\n",
      "    TARGET: uku-z-e i-qembu li-sebenz-e ng-o-ku-phumelel-a-yo ku-fanel-e li-holw-a u-m-holi njengoba ku-njalo ng-e-si-khathi u-m-sebenzi we-qembu\n",
      " PREDICTED: i-qembu lo-ku-sebenz-a ng-e-m-pumelelo ku-fanel-e li-holw-e u-m-holi njengoba ku-njalo ng-e-si-khathi so-m-sebenzi e-qenj-ini\n",
      "----------------------------------------------------------------------------------------------------\n",
      "Epoch 66 - Validation Loss: 0.0005\n",
      "Improvement: 0.000518 -> 0.000516\n",
      "Saved best model from epoch 66 with validation loss: 0.000516\n"
     ]
    },
    {
     "name": "stderr",
     "output_type": "stream",
     "text": [
      "Processing Epoch 67: 100%|██████████| 1250/1250 [10:56<00:00,  1.90it/s, loss=0.274]\n"
     ]
    },
    {
     "name": "stdout",
     "output_type": "stream",
     "text": [
      "    SOURCE: if you are really lucky you may even end up getting to play the progressive jackpot making it one of the most exciting parts of the casino pay by mobile slot game\n",
      "    TARGET: u-m-a u-n-e-n-hlanhla ng-e-m-pela u-nga-qed-a ku-z-e ko-ku-thol-a uku-dlal-a jackot oku-qhubek-a-yo o-kw-enz-a ku-b-e o-muny-e i-zingxenye ejabulis-a ka-khulu w-e pay- ye-khasino m-ob-ile s-lot gam-e\n",
      " PREDICTED: u-m-a u-n-e-n-hlanhla ng-e-m-pela u-nga-s-e u-gcin-e ngi-sho n-o-ku-thol-a uku-dlal-a i-grand jackot e-qhubek-a-yo u-kw-enz-a eny-e ye-zingxenye ezi-jabulis-a-yo ka-khulu ze-khasino a-khokh-e i-s-elula m-ob-ile\n",
      "    SOURCE: i had no choice but to ring the police\n",
      "    TARGET: ng-a-ngi-nge-na-ku-kheth-a ko-dwa uku-biz-a a-ma-phoyisa\n",
      " PREDICTED: a-ngi-zang-e ngi-kheth-e ko-dwa uku-khal-a a-ma-phoyisa\n",
      "    SOURCE: for a team to work effectively it must be led by a leader as is the case during a work in group\n",
      "    TARGET: uku-z-e i-qembu li-sebenz-e ng-o-ku-phumelel-a-yo ku-fanel-e li-holw-a u-m-holi njengoba ku-njalo ng-e-si-khathi u-m-sebenzi we-qembu\n",
      " PREDICTED: uku-z-e i-qembu lo-ku-sebenz-a ng-e-m-pumelelo ku-fanel-e li-holw-e ng-u-m-holi njengoba ku-njalo ng-e-si-khathi so-m-sebenzi e-qenj-ini\n",
      "----------------------------------------------------------------------------------------------------\n",
      "Epoch 67 - Validation Loss: 0.0005\n",
      "Loss increased: 0.000516 -> 0.000517. Counter: 1/5\n"
     ]
    },
    {
     "name": "stderr",
     "output_type": "stream",
     "text": [
      "Processing Epoch 68: 100%|██████████| 1250/1250 [10:57<00:00,  1.90it/s, loss=0.287]\n"
     ]
    },
    {
     "name": "stdout",
     "output_type": "stream",
     "text": [
      "    SOURCE: if you are really lucky you may even end up getting to play the progressive jackpot making it one of the most exciting parts of the casino pay by mobile slot game\n",
      "    TARGET: u-m-a u-n-e-n-hlanhla ng-e-m-pela u-nga-qed-a ku-z-e ko-ku-thol-a uku-dlal-a jackot oku-qhubek-a-yo o-kw-enz-a ku-b-e o-muny-e i-zingxenye ejabulis-a ka-khulu w-e pay- ye-khasino m-ob-ile s-lot gam-e\n",
      " PREDICTED: u-m-a u-n-e-n-hlanhla ng-e-m-pela u-nga-s-e u-gcin-e ngi-sho n-o-ku-thol-a uku-dlal-a i-jackot e-qhubek-a-yo u-kw-enz-a lo-khu eny-e ye-zingxenye ezi-jabulis-a-yo ka-khulu ze-khasino i-khokh-e i-s-elul-a ng-o-m-dlalo we-s-elula\n",
      "    SOURCE: i had no choice but to ring the police\n",
      "    TARGET: ng-a-ngi-nge-na-ku-kheth-a ko-dwa uku-biz-a a-ma-phoyisa\n",
      " PREDICTED: a-ngi-zang-e ngi-kheth-e ko-dwa uku-khal-a a-ma-phoyisa\n",
      "    SOURCE: for a team to work effectively it must be led by a leader as is the case during a work in group\n",
      "    TARGET: uku-z-e i-qembu li-sebenz-e ng-o-ku-phumelel-a-yo ku-fanel-e li-holw-a u-m-holi njengoba ku-njalo ng-e-si-khathi u-m-sebenzi we-qembu\n",
      " PREDICTED: uku-z-e i-qembu lo-ku-sebenz-a ng-e-m-pumelelo ku-fanel-e li-holw-e ng-u-m-holi njengoba ku-njalo ng-e-si-khathi so-m-sebenzi e-qenj-ini\n",
      "----------------------------------------------------------------------------------------------------\n",
      "Epoch 68 - Validation Loss: 0.0005\n",
      "Loss increased: 0.000516 -> 0.000517. Counter: 2/5\n"
     ]
    },
    {
     "name": "stderr",
     "output_type": "stream",
     "text": [
      "Processing Epoch 69: 100%|██████████| 1250/1250 [10:57<00:00,  1.90it/s, loss=0.272]\n"
     ]
    },
    {
     "name": "stdout",
     "output_type": "stream",
     "text": [
      "    SOURCE: if you are really lucky you may even end up getting to play the progressive jackpot making it one of the most exciting parts of the casino pay by mobile slot game\n",
      "    TARGET: u-m-a u-n-e-n-hlanhla ng-e-m-pela u-nga-qed-a ku-z-e ko-ku-thol-a uku-dlal-a jackot oku-qhubek-a-yo o-kw-enz-a ku-b-e o-muny-e i-zingxenye ejabulis-a ka-khulu w-e pay- ye-khasino m-ob-ile s-lot gam-e\n",
      " PREDICTED: u-m-a u-n-e-n-hlanhla ng-e-m-pela u-nga-s-e u-gcin-e ngi-sho n-o-ku-thol-a uku-dlal-a i-grand jackot e-qhubek-a-yo u-kw-enz-a eny-e ye-zingxenye ezi-jabulis-a-yo ka-khulu ze-khasino a-khokh-e s-s-lot o-m-dlalo\n",
      "    SOURCE: i had no choice but to ring the police\n",
      "    TARGET: ng-a-ngi-nge-na-ku-kheth-a ko-dwa uku-biz-a a-ma-phoyisa\n",
      " PREDICTED: a-ngi-zang-e ngi-kheth-e ko-dwa uku-khal-a a-ma-phoyisa\n",
      "    SOURCE: for a team to work effectively it must be led by a leader as is the case during a work in group\n",
      "    TARGET: uku-z-e i-qembu li-sebenz-e ng-o-ku-phumelel-a-yo ku-fanel-e li-holw-a u-m-holi njengoba ku-njalo ng-e-si-khathi u-m-sebenzi we-qembu\n",
      " PREDICTED: uku-z-e i-qembu lo-ku-sebenz-a ng-e-m-pumelelo ku-fanel-e li-holw-e u-m-holi njengoba ku-njalo ng-e-si-khathi so-m-sebenzi e-qenj-ini\n",
      "----------------------------------------------------------------------------------------------------\n",
      "Epoch 69 - Validation Loss: 0.0005\n",
      "Loss increased: 0.000516 -> 0.000517. Counter: 3/5\n"
     ]
    },
    {
     "name": "stderr",
     "output_type": "stream",
     "text": [
      "Processing Epoch 70: 100%|██████████| 1250/1250 [10:55<00:00,  1.91it/s, loss=0.283]\n"
     ]
    },
    {
     "name": "stdout",
     "output_type": "stream",
     "text": [
      "    SOURCE: if you are really lucky you may even end up getting to play the progressive jackpot making it one of the most exciting parts of the casino pay by mobile slot game\n",
      "    TARGET: u-m-a u-n-e-n-hlanhla ng-e-m-pela u-nga-qed-a ku-z-e ko-ku-thol-a uku-dlal-a jackot oku-qhubek-a-yo o-kw-enz-a ku-b-e o-muny-e i-zingxenye ejabulis-a ka-khulu w-e pay- ye-khasino m-ob-ile s-lot gam-e\n",
      " PREDICTED: u-m-a u-n-e-n-hlanhla ng-e-m-pela u-nga-s-e u-gcin-e ngi-sho n-o-ku-thol-a uku-dlal-a i-grand jackot e-qhubek-a-yo u-kw-enz-a lo-khu eny-e ye-zingxenye ezi-jabulis-a-yo ka-khulu ze-khasino a-khokh-e i-s s-lot o-m-dlalo\n",
      "    SOURCE: i had no choice but to ring the police\n",
      "    TARGET: ng-a-ngi-nge-na-ku-kheth-a ko-dwa uku-biz-a a-ma-phoyisa\n",
      " PREDICTED: a-ngi-zang-e ngi-kheth-e ko-dwa uku-khal-a a-ma-phoyisa\n",
      "    SOURCE: for a team to work effectively it must be led by a leader as is the case during a work in group\n",
      "    TARGET: uku-z-e i-qembu li-sebenz-e ng-o-ku-phumelel-a-yo ku-fanel-e li-holw-a u-m-holi njengoba ku-njalo ng-e-si-khathi u-m-sebenzi we-qembu\n",
      " PREDICTED: uku-z-e i-qembu lo-ku-sebenz-a ng-e-m-pumelelo ku-fanel-e li-holw-e ng-u-m-holi njengoba ku-njalo ng-e-si-khathi so-m-sebenzi e-qenj-ini\n",
      "----------------------------------------------------------------------------------------------------\n",
      "Epoch 70 - Validation Loss: 0.0005\n",
      "Improvement: 0.000516 -> 0.000516\n",
      "Saved best model from epoch 70 with validation loss: 0.000516\n"
     ]
    },
    {
     "name": "stderr",
     "output_type": "stream",
     "text": [
      "Processing Epoch 71: 100%|██████████| 1250/1250 [10:55<00:00,  1.91it/s, loss=0.288]\n"
     ]
    },
    {
     "name": "stdout",
     "output_type": "stream",
     "text": [
      "    SOURCE: if you are really lucky you may even end up getting to play the progressive jackpot making it one of the most exciting parts of the casino pay by mobile slot game\n",
      "    TARGET: u-m-a u-n-e-n-hlanhla ng-e-m-pela u-nga-qed-a ku-z-e ko-ku-thol-a uku-dlal-a jackot oku-qhubek-a-yo o-kw-enz-a ku-b-e o-muny-e i-zingxenye ejabulis-a ka-khulu w-e pay- ye-khasino m-ob-ile s-lot gam-e\n",
      " PREDICTED: u-m-a u-n-e-n-hlanhla ng-e-m-pela u-nga-s-e u-gcin-e ngi-sho n-o-ku-thol-a uku-dlal-a i-grand jackot e-qhubek-a-yo u-kw-enz-a lo-kho o-muny-e we-zingxenye ezi-jabulis-a-yo ka-khulu ze-khasino a-khokh-e i-s s-lot m-ob-ile\n",
      "    SOURCE: i had no choice but to ring the police\n",
      "    TARGET: ng-a-ngi-nge-na-ku-kheth-a ko-dwa uku-biz-a a-ma-phoyisa\n",
      " PREDICTED: a-ngi-zang-e ngi-kheth-e ko-dwa uku-khal-a a-ma-phoyisa\n",
      "    SOURCE: for a team to work effectively it must be led by a leader as is the case during a work in group\n",
      "    TARGET: uku-z-e i-qembu li-sebenz-e ng-o-ku-phumelel-a-yo ku-fanel-e li-holw-a u-m-holi njengoba ku-njalo ng-e-si-khathi u-m-sebenzi we-qembu\n",
      " PREDICTED: uku-z-e i-qembu lo-ku-sebenz-a ng-e-m-pumelelo ku-fanel-e li-holw-e ng-u-m-holi njengoba ku-njalo ng-e-si-khathi so-m-sebenzi e-qenj-ini\n",
      "----------------------------------------------------------------------------------------------------\n",
      "Epoch 71 - Validation Loss: 0.0005\n",
      "Improvement: 0.000516 -> 0.000515\n",
      "Saved best model from epoch 71 with validation loss: 0.000515\n"
     ]
    },
    {
     "name": "stderr",
     "output_type": "stream",
     "text": [
      "Processing Epoch 72: 100%|██████████| 1250/1250 [10:57<00:00,  1.90it/s, loss=0.258]\n"
     ]
    },
    {
     "name": "stdout",
     "output_type": "stream",
     "text": [
      "    SOURCE: if you are really lucky you may even end up getting to play the progressive jackpot making it one of the most exciting parts of the casino pay by mobile slot game\n",
      "    TARGET: u-m-a u-n-e-n-hlanhla ng-e-m-pela u-nga-qed-a ku-z-e ko-ku-thol-a uku-dlal-a jackot oku-qhubek-a-yo o-kw-enz-a ku-b-e o-muny-e i-zingxenye ejabulis-a ka-khulu w-e pay- ye-khasino m-ob-ile s-lot gam-e\n",
      " PREDICTED: u-m-a u-n-e-n-hlanhla ng-e-m-pela u-nga-s-e u-gcin-e ngi-sho n-o-ku-thol-a uku-dlal-a i-grand jackot e-qhubek-a-yo u-kw-enz-a eny-e ye-zingxenye ezi-jabulis-a-yo ka-khulu ze-khasino i-khokh-e i-s-lot o-m-dlalo\n",
      "    SOURCE: i had no choice but to ring the police\n",
      "    TARGET: ng-a-ngi-nge-na-ku-kheth-a ko-dwa uku-biz-a a-ma-phoyisa\n",
      " PREDICTED: a-ngi-zang-e ngi-kheth-e ko-dwa uku-khal-a a-ma-phoyisa\n",
      "    SOURCE: for a team to work effectively it must be led by a leader as is the case during a work in group\n",
      "    TARGET: uku-z-e i-qembu li-sebenz-e ng-o-ku-phumelel-a-yo ku-fanel-e li-holw-a u-m-holi njengoba ku-njalo ng-e-si-khathi u-m-sebenzi we-qembu\n",
      " PREDICTED: uku-z-e i-qembu lo-ku-sebenz-a ng-e-m-pumelelo ku-fanel-e li-holw-e ng-u-m-holi njengoba ku-njalo ng-e-si-khathi so-m-sebenzi e-qenj-ini\n",
      "----------------------------------------------------------------------------------------------------\n",
      "Epoch 72 - Validation Loss: 0.0005\n",
      "Loss increased: 0.000515 -> 0.000516. Counter: 1/5\n"
     ]
    },
    {
     "name": "stderr",
     "output_type": "stream",
     "text": [
      "Processing Epoch 73: 100%|██████████| 1250/1250 [10:57<00:00,  1.90it/s, loss=0.297]\n"
     ]
    },
    {
     "name": "stdout",
     "output_type": "stream",
     "text": [
      "    SOURCE: if you are really lucky you may even end up getting to play the progressive jackpot making it one of the most exciting parts of the casino pay by mobile slot game\n",
      "    TARGET: u-m-a u-n-e-n-hlanhla ng-e-m-pela u-nga-qed-a ku-z-e ko-ku-thol-a uku-dlal-a jackot oku-qhubek-a-yo o-kw-enz-a ku-b-e o-muny-e i-zingxenye ejabulis-a ka-khulu w-e pay- ye-khasino m-ob-ile s-lot gam-e\n",
      " PREDICTED: u-m-a u-n-e-n-hlanhla ng-e-m-pela u-nga-s-e u-gcin-e ngi-sho n-o-ku-thol-a uku-dlal-a i-jackot e-qhubek-a-yo u-kw-enz-a lo-khu oku-thakazelis-a-yo ka-khulu kwe-khasino i-khokh-e i-s-lot m-ob s-lot o-f m-dlalo\n",
      "    SOURCE: i had no choice but to ring the police\n",
      "    TARGET: ng-a-ngi-nge-na-ku-kheth-a ko-dwa uku-biz-a a-ma-phoyisa\n",
      " PREDICTED: a-ngi-zang-e ngi-kheth-e ko-dwa uku-khal-a a-ma-phoyisa\n",
      "    SOURCE: for a team to work effectively it must be led by a leader as is the case during a work in group\n",
      "    TARGET: uku-z-e i-qembu li-sebenz-e ng-o-ku-phumelel-a-yo ku-fanel-e li-holw-a u-m-holi njengoba ku-njalo ng-e-si-khathi u-m-sebenzi we-qembu\n",
      " PREDICTED: uku-z-e i-qembu lo-ku-sebenz-a ng-e-m-pumelelo ku-fanel-e li-holw-e ng-u-m-holi njengoba ku-njalo ng-e-si-khathi so-m-sebenzi e-qenj-ini\n",
      "----------------------------------------------------------------------------------------------------\n",
      "Epoch 73 - Validation Loss: 0.0005\n",
      "Loss increased: 0.000515 -> 0.000515. Counter: 2/5\n"
     ]
    },
    {
     "name": "stderr",
     "output_type": "stream",
     "text": [
      "Processing Epoch 74: 100%|██████████| 1250/1250 [10:56<00:00,  1.90it/s, loss=0.282]\n"
     ]
    },
    {
     "name": "stdout",
     "output_type": "stream",
     "text": [
      "    SOURCE: if you are really lucky you may even end up getting to play the progressive jackpot making it one of the most exciting parts of the casino pay by mobile slot game\n",
      "    TARGET: u-m-a u-n-e-n-hlanhla ng-e-m-pela u-nga-qed-a ku-z-e ko-ku-thol-a uku-dlal-a jackot oku-qhubek-a-yo o-kw-enz-a ku-b-e o-muny-e i-zingxenye ejabulis-a ka-khulu w-e pay- ye-khasino m-ob-ile s-lot gam-e\n",
      " PREDICTED: u-m-a u-n-e-n-hlanhla ng-e-m-pela u-nga-s-e u-gcin-e ngi-sho n-o-ku-thol-a uku-dlal-a i-grand jackot e-qhubek-a-yo u-kw-enz-a lo-khu kwe-zingxenye ezi-jabulis-a-yo ka-khulu ze-khasino a-khokh-e i-s-lot o-f m-ob-ile\n",
      "    SOURCE: i had no choice but to ring the police\n",
      "    TARGET: ng-a-ngi-nge-na-ku-kheth-a ko-dwa uku-biz-a a-ma-phoyisa\n",
      " PREDICTED: a-ngi-zang-e ngi-kheth-e ko-dwa uku-khal-a a-ma-phoyisa\n",
      "    SOURCE: for a team to work effectively it must be led by a leader as is the case during a work in group\n",
      "    TARGET: uku-z-e i-qembu li-sebenz-e ng-o-ku-phumelel-a-yo ku-fanel-e li-holw-a u-m-holi njengoba ku-njalo ng-e-si-khathi u-m-sebenzi we-qembu\n",
      " PREDICTED: uku-z-e i-qembu lo-ku-sebenz-a ng-e-m-pumelelo ku-fanel-e li-holw-e ng-u-m-holi njengoba ku-njalo ng-e-si-khathi so-m-sebenzi e-qenj-ini\n",
      "----------------------------------------------------------------------------------------------------\n",
      "Epoch 74 - Validation Loss: 0.0005\n",
      "Improvement: 0.000515 -> 0.000515\n",
      "Saved best model from epoch 74 with validation loss: 0.000515\n"
     ]
    },
    {
     "name": "stderr",
     "output_type": "stream",
     "text": [
      "Processing Epoch 75: 100%|██████████| 1250/1250 [10:53<00:00,  1.91it/s, loss=0.271]\n"
     ]
    },
    {
     "name": "stdout",
     "output_type": "stream",
     "text": [
      "    SOURCE: if you are really lucky you may even end up getting to play the progressive jackpot making it one of the most exciting parts of the casino pay by mobile slot game\n",
      "    TARGET: u-m-a u-n-e-n-hlanhla ng-e-m-pela u-nga-qed-a ku-z-e ko-ku-thol-a uku-dlal-a jackot oku-qhubek-a-yo o-kw-enz-a ku-b-e o-muny-e i-zingxenye ejabulis-a ka-khulu w-e pay- ye-khasino m-ob-ile s-lot gam-e\n",
      " PREDICTED: u-m-a u-n-e-n-hlanhla ng-e-m-pela u-nga-s-e u-gcin-e ngi-sho n-o-ku-thol-a uku-dlal-a i-grand jackot esi-qhubek-a-yo u-kw-enz-a ku-b-e ng-e-nye ye-zingxenye ezi-jabulis-a-yo ka-khulu ze-khasino uku-khokh-a i-s-elul-a s-lot m-dlalo\n",
      "    SOURCE: i had no choice but to ring the police\n",
      "    TARGET: ng-a-ngi-nge-na-ku-kheth-a ko-dwa uku-biz-a a-ma-phoyisa\n",
      " PREDICTED: a-ngi-zang-e ngi-kheth-e ko-dwa uku-khal-a a-ma-phoyisa\n",
      "    SOURCE: for a team to work effectively it must be led by a leader as is the case during a work in group\n",
      "    TARGET: uku-z-e i-qembu li-sebenz-e ng-o-ku-phumelel-a-yo ku-fanel-e li-holw-a u-m-holi njengoba ku-njalo ng-e-si-khathi u-m-sebenzi we-qembu\n",
      " PREDICTED: uku-z-e i-qembu lo-ku-sebenz-a ng-e-m-pumelelo ku-fanel-e li-holw-e ng-u-m-holi njengoba ku-njalo ng-e-si-khathi so-m-sebenzi e-qenj-ini\n",
      "----------------------------------------------------------------------------------------------------\n",
      "Epoch 75 - Validation Loss: 0.0005\n",
      "Loss increased: 0.000515 -> 0.000515. Counter: 1/5\n"
     ]
    },
    {
     "name": "stderr",
     "output_type": "stream",
     "text": [
      "Processing Epoch 76: 100%|██████████| 1250/1250 [10:56<00:00,  1.90it/s, loss=0.266]\n"
     ]
    },
    {
     "name": "stdout",
     "output_type": "stream",
     "text": [
      "    SOURCE: if you are really lucky you may even end up getting to play the progressive jackpot making it one of the most exciting parts of the casino pay by mobile slot game\n",
      "    TARGET: u-m-a u-n-e-n-hlanhla ng-e-m-pela u-nga-qed-a ku-z-e ko-ku-thol-a uku-dlal-a jackot oku-qhubek-a-yo o-kw-enz-a ku-b-e o-muny-e i-zingxenye ejabulis-a ka-khulu w-e pay- ye-khasino m-ob-ile s-lot gam-e\n",
      " PREDICTED: u-m-a u-n-e-n-hlanhla ng-e-m-pela u-nga-s-e u-gcin-e ngi-sho n-o-ku-thol-a uku-dlal-a i-grand jackot o-qhubek-a-yo u-kw-enz-a ku-b-e ng-e-nye ye-zingxenye ezi-jabulis-a-yo ka-khulu ze-khasino uku-khokh-a i-s-elul-a s-lot m-dlalo\n",
      "    SOURCE: i had no choice but to ring the police\n",
      "    TARGET: ng-a-ngi-nge-na-ku-kheth-a ko-dwa uku-biz-a a-ma-phoyisa\n",
      " PREDICTED: a-ngi-zang-e ngi-kheth-e ko-dwa uku-khal-a a-ma-phoyisa\n",
      "    SOURCE: for a team to work effectively it must be led by a leader as is the case during a work in group\n",
      "    TARGET: uku-z-e i-qembu li-sebenz-e ng-o-ku-phumelel-a-yo ku-fanel-e li-holw-a u-m-holi njengoba ku-njalo ng-e-si-khathi u-m-sebenzi we-qembu\n",
      " PREDICTED: uku-z-e i-qembu lo-ku-sebenz-a ng-e-m-pumelelo ku-fanel-e li-holw-e u-m-holi njengoba ku-njalo ng-e-si-khathi so-m-sebenzi e-qenj-ini\n",
      "----------------------------------------------------------------------------------------------------\n",
      "Epoch 76 - Validation Loss: 0.0005\n",
      "Improvement: 0.000515 -> 0.000515\n",
      "Saved best model from epoch 76 with validation loss: 0.000515\n"
     ]
    },
    {
     "name": "stderr",
     "output_type": "stream",
     "text": [
      "Processing Epoch 77: 100%|██████████| 1250/1250 [10:55<00:00,  1.91it/s, loss=0.285]\n"
     ]
    },
    {
     "name": "stdout",
     "output_type": "stream",
     "text": [
      "    SOURCE: if you are really lucky you may even end up getting to play the progressive jackpot making it one of the most exciting parts of the casino pay by mobile slot game\n",
      "    TARGET: u-m-a u-n-e-n-hlanhla ng-e-m-pela u-nga-qed-a ku-z-e ko-ku-thol-a uku-dlal-a jackot oku-qhubek-a-yo o-kw-enz-a ku-b-e o-muny-e i-zingxenye ejabulis-a ka-khulu w-e pay- ye-khasino m-ob-ile s-lot gam-e\n",
      " PREDICTED: u-m-a u-n-e-n-hlanhla ng-e-m-pela u-nga-s-e u-gcin-e ngi-sho n-o-ku-thol-a uku-dlal-a i-grand jackot e-qhubek-a-yo u-kw-enz-a ku-b-e eny-e ye-zingxenye ezi-jabulis-a-yo ka-khulu ze-khasino uku-khokh-a i-s-amb-a se-s-lot m-ob-ile\n",
      "    SOURCE: i had no choice but to ring the police\n",
      "    TARGET: ng-a-ngi-nge-na-ku-kheth-a ko-dwa uku-biz-a a-ma-phoyisa\n",
      " PREDICTED: a-ngi-zang-e ngi-kheth-e ko-dwa uku-khal-a a-ma-phoyisa\n",
      "    SOURCE: for a team to work effectively it must be led by a leader as is the case during a work in group\n",
      "    TARGET: uku-z-e i-qembu li-sebenz-e ng-o-ku-phumelel-a-yo ku-fanel-e li-holw-a u-m-holi njengoba ku-njalo ng-e-si-khathi u-m-sebenzi we-qembu\n",
      " PREDICTED: uku-z-e i-qembu lo-ku-sebenz-a ng-e-m-pumelelo ku-mel-e li-holw-e u-m-holi njengoba ku-njalo ng-e-si-khathi so-m-sebenzi e-qenj-ini\n",
      "----------------------------------------------------------------------------------------------------\n",
      "Epoch 77 - Validation Loss: 0.0005\n",
      "Improvement: 0.000515 -> 0.000514\n",
      "Saved best model from epoch 77 with validation loss: 0.000514\n"
     ]
    },
    {
     "name": "stderr",
     "output_type": "stream",
     "text": [
      "Processing Epoch 78: 100%|██████████| 1250/1250 [10:55<00:00,  1.91it/s, loss=0.275]\n"
     ]
    },
    {
     "name": "stdout",
     "output_type": "stream",
     "text": [
      "    SOURCE: if you are really lucky you may even end up getting to play the progressive jackpot making it one of the most exciting parts of the casino pay by mobile slot game\n",
      "    TARGET: u-m-a u-n-e-n-hlanhla ng-e-m-pela u-nga-qed-a ku-z-e ko-ku-thol-a uku-dlal-a jackot oku-qhubek-a-yo o-kw-enz-a ku-b-e o-muny-e i-zingxenye ejabulis-a ka-khulu w-e pay- ye-khasino m-ob-ile s-lot gam-e\n",
      " PREDICTED: u-m-a u-n-e-n-hlanhla ng-e-m-pela u-nga-s-e u-gcin-e ngi-sho n-o-ku-thol-a uku-dlal-a i-grand jackot e-qhubek-a-yo u-kw-enz-a ku-b-e eny-e ye-zingxenye ezi-jabulis-a-yo ka-khulu ze-khasino uku-khokh-a i-s-lot m-ob-ile\n",
      "    SOURCE: i had no choice but to ring the police\n",
      "    TARGET: ng-a-ngi-nge-na-ku-kheth-a ko-dwa uku-biz-a a-ma-phoyisa\n",
      " PREDICTED: a-ngi-zang-e ngi-kheth-e ko-dwa uku-khal-a a-ma-phoyisa\n",
      "    SOURCE: for a team to work effectively it must be led by a leader as is the case during a work in group\n",
      "    TARGET: uku-z-e i-qembu li-sebenz-e ng-o-ku-phumelel-a-yo ku-fanel-e li-holw-a u-m-holi njengoba ku-njalo ng-e-si-khathi u-m-sebenzi we-qembu\n",
      " PREDICTED: uku-z-e i-qembu lo-ku-sebenz-a ng-e-m-pumelelo ku-fanel-e li-holw-e u-m-holi njengoba ku-njalo ng-e-si-khathi so-m-sebenzi e-qenj-ini\n",
      "----------------------------------------------------------------------------------------------------\n",
      "Epoch 78 - Validation Loss: 0.0005\n",
      "Loss increased: 0.000514 -> 0.000515. Counter: 1/5\n"
     ]
    },
    {
     "name": "stderr",
     "output_type": "stream",
     "text": [
      "Processing Epoch 79: 100%|██████████| 1250/1250 [10:55<00:00,  1.91it/s, loss=0.283]\n"
     ]
    },
    {
     "name": "stdout",
     "output_type": "stream",
     "text": [
      "    SOURCE: if you are really lucky you may even end up getting to play the progressive jackpot making it one of the most exciting parts of the casino pay by mobile slot game\n",
      "    TARGET: u-m-a u-n-e-n-hlanhla ng-e-m-pela u-nga-qed-a ku-z-e ko-ku-thol-a uku-dlal-a jackot oku-qhubek-a-yo o-kw-enz-a ku-b-e o-muny-e i-zingxenye ejabulis-a ka-khulu w-e pay- ye-khasino m-ob-ile s-lot gam-e\n",
      " PREDICTED: u-m-a u-n-e-n-hlanhla ng-e-m-pela u-nga-s-e u-gcin-e ngi-sho n-o-ku-thol-a uku-dlal-a i-grand jackot e-qhubek-a-yo u-kw-enz-a ku-b-e ng-e-nye ye-zingxenye ezi-jabulis-a-yo ka-khulu ze-khasino uku-khokh-a i-s-elula s-lot m-dlalo\n",
      "    SOURCE: i had no choice but to ring the police\n",
      "    TARGET: ng-a-ngi-nge-na-ku-kheth-a ko-dwa uku-biz-a a-ma-phoyisa\n",
      " PREDICTED: a-ngi-zang-e ngi-kheth-e ko-dwa uku-khal-a a-ma-phoyisa\n",
      "    SOURCE: for a team to work effectively it must be led by a leader as is the case during a work in group\n",
      "    TARGET: uku-z-e i-qembu li-sebenz-e ng-o-ku-phumelel-a-yo ku-fanel-e li-holw-a u-m-holi njengoba ku-njalo ng-e-si-khathi u-m-sebenzi we-qembu\n",
      " PREDICTED: uku-z-e i-qembu lo-ku-sebenz-a ng-e-m-pumelelo ku-fanel-e li-holw-e u-m-holi njengoba ku-njalo ng-e-si-khathi so-m-sebenzi e-qenj-ini\n",
      "----------------------------------------------------------------------------------------------------\n",
      "Epoch 79 - Validation Loss: 0.0005\n",
      "Loss increased: 0.000514 -> 0.000515. Counter: 2/5\n"
     ]
    },
    {
     "name": "stderr",
     "output_type": "stream",
     "text": [
      "Processing Epoch 80: 100%|██████████| 1250/1250 [10:57<00:00,  1.90it/s, loss=0.296]\n"
     ]
    },
    {
     "name": "stdout",
     "output_type": "stream",
     "text": [
      "    SOURCE: if you are really lucky you may even end up getting to play the progressive jackpot making it one of the most exciting parts of the casino pay by mobile slot game\n",
      "    TARGET: u-m-a u-n-e-n-hlanhla ng-e-m-pela u-nga-qed-a ku-z-e ko-ku-thol-a uku-dlal-a jackot oku-qhubek-a-yo o-kw-enz-a ku-b-e o-muny-e i-zingxenye ejabulis-a ka-khulu w-e pay- ye-khasino m-ob-ile s-lot gam-e\n",
      " PREDICTED: u-m-a u-n-e-n-hlanhla ng-e-m-pela u-nga-s-e u-gcin-e ngi-sho n-o-ku-thol-a uku-dlal-a i-grand jackot e-qhubek-a-yo u-kw-enz-a lo-khu ng-e-nye ye-zingxenye ezi-jabulis-a-yo ka-khulu ze-khasino a-khokh-e i-s s-lot m-ob\n",
      "    SOURCE: i had no choice but to ring the police\n",
      "    TARGET: ng-a-ngi-nge-na-ku-kheth-a ko-dwa uku-biz-a a-ma-phoyisa\n",
      " PREDICTED: a-ngi-zang-e ngi-kheth-e ko-dwa uku-khal-a a-ma-phoyisa\n",
      "    SOURCE: for a team to work effectively it must be led by a leader as is the case during a work in group\n",
      "    TARGET: uku-z-e i-qembu li-sebenz-e ng-o-ku-phumelel-a-yo ku-fanel-e li-holw-a u-m-holi njengoba ku-njalo ng-e-si-khathi u-m-sebenzi we-qembu\n",
      " PREDICTED: uku-z-e i-qembu lo-ku-sebenz-a ng-e-m-pumelelo ku-fanel-e li-holw-e u-m-holi njengoba ku-njalo ng-e-si-khathi so-m-sebenzi e-qenj-ini\n",
      "----------------------------------------------------------------------------------------------------\n",
      "Epoch 80 - Validation Loss: 0.0005\n",
      "Loss increased: 0.000514 -> 0.000515. Counter: 3/5\n"
     ]
    },
    {
     "name": "stderr",
     "output_type": "stream",
     "text": [
      "Processing Epoch 81: 100%|██████████| 1250/1250 [10:55<00:00,  1.91it/s, loss=0.281]\n"
     ]
    },
    {
     "name": "stdout",
     "output_type": "stream",
     "text": [
      "    SOURCE: if you are really lucky you may even end up getting to play the progressive jackpot making it one of the most exciting parts of the casino pay by mobile slot game\n",
      "    TARGET: u-m-a u-n-e-n-hlanhla ng-e-m-pela u-nga-qed-a ku-z-e ko-ku-thol-a uku-dlal-a jackot oku-qhubek-a-yo o-kw-enz-a ku-b-e o-muny-e i-zingxenye ejabulis-a ka-khulu w-e pay- ye-khasino m-ob-ile s-lot gam-e\n",
      " PREDICTED: u-m-a u-n-e-n-hlanhla ng-e-m-pela u-nga-s-e u-gcin-e ngi-sho n-o-ku-thol-a uku-dlal-a i-grand jackot e-qhubek-a-yo u-kw-enz-a ku-b-e eny-e ye-zingxenye ezi-jabulis-a-yo ka-khulu ze-khasino uku-khokh-a s-lot o-f m-ob-ile\n",
      "    SOURCE: i had no choice but to ring the police\n",
      "    TARGET: ng-a-ngi-nge-na-ku-kheth-a ko-dwa uku-biz-a a-ma-phoyisa\n",
      " PREDICTED: a-ngi-zang-e ngi-kheth-e ko-dwa uku-khal-a a-ma-phoyisa\n",
      "    SOURCE: for a team to work effectively it must be led by a leader as is the case during a work in group\n",
      "    TARGET: uku-z-e i-qembu li-sebenz-e ng-o-ku-phumelel-a-yo ku-fanel-e li-holw-a u-m-holi njengoba ku-njalo ng-e-si-khathi u-m-sebenzi we-qembu\n",
      " PREDICTED: uku-z-e i-qembu lo-ku-sebenz-a ng-e-m-pumelelo ku-mel-e li-holw-e u-m-holi njengoba ku-njalo ng-e-si-khathi so-m-sebenzi e-qenj-ini\n",
      "----------------------------------------------------------------------------------------------------\n",
      "Epoch 81 - Validation Loss: 0.0005\n",
      "Loss increased: 0.000514 -> 0.000515. Counter: 4/5\n"
     ]
    },
    {
     "name": "stderr",
     "output_type": "stream",
     "text": [
      "Processing Epoch 82: 100%|██████████| 1250/1250 [10:57<00:00,  1.90it/s, loss=0.267]\n"
     ]
    },
    {
     "name": "stdout",
     "output_type": "stream",
     "text": [
      "    SOURCE: if you are really lucky you may even end up getting to play the progressive jackpot making it one of the most exciting parts of the casino pay by mobile slot game\n",
      "    TARGET: u-m-a u-n-e-n-hlanhla ng-e-m-pela u-nga-qed-a ku-z-e ko-ku-thol-a uku-dlal-a jackot oku-qhubek-a-yo o-kw-enz-a ku-b-e o-muny-e i-zingxenye ejabulis-a ka-khulu w-e pay- ye-khasino m-ob-ile s-lot gam-e\n",
      " PREDICTED: u-m-a u-n-e-n-hlanhla ng-e-m-pela u-nga-s-e u-gcin-e ngi-sho n-o-ku-thol-a uku-dlal-a i-grand jackot e-qhubek-a-yo u-kw-enz-a ku-b-e ng-e-nye ye-zingxenye ezi-jabulis-a-yo ka-khulu ze-khasino uku-khokh-a s-lot o-f m-dlalo\n",
      "    SOURCE: i had no choice but to ring the police\n",
      "    TARGET: ng-a-ngi-nge-na-ku-kheth-a ko-dwa uku-biz-a a-ma-phoyisa\n",
      " PREDICTED: a-ngi-zang-e ngi-kheth-e ko-dwa uku-khal-a a-ma-phoyisa\n",
      "    SOURCE: for a team to work effectively it must be led by a leader as is the case during a work in group\n",
      "    TARGET: uku-z-e i-qembu li-sebenz-e ng-o-ku-phumelel-a-yo ku-fanel-e li-holw-a u-m-holi njengoba ku-njalo ng-e-si-khathi u-m-sebenzi we-qembu\n",
      " PREDICTED: uku-z-e i-qembu lo-ku-sebenz-a ng-e-m-pumelelo ku-fanel-e li-holw-e u-m-holi njengoba ku-njalo ng-e-si-khathi so-m-sebenzi e-qenj-ini\n",
      "----------------------------------------------------------------------------------------------------\n",
      "Epoch 82 - Validation Loss: 0.0005\n",
      "Improvement: 0.000514 -> 0.000513\n",
      "Saved best model from epoch 82 with validation loss: 0.000513\n"
     ]
    },
    {
     "name": "stderr",
     "output_type": "stream",
     "text": [
      "Processing Epoch 83: 100%|██████████| 1250/1250 [10:54<00:00,  1.91it/s, loss=0.289]\n"
     ]
    },
    {
     "name": "stdout",
     "output_type": "stream",
     "text": [
      "    SOURCE: if you are really lucky you may even end up getting to play the progressive jackpot making it one of the most exciting parts of the casino pay by mobile slot game\n",
      "    TARGET: u-m-a u-n-e-n-hlanhla ng-e-m-pela u-nga-qed-a ku-z-e ko-ku-thol-a uku-dlal-a jackot oku-qhubek-a-yo o-kw-enz-a ku-b-e o-muny-e i-zingxenye ejabulis-a ka-khulu w-e pay- ye-khasino m-ob-ile s-lot gam-e\n",
      " PREDICTED: u-m-a u-n-e-n-hlanhla ng-e-m-pela u-nga-s-e u-gcin-e ngi-sho n-o-ku-thol-a uku-dlal-a i-grand jackot e-qhubek-a-yo u-kw-enz-a ku-b-e ng-e-nye ye-zingxenye ezi-jabulis-a-yo ka-khulu ze-khasino uku-khokh-a s-s-lot o-f m-dlalo\n",
      "    SOURCE: i had no choice but to ring the police\n",
      "    TARGET: ng-a-ngi-nge-na-ku-kheth-a ko-dwa uku-biz-a a-ma-phoyisa\n",
      " PREDICTED: a-ngi-zang-e ngi-kheth-e ko-dwa uku-khal-a a-ma-phoyisa\n",
      "    SOURCE: for a team to work effectively it must be led by a leader as is the case during a work in group\n",
      "    TARGET: uku-z-e i-qembu li-sebenz-e ng-o-ku-phumelel-a-yo ku-fanel-e li-holw-a u-m-holi njengoba ku-njalo ng-e-si-khathi u-m-sebenzi we-qembu\n",
      " PREDICTED: uku-z-e i-qembu lo-ku-sebenz-a ng-e-m-pumelelo ku-fanel-e li-holw-e u-m-holi njengoba ku-njalo ng-e-si-khathi so-m-sebenzi e-qenj-ini\n",
      "----------------------------------------------------------------------------------------------------\n",
      "Epoch 83 - Validation Loss: 0.0005\n",
      "Loss increased: 0.000513 -> 0.000515. Counter: 1/5\n"
     ]
    },
    {
     "name": "stderr",
     "output_type": "stream",
     "text": [
      "Processing Epoch 84: 100%|██████████| 1250/1250 [10:55<00:00,  1.91it/s, loss=0.265]\n"
     ]
    },
    {
     "name": "stdout",
     "output_type": "stream",
     "text": [
      "    SOURCE: if you are really lucky you may even end up getting to play the progressive jackpot making it one of the most exciting parts of the casino pay by mobile slot game\n",
      "    TARGET: u-m-a u-n-e-n-hlanhla ng-e-m-pela u-nga-qed-a ku-z-e ko-ku-thol-a uku-dlal-a jackot oku-qhubek-a-yo o-kw-enz-a ku-b-e o-muny-e i-zingxenye ejabulis-a ka-khulu w-e pay- ye-khasino m-ob-ile s-lot gam-e\n",
      " PREDICTED: u-m-a u-n-e-n-hlanhla ng-e-m-pela u-nga-s-e u-gcin-e ngi-sho n-o-ku-thol-a uku-dlal-a i-grand jackot e-qhubek-a-yo u-kw-enz-a ku-b-e ng-e-nye ye-zingxenye ezi-jabulis-a-yo ka-khulu ze-khasino uku-khokh-a s-lot o-f m-dlalo\n",
      "    SOURCE: i had no choice but to ring the police\n",
      "    TARGET: ng-a-ngi-nge-na-ku-kheth-a ko-dwa uku-biz-a a-ma-phoyisa\n",
      " PREDICTED: a-ngi-zang-e ngi-kheth-e ko-dwa uku-khal-a a-ma-phoyisa\n",
      "    SOURCE: for a team to work effectively it must be led by a leader as is the case during a work in group\n",
      "    TARGET: uku-z-e i-qembu li-sebenz-e ng-o-ku-phumelel-a-yo ku-fanel-e li-holw-a u-m-holi njengoba ku-njalo ng-e-si-khathi u-m-sebenzi we-qembu\n",
      " PREDICTED: uku-z-e i-qembu lo-ku-sebenz-a ng-e-m-pumelelo ku-mel-e li-holw-e ng-u-m-holi njengoba ku-njalo ng-e-si-khathi so-m-sebenzi e-qenj-ini\n",
      "----------------------------------------------------------------------------------------------------\n",
      "Epoch 84 - Validation Loss: 0.0005\n",
      "Loss increased: 0.000513 -> 0.000514. Counter: 2/5\n"
     ]
    },
    {
     "name": "stderr",
     "output_type": "stream",
     "text": [
      "Processing Epoch 85: 100%|██████████| 1250/1250 [10:57<00:00,  1.90it/s, loss=0.256]\n"
     ]
    },
    {
     "name": "stdout",
     "output_type": "stream",
     "text": [
      "    SOURCE: if you are really lucky you may even end up getting to play the progressive jackpot making it one of the most exciting parts of the casino pay by mobile slot game\n",
      "    TARGET: u-m-a u-n-e-n-hlanhla ng-e-m-pela u-nga-qed-a ku-z-e ko-ku-thol-a uku-dlal-a jackot oku-qhubek-a-yo o-kw-enz-a ku-b-e o-muny-e i-zingxenye ejabulis-a ka-khulu w-e pay- ye-khasino m-ob-ile s-lot gam-e\n",
      " PREDICTED: u-m-a u-n-e-n-hlanhla ng-e-m-pela u-nga-s-e u-gcin-e ngi-sho n-o-ku-thol-a uku-dlal-a i-jackot e-qhubek-a-yo u-kw-enz-a ku-b-e eny-e ye-zingxenye ezi-jabulis-a-yo ka-khulu ze-khasino i-khokh-e i-s s-lot m-ob-ile s-lot o-f m-dlalo\n",
      "    SOURCE: i had no choice but to ring the police\n",
      "    TARGET: ng-a-ngi-nge-na-ku-kheth-a ko-dwa uku-biz-a a-ma-phoyisa\n",
      " PREDICTED: a-ngi-zang-e ngi-kheth-e ko-dwa uku-khal-a a-ma-phoyisa\n",
      "    SOURCE: for a team to work effectively it must be led by a leader as is the case during a work in group\n",
      "    TARGET: uku-z-e i-qembu li-sebenz-e ng-o-ku-phumelel-a-yo ku-fanel-e li-holw-a u-m-holi njengoba ku-njalo ng-e-si-khathi u-m-sebenzi we-qembu\n",
      " PREDICTED: uku-z-e i-qembu lo-ku-sebenz-a ng-e-m-pumelelo ku-fanel-e li-holw-e u-m-holi njengoba ku-njalo ng-e-si-khathi so-m-sebenzi e-qenj-ini\n",
      "----------------------------------------------------------------------------------------------------\n",
      "Epoch 85 - Validation Loss: 0.0005\n",
      "Loss increased: 0.000513 -> 0.000513. Counter: 3/5\n"
     ]
    },
    {
     "name": "stderr",
     "output_type": "stream",
     "text": [
      "Processing Epoch 86: 100%|██████████| 1250/1250 [10:58<00:00,  1.90it/s, loss=0.274]\n"
     ]
    },
    {
     "name": "stdout",
     "output_type": "stream",
     "text": [
      "    SOURCE: if you are really lucky you may even end up getting to play the progressive jackpot making it one of the most exciting parts of the casino pay by mobile slot game\n",
      "    TARGET: u-m-a u-n-e-n-hlanhla ng-e-m-pela u-nga-qed-a ku-z-e ko-ku-thol-a uku-dlal-a jackot oku-qhubek-a-yo o-kw-enz-a ku-b-e o-muny-e i-zingxenye ejabulis-a ka-khulu w-e pay- ye-khasino m-ob-ile s-lot gam-e\n",
      " PREDICTED: u-m-a u-n-e-n-hlanhla ng-e-m-pela u-nga-s-e u-gcin-e ngi-sho n-o-ku-thol-a uku-dlal-a i-jackot e-qhubek-a-yo u-kw-enz-a lo-khu o-muny-e we-zingxenye ezi-jabulis-a-yo ka-khulu e-khasino a-khokh-e i-s s-lot m-ob-ile s-lot o-f gam-e\n",
      "    SOURCE: i had no choice but to ring the police\n",
      "    TARGET: ng-a-ngi-nge-na-ku-kheth-a ko-dwa uku-biz-a a-ma-phoyisa\n",
      " PREDICTED: a-ngi-zang-e ngi-kheth-e ko-dwa uku-khal-a a-ma-phoyisa\n",
      "    SOURCE: for a team to work effectively it must be led by a leader as is the case during a work in group\n",
      "    TARGET: uku-z-e i-qembu li-sebenz-e ng-o-ku-phumelel-a-yo ku-fanel-e li-holw-a u-m-holi njengoba ku-njalo ng-e-si-khathi u-m-sebenzi we-qembu\n",
      " PREDICTED: uku-z-e i-qembu lo-ku-sebenz-a ng-e-m-pumelelo ku-fanel-e li-holw-e u-m-holi njengoba ku-njalo ng-e-si-khathi so-m-sebenzi e-qenj-ini\n",
      "----------------------------------------------------------------------------------------------------\n",
      "Epoch 86 - Validation Loss: 0.0005\n",
      "Loss increased: 0.000513 -> 0.000513. Counter: 4/5\n"
     ]
    },
    {
     "name": "stderr",
     "output_type": "stream",
     "text": [
      "IOPub message rate exceeded.█████▍  | 937/1250 [08:11<02:42,  1.93it/s, loss=0.255]\n",
      "The Jupyter server will temporarily stop sending output\n",
      "to the client in order to avoid crashing it.\n",
      "To change this limit, set the config variable\n",
      "`--ServerApp.iopub_msg_rate_limit`.\n",
      "\n",
      "Current values:\n",
      "ServerApp.iopub_msg_rate_limit=1000.0 (msgs/sec)\n",
      "ServerApp.rate_limit_window=3.0 (secs)\n",
      "\n",
      "\u001b[36m(pid=12856)\u001b[0m 2025-02-28 15:30:33.300668: I tensorflow/core/platform/cpu_feature_guard.cc:182] This TensorFlow binary is optimized to use available CPU instructions in performance-critical operations.\n",
      "\u001b[36m(pid=12856)\u001b[0m To enable the following instructions: AVX2 FMA, in other operations, rebuild TensorFlow with the appropriate compiler flags.\n",
      "\u001b[36m(pid=12856)\u001b[0m 2025-02-28 15:30:34.267822: W tensorflow/compiler/tf2tensorrt/utils/py_utils.cc:38] TF-TRT Warning: Could not find TensorRT\n",
      "\u001b[36m(pid=13099)\u001b[0m 2025-02-28 15:36:19.422244: I tensorflow/core/platform/cpu_feature_guard.cc:182] This TensorFlow binary is optimized to use available CPU instructions in performance-critical operations.\n",
      "\u001b[36m(pid=13099)\u001b[0m To enable the following instructions: AVX2 FMA, in other operations, rebuild TensorFlow with the appropriate compiler flags.\n",
      "\u001b[36m(pid=13099)\u001b[0m 2025-02-28 15:36:20.472411: W tensorflow/compiler/tf2tensorrt/utils/py_utils.cc:38] TF-TRT Warning: Could not find TensorRT\n",
      "\u001b[36m(pid=13360)\u001b[0m 2025-02-28 15:45:12.443464: I tensorflow/core/platform/cpu_feature_guard.cc:182] This TensorFlow binary is optimized to use available CPU instructions in performance-critical operations.\n",
      "\u001b[36m(pid=13360)\u001b[0m To enable the following instructions: AVX2 FMA, in other operations, rebuild TensorFlow with the appropriate compiler flags.\n",
      "\u001b[36m(pid=13360)\u001b[0m 2025-02-28 15:45:13.365748: W tensorflow/compiler/tf2tensorrt/utils/py_utils.cc:38] TF-TRT Warning: Could not find TensorRT\n",
      "\u001b[36m(pid=13628)\u001b[0m 2025-02-28 15:55:16.534588: I tensorflow/core/platform/cpu_feature_guard.cc:182] This TensorFlow binary is optimized to use available CPU instructions in performance-critical operations.\n",
      "\u001b[36m(pid=13628)\u001b[0m To enable the following instructions: AVX2 FMA, in other operations, rebuild TensorFlow with the appropriate compiler flags.\n",
      "\u001b[36m(pid=13628)\u001b[0m 2025-02-28 15:55:17.434760: W tensorflow/compiler/tf2tensorrt/utils/py_utils.cc:38] TF-TRT Warning: Could not find TensorRT\n",
      "\u001b[36m(pid=13950)\u001b[0m 2025-02-28 16:14:20.764874: I tensorflow/core/platform/cpu_feature_guard.cc:182] This TensorFlow binary is optimized to use available CPU instructions in performance-critical operations.\n",
      "\u001b[36m(pid=13950)\u001b[0m To enable the following instructions: AVX2 FMA, in other operations, rebuild TensorFlow with the appropriate compiler flags.\n",
      "\u001b[36m(pid=13950)\u001b[0m 2025-02-28 16:14:21.664662: W tensorflow/compiler/tf2tensorrt/utils/py_utils.cc:38] TF-TRT Warning: Could not find TensorRT\n",
      "\u001b[36m(pid=14197)\u001b[0m 2025-02-28 16:20:54.997978: I tensorflow/core/platform/cpu_feature_guard.cc:182] This TensorFlow binary is optimized to use available CPU instructions in performance-critical operations.\n",
      "\u001b[36m(pid=14197)\u001b[0m To enable the following instructions: AVX2 FMA, in other operations, rebuild TensorFlow with the appropriate compiler flags.\n",
      "\u001b[36m(pid=14197)\u001b[0m 2025-02-28 16:20:55.913188: W tensorflow/compiler/tf2tensorrt/utils/py_utils.cc:38] TF-TRT Warning: Could not find TensorRT\n",
      "\u001b[36m(pid=14436)\u001b[0m 2025-02-28 16:26:14.014626: I tensorflow/core/platform/cpu_feature_guard.cc:182] This TensorFlow binary is optimized to use available CPU instructions in performance-critical operations.\n",
      "\u001b[36m(pid=14436)\u001b[0m To enable the following instructions: AVX2 FMA, in other operations, rebuild TensorFlow with the appropriate compiler flags.\n",
      "\u001b[36m(pid=14436)\u001b[0m 2025-02-28 16:26:14.929146: W tensorflow/compiler/tf2tensorrt/utils/py_utils.cc:38] TF-TRT Warning: Could not find TensorRT\n",
      "\u001b[36m(pid=14710)\u001b[0m 2025-02-28 16:37:17.003432: I tensorflow/core/platform/cpu_feature_guard.cc:182] This TensorFlow binary is optimized to use available CPU instructions in performance-critical operations.\n",
      "\u001b[36m(pid=14710)\u001b[0m To enable the following instructions: AVX2 FMA, in other operations, rebuild TensorFlow with the appropriate compiler flags.\n",
      "\u001b[36m(pid=14710)\u001b[0m 2025-02-28 16:37:17.862929: W tensorflow/compiler/tf2tensorrt/utils/py_utils.cc:38] TF-TRT Warning: Could not find TensorRT\n",
      "\u001b[36m(pid=15038)\u001b[0m 2025-02-28 16:57:27.348513: I tensorflow/core/platform/cpu_feature_guard.cc:182] This TensorFlow binary is optimized to use available CPU instructions in performance-critical operations.\n",
      "\u001b[36m(pid=15038)\u001b[0m To enable the following instructions: AVX2 FMA, in other operations, rebuild TensorFlow with the appropriate compiler flags.\n",
      "\u001b[36m(pid=15038)\u001b[0m 2025-02-28 16:57:28.203946: W tensorflow/compiler/tf2tensorrt/utils/py_utils.cc:38] TF-TRT Warning: Could not find TensorRT\n",
      "\u001b[36m(pid=15269)\u001b[0m 2025-02-28 17:01:15.379648: I tensorflow/core/platform/cpu_feature_guard.cc:182] This TensorFlow binary is optimized to use available CPU instructions in performance-critical operations.\n",
      "\u001b[36m(pid=15269)\u001b[0m To enable the following instructions: AVX2 FMA, in other operations, rebuild TensorFlow with the appropriate compiler flags.\n",
      "\u001b[36m(pid=15269)\u001b[0m 2025-02-28 17:01:16.291741: W tensorflow/compiler/tf2tensorrt/utils/py_utils.cc:38] TF-TRT Warning: Could not find TensorRT\n",
      "\u001b[36m(pid=15531)\u001b[0m 2025-02-28 18:54:14.464875: I tensorflow/core/platform/cpu_feature_guard.cc:182] This TensorFlow binary is optimized to use available CPU instructions in performance-critical operations.\n",
      "\u001b[36m(pid=15531)\u001b[0m To enable the following instructions: AVX2 FMA, in other operations, rebuild TensorFlow with the appropriate compiler flags.\n",
      "\u001b[36m(pid=15531)\u001b[0m 2025-02-28 18:54:15.362457: W tensorflow/compiler/tf2tensorrt/utils/py_utils.cc:38] TF-TRT Warning: Could not find TensorRT\n",
      "\u001b[36m(pid=15882)\u001b[0m 2025-02-28 19:18:08.735318: I tensorflow/core/platform/cpu_feature_guard.cc:182] This TensorFlow binary is optimized to use available CPU instructions in performance-critical operations.\n",
      "\u001b[36m(pid=15882)\u001b[0m To enable the following instructions: AVX2 FMA, in other operations, rebuild TensorFlow with the appropriate compiler flags.\n",
      "\u001b[36m(pid=15882)\u001b[0m 2025-02-28 19:18:09.574831: W tensorflow/compiler/tf2tensorrt/utils/py_utils.cc:38] TF-TRT Warning: Could not find TensorRT\n",
      "\u001b[36m(pid=16148)\u001b[0m 2025-02-28 19:27:49.847187: I tensorflow/core/platform/cpu_feature_guard.cc:182] This TensorFlow binary is optimized to use available CPU instructions in performance-critical operations.\n",
      "\u001b[36m(pid=16148)\u001b[0m To enable the following instructions: AVX2 FMA, in other operations, rebuild TensorFlow with the appropriate compiler flags.\n",
      "\u001b[36m(pid=16148)\u001b[0m 2025-02-28 19:27:50.669752: W tensorflow/compiler/tf2tensorrt/utils/py_utils.cc:38] TF-TRT Warning: Could not find TensorRT\n",
      "\u001b[36m(pid=16417)\u001b[0m 2025-02-28 19:38:04.974975: I tensorflow/core/platform/cpu_feature_guard.cc:182] This TensorFlow binary is optimized to use available CPU instructions in performance-critical operations.\n",
      "\u001b[36m(pid=16417)\u001b[0m To enable the following instructions: AVX2 FMA, in other operations, rebuild TensorFlow with the appropriate compiler flags.\n",
      "\u001b[36m(pid=16417)\u001b[0m 2025-02-28 19:38:05.799465: W tensorflow/compiler/tf2tensorrt/utils/py_utils.cc:38] TF-TRT Warning: Could not find TensorRT\n",
      "\u001b[36m(pid=16653)\u001b[0m 2025-02-28 19:42:51.968640: I tensorflow/core/platform/cpu_feature_guard.cc:182] This TensorFlow binary is optimized to use available CPU instructions in performance-critical operations.\n",
      "\u001b[36m(pid=16653)\u001b[0m To enable the following instructions: AVX2 FMA, in other operations, rebuild TensorFlow with the appropriate compiler flags.\n",
      "\u001b[36m(pid=16653)\u001b[0m 2025-02-28 19:42:52.804422: W tensorflow/compiler/tf2tensorrt/utils/py_utils.cc:38] TF-TRT Warning: Could not find TensorRT\n",
      "\u001b[36m(pid=16909)\u001b[0m 2025-02-28 19:50:48.087159: I tensorflow/core/platform/cpu_feature_guard.cc:182] This TensorFlow binary is optimized to use available CPU instructions in performance-critical operations.\n",
      "\u001b[36m(pid=16909)\u001b[0m To enable the following instructions: AVX2 FMA, in other operations, rebuild TensorFlow with the appropriate compiler flags.\n",
      "\u001b[36m(pid=16909)\u001b[0m 2025-02-28 19:50:48.913037: W tensorflow/compiler/tf2tensorrt/utils/py_utils.cc:38] TF-TRT Warning: Could not find TensorRT\n",
      "\u001b[36m(pid=17215)\u001b[0m 2025-02-28 19:58:41.200609: I tensorflow/core/platform/cpu_feature_guard.cc:182] This TensorFlow binary is optimized to use available CPU instructions in performance-critical operations.\n",
      "\u001b[36m(pid=17215)\u001b[0m To enable the following instructions: AVX2 FMA, in other operations, rebuild TensorFlow with the appropriate compiler flags.\n",
      "\u001b[36m(pid=17215)\u001b[0m 2025-02-28 19:58:42.026222: W tensorflow/compiler/tf2tensorrt/utils/py_utils.cc:38] TF-TRT Warning: Could not find TensorRT\n",
      "\u001b[36m(pid=17729)\u001b[0m 2025-02-28 20:20:45.601241: I tensorflow/core/platform/cpu_feature_guard.cc:182] This TensorFlow binary is optimized to use available CPU instructions in performance-critical operations.\n",
      "\u001b[36m(pid=17729)\u001b[0m To enable the following instructions: AVX2 FMA, in other operations, rebuild TensorFlow with the appropriate compiler flags.\n",
      "\u001b[36m(pid=17729)\u001b[0m 2025-02-28 20:20:46.432263: W tensorflow/compiler/tf2tensorrt/utils/py_utils.cc:38] TF-TRT Warning: Could not find TensorRT\n",
      "\u001b[36m(pid=18025)\u001b[0m 2025-02-28 20:27:02.690386: I tensorflow/core/platform/cpu_feature_guard.cc:182] This TensorFlow binary is optimized to use available CPU instructions in performance-critical operations.\n",
      "\u001b[36m(pid=18025)\u001b[0m To enable the following instructions: AVX2 FMA, in other operations, rebuild TensorFlow with the appropriate compiler flags.\n",
      "\u001b[36m(pid=18025)\u001b[0m 2025-02-28 20:27:03.519369: W tensorflow/compiler/tf2tensorrt/utils/py_utils.cc:38] TF-TRT Warning: Could not find TensorRT\n",
      "\u001b[36m(pid=18343)\u001b[0m 2025-02-28 20:34:59.959502: I tensorflow/core/platform/cpu_feature_guard.cc:182] This TensorFlow binary is optimized to use available CPU instructions in performance-critical operations.\n",
      "\u001b[36m(pid=18343)\u001b[0m To enable the following instructions: AVX2 FMA, in other operations, rebuild TensorFlow with the appropriate compiler flags.\n",
      "\u001b[36m(pid=18343)\u001b[0m 2025-02-28 20:35:00.886444: W tensorflow/compiler/tf2tensorrt/utils/py_utils.cc:38] TF-TRT Warning: Could not find TensorRT\n",
      "\u001b[36m(pid=19202)\u001b[0m 2025-02-28 22:34:27.307588: I tensorflow/core/platform/cpu_feature_guard.cc:182] This TensorFlow binary is optimized to use available CPU instructions in performance-critical operations.\n",
      "\u001b[36m(pid=19202)\u001b[0m To enable the following instructions: AVX2 FMA, in other operations, rebuild TensorFlow with the appropriate compiler flags.\n",
      "\u001b[36m(pid=19202)\u001b[0m 2025-02-28 22:34:28.210168: W tensorflow/compiler/tf2tensorrt/utils/py_utils.cc:38] TF-TRT Warning: Could not find TensorRT\n",
      "\u001b[36m(pid=19447)\u001b[0m 2025-02-28 22:39:19.020276: I tensorflow/core/platform/cpu_feature_guard.cc:182] This TensorFlow binary is optimized to use available CPU instructions in performance-critical operations.\n",
      "\u001b[36m(pid=19447)\u001b[0m To enable the following instructions: AVX2 FMA, in other operations, rebuild TensorFlow with the appropriate compiler flags.\n",
      "\u001b[36m(pid=19447)\u001b[0m 2025-02-28 22:39:19.884147: W tensorflow/compiler/tf2tensorrt/utils/py_utils.cc:38] TF-TRT Warning: Could not find TensorRT\n",
      "\u001b[36m(pid=19694)\u001b[0m 2025-02-28 22:44:04.041297: I tensorflow/core/platform/cpu_feature_guard.cc:182] This TensorFlow binary is optimized to use available CPU instructions in performance-critical operations.\n",
      "\u001b[36m(pid=19694)\u001b[0m To enable the following instructions: AVX2 FMA, in other operations, rebuild TensorFlow with the appropriate compiler flags.\n",
      "\u001b[36m(pid=19694)\u001b[0m 2025-02-28 22:44:04.882179: W tensorflow/compiler/tf2tensorrt/utils/py_utils.cc:38] TF-TRT Warning: Could not find TensorRT\n",
      "\u001b[36m(pid=19926)\u001b[0m 2025-02-28 22:47:06.112624: I tensorflow/core/platform/cpu_feature_guard.cc:182] This TensorFlow binary is optimized to use available CPU instructions in performance-critical operations.\n",
      "\u001b[36m(pid=19926)\u001b[0m To enable the following instructions: AVX2 FMA, in other operations, rebuild TensorFlow with the appropriate compiler flags.\n",
      "\u001b[36m(pid=19926)\u001b[0m 2025-02-28 22:47:06.943351: W tensorflow/compiler/tf2tensorrt/utils/py_utils.cc:38] TF-TRT Warning: Could not find TensorRT\n",
      "\u001b[36m(pid=20181)\u001b[0m 2025-02-28 22:52:55.143484: I tensorflow/core/platform/cpu_feature_guard.cc:182] This TensorFlow binary is optimized to use available CPU instructions in performance-critical operations.\n",
      "\u001b[36m(pid=20181)\u001b[0m To enable the following instructions: AVX2 FMA, in other operations, rebuild TensorFlow with the appropriate compiler flags.\n",
      "\u001b[36m(pid=20181)\u001b[0m 2025-02-28 22:52:55.963270: W tensorflow/compiler/tf2tensorrt/utils/py_utils.cc:38] TF-TRT Warning: Could not find TensorRT\n",
      "\u001b[36m(pid=20420)\u001b[0m 2025-02-28 22:56:54.225161: I tensorflow/core/platform/cpu_feature_guard.cc:182] This TensorFlow binary is optimized to use available CPU instructions in performance-critical operations.\n",
      "\u001b[36m(pid=20420)\u001b[0m To enable the following instructions: AVX2 FMA, in other operations, rebuild TensorFlow with the appropriate compiler flags.\n",
      "\u001b[36m(pid=20420)\u001b[0m 2025-02-28 22:56:55.052086: W tensorflow/compiler/tf2tensorrt/utils/py_utils.cc:38] TF-TRT Warning: Could not find TensorRT\n",
      "\u001b[36m(pid=20649)\u001b[0m 2025-02-28 22:59:40.315714: I tensorflow/core/platform/cpu_feature_guard.cc:182] This TensorFlow binary is optimized to use available CPU instructions in performance-critical operations.\n",
      "\u001b[36m(pid=20649)\u001b[0m To enable the following instructions: AVX2 FMA, in other operations, rebuild TensorFlow with the appropriate compiler flags.\n",
      "\u001b[36m(pid=20649)\u001b[0m 2025-02-28 22:59:41.154609: W tensorflow/compiler/tf2tensorrt/utils/py_utils.cc:38] TF-TRT Warning: Could not find TensorRT\n",
      "\u001b[36m(pid=20886)\u001b[0m 2025-02-28 23:03:17.384208: I tensorflow/core/platform/cpu_feature_guard.cc:182] This TensorFlow binary is optimized to use available CPU instructions in performance-critical operations.\n",
      "\u001b[36m(pid=20886)\u001b[0m To enable the following instructions: AVX2 FMA, in other operations, rebuild TensorFlow with the appropriate compiler flags.\n",
      "\u001b[36m(pid=20886)\u001b[0m 2025-02-28 23:03:18.207834: W tensorflow/compiler/tf2tensorrt/utils/py_utils.cc:38] TF-TRT Warning: Could not find TensorRT\n",
      "\u001b[36m(pid=21116)\u001b[0m 2025-02-28 23:06:10.409082: I tensorflow/core/platform/cpu_feature_guard.cc:182] This TensorFlow binary is optimized to use available CPU instructions in performance-critical operations.\n",
      "\u001b[36m(pid=21116)\u001b[0m To enable the following instructions: AVX2 FMA, in other operations, rebuild TensorFlow with the appropriate compiler flags.\n",
      "\u001b[36m(pid=21116)\u001b[0m 2025-02-28 23:06:11.242090: W tensorflow/compiler/tf2tensorrt/utils/py_utils.cc:38] TF-TRT Warning: Could not find TensorRT\n",
      "\u001b[36m(pid=21353)\u001b[0m 2025-02-28 23:09:47.522743: I tensorflow/core/platform/cpu_feature_guard.cc:182] This TensorFlow binary is optimized to use available CPU instructions in performance-critical operations.\n",
      "\u001b[36m(pid=21353)\u001b[0m To enable the following instructions: AVX2 FMA, in other operations, rebuild TensorFlow with the appropriate compiler flags.\n",
      "\u001b[36m(pid=21353)\u001b[0m 2025-02-28 23:09:48.402973: W tensorflow/compiler/tf2tensorrt/utils/py_utils.cc:38] TF-TRT Warning: Could not find TensorRT\n"
     ]
    }
   ],
   "source": [
    "    \n",
    "config = {\n",
    "    \"datasource\": 'nllb_segmented_data.csv',\n",
    "    \"batch_size\": 64,\n",
    "    \"num_epochs\": 100,\n",
    "    \"lr\": 10**-5,\n",
    "    'plateau_patience': 10,  \n",
    "    'worsen_patience': 5,   \n",
    "    'min_delta': 0.0005,   \n",
    "    'verbose': True,\n",
    "    \"data_length\": 100000,\n",
    "    \n",
    "    # Model architecture parameters\n",
    "    \"seq_len\": 310,\n",
    "    \"d_model\": 512,        # Dimension of the model\n",
    "    \"num_layers\": 6,       # Number of encoder/decoder layers (N)\n",
    "    \"num_heads\": 8,        # Number of attention heads (h)\n",
    "    \"d_ff\": 2048,         # Dimension of feed-forward network\n",
    "    \"dropout\": 0.1,       # Dropout rate\n",
    "    \"max_grad_norm\": 1.0,  # Gradient clipping\n",
    "    \"label_smoothing\": 0.1,# Label smoothing factor\n",
    "    \n",
    "    # Vocabulary and tokenization\n",
    "    'vocab_size': 30000,\n",
    "    \"tokenize_custom\": {\n",
    "        \"english\": False,\n",
    "        \"segmenter_one\": True\n",
    "    },\n",
    "    'tokenize_method': 'segment',\n",
    "    \n",
    "    # File paths and model settings\n",
    "    \"file_path\": 'english_zulu_models/english_zulu_seg_one',\n",
    "    \"model_folder\": \"weights\",\n",
    "    \"lang_src\": \"english\",\n",
    "    \"lang_tgt\": \"segmenter_one\",\n",
    "    \"model_basename\": \"model_\",\n",
    "    \"preload\": \"latest\",\n",
    "    \"tokenizer_file\": \"tokenizers_{0}.json\",\n",
    "    \"experiment_name\": \"english_zulu_models/english_zulu_seg_one/tensor_data\",\n",
    "    \"random_seed\": 20,\n",
    "}\n",
    "\n",
    "# Initialize first trainer - this builds vocabulary on full dataset\n",
    "print(\"Initializing trainer with full dataset for vocabulary building...\")\n",
    "trainer = Seq2SeqTrainer(config)\n",
    "\n",
    "# Modify data length for hyperparameter tuning\n",
    "print(\"Reducing dataset size for hyperparameter tuning...\")\n",
    "trainer.config[\"data_length\"] = 20000  # Smaller size for quick tuning\n",
    "tune_trainer = Seq2SeqTrainer(trainer.config)\n",
    "\n",
    "# Run hyperparameter optimization with small dataset\n",
    "best_config, analysis = tune_trainer.tune_hyperparameters(\n",
    "    num_samples=10,  # Number of trials\n",
    "    num_epochs=5    # Epochs per trial\n",
    ")\n",
    "\n",
    "# Now increase dataset size for full training\n",
    "print(\"Increasing dataset size for full training...\")\n",
    "tune_trainer.config[\"data_length\"] = 100000  # Larger size for full training\n",
    "train_trainer = Seq2SeqTrainer(tune_trainer.config)\n",
    "train_trainer.train()"
   ]
  },
  {
   "cell_type": "code",
   "execution_count": 4,
   "id": "455253b9-39c9-4279-b91a-24f4120b9389",
   "metadata": {
    "scrolled": true
   },
   "outputs": [
    {
     "name": "stdout",
     "output_type": "stream",
     "text": [
      "Initializing trainer with full dataset for vocabulary building...\n",
      "Using device: cuda\n",
      "Device name: NVIDIA A100 80GB PCIe\n",
      "Device memory: 79.253662109375 GB\n",
      "Original shape: (100000, 3)\n",
      "Final shape: (100000, 3)\n",
      "The config file has been saved on translation_trial/eng_zul_seg_two\n",
      "the dataset length: 100000\n",
      "Tokenizer path: translation_trial/eng_zul_seg_two/tokenizers/tokenizers_english.json\n",
      "Tokenizer not found. Creating a new one...\n",
      "Creating default Tokenizer\n",
      "Tokenizer path: translation_trial/eng_zul_seg_two/tokenizers/tokenizers_segmenter_two.json\n",
      "Tokenizer not found. Creating a new one...\n",
      "Creating custom Segment Tokenizer\n",
      "Training tokenizer...\n",
      "Pruning vocabulary...\n",
      "\n",
      "Vocabulary Stats before pruning:\n",
      "Total unique tokens: 35960\n",
      "Tokens after frequency filtering (min_freq=1): 35960\n",
      "Tokens after size limiting: 29996\n",
      "Final vocabulary size (including special tokens): 30000\n",
      "Vocabulary size after pruning: 30000\n",
      "Vocabulary finalized\n",
      "Max length of source sentence: 77\n",
      "Max length of target sentence: 275\n",
      "Reducing dataset size for hyperparameter tuning...\n",
      "Using device: cuda\n",
      "Device name: NVIDIA A100 80GB PCIe\n",
      "Device memory: 79.253662109375 GB\n",
      "Original shape: (100000, 3)\n",
      "Final shape: (20000, 3)\n",
      "The config file has been saved on translation_trial/eng_zul_seg_two\n",
      "the dataset length: 20000\n",
      "Tokenizer path: translation_trial/eng_zul_seg_two/tokenizers/tokenizers_english.json\n",
      "Loading existing tokenizer from translation_trial/eng_zul_seg_two/tokenizers/tokenizers_english.json\n",
      "Tokenizer path: translation_trial/eng_zul_seg_two/tokenizers/tokenizers_segmenter_two.json\n",
      "Loading existing tokenizer from translation_trial/eng_zul_seg_two/tokenizers/tokenizers_segmenter_two.json\n",
      "Vocabulary finalized for inference\n",
      "Max length of source sentence: 69\n",
      "Max length of target sentence: 245\n"
     ]
    },
    {
     "name": "stderr",
     "output_type": "stream",
     "text": [
      "2025-02-28 15:30:29,609\tINFO worker.py:1654 -- Calling ray.init() again after it has already been called.\n",
      "2025-02-28 15:30:29,738\tINFO tune.py:616 -- [output] This uses the legacy output and progress reporter, as Jupyter notebooks are not supported by the new engine, yet. For more information, please see https://github.com/ray-project/ray/issues/36949\n",
      "[I 2025-02-28 15:30:29,748] A new study created in memory with name: optuna\n"
     ]
    },
    {
     "name": "stdout",
     "output_type": "stream",
     "text": [
      "/workspace/pytorch-transformer_2/translation_trial/eng_zul_seg_two/ray_results\n"
     ]
    },
    {
     "data": {
      "text/html": [
       "<div class=\"tuneStatus\">\n",
       "  <div style=\"display: flex;flex-direction: row\">\n",
       "    <div style=\"display: flex;flex-direction: column;\">\n",
       "      <h3>Tune Status</h3>\n",
       "      <table>\n",
       "<tbody>\n",
       "<tr><td>Current time:</td><td>2025-02-28 17:09:32</td></tr>\n",
       "<tr><td>Running for: </td><td>01:39:02.71        </td></tr>\n",
       "<tr><td>Memory:      </td><td>10.2/125.8 GiB     </td></tr>\n",
       "</tbody>\n",
       "</table>\n",
       "    </div>\n",
       "    <div class=\"vDivider\"></div>\n",
       "    <div class=\"systemInfo\">\n",
       "      <h3>System Info</h3>\n",
       "      Using AsyncHyperBand: num_stopped=4<br>Bracket: Iter 4.000: -2.2375429554879664 | Iter 2.000: -3.9670060025453564<br>Bracket: Iter 4.000: -1.7092176826596261<br>Bracket: <br>Logical resource usage: 32.0/64 CPUs, 1.0/1 GPUs (0.0/1.0 accelerator_type:A100)\n",
       "    </div>\n",
       "    \n",
       "  </div>\n",
       "  <div class=\"hDivider\"></div>\n",
       "  <div class=\"trialStatus\">\n",
       "    <h3>Trial Status</h3>\n",
       "    <table>\n",
       "<thead>\n",
       "<tr><th>Trial name                </th><th>status    </th><th>loc             </th><th style=\"text-align: right;\">  d_ff</th><th style=\"text-align: right;\">  d_model</th><th style=\"text-align: right;\">  dropout</th><th style=\"text-align: right;\">  label_smoothing</th><th style=\"text-align: right;\">         lr</th><th style=\"text-align: right;\">  max_grad_norm</th><th style=\"text-align: right;\">  num_heads</th><th style=\"text-align: right;\">  num_layers</th><th style=\"text-align: right;\">  iter</th><th style=\"text-align: right;\">  total time (s)</th><th style=\"text-align: right;\">  train_loss</th><th style=\"text-align: right;\">  val_loss</th><th style=\"text-align: right;\">  epoch</th></tr>\n",
       "</thead>\n",
       "<tbody>\n",
       "<tr><td>training_function_214e0612</td><td>TERMINATED</td><td>172.17.0.2:12856</td><td style=\"text-align: right;\">  1024</td><td style=\"text-align: right;\">      128</td><td style=\"text-align: right;\"> 0.270228</td><td style=\"text-align: right;\">        0.146992 </td><td style=\"text-align: right;\">2.36875e-05</td><td style=\"text-align: right;\">       0.770345</td><td style=\"text-align: right;\">          4</td><td style=\"text-align: right;\">           4</td><td style=\"text-align: right;\">     5</td><td style=\"text-align: right;\">         338.626</td><td style=\"text-align: right;\">     4.31808</td><td style=\"text-align: right;\">   3.75097</td><td style=\"text-align: right;\">      4</td></tr>\n",
       "<tr><td>training_function_0372cd6e</td><td>TERMINATED</td><td>172.17.0.2:13099</td><td style=\"text-align: right;\">  2048</td><td style=\"text-align: right;\">      256</td><td style=\"text-align: right;\"> 0.246671</td><td style=\"text-align: right;\">        0.128292 </td><td style=\"text-align: right;\">0.000132726</td><td style=\"text-align: right;\">       1.2891  </td><td style=\"text-align: right;\">         16</td><td style=\"text-align: right;\">           3</td><td style=\"text-align: right;\">     5</td><td style=\"text-align: right;\">         525.731</td><td style=\"text-align: right;\">     2.12946</td><td style=\"text-align: right;\">   2.12172</td><td style=\"text-align: right;\">      4</td></tr>\n",
       "<tr><td>training_function_5af08059</td><td>TERMINATED</td><td>172.17.0.2:13360</td><td style=\"text-align: right;\">  1024</td><td style=\"text-align: right;\">      256</td><td style=\"text-align: right;\"> 0.153764</td><td style=\"text-align: right;\">        0.166649 </td><td style=\"text-align: right;\">0.000102545</td><td style=\"text-align: right;\">       1.0691  </td><td style=\"text-align: right;\">         16</td><td style=\"text-align: right;\">           4</td><td style=\"text-align: right;\">     5</td><td style=\"text-align: right;\">         597.249</td><td style=\"text-align: right;\">     2.56991</td><td style=\"text-align: right;\">   2.5581 </td><td style=\"text-align: right;\">      4</td></tr>\n",
       "<tr><td>training_function_d8ec5086</td><td>TERMINATED</td><td>172.17.0.2:13628</td><td style=\"text-align: right;\">  1024</td><td style=\"text-align: right;\">     1024</td><td style=\"text-align: right;\"> 0.151322</td><td style=\"text-align: right;\">        0.0689948</td><td style=\"text-align: right;\">0.000474091</td><td style=\"text-align: right;\">       1.43601 </td><td style=\"text-align: right;\">          8</td><td style=\"text-align: right;\">           3</td><td style=\"text-align: right;\">     5</td><td style=\"text-align: right;\">        1136.99 </td><td style=\"text-align: right;\">     1.29761</td><td style=\"text-align: right;\">   1.29672</td><td style=\"text-align: right;\">      4</td></tr>\n",
       "<tr><td>training_function_7e1cd518</td><td>TERMINATED</td><td>172.17.0.2:13950</td><td style=\"text-align: right;\">  1024</td><td style=\"text-align: right;\">      128</td><td style=\"text-align: right;\"> 0.264433</td><td style=\"text-align: right;\">        0.19511  </td><td style=\"text-align: right;\">1.87244e-05</td><td style=\"text-align: right;\">       0.957036</td><td style=\"text-align: right;\">         16</td><td style=\"text-align: right;\">           6</td><td style=\"text-align: right;\">     3</td><td style=\"text-align: right;\">         387.267</td><td style=\"text-align: right;\">     7.47478</td><td style=\"text-align: right;\">   6.97111</td><td style=\"text-align: right;\">      2</td></tr>\n",
       "<tr><td>training_function_5bbaa2ab</td><td>TERMINATED</td><td>172.17.0.2:14197</td><td style=\"text-align: right;\">   512</td><td style=\"text-align: right;\">      128</td><td style=\"text-align: right;\"> 0.201484</td><td style=\"text-align: right;\">        0.0484228</td><td style=\"text-align: right;\">0.000635943</td><td style=\"text-align: right;\">       0.861584</td><td style=\"text-align: right;\">          8</td><td style=\"text-align: right;\">           3</td><td style=\"text-align: right;\">     5</td><td style=\"text-align: right;\">         311.926</td><td style=\"text-align: right;\">     1.10499</td><td style=\"text-align: right;\">   1.08823</td><td style=\"text-align: right;\">      4</td></tr>\n",
       "<tr><td>training_function_2dd1c7f7</td><td>TERMINATED</td><td>172.17.0.2:14436</td><td style=\"text-align: right;\">  2048</td><td style=\"text-align: right;\">      256</td><td style=\"text-align: right;\"> 0.115888</td><td style=\"text-align: right;\">        0.0784092</td><td style=\"text-align: right;\">0.000262724</td><td style=\"text-align: right;\">       0.74297 </td><td style=\"text-align: right;\">          4</td><td style=\"text-align: right;\">           6</td><td style=\"text-align: right;\">     5</td><td style=\"text-align: right;\">         655.65 </td><td style=\"text-align: right;\">     1.45786</td><td style=\"text-align: right;\">   1.44621</td><td style=\"text-align: right;\">      4</td></tr>\n",
       "<tr><td>training_function_aa223f73</td><td>TERMINATED</td><td>172.17.0.2:14710</td><td style=\"text-align: right;\">  1024</td><td style=\"text-align: right;\">     1024</td><td style=\"text-align: right;\"> 0.100637</td><td style=\"text-align: right;\">        0.187465 </td><td style=\"text-align: right;\">3.53283e-05</td><td style=\"text-align: right;\">       0.639513</td><td style=\"text-align: right;\">         16</td><td style=\"text-align: right;\">           3</td><td style=\"text-align: right;\">     5</td><td style=\"text-align: right;\">        1203.25 </td><td style=\"text-align: right;\">     2.75708</td><td style=\"text-align: right;\">   2.74576</td><td style=\"text-align: right;\">      4</td></tr>\n",
       "<tr><td>training_function_385b4581</td><td>TERMINATED</td><td>172.17.0.2:15038</td><td style=\"text-align: right;\">   512</td><td style=\"text-align: right;\">      256</td><td style=\"text-align: right;\"> 0.2411  </td><td style=\"text-align: right;\">        0.0947497</td><td style=\"text-align: right;\">1.17135e-05</td><td style=\"text-align: right;\">       0.574436</td><td style=\"text-align: right;\">          4</td><td style=\"text-align: right;\">           3</td><td style=\"text-align: right;\">     3</td><td style=\"text-align: right;\">         220.6  </td><td style=\"text-align: right;\">     5.87167</td><td style=\"text-align: right;\">   5.14338</td><td style=\"text-align: right;\">      2</td></tr>\n",
       "<tr><td>training_function_66188efc</td><td>TERMINATED</td><td>172.17.0.2:15269</td><td style=\"text-align: right;\">  1024</td><td style=\"text-align: right;\">      256</td><td style=\"text-align: right;\"> 0.248384</td><td style=\"text-align: right;\">        0.101864 </td><td style=\"text-align: right;\">0.000955111</td><td style=\"text-align: right;\">       1.99266 </td><td style=\"text-align: right;\">         16</td><td style=\"text-align: right;\">           3</td><td style=\"text-align: right;\">     5</td><td style=\"text-align: right;\">         493.748</td><td style=\"text-align: right;\">     1.73642</td><td style=\"text-align: right;\">   1.72933</td><td style=\"text-align: right;\">      4</td></tr>\n",
       "</tbody>\n",
       "</table>\n",
       "  </div>\n",
       "</div>\n",
       "<style>\n",
       ".tuneStatus {\n",
       "  color: var(--jp-ui-font-color1);\n",
       "}\n",
       ".tuneStatus .systemInfo {\n",
       "  display: flex;\n",
       "  flex-direction: column;\n",
       "}\n",
       ".tuneStatus td {\n",
       "  white-space: nowrap;\n",
       "}\n",
       ".tuneStatus .trialStatus {\n",
       "  display: flex;\n",
       "  flex-direction: column;\n",
       "}\n",
       ".tuneStatus h3 {\n",
       "  font-weight: bold;\n",
       "}\n",
       ".tuneStatus .hDivider {\n",
       "  border-bottom-width: var(--jp-border-width);\n",
       "  border-bottom-color: var(--jp-border-color0);\n",
       "  border-bottom-style: solid;\n",
       "}\n",
       ".tuneStatus .vDivider {\n",
       "  border-left-width: var(--jp-border-width);\n",
       "  border-left-color: var(--jp-border-color0);\n",
       "  border-left-style: solid;\n",
       "  margin: 0.5em 1em 0.5em 1em;\n",
       "}\n",
       "</style>\n"
      ],
      "text/plain": [
       "<IPython.core.display.HTML object>"
      ]
     },
     "metadata": {},
     "output_type": "display_data"
    },
    {
     "data": {
      "text/html": [
       "<div class=\"trialProgress\">\n",
       "  <h3>Trial Progress</h3>\n",
       "  <table>\n",
       "<thead>\n",
       "<tr><th>Trial name                </th><th style=\"text-align: right;\">  epoch</th><th style=\"text-align: right;\">  train_loss</th><th style=\"text-align: right;\">  val_loss</th></tr>\n",
       "</thead>\n",
       "<tbody>\n",
       "<tr><td>training_function_0372cd6e</td><td style=\"text-align: right;\">      4</td><td style=\"text-align: right;\">     2.12946</td><td style=\"text-align: right;\">   2.12172</td></tr>\n",
       "<tr><td>training_function_214e0612</td><td style=\"text-align: right;\">      4</td><td style=\"text-align: right;\">     4.31808</td><td style=\"text-align: right;\">   3.75097</td></tr>\n",
       "<tr><td>training_function_2dd1c7f7</td><td style=\"text-align: right;\">      4</td><td style=\"text-align: right;\">     1.45786</td><td style=\"text-align: right;\">   1.44621</td></tr>\n",
       "<tr><td>training_function_385b4581</td><td style=\"text-align: right;\">      2</td><td style=\"text-align: right;\">     5.87167</td><td style=\"text-align: right;\">   5.14338</td></tr>\n",
       "<tr><td>training_function_5af08059</td><td style=\"text-align: right;\">      4</td><td style=\"text-align: right;\">     2.56991</td><td style=\"text-align: right;\">   2.5581 </td></tr>\n",
       "<tr><td>training_function_5bbaa2ab</td><td style=\"text-align: right;\">      4</td><td style=\"text-align: right;\">     1.10499</td><td style=\"text-align: right;\">   1.08823</td></tr>\n",
       "<tr><td>training_function_66188efc</td><td style=\"text-align: right;\">      4</td><td style=\"text-align: right;\">     1.73642</td><td style=\"text-align: right;\">   1.72933</td></tr>\n",
       "<tr><td>training_function_7e1cd518</td><td style=\"text-align: right;\">      2</td><td style=\"text-align: right;\">     7.47478</td><td style=\"text-align: right;\">   6.97111</td></tr>\n",
       "<tr><td>training_function_aa223f73</td><td style=\"text-align: right;\">      4</td><td style=\"text-align: right;\">     2.75708</td><td style=\"text-align: right;\">   2.74576</td></tr>\n",
       "<tr><td>training_function_d8ec5086</td><td style=\"text-align: right;\">      4</td><td style=\"text-align: right;\">     1.29761</td><td style=\"text-align: right;\">   1.29672</td></tr>\n",
       "</tbody>\n",
       "</table>\n",
       "</div>\n",
       "<style>\n",
       ".trialProgress {\n",
       "  display: flex;\n",
       "  flex-direction: column;\n",
       "  color: var(--jp-ui-font-color1);\n",
       "}\n",
       ".trialProgress h3 {\n",
       "  font-weight: bold;\n",
       "}\n",
       ".trialProgress td {\n",
       "  white-space: nowrap;\n",
       "}\n",
       "</style>\n"
      ],
      "text/plain": [
       "<IPython.core.display.HTML object>"
      ]
     },
     "metadata": {},
     "output_type": "display_data"
    },
    {
     "name": "stderr",
     "output_type": "stream",
     "text": [
      "2025-02-28 17:09:32,460\tINFO tune.py:1009 -- Wrote the latest version of all result files and experiment state to '/workspace/pytorch-transformer_2/translation_trial/eng_zul_seg_two/ray_results/transformer_tune' in 0.0241s.\n",
      "2025-02-28 17:09:32,467\tINFO tune.py:1041 -- Total run time: 5942.73 seconds (5942.68 seconds for the tuning loop).\n"
     ]
    },
    {
     "name": "stdout",
     "output_type": "stream",
     "text": [
      "\n",
      "Best hyperparameters found:\n",
      "{'lr': 0.0006359433907481593, 'd_model': 128, 'num_layers': 3, 'num_heads': 8, 'd_ff': 512, 'dropout': 0.2014839522318298, 'label_smoothing': 0.04842282275511085, 'max_grad_norm': 0.8615842191684886}\n",
      "Increasing dataset size for full training...\n",
      "Using device: cuda\n",
      "Device name: NVIDIA A100 80GB PCIe\n",
      "Device memory: 79.253662109375 GB\n",
      "Original shape: (100000, 3)\n",
      "Final shape: (100000, 3)\n",
      "The config file has been saved on translation_trial/eng_zul_seg_two\n",
      "the dataset length: 100000\n",
      "Tokenizer path: translation_trial/eng_zul_seg_two/tokenizers/tokenizers_english.json\n",
      "Loading existing tokenizer from translation_trial/eng_zul_seg_two/tokenizers/tokenizers_english.json\n",
      "Tokenizer path: translation_trial/eng_zul_seg_two/tokenizers/tokenizers_segmenter_two.json\n",
      "Loading existing tokenizer from translation_trial/eng_zul_seg_two/tokenizers/tokenizers_segmenter_two.json\n",
      "Vocabulary finalized for inference\n",
      "Max length of source sentence: 77\n",
      "Max length of target sentence: 275\n",
      "\n",
      "Training with the following configuration:\n",
      "Dataset size: 100000\n",
      "Learning rate: 0.0006359433907481593\n",
      "Model architecture:\n",
      "- d_model: 128\n",
      "- num_layers: 3\n",
      "- num_heads: 8\n",
      "- d_ff: 512\n",
      "- dropout: 0.2014839522318298\n",
      "Training parameters:\n",
      "- label_smoothing: 0.04842282275511085\n",
      "- max_grad_norm: 0.8615842191684886\n",
      "\n",
      "No pretrained model found, starting from scratch.\n"
     ]
    },
    {
     "name": "stderr",
     "output_type": "stream",
     "text": [
      "IOPub message rate exceeded.████▉   | 863/1250 [02:03<00:55,  6.95it/s, loss=1.132]\n",
      "The Jupyter server will temporarily stop sending output\n",
      "to the client in order to avoid crashing it.\n",
      "To change this limit, set the config variable\n",
      "`--ServerApp.iopub_msg_rate_limit`.\n",
      "\n",
      "Current values:\n",
      "ServerApp.iopub_msg_rate_limit=1000.0 (msgs/sec)\n",
      "ServerApp.rate_limit_window=3.0 (secs)\n",
      "\n",
      "Processing Epoch 26: 100%|██████████| 1250/1250 [03:02<00:00,  6.86it/s, loss=0.889]\n"
     ]
    },
    {
     "name": "stdout",
     "output_type": "stream",
     "text": [
      "    SOURCE: if you are really lucky you may even end up getting to play the progressive jackpot making it one of the most exciting parts of the casino pay by mobile slot game\n",
      "    TARGET: uma u-ne-n-hlanhla nge-mpela unga-qed-a ku-z-e ko-ku-thol-a uku-dlal-a jackoto o-ku-qhubek-a-yo o-kw-enz-a ku-b-e o-muny-e izing-xenye e-jabulis-a ka-khulu w-e pay ye-khasino m-ob-ile s-lot gam-e\n",
      " PREDICTED: uma u-ne-n-hlanhla nge-mpela u-nga-s-e u-gcin-e ngi-sho no-ku-thol-a uku-dlal-a jackoto o-qhubek-a-yo o-kw-enz-a eny-e ye-zingxenye e-zi-thakazelis-a-yo ka-khulu ze-khasino e-jabulis-a-yo um-dlalo we-khasino e-jabulis-a-yo um-dlalo we-khasino\n",
      "    SOURCE: i had no choice but to ring the police\n",
      "    TARGET: ngangi-nge-na-ku-kheth-a ko-dwa uku-biz-a ama-phoyisa\n",
      " PREDICTED: a-ngi-na-ku-kheth-a ko-dwa ngi-khal-e ama-phoyisa\n",
      "    SOURCE: for a team to work effectively it must be led by a leader as is the case during a work in group\n",
      "    TARGET: u-ku-z-e i-qembu li-sebenz-e ngo-ku-phumelel-a-yo ku-fanel-e li-holw-a um-holi njengob-a ku-njalo nge-si-khathi um-sebenzi we-qembu\n",
      " PREDICTED: i-qembu lo-ku-sebenz-a nge-m-pumelelo ku-fanel-e li-holw-e um-holi njengob-a ku-njalo ku-njalo um-sebenzi nge-si-khathi so-m-sebenzi e-qenj-ini\n",
      "----------------------------------------------------------------------------------------------------\n",
      "Epoch 26 - Validation Loss: 0.0005\n",
      "Loss increased: 0.000456 -> 0.000457. Counter: 3/5\n"
     ]
    },
    {
     "name": "stderr",
     "output_type": "stream",
     "text": [
      "Processing Epoch 27: 100%|██████████| 1250/1250 [03:01<00:00,  6.88it/s, loss=0.882]\n"
     ]
    },
    {
     "name": "stdout",
     "output_type": "stream",
     "text": [
      "    SOURCE: if you are really lucky you may even end up getting to play the progressive jackpot making it one of the most exciting parts of the casino pay by mobile slot game\n",
      "    TARGET: uma u-ne-n-hlanhla nge-mpela unga-qed-a ku-z-e ko-ku-thol-a uku-dlal-a jackoto o-ku-qhubek-a-yo o-kw-enz-a ku-b-e o-muny-e izing-xenye e-jabulis-a ka-khulu w-e pay ye-khasino m-ob-ile s-lot gam-e\n",
      " PREDICTED: uma u-ne-n-hlanhla nge-mpela unga-gcin-a ngi-sho no-ku-thol-a uku-dlal-a i-jackoto e-qhubek-a-yo o-kw-enz-a eny-e ye-zingxenye e-zi-jabulis-a-yo ka-khulu ye-khasino e-jabulis-a-yo ngo-m-dlalo we-khasino y-e-khasino\n",
      "    SOURCE: i had no choice but to ring the police\n",
      "    TARGET: ngangi-nge-na-ku-kheth-a ko-dwa uku-biz-a ama-phoyisa\n",
      " PREDICTED: a-ngi-zang-e ngi-kheth-e ko-dwa uku-khal-a kwa-ma-phoyisa\n",
      "    SOURCE: for a team to work effectively it must be led by a leader as is the case during a work in group\n",
      "    TARGET: u-ku-z-e i-qembu li-sebenz-e ngo-ku-phumelel-a-yo ku-fanel-e li-holw-a um-holi njengob-a ku-njalo nge-si-khathi um-sebenzi we-qembu\n",
      " PREDICTED: i-qembu lo-ku-sebenz-a nge-m-pumelelo ku-mel-e li-holw-e um-holi njengob-a ku-njalo i-cal-a nge-si-khathi so-m-sebenzi e-qenj-ini\n",
      "----------------------------------------------------------------------------------------------------\n",
      "Epoch 27 - Validation Loss: 0.0005\n",
      "Improvement: 0.000456 -> 0.000454\n",
      "Saved best model from epoch 27 with validation loss: 0.000454\n"
     ]
    },
    {
     "name": "stderr",
     "output_type": "stream",
     "text": [
      "IOPub message rate exceeded.        | 221/1250 [00:32<02:27,  6.99it/s, loss=0.852]\n",
      "The Jupyter server will temporarily stop sending output\n",
      "to the client in order to avoid crashing it.\n",
      "To change this limit, set the config variable\n",
      "`--ServerApp.iopub_msg_rate_limit`.\n",
      "\n",
      "Current values:\n",
      "ServerApp.iopub_msg_rate_limit=1000.0 (msgs/sec)\n",
      "ServerApp.rate_limit_window=3.0 (secs)\n",
      "\n"
     ]
    }
   ],
   "source": [
    "\n",
    "if torch.cuda.is_available():\n",
    "    torch.cuda.empty_cache()\n",
    "\n",
    "# Initial config with small dataset for tuning\n",
    "config = {\n",
    "    # Data and training parameters\n",
    "    \"datasource\": 'nllb_segmented_data.csv', #ensure correct path \n",
    "    \"batch_size\": 64,\n",
    "    \"num_epochs\": 100,\n",
    "    \"lr\": 10**-5,\n",
    "    'plateau_patience': 10,  # New for plateau detection\n",
    "    'worsen_patience': 5,   # New for worsen detection\n",
    "    'min_delta': 0.0005,    # Minimum improvement for loss\n",
    "    'verbose': True,\n",
    "    \"data_length\": 100000,\n",
    "    \n",
    "    # Model architecture parameters\n",
    "    \"seq_len\": 300,\n",
    "    \"d_model\": 512,        # Dimension of the model\n",
    "    \"num_layers\": 6,       # Number of encoder/decoder layers (N)\n",
    "    \"num_heads\": 8,        # Number of attention heads (h)\n",
    "    \"d_ff\": 2048,         # Dimension of feed-forward network\n",
    "    \"dropout\": 0.1,       # Dropout rate\n",
    "    \"max_grad_norm\": 1.0,  # Gradient clipping\n",
    "    \"label_smoothing\": 0.1,# Label smoothing factor\n",
    "    \n",
    "    # Vocabulary and tokenization\n",
    "    'vocab_size': 30000,\n",
    "    \"tokenize_custom\": {\n",
    "        \"english\": False,\n",
    "        \"segmenter_two\": True\n",
    "    },\n",
    "    'tokenize_method': 'segment',\n",
    "    \n",
    "    # File paths and model settings\n",
    "    \"file_path\": 'english_zulu_models/english_zulu_seg_two',\n",
    "    \"model_folder\": \"weights\",\n",
    "    \"lang_src\": \"english\",\n",
    "    \"lang_tgt\": \"segmenter_two\",\n",
    "    \"model_basename\": \"model_\",\n",
    "    \"preload\": \"latest\",\n",
    "    \"tokenizer_file\": \"tokenizers_{0}.json\",\n",
    "    \"experiment_name\": \"english_zulu_models/english_zulu_seg_two/tensor_data\",\n",
    "    \"random_seed\": 20,\n",
    "}\n",
    "\n",
    "# Initialize first trainer - this builds vocabulary on full dataset\n",
    "print(\"Initializing trainer with full dataset for vocabulary building...\")\n",
    "trainer = Seq2SeqTrainer(config)\n",
    "\n",
    "# Modify data length for hyperparameter tuning\n",
    "print(\"Reducing dataset size for hyperparameter tuning...\")\n",
    "trainer.config[\"data_length\"] = 20000  # Smaller size for quick tuning\n",
    "tune_trainer = Seq2SeqTrainer(trainer.config)\n",
    "\n",
    "# Run hyperparameter optimization with small dataset\n",
    "best_config, analysis = tune_trainer.tune_hyperparameters(\n",
    "    num_samples=10,  # Number of trials\n",
    "    num_epochs=5    # Epochs per trial\n",
    ")\n",
    "\n",
    "# Now increase dataset size for full training\n",
    "print(\"Increasing dataset size for full training...\")\n",
    "tune_trainer.config[\"data_length\"] = 100000  # Larger size for full training\n",
    "train_trainer = Seq2SeqTrainer(tune_trainer.config)\n",
    "train_trainer.train()"
   ]
  },
  {
   "cell_type": "code",
   "execution_count": 5,
   "id": "783be096-7481-405d-b18a-7af29c7d5230",
   "metadata": {},
   "outputs": [
    {
     "name": "stdout",
     "output_type": "stream",
     "text": [
      "Initializing trainer with full dataset for vocabulary building...\n",
      "Using device: cuda\n",
      "Device name: NVIDIA A100 80GB PCIe\n",
      "Device memory: 79.253662109375 GB\n",
      "Original shape: (100000, 3)\n",
      "Final shape: (100000, 3)\n",
      "The config file has been saved on translation_trial/eng_zul_seg_three\n",
      "the dataset length: 100000\n",
      "Tokenizer path: translation_trial/eng_zul_seg_three/tokenizers/tokenizers_english.json\n",
      "Tokenizer not found. Creating a new one...\n",
      "Creating default Tokenizer\n",
      "Tokenizer path: translation_trial/eng_zul_seg_three/tokenizers/tokenizers_segmenter_three.json\n",
      "Tokenizer not found. Creating a new one...\n",
      "Creating custom Segment Tokenizer\n",
      "Training tokenizer...\n",
      "Pruning vocabulary...\n",
      "\n",
      "Vocabulary Stats before pruning:\n",
      "Total unique tokens: 58083\n",
      "Tokens after frequency filtering (min_freq=1): 58083\n",
      "Tokens after size limiting: 29996\n",
      "Final vocabulary size (including special tokens): 30000\n",
      "Vocabulary size after pruning: 30000\n",
      "Vocabulary finalized\n",
      "Max length of source sentence: 77\n",
      "Max length of target sentence: 219\n",
      "Reducing dataset size for hyperparameter tuning...\n",
      "Using device: cuda\n",
      "Device name: NVIDIA A100 80GB PCIe\n",
      "Device memory: 79.253662109375 GB\n",
      "Original shape: (100000, 3)\n",
      "Final shape: (20000, 3)\n",
      "The config file has been saved on translation_trial/eng_zul_seg_three\n",
      "the dataset length: 20000\n",
      "Tokenizer path: translation_trial/eng_zul_seg_three/tokenizers/tokenizers_english.json\n",
      "Loading existing tokenizer from translation_trial/eng_zul_seg_three/tokenizers/tokenizers_english.json\n",
      "Tokenizer path: translation_trial/eng_zul_seg_three/tokenizers/tokenizers_segmenter_three.json\n",
      "Loading existing tokenizer from translation_trial/eng_zul_seg_three/tokenizers/tokenizers_segmenter_three.json\n",
      "Vocabulary finalized for inference\n",
      "Max length of source sentence: 69\n",
      "Max length of target sentence: 193\n"
     ]
    },
    {
     "name": "stderr",
     "output_type": "stream",
     "text": [
      "2025-02-28 18:54:10,894\tINFO worker.py:1654 -- Calling ray.init() again after it has already been called.\n",
      "2025-02-28 18:54:11,013\tINFO tune.py:616 -- [output] This uses the legacy output and progress reporter, as Jupyter notebooks are not supported by the new engine, yet. For more information, please see https://github.com/ray-project/ray/issues/36949\n",
      "[I 2025-02-28 18:54:11,023] A new study created in memory with name: optuna\n"
     ]
    },
    {
     "name": "stdout",
     "output_type": "stream",
     "text": [
      "/workspace/pytorch-transformer_2/translation_trial/eng_zul_seg_three/ray_results\n"
     ]
    },
    {
     "data": {
      "text/html": [
       "<div class=\"tuneStatus\">\n",
       "  <div style=\"display: flex;flex-direction: row\">\n",
       "    <div style=\"display: flex;flex-direction: column;\">\n",
       "      <h3>Tune Status</h3>\n",
       "      <table>\n",
       "<tbody>\n",
       "<tr><td>Current time:</td><td>2025-02-28 20:39:44</td></tr>\n",
       "<tr><td>Running for: </td><td>01:45:33.63        </td></tr>\n",
       "<tr><td>Memory:      </td><td>10.2/125.8 GiB     </td></tr>\n",
       "</tbody>\n",
       "</table>\n",
       "    </div>\n",
       "    <div class=\"vDivider\"></div>\n",
       "    <div class=\"systemInfo\">\n",
       "      <h3>System Info</h3>\n",
       "      Using AsyncHyperBand: num_stopped=3<br>Bracket: Iter 4.000: -2.1910437697172167 | Iter 2.000: -2.3476397858560087<br>Bracket: Iter 4.000: -1.676839663669467<br>Bracket: <br>Logical resource usage: 32.0/64 CPUs, 1.0/1 GPUs (0.0/1.0 accelerator_type:A100)\n",
       "    </div>\n",
       "    \n",
       "  </div>\n",
       "  <div class=\"hDivider\"></div>\n",
       "  <div class=\"trialStatus\">\n",
       "    <h3>Trial Status</h3>\n",
       "    <table>\n",
       "<thead>\n",
       "<tr><th>Trial name                </th><th>status    </th><th>loc             </th><th style=\"text-align: right;\">  d_ff</th><th style=\"text-align: right;\">  d_model</th><th style=\"text-align: right;\">  dropout</th><th style=\"text-align: right;\">  label_smoothing</th><th style=\"text-align: right;\">         lr</th><th style=\"text-align: right;\">  max_grad_norm</th><th style=\"text-align: right;\">  num_heads</th><th style=\"text-align: right;\">  num_layers</th><th style=\"text-align: right;\">  iter</th><th style=\"text-align: right;\">  total time (s)</th><th style=\"text-align: right;\">  train_loss</th><th style=\"text-align: right;\">  val_loss</th><th style=\"text-align: right;\">  epoch</th></tr>\n",
       "</thead>\n",
       "<tbody>\n",
       "<tr><td>training_function_ad1705df</td><td>TERMINATED</td><td>172.17.0.2:15531</td><td style=\"text-align: right;\">   512</td><td style=\"text-align: right;\">     1024</td><td style=\"text-align: right;\"> 0.188998</td><td style=\"text-align: right;\">        0.153387 </td><td style=\"text-align: right;\">0.000186185</td><td style=\"text-align: right;\">       1.60577 </td><td style=\"text-align: right;\">          8</td><td style=\"text-align: right;\">           6</td><td style=\"text-align: right;\">     5</td><td style=\"text-align: right;\">        1427.18 </td><td style=\"text-align: right;\">     2.34132</td><td style=\"text-align: right;\">   2.34451</td><td style=\"text-align: right;\">      4</td></tr>\n",
       "<tr><td>training_function_52d80897</td><td>TERMINATED</td><td>172.17.0.2:15882</td><td style=\"text-align: right;\">   512</td><td style=\"text-align: right;\">      512</td><td style=\"text-align: right;\"> 0.223794</td><td style=\"text-align: right;\">        0.157045 </td><td style=\"text-align: right;\">0.000347509</td><td style=\"text-align: right;\">       0.779031</td><td style=\"text-align: right;\">          8</td><td style=\"text-align: right;\">           4</td><td style=\"text-align: right;\">     5</td><td style=\"text-align: right;\">         574.128</td><td style=\"text-align: right;\">     2.39024</td><td style=\"text-align: right;\">   2.39715</td><td style=\"text-align: right;\">      4</td></tr>\n",
       "<tr><td>training_function_c440e386</td><td>TERMINATED</td><td>172.17.0.2:16148</td><td style=\"text-align: right;\">  1024</td><td style=\"text-align: right;\">      512</td><td style=\"text-align: right;\"> 0.197458</td><td style=\"text-align: right;\">        0.0584923</td><td style=\"text-align: right;\">1.51776e-05</td><td style=\"text-align: right;\">       0.716793</td><td style=\"text-align: right;\">          8</td><td style=\"text-align: right;\">           4</td><td style=\"text-align: right;\">     5</td><td style=\"text-align: right;\">         607.939</td><td style=\"text-align: right;\">     1.37606</td><td style=\"text-align: right;\">   1.35372</td><td style=\"text-align: right;\">      4</td></tr>\n",
       "<tr><td>training_function_396c9dbb</td><td>TERMINATED</td><td>172.17.0.2:16417</td><td style=\"text-align: right;\">   512</td><td style=\"text-align: right;\">      128</td><td style=\"text-align: right;\"> 0.273211</td><td style=\"text-align: right;\">        0.111313 </td><td style=\"text-align: right;\">7.89941e-05</td><td style=\"text-align: right;\">       1.78149 </td><td style=\"text-align: right;\">          4</td><td style=\"text-align: right;\">           4</td><td style=\"text-align: right;\">     5</td><td style=\"text-align: right;\">         280.195</td><td style=\"text-align: right;\">     2.0184 </td><td style=\"text-align: right;\">   1.99996</td><td style=\"text-align: right;\">      4</td></tr>\n",
       "<tr><td>training_function_317d5736</td><td>TERMINATED</td><td>172.17.0.2:16653</td><td style=\"text-align: right;\">  1024</td><td style=\"text-align: right;\">      256</td><td style=\"text-align: right;\"> 0.245768</td><td style=\"text-align: right;\">        0.122787 </td><td style=\"text-align: right;\">3.11966e-05</td><td style=\"text-align: right;\">       1.3241  </td><td style=\"text-align: right;\">         16</td><td style=\"text-align: right;\">           4</td><td style=\"text-align: right;\">     5</td><td style=\"text-align: right;\">         469.271</td><td style=\"text-align: right;\">     2.17115</td><td style=\"text-align: right;\">   2.14381</td><td style=\"text-align: right;\">      4</td></tr>\n",
       "<tr><td>training_function_311e7990</td><td>TERMINATED</td><td>172.17.0.2:16909</td><td style=\"text-align: right;\">   512</td><td style=\"text-align: right;\">      512</td><td style=\"text-align: right;\"> 0.167782</td><td style=\"text-align: right;\">        0.0490999</td><td style=\"text-align: right;\">0.000133147</td><td style=\"text-align: right;\">       1.11764 </td><td style=\"text-align: right;\">          4</td><td style=\"text-align: right;\">           3</td><td style=\"text-align: right;\">     5</td><td style=\"text-align: right;\">         466.427</td><td style=\"text-align: right;\">     1.12628</td><td style=\"text-align: right;\">   1.12196</td><td style=\"text-align: right;\">      4</td></tr>\n",
       "<tr><td>training_function_6bafe212</td><td>TERMINATED</td><td>172.17.0.2:17215</td><td style=\"text-align: right;\">  2048</td><td style=\"text-align: right;\">     1024</td><td style=\"text-align: right;\"> 0.117196</td><td style=\"text-align: right;\">        0.145989 </td><td style=\"text-align: right;\">0.000151822</td><td style=\"text-align: right;\">       1.01167 </td><td style=\"text-align: right;\">         16</td><td style=\"text-align: right;\">           4</td><td style=\"text-align: right;\">     5</td><td style=\"text-align: right;\">        1317.13 </td><td style=\"text-align: right;\">     2.23436</td><td style=\"text-align: right;\">   2.23828</td><td style=\"text-align: right;\">      4</td></tr>\n",
       "<tr><td>training_function_603326a2</td><td>TERMINATED</td><td>172.17.0.2:17729</td><td style=\"text-align: right;\">  2048</td><td style=\"text-align: right;\">      512</td><td style=\"text-align: right;\"> 0.121592</td><td style=\"text-align: right;\">        0.171035 </td><td style=\"text-align: right;\">0.000731151</td><td style=\"text-align: right;\">       1.04907 </td><td style=\"text-align: right;\">         16</td><td style=\"text-align: right;\">           3</td><td style=\"text-align: right;\">     3</td><td style=\"text-align: right;\">         370.626</td><td style=\"text-align: right;\">     2.56942</td><td style=\"text-align: right;\">   2.55965</td><td style=\"text-align: right;\">      2</td></tr>\n",
       "<tr><td>training_function_e9109a5d</td><td>TERMINATED</td><td>172.17.0.2:18025</td><td style=\"text-align: right;\">  1024</td><td style=\"text-align: right;\">      256</td><td style=\"text-align: right;\"> 0.290015</td><td style=\"text-align: right;\">        0.0998413</td><td style=\"text-align: right;\">3.53141e-05</td><td style=\"text-align: right;\">       1.56978 </td><td style=\"text-align: right;\">         16</td><td style=\"text-align: right;\">           4</td><td style=\"text-align: right;\">     5</td><td style=\"text-align: right;\">         470.175</td><td style=\"text-align: right;\">     1.89179</td><td style=\"text-align: right;\">   1.87241</td><td style=\"text-align: right;\">      4</td></tr>\n",
       "<tr><td>training_function_cf27a389</td><td>TERMINATED</td><td>172.17.0.2:18343</td><td style=\"text-align: right;\">   512</td><td style=\"text-align: right;\">      512</td><td style=\"text-align: right;\"> 0.175587</td><td style=\"text-align: right;\">        0.15119  </td><td style=\"text-align: right;\">7.46647e-05</td><td style=\"text-align: right;\">       0.741508</td><td style=\"text-align: right;\">          4</td><td style=\"text-align: right;\">           3</td><td style=\"text-align: right;\">     3</td><td style=\"text-align: right;\">         281.369</td><td style=\"text-align: right;\">     2.41937</td><td style=\"text-align: right;\">   2.4064 </td><td style=\"text-align: right;\">      2</td></tr>\n",
       "</tbody>\n",
       "</table>\n",
       "  </div>\n",
       "</div>\n",
       "<style>\n",
       ".tuneStatus {\n",
       "  color: var(--jp-ui-font-color1);\n",
       "}\n",
       ".tuneStatus .systemInfo {\n",
       "  display: flex;\n",
       "  flex-direction: column;\n",
       "}\n",
       ".tuneStatus td {\n",
       "  white-space: nowrap;\n",
       "}\n",
       ".tuneStatus .trialStatus {\n",
       "  display: flex;\n",
       "  flex-direction: column;\n",
       "}\n",
       ".tuneStatus h3 {\n",
       "  font-weight: bold;\n",
       "}\n",
       ".tuneStatus .hDivider {\n",
       "  border-bottom-width: var(--jp-border-width);\n",
       "  border-bottom-color: var(--jp-border-color0);\n",
       "  border-bottom-style: solid;\n",
       "}\n",
       ".tuneStatus .vDivider {\n",
       "  border-left-width: var(--jp-border-width);\n",
       "  border-left-color: var(--jp-border-color0);\n",
       "  border-left-style: solid;\n",
       "  margin: 0.5em 1em 0.5em 1em;\n",
       "}\n",
       "</style>\n"
      ],
      "text/plain": [
       "<IPython.core.display.HTML object>"
      ]
     },
     "metadata": {},
     "output_type": "display_data"
    },
    {
     "data": {
      "text/html": [
       "<div class=\"trialProgress\">\n",
       "  <h3>Trial Progress</h3>\n",
       "  <table>\n",
       "<thead>\n",
       "<tr><th>Trial name                </th><th style=\"text-align: right;\">  epoch</th><th style=\"text-align: right;\">  train_loss</th><th style=\"text-align: right;\">  val_loss</th></tr>\n",
       "</thead>\n",
       "<tbody>\n",
       "<tr><td>training_function_311e7990</td><td style=\"text-align: right;\">      4</td><td style=\"text-align: right;\">     1.12628</td><td style=\"text-align: right;\">   1.12196</td></tr>\n",
       "<tr><td>training_function_317d5736</td><td style=\"text-align: right;\">      4</td><td style=\"text-align: right;\">     2.17115</td><td style=\"text-align: right;\">   2.14381</td></tr>\n",
       "<tr><td>training_function_396c9dbb</td><td style=\"text-align: right;\">      4</td><td style=\"text-align: right;\">     2.0184 </td><td style=\"text-align: right;\">   1.99996</td></tr>\n",
       "<tr><td>training_function_52d80897</td><td style=\"text-align: right;\">      4</td><td style=\"text-align: right;\">     2.39024</td><td style=\"text-align: right;\">   2.39715</td></tr>\n",
       "<tr><td>training_function_603326a2</td><td style=\"text-align: right;\">      2</td><td style=\"text-align: right;\">     2.56942</td><td style=\"text-align: right;\">   2.55965</td></tr>\n",
       "<tr><td>training_function_6bafe212</td><td style=\"text-align: right;\">      4</td><td style=\"text-align: right;\">     2.23436</td><td style=\"text-align: right;\">   2.23828</td></tr>\n",
       "<tr><td>training_function_ad1705df</td><td style=\"text-align: right;\">      4</td><td style=\"text-align: right;\">     2.34132</td><td style=\"text-align: right;\">   2.34451</td></tr>\n",
       "<tr><td>training_function_c440e386</td><td style=\"text-align: right;\">      4</td><td style=\"text-align: right;\">     1.37606</td><td style=\"text-align: right;\">   1.35372</td></tr>\n",
       "<tr><td>training_function_cf27a389</td><td style=\"text-align: right;\">      2</td><td style=\"text-align: right;\">     2.41937</td><td style=\"text-align: right;\">   2.4064 </td></tr>\n",
       "<tr><td>training_function_e9109a5d</td><td style=\"text-align: right;\">      4</td><td style=\"text-align: right;\">     1.89179</td><td style=\"text-align: right;\">   1.87241</td></tr>\n",
       "</tbody>\n",
       "</table>\n",
       "</div>\n",
       "<style>\n",
       ".trialProgress {\n",
       "  display: flex;\n",
       "  flex-direction: column;\n",
       "  color: var(--jp-ui-font-color1);\n",
       "}\n",
       ".trialProgress h3 {\n",
       "  font-weight: bold;\n",
       "}\n",
       ".trialProgress td {\n",
       "  white-space: nowrap;\n",
       "}\n",
       "</style>\n"
      ],
      "text/plain": [
       "<IPython.core.display.HTML object>"
      ]
     },
     "metadata": {},
     "output_type": "display_data"
    },
    {
     "name": "stderr",
     "output_type": "stream",
     "text": [
      "2025-02-28 20:39:44,657\tINFO tune.py:1009 -- Wrote the latest version of all result files and experiment state to '/workspace/pytorch-transformer_2/translation_trial/eng_zul_seg_three/ray_results/transformer_tune' in 0.0256s.\n",
      "2025-02-28 20:39:44,666\tINFO tune.py:1041 -- Total run time: 6333.65 seconds (6333.60 seconds for the tuning loop).\n"
     ]
    },
    {
     "name": "stdout",
     "output_type": "stream",
     "text": [
      "\n",
      "Best hyperparameters found:\n",
      "{'lr': 0.00013314712768007711, 'd_model': 512, 'num_layers': 3, 'num_heads': 4, 'd_ff': 512, 'dropout': 0.16778232810127977, 'label_smoothing': 0.049099854180566754, 'max_grad_norm': 1.117638390647386}\n",
      "Increasing dataset size for full training...\n",
      "Using device: cuda\n",
      "Device name: NVIDIA A100 80GB PCIe\n",
      "Device memory: 79.253662109375 GB\n",
      "Original shape: (100000, 3)\n",
      "Final shape: (100000, 3)\n",
      "The config file has been saved on translation_trial/eng_zul_seg_three\n",
      "the dataset length: 100000\n",
      "Tokenizer path: translation_trial/eng_zul_seg_three/tokenizers/tokenizers_english.json\n",
      "Loading existing tokenizer from translation_trial/eng_zul_seg_three/tokenizers/tokenizers_english.json\n",
      "Tokenizer path: translation_trial/eng_zul_seg_three/tokenizers/tokenizers_segmenter_three.json\n",
      "Loading existing tokenizer from translation_trial/eng_zul_seg_three/tokenizers/tokenizers_segmenter_three.json\n",
      "Vocabulary finalized for inference\n",
      "Max length of source sentence: 77\n",
      "Max length of target sentence: 219\n",
      "\n",
      "Training with the following configuration:\n",
      "Dataset size: 100000\n",
      "Learning rate: 0.00013314712768007711\n",
      "Model architecture:\n",
      "- d_model: 512\n",
      "- num_layers: 3\n",
      "- num_heads: 4\n",
      "- d_ff: 512\n",
      "- dropout: 0.16778232810127977\n",
      "Training parameters:\n",
      "- label_smoothing: 0.049099854180566754\n",
      "- max_grad_norm: 1.117638390647386\n",
      "\n",
      "No pretrained model found, starting from scratch.\n"
     ]
    },
    {
     "name": "stderr",
     "output_type": "stream",
     "text": [
      "Processing Epoch 00: 100%|██████████| 1250/1250 [05:36<00:00,  3.71it/s, loss=1.128]\n"
     ]
    },
    {
     "name": "stdout",
     "output_type": "stream",
     "text": [
      "    SOURCE: if you are really lucky you may even end up getting to play the progressive jackpot making it one of the most exciting parts of the casino pay by mobile slot game\n",
      "    TARGET: uma une-nhlanhla nge-mpela unga-qed-a ku-z-e ko-ku-thol-a uku-dlal-a jackoto okuqhubek-a-yo okw-enz-a ku-b-e omu-nye izingxenye ejabulis-a ka-khulu w-e pay ye-khasino m-ob-ile s-lot gam-e\n",
      " PREDICTED: uma uma u-fun-a uku-thi uku-thi uku-thi uku-thi uku-thi uku-thi uku-thi uku-thi ku-b-a uku-thi uku-thi uku-thi uku-thi uku-thi ku-b-a uku-thi ku-b-a uku-thi ku-thi ku-b-a ku-b-a uku-a uku-a uku-thi ku-thi ku-thi ku-thi ku-thi uku-thi ku-thi uku-thi uku-thi ku-thi uku-thi uku-thi uku-thi uku-thi uku-thi uku-thi ku-thi uku-thi ku-thi uku-thi uku-thi uku-thi uku-thi uku-thi uku-thi uku-thi uku-thi uku-thi uku-thi uku-thi uku-thi uku-thi uku-thi uku-thi uku\n",
      "    SOURCE: i had no choice but to ring the police\n",
      "    TARGET: ngangingena-ku-kheth-a kodwa uku-biz-a amaphoyisa\n",
      " PREDICTED: ngi-fun-a uku-thi uku-thi uku-thi uku-thi uku-thi uku-thi ku-b-a uku-thi\n",
      "    SOURCE: for a team to work effectively it must be led by a leader as is the case during a work in group\n",
      "    TARGET: u-ku-z-e iqembu li-sebenz-e ng-oku-phumelel-a-yo ku-fanel-e li-holw-a umholi njengoba kunjalo nge-sikhathi umsebenzi we-qembu\n",
      " PREDICTED: nge-nxa ye-thu ya-kho uku-thi ku-b-a uku-thi uku-thi ku-b-a uku-thi uku-thi ku-b-a uku-thi uku-thi ku-b-a uku-thi ku-b-a kwe-thu\n",
      "----------------------------------------------------------------------------------------------------\n",
      "Epoch 0 - Validation Loss: 0.0006\n",
      "Saved best model from epoch 0 with validation loss: 0.000558\n",
      "Initial best loss set to 0.000558.\n"
     ]
    },
    {
     "name": "stderr",
     "output_type": "stream",
     "text": [
      "Processing Epoch 01: 100%|██████████| 1250/1250 [05:37<00:00,  3.70it/s, loss=1.059]\n"
     ]
    },
    {
     "name": "stdout",
     "output_type": "stream",
     "text": [
      "    SOURCE: if you are really lucky you may even end up getting to play the progressive jackpot making it one of the most exciting parts of the casino pay by mobile slot game\n",
      "    TARGET: uma une-nhlanhla nge-mpela unga-qed-a ku-z-e ko-ku-thol-a uku-dlal-a jackoto okuqhubek-a-yo okw-enz-a ku-b-e omu-nye izingxenye ejabulis-a ka-khulu w-e pay ye-khasino m-ob-ile s-lot gam-e\n",
      " PREDICTED: uma u-ya-s-e-ni u-kw-enz-a no-ma uku-b-a ku-phel-a uku-thol-a uku-thol-a uku-thi u-kw-enz-a kwe-minyaka e-ziningi e-ziningi e-ziningi e-ziningi e-ziningi e-ziningi e-ziningi e-ziningi e-ziningi e-ziningi e-ziningi e-ziningi\n",
      "    SOURCE: i had no choice but to ring the police\n",
      "    TARGET: ngangingena-ku-kheth-a kodwa uku-biz-a amaphoyisa\n",
      " PREDICTED: ngi-ya-thand-a uku-thi kodwa kodwa ku-khon-a uku-b-a y-into e-ziningi\n",
      "    SOURCE: for a team to work effectively it must be led by a leader as is the case during a work in group\n",
      "    TARGET: u-ku-z-e iqembu li-sebenz-e ng-oku-phumelel-a-yo ku-fanel-e li-holw-a umholi njengoba kunjalo nge-sikhathi umsebenzi we-qembu\n",
      " PREDICTED: ngo-ku-b-a y-into e-ku-z-e ku-b-e ku-fanel-e ku-b-e y-into e-ziningi e-ziningi e-ziningi e-ziningi\n",
      "----------------------------------------------------------------------------------------------------\n",
      "Epoch 1 - Validation Loss: 0.0005\n",
      "Improvement: 0.000558 -> 0.000537\n",
      "Saved best model from epoch 1 with validation loss: 0.000537\n"
     ]
    },
    {
     "name": "stderr",
     "output_type": "stream",
     "text": [
      "Processing Epoch 02: 100%|██████████| 1250/1250 [05:38<00:00,  3.69it/s, loss=1.024]\n"
     ]
    },
    {
     "name": "stdout",
     "output_type": "stream",
     "text": [
      "    SOURCE: if you are really lucky you may even end up getting to play the progressive jackpot making it one of the most exciting parts of the casino pay by mobile slot game\n",
      "    TARGET: uma une-nhlanhla nge-mpela unga-qed-a ku-z-e ko-ku-thol-a uku-dlal-a jackoto okuqhubek-a-yo okw-enz-a ku-b-e omu-nye izingxenye ejabulis-a ka-khulu w-e pay ye-khasino m-ob-ile s-lot gam-e\n",
      " PREDICTED: uma u-y-e nge-mpela u-ku-z-e u-ku-z-e u-dlal-e uku-dlal-a u-ku-z-e u-dlal-e nge-sikhathi so-ku-thol-a uku-thi i-tholakal-e nge-zinye izinhlobo ze-nkampani ye-nkampani ye-nkampani ye-nkampani ye-nkampani ye-nkampani ye-nkampani ye-nkampani\n",
      "    SOURCE: i had no choice but to ring the police\n",
      "    TARGET: ngangingena-ku-kheth-a kodwa uku-biz-a amaphoyisa\n",
      " PREDICTED: angi-kw-az-i uku-b-a no-ku-thi ngi-y-e e-dolobheni\n",
      "    SOURCE: for a team to work effectively it must be led by a leader as is the case during a work in group\n",
      "    TARGET: u-ku-z-e iqembu li-sebenz-e ng-oku-phumelel-a-yo ku-fanel-e li-holw-a umholi njengoba kunjalo nge-sikhathi umsebenzi we-qembu\n",
      " PREDICTED: nge-nxa ye-qembu ku-fanel-e ku-b-e ku-b-e y-ilapho u-fik-e e-ku-b-e y-ilapho igama le-qembu le-qembu le-qembu le-qembu le-qembu\n",
      "----------------------------------------------------------------------------------------------------\n",
      "Epoch 2 - Validation Loss: 0.0005\n",
      "Improvement: 0.000537 -> 0.000519\n",
      "Saved best model from epoch 2 with validation loss: 0.000519\n"
     ]
    },
    {
     "name": "stderr",
     "output_type": "stream",
     "text": [
      "Processing Epoch 03: 100%|██████████| 1250/1250 [05:40<00:00,  3.67it/s, loss=0.986]\n"
     ]
    },
    {
     "name": "stdout",
     "output_type": "stream",
     "text": [
      "    SOURCE: if you are really lucky you may even end up getting to play the progressive jackpot making it one of the most exciting parts of the casino pay by mobile slot game\n",
      "    TARGET: uma une-nhlanhla nge-mpela unga-qed-a ku-z-e ko-ku-thol-a uku-dlal-a jackoto okuqhubek-a-yo okw-enz-a ku-b-e omu-nye izingxenye ejabulis-a ka-khulu w-e pay ye-khasino m-ob-ile s-lot gam-e\n",
      " PREDICTED: uma u-khon-a nge-mpela u-ku-z-e u-gcin-e ng-isho no-ma u-ku-z-e u-dlal-e e-ku-dlal-e-ni kwe-zinye izingxenye ze-mali e-nkulu ye-midlalo ye-khasino ye-khasino i-khokh-e umdlalo we-khasino we-khasino we-khasino\n",
      "    SOURCE: i had no choice but to ring the police\n",
      "    TARGET: ngangingena-ku-kheth-a kodwa uku-biz-a amaphoyisa\n",
      " PREDICTED: angi-kw-az-i uku-kheth-a kodwa ngi-y-e e-kamelweni\n",
      "    SOURCE: for a team to work effectively it must be led by a leader as is the case during a work in group\n",
      "    TARGET: u-ku-z-e iqembu li-sebenz-e ng-oku-phumelel-a-yo ku-fanel-e li-holw-a umholi njengoba kunjalo nge-sikhathi umsebenzi we-qembu\n",
      " PREDICTED: nge-nxa yo-ku-sebenz-a kwe-qembu ku-fanel-e ku-b-e y-ilapho u-hol-e ng-umthetho njengoba kwenzek-a nge-sikhathi so-msebenzi\n",
      "----------------------------------------------------------------------------------------------------\n",
      "Epoch 3 - Validation Loss: 0.0005\n",
      "Improvement: 0.000519 -> 0.000508\n",
      "Saved best model from epoch 3 with validation loss: 0.000508\n"
     ]
    },
    {
     "name": "stderr",
     "output_type": "stream",
     "text": [
      "Processing Epoch 04: 100%|██████████| 1250/1250 [05:38<00:00,  3.69it/s, loss=0.975]\n"
     ]
    },
    {
     "name": "stdout",
     "output_type": "stream",
     "text": [
      "    SOURCE: if you are really lucky you may even end up getting to play the progressive jackpot making it one of the most exciting parts of the casino pay by mobile slot game\n",
      "    TARGET: uma une-nhlanhla nge-mpela unga-qed-a ku-z-e ko-ku-thol-a uku-dlal-a jackoto okuqhubek-a-yo okw-enz-a ku-b-e omu-nye izingxenye ejabulis-a ka-khulu w-e pay ye-khasino m-ob-ile s-lot gam-e\n",
      " PREDICTED: uma u-ya-bong-a nge-mpela ng-isho no-ku-phel-a uku-dlal-a e-ku-dlal-e-ni kwe-zindawo zo-ku-dlal-a esi-nye izingxenye e-ziningi ze-khasino ku-khokh-a umdlalo we-khasino we-khasino m-ob-ile ku-lo mdlalo we-khasino ye-khasino\n",
      "    SOURCE: i had no choice but to ring the police\n",
      "    TARGET: ngangingena-ku-kheth-a kodwa uku-biz-a amaphoyisa\n",
      " PREDICTED: angi-kw-az-i uku-kheth-a kodwa ngi-y-e e-ku-qal-e-ni amaphoyisa\n",
      "    SOURCE: for a team to work effectively it must be led by a leader as is the case during a work in group\n",
      "    TARGET: u-ku-z-e iqembu li-sebenz-e ng-oku-phumelel-a-yo ku-fanel-e li-holw-a umholi njengoba kunjalo nge-sikhathi umsebenzi we-qembu\n",
      " PREDICTED: e-qenjini lo-msebenzi ku-fanel-e ku-b-e y-umdlali njengoba kwenzek-a ng-umdlali njengoba kwenzek-a isikhathi so-msebenzi nge-sikhathi so-msebenzi\n",
      "----------------------------------------------------------------------------------------------------\n",
      "Epoch 4 - Validation Loss: 0.0005\n",
      "Improvement: 0.000508 -> 0.000498\n",
      "Saved best model from epoch 4 with validation loss: 0.000498\n"
     ]
    },
    {
     "name": "stderr",
     "output_type": "stream",
     "text": [
      "Processing Epoch 05: 100%|██████████| 1250/1250 [05:38<00:00,  3.69it/s, loss=0.973]\n"
     ]
    },
    {
     "name": "stdout",
     "output_type": "stream",
     "text": [
      "    SOURCE: if you are really lucky you may even end up getting to play the progressive jackpot making it one of the most exciting parts of the casino pay by mobile slot game\n",
      "    TARGET: uma une-nhlanhla nge-mpela unga-qed-a ku-z-e ko-ku-thol-a uku-dlal-a jackoto okuqhubek-a-yo okw-enz-a ku-b-e omu-nye izingxenye ejabulis-a ka-khulu w-e pay ye-khasino m-ob-ile s-lot gam-e\n",
      " PREDICTED: uma une-nhlanhla nge-mpela unga-s-e u-qed-e ng-isho no-ku-gcin-a uku-dlal-a e-ku-dlal-e-ni kwe-silinganiso esi-hle u-kw-enz-a enye ye-zingxenye e-ziningi ze-khasino casino i-khokh-e umdlalo we-khasino i-quketh-e umdlalo we-khasino i-quketh-e i-quketh-e umdlalo we-khasino i-quketh-e umdlalo\n",
      "    SOURCE: i had no choice but to ring the police\n",
      "    TARGET: ngangingena-ku-kheth-a kodwa uku-biz-a amaphoyisa\n",
      " PREDICTED: angi-zang-e ngi-kheth-e kodwa ngi-y-e e-celeni amaphoyisa\n",
      "    SOURCE: for a team to work effectively it must be led by a leader as is the case during a work in group\n",
      "    TARGET: u-ku-z-e iqembu li-sebenz-e ng-oku-phumelel-a-yo ku-fanel-e li-holw-a umholi njengoba kunjalo nge-sikhathi umsebenzi we-qembu\n",
      " PREDICTED: ngob-a iqembu lo-msebenzi u-ku-z-e ku-b-e ku-b-e y-umholi we-qembu njengoba kwenzek-a nge-sikhathi so-msebenzi\n",
      "----------------------------------------------------------------------------------------------------\n",
      "Epoch 5 - Validation Loss: 0.0005\n",
      "Improvement: 0.000498 -> 0.000491\n",
      "Saved best model from epoch 5 with validation loss: 0.000491\n"
     ]
    },
    {
     "name": "stderr",
     "output_type": "stream",
     "text": [
      "Processing Epoch 06: 100%|██████████| 1250/1250 [05:39<00:00,  3.68it/s, loss=0.979]\n"
     ]
    },
    {
     "name": "stdout",
     "output_type": "stream",
     "text": [
      "    SOURCE: if you are really lucky you may even end up getting to play the progressive jackpot making it one of the most exciting parts of the casino pay by mobile slot game\n",
      "    TARGET: uma une-nhlanhla nge-mpela unga-qed-a ku-z-e ko-ku-thol-a uku-dlal-a jackoto okuqhubek-a-yo okw-enz-a ku-b-e omu-nye izingxenye ejabulis-a ka-khulu w-e pay ye-khasino m-ob-ile s-lot gam-e\n",
      " PREDICTED: uma une-nhlanhla nge-mpela unga-s-e u-phel-e ng-isho no-ku-phel-a uku-dlal-a e-uro i-qhaz-a e-ku-thol-e-ni enye ye-zingxenye e-ziningi zo-ku-jabulis-a ka-khulu y-isikhungo se-khasino y-ezo-ku-khokh-a umdlalo we-khasino\n",
      "    SOURCE: i had no choice but to ring the police\n",
      "    TARGET: ngangingena-ku-kheth-a kodwa uku-biz-a amaphoyisa\n",
      " PREDICTED: angi-zang-e ngi-kheth-e uku-thi kodwa nga-maphoyisa\n",
      "    SOURCE: for a team to work effectively it must be led by a leader as is the case during a work in group\n",
      "    TARGET: u-ku-z-e iqembu li-sebenz-e ng-oku-phumelel-a-yo ku-fanel-e li-holw-a umholi njengoba kunjalo nge-sikhathi umsebenzi we-qembu\n",
      " PREDICTED: uku-sebenz-a kwe-qembu lo-ku-sebenz-a nge-mpumelelo ku-fanel-e ku-holel-e ng-umholi njengoba kwenzek-a phakath-i ne-qembu le-qembu\n",
      "----------------------------------------------------------------------------------------------------\n",
      "Epoch 6 - Validation Loss: 0.0005\n",
      "Improvement: 0.000491 -> 0.000485\n",
      "Saved best model from epoch 6 with validation loss: 0.000485\n"
     ]
    },
    {
     "name": "stderr",
     "output_type": "stream",
     "text": [
      "Processing Epoch 07: 100%|██████████| 1250/1250 [05:37<00:00,  3.70it/s, loss=0.917]\n"
     ]
    },
    {
     "name": "stdout",
     "output_type": "stream",
     "text": [
      "    SOURCE: if you are really lucky you may even end up getting to play the progressive jackpot making it one of the most exciting parts of the casino pay by mobile slot game\n",
      "    TARGET: uma une-nhlanhla nge-mpela unga-qed-a ku-z-e ko-ku-thol-a uku-dlal-a jackoto okuqhubek-a-yo okw-enz-a ku-b-e omu-nye izingxenye ejabulis-a ka-khulu w-e pay ye-khasino m-ob-ile s-lot gam-e\n",
      " PREDICTED: uma une-nhlanhla impela unga-s-e u-z-e u-fik-e e-ku-qal-e-ni uku-dlal-a e-uro a-t th-e c-e u-kw-enz-a enye ye-zingxenye ezinhle ka-khulu ze-khasino casino i-khokh-e ngo-mdlalo we-khasino m-ob-ile\n",
      "    SOURCE: i had no choice but to ring the police\n",
      "    TARGET: ngangingena-ku-kheth-a kodwa uku-biz-a amaphoyisa\n",
      " PREDICTED: angi-kheth-anga k-eph-a ngi-y-e wa-m-a amaphoyisa\n",
      "    SOURCE: for a team to work effectively it must be led by a leader as is the case during a work in group\n",
      "    TARGET: u-ku-z-e iqembu li-sebenz-e ng-oku-phumelel-a-yo ku-fanel-e li-holw-a umholi njengoba kunjalo nge-sikhathi umsebenzi we-qembu\n",
      " PREDICTED: iqembu lo-msebenzi u-ku-z-e ku-b-e s-enziw-e nge-mpumelelo ku-fanel-e li-holel-e umholi njengoba kwenzek-a nge-sikhathi so-msebenzi e-qenjini\n",
      "----------------------------------------------------------------------------------------------------\n",
      "Epoch 7 - Validation Loss: 0.0005\n",
      "Improvement: 0.000485 -> 0.000483\n",
      "Saved best model from epoch 7 with validation loss: 0.000483\n"
     ]
    },
    {
     "name": "stderr",
     "output_type": "stream",
     "text": [
      "Processing Epoch 08: 100%|██████████| 1250/1250 [05:38<00:00,  3.69it/s, loss=0.895]\n"
     ]
    },
    {
     "name": "stdout",
     "output_type": "stream",
     "text": [
      "    SOURCE: if you are really lucky you may even end up getting to play the progressive jackpot making it one of the most exciting parts of the casino pay by mobile slot game\n",
      "    TARGET: uma une-nhlanhla nge-mpela unga-qed-a ku-z-e ko-ku-thol-a uku-dlal-a jackoto okuqhubek-a-yo okw-enz-a ku-b-e omu-nye izingxenye ejabulis-a ka-khulu w-e pay ye-khasino m-ob-ile s-lot gam-e\n",
      " PREDICTED: uma une-nhlanhla nge-mpela unga-s-e u-gcin-e ng-isho no-ku-phel-a uku-dlal-a e-uro a-t th-e c-e wenz-a enye ye-zingxenye ezinhle ka-khulu ze-khasino casino i-khokh-e imali ye-khasino m-ob-ile\n",
      "    SOURCE: i had no choice but to ring the police\n",
      "    TARGET: ngangingena-ku-kheth-a kodwa uku-biz-a amaphoyisa\n",
      " PREDICTED: angi-zang-e ngi-kheth-e k-eph-a ngi-y-e ya-maphoyisa\n",
      "    SOURCE: for a team to work effectively it must be led by a leader as is the case during a work in group\n",
      "    TARGET: u-ku-z-e iqembu li-sebenz-e ng-oku-phumelel-a-yo ku-fanel-e li-holw-a umholi njengoba kunjalo nge-sikhathi umsebenzi we-qembu\n",
      " PREDICTED: ngob-a iqembu lo-ku-sebenz-a nge-mpumelelo ku-mel-e li-holel-e umholi njengoba kwenzek-a nge-sikhathi so-msebenzi e-qenjini\n",
      "----------------------------------------------------------------------------------------------------\n",
      "Epoch 8 - Validation Loss: 0.0005\n",
      "Improvement: 0.000483 -> 0.000479\n",
      "Saved best model from epoch 8 with validation loss: 0.000479\n"
     ]
    },
    {
     "name": "stderr",
     "output_type": "stream",
     "text": [
      "Processing Epoch 09: 100%|██████████| 1250/1250 [05:40<00:00,  3.68it/s, loss=0.922]\n"
     ]
    },
    {
     "name": "stdout",
     "output_type": "stream",
     "text": [
      "    SOURCE: if you are really lucky you may even end up getting to play the progressive jackpot making it one of the most exciting parts of the casino pay by mobile slot game\n",
      "    TARGET: uma une-nhlanhla nge-mpela unga-qed-a ku-z-e ko-ku-thol-a uku-dlal-a jackoto okuqhubek-a-yo okw-enz-a ku-b-e omu-nye izingxenye ejabulis-a ka-khulu w-e pay ye-khasino m-ob-ile s-lot gam-e\n",
      " PREDICTED: uma une-nhlanhla unga-s-e u-gcin-e ng-isho no-ku-phel-a uku-dlal-a e-uro i-biz-a e-ku-dlal-e-ni kwe-sigamu se-zingxenye ezinhle ka-khulu ze-khasino zi-khokh-e imali ye-khasino m-ob-ile\n",
      "    SOURCE: i had no choice but to ring the police\n",
      "    TARGET: ngangingena-ku-kheth-a kodwa uku-biz-a amaphoyisa\n",
      " PREDICTED: angi-kw-az-anga uku-kheth-a kodwa amaphoyisa\n",
      "    SOURCE: for a team to work effectively it must be led by a leader as is the case during a work in group\n",
      "    TARGET: u-ku-z-e iqembu li-sebenz-e ng-oku-phumelel-a-yo ku-fanel-e li-holw-a umholi njengoba kunjalo nge-sikhathi umsebenzi we-qembu\n",
      " PREDICTED: iqembu lo-ku-sebenz-a nge-mpumelelo ku-mel-e li-holel-e umholi njengoba kunjalo nge-sikhathi so-msebenzi e-qenjini\n",
      "----------------------------------------------------------------------------------------------------\n",
      "Epoch 9 - Validation Loss: 0.0005\n",
      "Improvement: 0.000479 -> 0.000478\n",
      "Saved best model from epoch 9 with validation loss: 0.000478\n"
     ]
    },
    {
     "name": "stderr",
     "output_type": "stream",
     "text": [
      "Processing Epoch 10: 100%|██████████| 1250/1250 [05:38<00:00,  3.69it/s, loss=0.892]\n"
     ]
    },
    {
     "name": "stdout",
     "output_type": "stream",
     "text": [
      "    SOURCE: if you are really lucky you may even end up getting to play the progressive jackpot making it one of the most exciting parts of the casino pay by mobile slot game\n",
      "    TARGET: uma une-nhlanhla nge-mpela unga-qed-a ku-z-e ko-ku-thol-a uku-dlal-a jackoto okuqhubek-a-yo okw-enz-a ku-b-e omu-nye izingxenye ejabulis-a ka-khulu w-e pay ye-khasino m-ob-ile s-lot gam-e\n",
      " PREDICTED: uma une-nhlanhla nge-mpela unga-s-e u-gcin-e ng-isho no-ku-phel-a uku-dlal-a e-kamelweni le-dolobha la-s-enz-a enye ye-zingxenye zo-ku-jabulis-a ka-khulu ze-khasino a-khokh-e ngo-mdlalo we-selula\n",
      "    SOURCE: i had no choice but to ring the police\n",
      "    TARGET: ngangingena-ku-kheth-a kodwa uku-biz-a amaphoyisa\n",
      " PREDICTED: angina-so uku-kheth-a kodwa e-ku-khal-e-ni amaphoyisa\n",
      "    SOURCE: for a team to work effectively it must be led by a leader as is the case during a work in group\n",
      "    TARGET: u-ku-z-e iqembu li-sebenz-e ng-oku-phumelel-a-yo ku-fanel-e li-holw-a umholi njengoba kunjalo nge-sikhathi umsebenzi we-qembu\n",
      " PREDICTED: iqembu lo-ku-sebenz-a nge-mpumelelo ku-fanel-e li-holel-e umholi njengoba kwenzek-a nge-sikhathi so-msebenzi e-qenjini\n",
      "----------------------------------------------------------------------------------------------------\n",
      "Epoch 10 - Validation Loss: 0.0005\n",
      "Improvement: 0.000478 -> 0.000476\n",
      "Saved best model from epoch 10 with validation loss: 0.000476\n"
     ]
    },
    {
     "name": "stderr",
     "output_type": "stream",
     "text": [
      "Processing Epoch 11: 100%|██████████| 1250/1250 [05:38<00:00,  3.69it/s, loss=0.896]\n"
     ]
    },
    {
     "name": "stdout",
     "output_type": "stream",
     "text": [
      "    SOURCE: if you are really lucky you may even end up getting to play the progressive jackpot making it one of the most exciting parts of the casino pay by mobile slot game\n",
      "    TARGET: uma une-nhlanhla nge-mpela unga-qed-a ku-z-e ko-ku-thol-a uku-dlal-a jackoto okuqhubek-a-yo okw-enz-a ku-b-e omu-nye izingxenye ejabulis-a ka-khulu w-e pay ye-khasino m-ob-ile s-lot gam-e\n",
      " PREDICTED: uma une-nhlanhla unga-s-e u-gcin-e ng-isho no-ku-gcin-a uku-dlal-a e-uro ku-y-enz-a enye ye-zingxenye zo-ku-jabulis-a ka-khulu ikhasino i-khokh-e i-qhaz-a ku-thelevishini ye-selula\n",
      "    SOURCE: i had no choice but to ring the police\n",
      "    TARGET: ngangingena-ku-kheth-a kodwa uku-biz-a amaphoyisa\n",
      " PREDICTED: angi-zang-e ngi-kheth-e kodwa amaphoyisa\n",
      "    SOURCE: for a team to work effectively it must be led by a leader as is the case during a work in group\n",
      "    TARGET: u-ku-z-e iqembu li-sebenz-e ng-oku-phumelel-a-yo ku-fanel-e li-holw-a umholi njengoba kunjalo nge-sikhathi umsebenzi we-qembu\n",
      " PREDICTED: iqembu lo-ku-sebenz-a nge-mpumelelo ku-fanel-e li-holel-e umholi njengoba kwenzek-a phakath-i no-msebenzi e-qenjini\n",
      "----------------------------------------------------------------------------------------------------\n",
      "Epoch 11 - Validation Loss: 0.0005\n",
      "Improvement: 0.000476 -> 0.000476\n",
      "Saved best model from epoch 11 with validation loss: 0.000476\n"
     ]
    },
    {
     "name": "stderr",
     "output_type": "stream",
     "text": [
      "Processing Epoch 12: 100%|██████████| 1250/1250 [05:38<00:00,  3.69it/s, loss=0.881]\n"
     ]
    },
    {
     "name": "stdout",
     "output_type": "stream",
     "text": [
      "    SOURCE: if you are really lucky you may even end up getting to play the progressive jackpot making it one of the most exciting parts of the casino pay by mobile slot game\n",
      "    TARGET: uma une-nhlanhla nge-mpela unga-qed-a ku-z-e ko-ku-thol-a uku-dlal-a jackoto okuqhubek-a-yo okw-enz-a ku-b-e omu-nye izingxenye ejabulis-a ka-khulu w-e pay ye-khasino m-ob-ile s-lot gam-e\n",
      " PREDICTED: uma une-nhlanhla unga-s-e u-gcin-e ng-isho no-ku-phel-a uku-dlal-a e-uro al-enz-a ku-b-e enye ye-zingxenye ezithakazelis-a-yo ka-khulu ze-khasino zi-khokh-e i-phon-e ngo-mdlalo we-selula\n",
      "    SOURCE: i had no choice but to ring the police\n",
      "    TARGET: ngangingena-ku-kheth-a kodwa uku-biz-a amaphoyisa\n",
      " PREDICTED: angi-zang-e ngi-kheth-e kodwa ngi-khal-e amaphoyisa\n",
      "    SOURCE: for a team to work effectively it must be led by a leader as is the case during a work in group\n",
      "    TARGET: u-ku-z-e iqembu li-sebenz-e ng-oku-phumelel-a-yo ku-fanel-e li-holw-a umholi njengoba kunjalo nge-sikhathi umsebenzi we-qembu\n",
      " PREDICTED: ngob-a iqembu lo-ku-sebenz-a nge-mpumelelo ku-mel-e li-holel-e umholi njengoba kwenzek-a nge-sikhathi so-msebenzi e-qenjini\n",
      "----------------------------------------------------------------------------------------------------\n",
      "Epoch 12 - Validation Loss: 0.0005\n",
      "Improvement: 0.000476 -> 0.000476\n",
      "Saved best model from epoch 12 with validation loss: 0.000476\n"
     ]
    },
    {
     "name": "stderr",
     "output_type": "stream",
     "text": [
      "Processing Epoch 13: 100%|██████████| 1250/1250 [05:37<00:00,  3.70it/s, loss=0.859]\n"
     ]
    },
    {
     "name": "stdout",
     "output_type": "stream",
     "text": [
      "    SOURCE: if you are really lucky you may even end up getting to play the progressive jackpot making it one of the most exciting parts of the casino pay by mobile slot game\n",
      "    TARGET: uma une-nhlanhla nge-mpela unga-qed-a ku-z-e ko-ku-thol-a uku-dlal-a jackoto okuqhubek-a-yo okw-enz-a ku-b-e omu-nye izingxenye ejabulis-a ka-khulu w-e pay ye-khasino m-ob-ile s-lot gam-e\n",
      " PREDICTED: uma une-nhlanhla nge-mpela unga-s-e u-phel-e ng-isho uku-phel-a uku-dlal-a e-uro al-enz-a ku-b-e enye ye-zingxenye ezinhle ka-khulu ze-khasino a-khokh-e i-qhaz-a kw-ikhomputha ye-khasino m-ob-ile s-lot gam-e\n",
      "    SOURCE: i had no choice but to ring the police\n",
      "    TARGET: ngangingena-ku-kheth-a kodwa uku-biz-a amaphoyisa\n",
      " PREDICTED: angi-zang-e ngi-zi-khethel-e kodwa amaphoyisa\n",
      "    SOURCE: for a team to work effectively it must be led by a leader as is the case during a work in group\n",
      "    TARGET: u-ku-z-e iqembu li-sebenz-e ng-oku-phumelel-a-yo ku-fanel-e li-holw-a umholi njengoba kunjalo nge-sikhathi umsebenzi we-qembu\n",
      " PREDICTED: e-qenjini lo-ku-sebenz-a nge-mpumelelo ku-mel-e li-holel-e umholi njengoba kwenzek-a nge-sikhathi so-msebenzi e-qenjini\n",
      "----------------------------------------------------------------------------------------------------\n",
      "Epoch 13 - Validation Loss: 0.0005\n",
      "Improvement: 0.000476 -> 0.000473\n",
      "Saved best model from epoch 13 with validation loss: 0.000473\n"
     ]
    },
    {
     "name": "stderr",
     "output_type": "stream",
     "text": [
      "Processing Epoch 14: 100%|██████████| 1250/1250 [05:39<00:00,  3.69it/s, loss=0.871]\n"
     ]
    },
    {
     "name": "stdout",
     "output_type": "stream",
     "text": [
      "    SOURCE: if you are really lucky you may even end up getting to play the progressive jackpot making it one of the most exciting parts of the casino pay by mobile slot game\n",
      "    TARGET: uma une-nhlanhla nge-mpela unga-qed-a ku-z-e ko-ku-thol-a uku-dlal-a jackoto okuqhubek-a-yo okw-enz-a ku-b-e omu-nye izingxenye ejabulis-a ka-khulu w-e pay ye-khasino m-ob-ile s-lot gam-e\n",
      " PREDICTED: uma une-nhlanhla nge-mpela unga-s-e u-gcin-e uku-thol-a uku-dlal-a e-uro yenz-a enye ye-zingxenye ezinhle ka-khulu ze-khasino a-khokh-e i-qhaz-a ku-inthanethi s-lot gam-e of th-e s-lot gam-e\n",
      "    SOURCE: i had no choice but to ring the police\n",
      "    TARGET: ngangingena-ku-kheth-a kodwa uku-biz-a amaphoyisa\n",
      " PREDICTED: angi-zang-e ngi-zi-khethel-e kodwa amaphoyisa\n",
      "    SOURCE: for a team to work effectively it must be led by a leader as is the case during a work in group\n",
      "    TARGET: u-ku-z-e iqembu li-sebenz-e ng-oku-phumelel-a-yo ku-fanel-e li-holw-a umholi njengoba kunjalo nge-sikhathi umsebenzi we-qembu\n",
      " PREDICTED: iqembu lo-ku-sebenz-a nge-mpumelelo ku-fanel-e li-holel-e umholi njengoba kwenzek-a nge-sikhathi so-msebenzi e-qenjini\n",
      "----------------------------------------------------------------------------------------------------\n",
      "Epoch 14 - Validation Loss: 0.0005\n",
      "Improvement: 0.000473 -> 0.000470\n",
      "Saved best model from epoch 14 with validation loss: 0.000470\n"
     ]
    },
    {
     "name": "stderr",
     "output_type": "stream",
     "text": [
      "Processing Epoch 15: 100%|██████████| 1250/1250 [05:38<00:00,  3.69it/s, loss=0.840]\n"
     ]
    },
    {
     "name": "stdout",
     "output_type": "stream",
     "text": [
      "    SOURCE: if you are really lucky you may even end up getting to play the progressive jackpot making it one of the most exciting parts of the casino pay by mobile slot game\n",
      "    TARGET: uma une-nhlanhla nge-mpela unga-qed-a ku-z-e ko-ku-thol-a uku-dlal-a jackoto okuqhubek-a-yo okw-enz-a ku-b-e omu-nye izingxenye ejabulis-a ka-khulu w-e pay ye-khasino m-ob-ile s-lot gam-e\n",
      " PREDICTED: uma une-nhlanhla unga-s-e u-gcin-e ng-isho uku-dlal-a e-qenjini le-c u-kw-enz-a ku-b-e omu-nye izingxenye ezithakazelis-a-yo ka-khulu ze-khasino a-khokh-e ng-umdlalo we-selula\n",
      "    SOURCE: i had no choice but to ring the police\n",
      "    TARGET: ngangingena-ku-kheth-a kodwa uku-biz-a amaphoyisa\n",
      " PREDICTED: angina-kho uku-kheth-a k-eph-a amaphoyisa\n",
      "    SOURCE: for a team to work effectively it must be led by a leader as is the case during a work in group\n",
      "    TARGET: u-ku-z-e iqembu li-sebenz-e ng-oku-phumelel-a-yo ku-fanel-e li-holw-a umholi njengoba kunjalo nge-sikhathi umsebenzi we-qembu\n",
      " PREDICTED: iqembu lo-ku-sebenz-a nge-mpumelelo ku-mel-e li-holw-e ng-umholi njengoba kwenzek-a nge-sikhathi so-msebenzi iqembu\n",
      "----------------------------------------------------------------------------------------------------\n",
      "Epoch 15 - Validation Loss: 0.0005\n",
      "Loss increased: 0.000470 -> 0.000473. Counter: 1/5\n"
     ]
    },
    {
     "name": "stderr",
     "output_type": "stream",
     "text": [
      "Processing Epoch 16: 100%|██████████| 1250/1250 [05:38<00:00,  3.69it/s, loss=0.861]\n"
     ]
    },
    {
     "name": "stdout",
     "output_type": "stream",
     "text": [
      "    SOURCE: if you are really lucky you may even end up getting to play the progressive jackpot making it one of the most exciting parts of the casino pay by mobile slot game\n",
      "    TARGET: uma une-nhlanhla nge-mpela unga-qed-a ku-z-e ko-ku-thol-a uku-dlal-a jackoto okuqhubek-a-yo okw-enz-a ku-b-e omu-nye izingxenye ejabulis-a ka-khulu w-e pay ye-khasino m-ob-ile s-lot gam-e\n",
      " PREDICTED: uma une-nhlanhla unga-s-e u-gcin-e uku-dlal-a e-qenjini le-c yenz-a ku-b-e enye ye-zingxenye ezinhle ka-khulu ze-khasino a-khokh-e ng-umdlalo we-selula\n",
      "    SOURCE: i had no choice but to ring the police\n",
      "    TARGET: ngangingena-ku-kheth-a kodwa uku-biz-a amaphoyisa\n",
      " PREDICTED: angi-zang-e ngi-zi-khethel-e kodwa amaphoyisa\n",
      "    SOURCE: for a team to work effectively it must be led by a leader as is the case during a work in group\n",
      "    TARGET: u-ku-z-e iqembu li-sebenz-e ng-oku-phumelel-a-yo ku-fanel-e li-holw-a umholi njengoba kunjalo nge-sikhathi umsebenzi we-qembu\n",
      " PREDICTED: e-qenjini lo-ku-sebenz-a nge-mpumelelo ku-fanel-e li-holel-e umholi njengoba kwenzek-a nge-sikhathi so-msebenzi e-qenjini\n",
      "----------------------------------------------------------------------------------------------------\n",
      "Epoch 16 - Validation Loss: 0.0005\n",
      "Loss increased: 0.000470 -> 0.000474. Counter: 2/5\n"
     ]
    },
    {
     "name": "stderr",
     "output_type": "stream",
     "text": [
      "Processing Epoch 17: 100%|██████████| 1250/1250 [05:39<00:00,  3.69it/s, loss=0.883]\n"
     ]
    },
    {
     "name": "stdout",
     "output_type": "stream",
     "text": [
      "    SOURCE: if you are really lucky you may even end up getting to play the progressive jackpot making it one of the most exciting parts of the casino pay by mobile slot game\n",
      "    TARGET: uma une-nhlanhla nge-mpela unga-qed-a ku-z-e ko-ku-thol-a uku-dlal-a jackoto okuqhubek-a-yo okw-enz-a ku-b-e omu-nye izingxenye ejabulis-a ka-khulu w-e pay ye-khasino m-ob-ile s-lot gam-e\n",
      " PREDICTED: uma une-nhlanhla nge-mpela unga-s-e u-gcin-e uku-dlal-a e-qenjini le-c wenz-a enye ye-zingxenye ezi-thakazelis-a ka-khulu ze-khasino a-khokh-e ngo-mdlalo we-selula\n",
      "    SOURCE: i had no choice but to ring the police\n",
      "    TARGET: ngangingena-ku-kheth-a kodwa uku-biz-a amaphoyisa\n",
      " PREDICTED: angi-zang-e ngi-kheth-e kodwa ngi-khal-e amaphoyisa\n",
      "    SOURCE: for a team to work effectively it must be led by a leader as is the case during a work in group\n",
      "    TARGET: u-ku-z-e iqembu li-sebenz-e ng-oku-phumelel-a-yo ku-fanel-e li-holw-a umholi njengoba kunjalo nge-sikhathi umsebenzi we-qembu\n",
      " PREDICTED: e-qenjini lo-ku-sebenz-a nge-mpumelelo ku-fanel-e ku-holel-e umholi njengoba kwenzek-a nge-sikhathi so-msebenzi e-qenjini\n",
      "----------------------------------------------------------------------------------------------------\n",
      "Epoch 17 - Validation Loss: 0.0005\n",
      "Loss increased: 0.000470 -> 0.000473. Counter: 3/5\n"
     ]
    },
    {
     "name": "stderr",
     "output_type": "stream",
     "text": [
      "Processing Epoch 18: 100%|██████████| 1250/1250 [05:39<00:00,  3.68it/s, loss=0.855]\n"
     ]
    },
    {
     "name": "stdout",
     "output_type": "stream",
     "text": [
      "    SOURCE: if you are really lucky you may even end up getting to play the progressive jackpot making it one of the most exciting parts of the casino pay by mobile slot game\n",
      "    TARGET: uma une-nhlanhla nge-mpela unga-qed-a ku-z-e ko-ku-thol-a uku-dlal-a jackoto okuqhubek-a-yo okw-enz-a ku-b-e omu-nye izingxenye ejabulis-a ka-khulu w-e pay ye-khasino m-ob-ile s-lot gam-e\n",
      " PREDICTED: uma une-nhlanhla nge-mpela unga-s-e u-gcin-e uku-thol-a uku-dlal-a jackoto e-kw-enz-e-ni ku-b-e enye ye-zingxenye ezinhle ezinhle ka-khulu ze-khasino a-khokh-e ngo-mdlalo we-selula\n",
      "    SOURCE: i had no choice but to ring the police\n",
      "    TARGET: ngangingena-ku-kheth-a kodwa uku-biz-a amaphoyisa\n",
      " PREDICTED: angina-yo uku-kheth-a kodwa ngi-khal-e amaphoyisa\n",
      "    SOURCE: for a team to work effectively it must be led by a leader as is the case during a work in group\n",
      "    TARGET: u-ku-z-e iqembu li-sebenz-e ng-oku-phumelel-a-yo ku-fanel-e li-holw-a umholi njengoba kunjalo nge-sikhathi umsebenzi we-qembu\n",
      " PREDICTED: iqembu uku-sebenz-a nge-mpumelelo ku-mel-e li-holw-e ng-umholi njengoba kwenzek-a nge-sikhathi so-msebenzi e-qenjini\n",
      "----------------------------------------------------------------------------------------------------\n",
      "Epoch 18 - Validation Loss: 0.0005\n",
      "Loss increased: 0.000470 -> 0.000471. Counter: 4/5\n"
     ]
    },
    {
     "name": "stderr",
     "output_type": "stream",
     "text": [
      "Processing Epoch 19: 100%|██████████| 1250/1250 [05:38<00:00,  3.70it/s, loss=0.862]\n"
     ]
    },
    {
     "name": "stdout",
     "output_type": "stream",
     "text": [
      "    SOURCE: if you are really lucky you may even end up getting to play the progressive jackpot making it one of the most exciting parts of the casino pay by mobile slot game\n",
      "    TARGET: uma une-nhlanhla nge-mpela unga-qed-a ku-z-e ko-ku-thol-a uku-dlal-a jackoto okuqhubek-a-yo okw-enz-a ku-b-e omu-nye izingxenye ejabulis-a ka-khulu w-e pay ye-khasino m-ob-ile s-lot gam-e\n",
      " PREDICTED: uma une-nhlanhla unga-s-e u-gcin-e uku-dlal-a e-qenjini le-sibili okw-enz-a ku-b-e omu-nye izingxenye ezithakazelis-a-yo ka-khulu ze-khasino a-khokh-e y-iyona s-lot gam-e\n",
      "    SOURCE: i had no choice but to ring the police\n",
      "    TARGET: ngangingena-ku-kheth-a kodwa uku-biz-a amaphoyisa\n",
      " PREDICTED: angina-yo uku-kheth-a k-eph-a ngi-khal-a amaphoyisa\n",
      "    SOURCE: for a team to work effectively it must be led by a leader as is the case during a work in group\n",
      "    TARGET: u-ku-z-e iqembu li-sebenz-e ng-oku-phumelel-a-yo ku-fanel-e li-holw-a umholi njengoba kunjalo nge-sikhathi umsebenzi we-qembu\n",
      " PREDICTED: uku-sebenz-a kwe-qembu ku-mel-e ku-holel-e nge-mpumelelo umholi njengoba kwenzek-a nge-sikhathi so-msebenzi e-qenjini\n",
      "----------------------------------------------------------------------------------------------------\n",
      "Epoch 19 - Validation Loss: 0.0005\n",
      "Loss increased: 0.000470 -> 0.000474. Counter: 5/5\n",
      "Early stopping triggered due to loss increasing.\n",
      "Early stopping triggered\n"
     ]
    },
    {
     "data": {
      "image/png": "[encoded data removed]",
      "text/plain": [
       "<Figure size 1000x500 with 1 Axes>"
      ]
     },
     "metadata": {},
     "output_type": "display_data"
    }
   ],
   "source": [
    "if torch.cuda.is_available():\n",
    "    torch.cuda.empty_cache()\n",
    "\n",
    "# Initial config with small dataset for tuning\n",
    "config = {\n",
    "    # Data and training parameters\n",
    "    \"datasource\": 'nllb_segmented_data.csv',\n",
    "    \"batch_size\": 64,\n",
    "    \"num_epochs\": 100,\n",
    "    \"lr\": 10**-5,\n",
    "    'plateau_patience': 10,  # New for plateau detection\n",
    "    'worsen_patience': 5,   # New for worsen detection\n",
    "    'min_delta': 0.0005,    # Minimum improvement for loss\n",
    "    'verbose': True,\n",
    "    \"data_length\": 100000,\n",
    "    \n",
    "    # Model architecture parameters\n",
    "    \"seq_len\": 250,\n",
    "    \"d_model\": 512,        # Dimension of the model\n",
    "    \"num_layers\": 6,       # Number of encoder/decoder layers (N)\n",
    "    \"num_heads\": 8,        # Number of attention heads (h)\n",
    "    \"d_ff\": 2048,         # Dimension of feed-forward network\n",
    "    \"dropout\": 0.1,       # Dropout rate\n",
    "    \"max_grad_norm\": 1.0,  # Gradient clipping\n",
    "    \"label_smoothing\": 0.1,# Label smoothing factor\n",
    "    \n",
    "    # Vocabulary and tokenization\n",
    "    'vocab_size': 30000,\n",
    "    \"tokenize_custom\": {\n",
    "        \"english\": False,\n",
    "        \"segmenter_three\": True\n",
    "    },\n",
    "    'tokenize_method': 'segment',\n",
    "    \n",
    "    # File paths and model settings\n",
    "    \"file_path\": 'english_zulu_models/english_zulu_seg_one',\n",
    "    \"model_folder\": \"weights\",\n",
    "    \"lang_src\": \"english\",\n",
    "    \"lang_tgt\": \"segmenter_three\",\n",
    "    \"model_basename\": \"model_\",\n",
    "    \"preload\": \"latest\",\n",
    "    \"tokenizer_file\": \"tokenizers_{0}.json\",\n",
    "    \"experiment_name\": \"english_zulu_models/english_zulu_seg_one/tensor_data\",\n",
    "    \"random_seed\": 20,\n",
    "}\n",
    "\n",
    "\n",
    "# Initialize first trainer - this builds vocabulary on full dataset\n",
    "print(\"Initializing trainer with full dataset for vocabulary building...\")\n",
    "trainer = Seq2SeqTrainer(config)\n",
    "\n",
    "# Modify data length for hyperparameter tuning\n",
    "print(\"Reducing dataset size for hyperparameter tuning...\")\n",
    "trainer.config[\"data_length\"] = 20000  # Smaller size for quick tuning\n",
    "tune_trainer = Seq2SeqTrainer(trainer.config)\n",
    "\n",
    "# Run hyperparameter optimization with small dataset\n",
    "best_config, analysis = tune_trainer.tune_hyperparameters(\n",
    "    num_samples=10,  # Number of trials\n",
    "    num_epochs=5    # Epochs per trial\n",
    ")\n",
    "\n",
    "# Now increase dataset size for full training\n",
    "print(\"Increasing dataset size for full training...\")\n",
    "tune_trainer.config[\"data_length\"] = 100000  # Larger size for full training\n",
    "train_trainer = Seq2SeqTrainer(tune_trainer.config)\n",
    "train_trainer.train()\n",
    "\n"
   ]
  },
  {
   "cell_type": "code",
   "execution_count": 6,
   "id": "98097181-ca2c-4198-85ba-a2dee053d95b",
   "metadata": {
    "scrolled": true
   },
   "outputs": [
    {
     "name": "stdout",
     "output_type": "stream",
     "text": [
      "Initializing trainer with full dataset for vocabulary building...\n",
      "Using device: cuda\n",
      "Device name: NVIDIA A100 80GB PCIe\n",
      "Device memory: 79.253662109375 GB\n",
      "Original shape: (100000, 3)\n",
      "Final shape: (100000, 3)\n",
      "The config file has been saved on translation_trial/eng_zul_none\n",
      "the dataset length: 100000\n",
      "Tokenizer path: translation_trial/eng_zul_none/tokenizers/tokenizers_english.json\n",
      "Tokenizer not found. Creating a new one...\n",
      "Creating default Tokenizer\n",
      "Tokenizer path: translation_trial/eng_zul_none/tokenizers/tokenizers_isizulu.json\n",
      "Tokenizer not found. Creating a new one...\n",
      "Creating default Tokenizer\n",
      "Max length of source sentence: 77\n",
      "Max length of target sentence: 53\n",
      "Reducing dataset size for hyperparameter tuning...\n",
      "Using device: cuda\n",
      "Device name: NVIDIA A100 80GB PCIe\n",
      "Device memory: 79.253662109375 GB\n",
      "Original shape: (100000, 3)\n",
      "Final shape: (20000, 3)\n",
      "The config file has been saved on translation_trial/eng_zul_none\n",
      "the dataset length: 20000\n",
      "Tokenizer path: translation_trial/eng_zul_none/tokenizers/tokenizers_english.json\n",
      "Loading existing tokenizer from translation_trial/eng_zul_none/tokenizers/tokenizers_english.json\n",
      "Tokenizer path: translation_trial/eng_zul_none/tokenizers/tokenizers_isizulu.json\n",
      "Loading existing tokenizer from translation_trial/eng_zul_none/tokenizers/tokenizers_isizulu.json\n",
      "Max length of source sentence: 69\n",
      "Max length of target sentence: 50\n"
     ]
    },
    {
     "name": "stderr",
     "output_type": "stream",
     "text": [
      "2025-02-28 22:34:23,740\tINFO worker.py:1654 -- Calling ray.init() again after it has already been called.\n",
      "2025-02-28 22:34:23,836\tINFO tune.py:616 -- [output] This uses the legacy output and progress reporter, as Jupyter notebooks are not supported by the new engine, yet. For more information, please see https://github.com/ray-project/ray/issues/36949\n",
      "[I 2025-02-28 22:34:23,846] A new study created in memory with name: optuna\n"
     ]
    },
    {
     "name": "stdout",
     "output_type": "stream",
     "text": [
      "/workspace/pytorch-transformer_2/translation_trial/eng_zul_none/ray_results\n"
     ]
    },
    {
     "data": {
      "text/html": [
       "<div class=\"tuneStatus\">\n",
       "  <div style=\"display: flex;flex-direction: row\">\n",
       "    <div style=\"display: flex;flex-direction: column;\">\n",
       "      <h3>Tune Status</h3>\n",
       "      <table>\n",
       "<tbody>\n",
       "<tr><td>Current time:</td><td>2025-02-28 23:14:06</td></tr>\n",
       "<tr><td>Running for: </td><td>00:39:42.74        </td></tr>\n",
       "<tr><td>Memory:      </td><td>10.3/125.8 GiB     </td></tr>\n",
       "</tbody>\n",
       "</table>\n",
       "    </div>\n",
       "    <div class=\"vDivider\"></div>\n",
       "    <div class=\"systemInfo\">\n",
       "      <h3>System Info</h3>\n",
       "      Using AsyncHyperBand: num_stopped=4<br>Bracket: Iter 4.000: -7.271445599973202 | Iter 2.000: -7.594362830460071<br>Bracket: Iter 4.000: -7.586595534741878<br>Bracket: <br>Logical resource usage: 32.0/64 CPUs, 1.0/1 GPUs (0.0/1.0 accelerator_type:A100)\n",
       "    </div>\n",
       "    \n",
       "  </div>\n",
       "  <div class=\"hDivider\"></div>\n",
       "  <div class=\"trialStatus\">\n",
       "    <h3>Trial Status</h3>\n",
       "    <table>\n",
       "<thead>\n",
       "<tr><th>Trial name                </th><th>status    </th><th>loc             </th><th style=\"text-align: right;\">  d_ff</th><th style=\"text-align: right;\">  d_model</th><th style=\"text-align: right;\">  dropout</th><th style=\"text-align: right;\">  label_smoothing</th><th style=\"text-align: right;\">         lr</th><th style=\"text-align: right;\">  max_grad_norm</th><th style=\"text-align: right;\">  num_heads</th><th style=\"text-align: right;\">  num_layers</th><th style=\"text-align: right;\">  iter</th><th style=\"text-align: right;\">  total time (s)</th><th style=\"text-align: right;\">  train_loss</th><th style=\"text-align: right;\">  val_loss</th><th style=\"text-align: right;\">  epoch</th></tr>\n",
       "</thead>\n",
       "<tbody>\n",
       "<tr><td>training_function_9f3ff8dc</td><td>TERMINATED</td><td>172.17.0.2:19202</td><td style=\"text-align: right;\">  1024</td><td style=\"text-align: right;\">      256</td><td style=\"text-align: right;\"> 0.129933</td><td style=\"text-align: right;\">        0.0405711</td><td style=\"text-align: right;\">1.03616e-05</td><td style=\"text-align: right;\">       1.31456 </td><td style=\"text-align: right;\">          4</td><td style=\"text-align: right;\">           6</td><td style=\"text-align: right;\">     5</td><td style=\"text-align: right;\">         284.596</td><td style=\"text-align: right;\">     8.05277</td><td style=\"text-align: right;\">   7.91436</td><td style=\"text-align: right;\">      4</td></tr>\n",
       "<tr><td>training_function_4412a8f3</td><td>TERMINATED</td><td>172.17.0.2:19447</td><td style=\"text-align: right;\">  1024</td><td style=\"text-align: right;\">      256</td><td style=\"text-align: right;\"> 0.149367</td><td style=\"text-align: right;\">        0.122728 </td><td style=\"text-align: right;\">7.04327e-05</td><td style=\"text-align: right;\">       1.26325 </td><td style=\"text-align: right;\">          4</td><td style=\"text-align: right;\">           6</td><td style=\"text-align: right;\">     5</td><td style=\"text-align: right;\">         277.899</td><td style=\"text-align: right;\">     7.51569</td><td style=\"text-align: right;\">   7.49166</td><td style=\"text-align: right;\">      4</td></tr>\n",
       "<tr><td>training_function_62a3bea5</td><td>TERMINATED</td><td>172.17.0.2:19694</td><td style=\"text-align: right;\">   512</td><td style=\"text-align: right;\">      128</td><td style=\"text-align: right;\"> 0.215813</td><td style=\"text-align: right;\">        0.114288 </td><td style=\"text-align: right;\">1.79506e-05</td><td style=\"text-align: right;\">       1.17932 </td><td style=\"text-align: right;\">          4</td><td style=\"text-align: right;\">           4</td><td style=\"text-align: right;\">     5</td><td style=\"text-align: right;\">         175.007</td><td style=\"text-align: right;\">     8.58667</td><td style=\"text-align: right;\">   8.4661 </td><td style=\"text-align: right;\">      4</td></tr>\n",
       "<tr><td>training_function_6cc64e7e</td><td>TERMINATED</td><td>172.17.0.2:19926</td><td style=\"text-align: right;\">   512</td><td style=\"text-align: right;\">      512</td><td style=\"text-align: right;\"> 0.223679</td><td style=\"text-align: right;\">        0.147936 </td><td style=\"text-align: right;\">1.55273e-05</td><td style=\"text-align: right;\">       0.594003</td><td style=\"text-align: right;\">          4</td><td style=\"text-align: right;\">           6</td><td style=\"text-align: right;\">     5</td><td style=\"text-align: right;\">         342.344</td><td style=\"text-align: right;\">     7.71726</td><td style=\"text-align: right;\">   7.66322</td><td style=\"text-align: right;\">      4</td></tr>\n",
       "<tr><td>training_function_dc2ad673</td><td>TERMINATED</td><td>172.17.0.2:20181</td><td style=\"text-align: right;\">  2048</td><td style=\"text-align: right;\">      256</td><td style=\"text-align: right;\"> 0.154826</td><td style=\"text-align: right;\">        0.0617625</td><td style=\"text-align: right;\">0.000206127</td><td style=\"text-align: right;\">       1.02432 </td><td style=\"text-align: right;\">          8</td><td style=\"text-align: right;\">           4</td><td style=\"text-align: right;\">     5</td><td style=\"text-align: right;\">         231.888</td><td style=\"text-align: right;\">     6.9636 </td><td style=\"text-align: right;\">   7.10229</td><td style=\"text-align: right;\">      4</td></tr>\n",
       "<tr><td>training_function_16c0427f</td><td>TERMINATED</td><td>172.17.0.2:20420</td><td style=\"text-align: right;\">  1024</td><td style=\"text-align: right;\">      128</td><td style=\"text-align: right;\"> 0.111281</td><td style=\"text-align: right;\">        0.0841629</td><td style=\"text-align: right;\">3.88407e-05</td><td style=\"text-align: right;\">       1.37831 </td><td style=\"text-align: right;\">         16</td><td style=\"text-align: right;\">           3</td><td style=\"text-align: right;\">     5</td><td style=\"text-align: right;\">         159.152</td><td style=\"text-align: right;\">     7.59074</td><td style=\"text-align: right;\">   7.50997</td><td style=\"text-align: right;\">      4</td></tr>\n",
       "<tr><td>training_function_442cb80b</td><td>TERMINATED</td><td>172.17.0.2:20649</td><td style=\"text-align: right;\">  1024</td><td style=\"text-align: right;\">      256</td><td style=\"text-align: right;\"> 0.129122</td><td style=\"text-align: right;\">        0.0881017</td><td style=\"text-align: right;\">0.000428942</td><td style=\"text-align: right;\">       0.803818</td><td style=\"text-align: right;\">          4</td><td style=\"text-align: right;\">           4</td><td style=\"text-align: right;\">     5</td><td style=\"text-align: right;\">         210.458</td><td style=\"text-align: right;\">     6.82053</td><td style=\"text-align: right;\">   7.11528</td><td style=\"text-align: right;\">      4</td></tr>\n",
       "<tr><td>training_function_5cdc806d</td><td>TERMINATED</td><td>172.17.0.2:20886</td><td style=\"text-align: right;\">   512</td><td style=\"text-align: right;\">      256</td><td style=\"text-align: right;\"> 0.125832</td><td style=\"text-align: right;\">        0.196594 </td><td style=\"text-align: right;\">7.93897e-05</td><td style=\"text-align: right;\">       0.967673</td><td style=\"text-align: right;\">          4</td><td style=\"text-align: right;\">           6</td><td style=\"text-align: right;\">     3</td><td style=\"text-align: right;\">         165.712</td><td style=\"text-align: right;\">     7.89901</td><td style=\"text-align: right;\">   7.82673</td><td style=\"text-align: right;\">      2</td></tr>\n",
       "<tr><td>training_function_48131998</td><td>TERMINATED</td><td>172.17.0.2:21116</td><td style=\"text-align: right;\">   512</td><td style=\"text-align: right;\">      512</td><td style=\"text-align: right;\"> 0.173274</td><td style=\"text-align: right;\">        0.18605  </td><td style=\"text-align: right;\">0.00080843 </td><td style=\"text-align: right;\">       0.663022</td><td style=\"text-align: right;\">          4</td><td style=\"text-align: right;\">           6</td><td style=\"text-align: right;\">     3</td><td style=\"text-align: right;\">         209.965</td><td style=\"text-align: right;\">     7.72602</td><td style=\"text-align: right;\">   7.68182</td><td style=\"text-align: right;\">      2</td></tr>\n",
       "<tr><td>training_function_6b7ca251</td><td>TERMINATED</td><td>172.17.0.2:21353</td><td style=\"text-align: right;\">  1024</td><td style=\"text-align: right;\">      128</td><td style=\"text-align: right;\"> 0.111523</td><td style=\"text-align: right;\">        0.136182 </td><td style=\"text-align: right;\">0.000428358</td><td style=\"text-align: right;\">       0.705173</td><td style=\"text-align: right;\">         16</td><td style=\"text-align: right;\">           6</td><td style=\"text-align: right;\">     5</td><td style=\"text-align: right;\">         255.87 </td><td style=\"text-align: right;\">     7.30426</td><td style=\"text-align: right;\">   7.42761</td><td style=\"text-align: right;\">      4</td></tr>\n",
       "</tbody>\n",
       "</table>\n",
       "  </div>\n",
       "</div>\n",
       "<style>\n",
       ".tuneStatus {\n",
       "  color: var(--jp-ui-font-color1);\n",
       "}\n",
       ".tuneStatus .systemInfo {\n",
       "  display: flex;\n",
       "  flex-direction: column;\n",
       "}\n",
       ".tuneStatus td {\n",
       "  white-space: nowrap;\n",
       "}\n",
       ".tuneStatus .trialStatus {\n",
       "  display: flex;\n",
       "  flex-direction: column;\n",
       "}\n",
       ".tuneStatus h3 {\n",
       "  font-weight: bold;\n",
       "}\n",
       ".tuneStatus .hDivider {\n",
       "  border-bottom-width: var(--jp-border-width);\n",
       "  border-bottom-color: var(--jp-border-color0);\n",
       "  border-bottom-style: solid;\n",
       "}\n",
       ".tuneStatus .vDivider {\n",
       "  border-left-width: var(--jp-border-width);\n",
       "  border-left-color: var(--jp-border-color0);\n",
       "  border-left-style: solid;\n",
       "  margin: 0.5em 1em 0.5em 1em;\n",
       "}\n",
       "</style>\n"
      ],
      "text/plain": [
       "<IPython.core.display.HTML object>"
      ]
     },
     "metadata": {},
     "output_type": "display_data"
    },
    {
     "data": {
      "text/html": [
       "<div class=\"trialProgress\">\n",
       "  <h3>Trial Progress</h3>\n",
       "  <table>\n",
       "<thead>\n",
       "<tr><th>Trial name                </th><th style=\"text-align: right;\">  epoch</th><th style=\"text-align: right;\">  train_loss</th><th style=\"text-align: right;\">  val_loss</th></tr>\n",
       "</thead>\n",
       "<tbody>\n",
       "<tr><td>training_function_16c0427f</td><td style=\"text-align: right;\">      4</td><td style=\"text-align: right;\">     7.59074</td><td style=\"text-align: right;\">   7.50997</td></tr>\n",
       "<tr><td>training_function_4412a8f3</td><td style=\"text-align: right;\">      4</td><td style=\"text-align: right;\">     7.51569</td><td style=\"text-align: right;\">   7.49166</td></tr>\n",
       "<tr><td>training_function_442cb80b</td><td style=\"text-align: right;\">      4</td><td style=\"text-align: right;\">     6.82053</td><td style=\"text-align: right;\">   7.11528</td></tr>\n",
       "<tr><td>training_function_48131998</td><td style=\"text-align: right;\">      2</td><td style=\"text-align: right;\">     7.72602</td><td style=\"text-align: right;\">   7.68182</td></tr>\n",
       "<tr><td>training_function_5cdc806d</td><td style=\"text-align: right;\">      2</td><td style=\"text-align: right;\">     7.89901</td><td style=\"text-align: right;\">   7.82673</td></tr>\n",
       "<tr><td>training_function_62a3bea5</td><td style=\"text-align: right;\">      4</td><td style=\"text-align: right;\">     8.58667</td><td style=\"text-align: right;\">   8.4661 </td></tr>\n",
       "<tr><td>training_function_6b7ca251</td><td style=\"text-align: right;\">      4</td><td style=\"text-align: right;\">     7.30426</td><td style=\"text-align: right;\">   7.42761</td></tr>\n",
       "<tr><td>training_function_6cc64e7e</td><td style=\"text-align: right;\">      4</td><td style=\"text-align: right;\">     7.71726</td><td style=\"text-align: right;\">   7.66322</td></tr>\n",
       "<tr><td>training_function_9f3ff8dc</td><td style=\"text-align: right;\">      4</td><td style=\"text-align: right;\">     8.05277</td><td style=\"text-align: right;\">   7.91436</td></tr>\n",
       "<tr><td>training_function_dc2ad673</td><td style=\"text-align: right;\">      4</td><td style=\"text-align: right;\">     6.9636 </td><td style=\"text-align: right;\">   7.10229</td></tr>\n",
       "</tbody>\n",
       "</table>\n",
       "</div>\n",
       "<style>\n",
       ".trialProgress {\n",
       "  display: flex;\n",
       "  flex-direction: column;\n",
       "  color: var(--jp-ui-font-color1);\n",
       "}\n",
       ".trialProgress h3 {\n",
       "  font-weight: bold;\n",
       "}\n",
       ".trialProgress td {\n",
       "  white-space: nowrap;\n",
       "}\n",
       "</style>\n"
      ],
      "text/plain": [
       "<IPython.core.display.HTML object>"
      ]
     },
     "metadata": {},
     "output_type": "display_data"
    },
    {
     "name": "stderr",
     "output_type": "stream",
     "text": [
      "2025-02-28 23:14:06,592\tINFO tune.py:1009 -- Wrote the latest version of all result files and experiment state to '/workspace/pytorch-transformer_2/translation_trial/eng_zul_none/ray_results/transformer_tune' in 0.0233s.\n",
      "2025-02-28 23:14:06,599\tINFO tune.py:1041 -- Total run time: 2382.76 seconds (2382.72 seconds for the tuning loop).\n"
     ]
    },
    {
     "name": "stdout",
     "output_type": "stream",
     "text": [
      "\n",
      "Best hyperparameters found:\n",
      "{'lr': 0.0002061272326943589, 'd_model': 256, 'num_layers': 4, 'num_heads': 8, 'd_ff': 2048, 'dropout': 0.15482615128668842, 'label_smoothing': 0.061762487321112364, 'max_grad_norm': 1.0243239402716817}\n",
      "Increasing dataset size for full training...\n",
      "Using device: cuda\n",
      "Device name: NVIDIA A100 80GB PCIe\n",
      "Device memory: 79.253662109375 GB\n",
      "Original shape: (100000, 3)\n",
      "Final shape: (100000, 3)\n",
      "The config file has been saved on translation_trial/eng_zul_none\n",
      "the dataset length: 100000\n",
      "Tokenizer path: translation_trial/eng_zul_none/tokenizers/tokenizers_english.json\n",
      "Loading existing tokenizer from translation_trial/eng_zul_none/tokenizers/tokenizers_english.json\n",
      "Tokenizer path: translation_trial/eng_zul_none/tokenizers/tokenizers_isizulu.json\n",
      "Loading existing tokenizer from translation_trial/eng_zul_none/tokenizers/tokenizers_isizulu.json\n",
      "Max length of source sentence: 77\n",
      "Max length of target sentence: 53\n",
      "\n",
      "Training with the following configuration:\n",
      "Dataset size: 100000\n",
      "Learning rate: 0.0002061272326943589\n",
      "Model architecture:\n",
      "- d_model: 256\n",
      "- num_layers: 4\n",
      "- num_heads: 8\n",
      "- d_ff: 2048\n",
      "- dropout: 0.15482615128668842\n",
      "Training parameters:\n",
      "- label_smoothing: 0.061762487321112364\n",
      "- max_grad_norm: 1.0243239402716817\n",
      "\n",
      "No pretrained model found, starting from scratch.\n"
     ]
    },
    {
     "name": "stderr",
     "output_type": "stream",
     "text": [
      "Processing Epoch 00: 100%|██████████| 1250/1250 [01:48<00:00, 11.56it/s, loss=7.315]\n"
     ]
    },
    {
     "name": "stdout",
     "output_type": "stream",
     "text": [
      "    SOURCE: if you are really lucky you may even end up getting to play the progressive jackpot making it one of the most exciting parts of the casino pay by mobile slot game\n",
      "    TARGET: uma unenhlanhla ngempela ungaqeda kuze kokuthola ukudlala jackpot okuqhubekayo okwenza kube omunye izingxenye ejabulisa kakhulu we pay yekhasino mobile slot game\n",
      " PREDICTED: \n",
      "    SOURCE: i had no choice but to ring the police\n",
      "    TARGET: ngangingenakukhetha kodwa ukubiza amaphoyisa\n",
      " PREDICTED: \n",
      "    SOURCE: for a team to work effectively it must be led by a leader as is the case during a work in group\n",
      "    TARGET: ukuze iqembu lisebenze ngokuphumelelayo kufanele liholwa umholi njengoba kunjalo ngesikhathi umsebenzi weqembu\n",
      " PREDICTED: \n",
      "----------------------------------------------------------------------------------------------------\n",
      "Epoch 0 - Validation Loss: 0.0022\n",
      "Saved best model from epoch 0 with validation loss: 0.002179\n",
      "Initial best loss set to 0.002179.\n"
     ]
    },
    {
     "name": "stderr",
     "output_type": "stream",
     "text": [
      "Processing Epoch 01: 100%|██████████| 1250/1250 [01:55<00:00, 10.78it/s, loss=6.755]\n"
     ]
    },
    {
     "name": "stdout",
     "output_type": "stream",
     "text": [
      "    SOURCE: if you are really lucky you may even end up getting to play the progressive jackpot making it one of the most exciting parts of the casino pay by mobile slot game\n",
      "    TARGET: uma unenhlanhla ngempela ungaqeda kuze kokuthola ukudlala jackpot okuqhubekayo okwenza kube omunye izingxenye ejabulisa kakhulu we pay yekhasino mobile slot game\n",
      " PREDICTED: uma noma\n",
      "    SOURCE: i had no choice but to ring the police\n",
      "    TARGET: ngangingenakukhetha kodwa ukubiza amaphoyisa\n",
      " PREDICTED: kodwa\n",
      "    SOURCE: for a team to work effectively it must be led by a leader as is the case during a work in group\n",
      "    TARGET: ukuze iqembu lisebenze ngokuphumelelayo kufanele liholwa umholi njengoba kunjalo ngesikhathi umsebenzi weqembu\n",
      " PREDICTED: \n",
      "----------------------------------------------------------------------------------------------------\n",
      "Epoch 1 - Validation Loss: 0.0020\n",
      "Improvement: 0.002179 -> 0.002027\n",
      "Saved best model from epoch 1 with validation loss: 0.002027\n"
     ]
    },
    {
     "name": "stderr",
     "output_type": "stream",
     "text": [
      "Processing Epoch 02: 100%|██████████| 1250/1250 [01:57<00:00, 10.67it/s, loss=6.299]\n"
     ]
    },
    {
     "name": "stdout",
     "output_type": "stream",
     "text": [
      "    SOURCE: if you are really lucky you may even end up getting to play the progressive jackpot making it one of the most exciting parts of the casino pay by mobile slot game\n",
      "    TARGET: uma unenhlanhla ngempela ungaqeda kuze kokuthola ukudlala jackpot okuqhubekayo okwenza kube omunye izingxenye ejabulisa kakhulu we pay yekhasino mobile slot game\n",
      " PREDICTED: uma noma kakhulu\n",
      "    SOURCE: i had no choice but to ring the police\n",
      "    TARGET: ngangingenakukhetha kodwa ukubiza amaphoyisa\n",
      " PREDICTED: kodwa\n",
      "    SOURCE: for a team to work effectively it must be led by a leader as is the case during a work in group\n",
      "    TARGET: ukuze iqembu lisebenze ngokuphumelelayo kufanele liholwa umholi njengoba kunjalo ngesikhathi umsebenzi weqembu\n",
      " PREDICTED: kufanele ngesikhathi esifanayo\n",
      "----------------------------------------------------------------------------------------------------\n",
      "Epoch 2 - Validation Loss: 0.0018\n",
      "Improvement: 0.002027 -> 0.001849\n",
      "Saved best model from epoch 2 with validation loss: 0.001849\n"
     ]
    },
    {
     "name": "stderr",
     "output_type": "stream",
     "text": [
      "Processing Epoch 03: 100%|██████████| 1250/1250 [01:56<00:00, 10.71it/s, loss=5.894]\n"
     ]
    },
    {
     "name": "stdout",
     "output_type": "stream",
     "text": [
      "    SOURCE: if you are really lucky you may even end up getting to play the progressive jackpot making it one of the most exciting parts of the casino pay by mobile slot game\n",
      "    TARGET: uma unenhlanhla ngempela ungaqeda kuze kokuthola ukudlala jackpot okuqhubekayo okwenza kube omunye izingxenye ejabulisa kakhulu we pay yekhasino mobile slot game\n",
      " PREDICTED: uma kakhulu ngisho ngisho ukudlala eziningi\n",
      "    SOURCE: i had no choice but to ring the police\n",
      "    TARGET: ngangingenakukhetha kodwa ukubiza amaphoyisa\n",
      " PREDICTED: kodwa\n",
      "    SOURCE: for a team to work effectively it must be led by a leader as is the case during a work in group\n",
      "    TARGET: ukuze iqembu lisebenze ngokuphumelelayo kufanele liholwa umholi njengoba kunjalo ngesikhathi umsebenzi weqembu\n",
      " PREDICTED: ngenxa yalokho umsebenzi kufanele kube khona ngesikhathi esifanayo\n",
      "----------------------------------------------------------------------------------------------------\n",
      "Epoch 3 - Validation Loss: 0.0018\n",
      "Improvement: 0.001849 -> 0.001757\n",
      "Saved best model from epoch 3 with validation loss: 0.001757\n"
     ]
    },
    {
     "name": "stderr",
     "output_type": "stream",
     "text": [
      "Processing Epoch 04: 100%|██████████| 1250/1250 [01:57<00:00, 10.64it/s, loss=5.755]\n"
     ]
    },
    {
     "name": "stdout",
     "output_type": "stream",
     "text": [
      "    SOURCE: if you are really lucky you may even end up getting to play the progressive jackpot making it one of the most exciting parts of the casino pay by mobile slot game\n",
      "    TARGET: uma unenhlanhla ngempela ungaqeda kuze kokuthola ukudlala jackpot okuqhubekayo okwenza kube omunye izingxenye ejabulisa kakhulu we pay yekhasino mobile slot game\n",
      " PREDICTED: uma ngempela ngisho ukudlala ukudlala enye izinhlobo\n",
      "    SOURCE: i had no choice but to ring the police\n",
      "    TARGET: ngangingenakukhetha kodwa ukubiza amaphoyisa\n",
      " PREDICTED: kodwa\n",
      "    SOURCE: for a team to work effectively it must be led by a leader as is the case during a work in group\n",
      "    TARGET: ukuze iqembu lisebenze ngokuphumelelayo kufanele liholwa umholi njengoba kunjalo ngesikhathi umsebenzi weqembu\n",
      " PREDICTED: ngenxa yezizathu kufanele ngesikhathi esifanayo\n",
      "----------------------------------------------------------------------------------------------------\n",
      "Epoch 4 - Validation Loss: 0.0017\n",
      "Improvement: 0.001757 -> 0.001688\n",
      "Saved best model from epoch 4 with validation loss: 0.001688\n"
     ]
    },
    {
     "name": "stderr",
     "output_type": "stream",
     "text": [
      "Processing Epoch 05: 100%|██████████| 1250/1250 [01:57<00:00, 10.66it/s, loss=5.362]\n"
     ]
    },
    {
     "name": "stdout",
     "output_type": "stream",
     "text": [
      "    SOURCE: if you are really lucky you may even end up getting to play the progressive jackpot making it one of the most exciting parts of the casino pay by mobile slot game\n",
      "    TARGET: uma unenhlanhla ngempela ungaqeda kuze kokuthola ukudlala jackpot okuqhubekayo okwenza kube omunye izingxenye ejabulisa kakhulu we pay yekhasino mobile slot game\n",
      " PREDICTED: uma ngempela ngisho ngisho ukudlala ukwenza enye izingxenye eziningi\n",
      "    SOURCE: i had no choice but to ring the police\n",
      "    TARGET: ngangingenakukhetha kodwa ukubiza amaphoyisa\n",
      " PREDICTED: kodwa amaphoyisa\n",
      "    SOURCE: for a team to work effectively it must be led by a leader as is the case during a work in group\n",
      "    TARGET: ukuze iqembu lisebenze ngokuphumelelayo kufanele liholwa umholi njengoba kunjalo ngesikhathi umsebenzi weqembu\n",
      " PREDICTED: ngenxa yezizathu kakhulu kufanele kube ngesikhathi esizayo\n",
      "----------------------------------------------------------------------------------------------------\n",
      "Epoch 5 - Validation Loss: 0.0016\n",
      "Improvement: 0.001688 -> 0.001574\n",
      "Saved best model from epoch 5 with validation loss: 0.001574\n"
     ]
    },
    {
     "name": "stderr",
     "output_type": "stream",
     "text": [
      "Processing Epoch 06: 100%|██████████| 1250/1250 [01:56<00:00, 10.70it/s, loss=5.230]\n"
     ]
    },
    {
     "name": "stdout",
     "output_type": "stream",
     "text": [
      "    SOURCE: if you are really lucky you may even end up getting to play the progressive jackpot making it one of the most exciting parts of the casino pay by mobile slot game\n",
      "    TARGET: uma unenhlanhla ngempela ungaqeda kuze kokuthola ukudlala jackpot okuqhubekayo okwenza kube omunye izingxenye ejabulisa kakhulu we pay yekhasino mobile slot game\n",
      " PREDICTED: uma ngempela ngisho ukudlala ukudlala ukwenza enye yezindawo kakhulu casino\n",
      "    SOURCE: i had no choice but to ring the police\n",
      "    TARGET: ngangingenakukhetha kodwa ukubiza amaphoyisa\n",
      " PREDICTED: kodwa amaphoyisa\n",
      "    SOURCE: for a team to work effectively it must be led by a leader as is the case during a work in group\n",
      "    TARGET: ukuze iqembu lisebenze ngokuphumelelayo kufanele liholwa umholi njengoba kunjalo ngesikhathi umsebenzi weqembu\n",
      " PREDICTED: eqenjini ukusebenza kahle kufanele kube njengoba kwenzeka ngesikhathi esizayo\n",
      "----------------------------------------------------------------------------------------------------\n",
      "Epoch 6 - Validation Loss: 0.0014\n",
      "Improvement: 0.001574 -> 0.001435\n",
      "Saved best model from epoch 6 with validation loss: 0.001435\n"
     ]
    },
    {
     "name": "stderr",
     "output_type": "stream",
     "text": [
      "Processing Epoch 07: 100%|██████████| 1250/1250 [01:56<00:00, 10.70it/s, loss=4.826]\n"
     ]
    },
    {
     "name": "stdout",
     "output_type": "stream",
     "text": [
      "    SOURCE: if you are really lucky you may even end up getting to play the progressive jackpot making it one of the most exciting parts of the casino pay by mobile slot game\n",
      "    TARGET: uma unenhlanhla ngempela ungaqeda kuze kokuthola ukudlala jackpot okuqhubekayo okwenza kube omunye izingxenye ejabulisa kakhulu we pay yekhasino mobile slot game\n",
      " PREDICTED: uma ngempela ungakwazi ngisho ukudlala ukudlala ukwenza kube yinto eyodwa kakhulu izingxenye casino casino\n",
      "    SOURCE: i had no choice but to ring the police\n",
      "    TARGET: ngangingenakukhetha kodwa ukubiza amaphoyisa\n",
      " PREDICTED: kepha amaphoyisa\n",
      "    SOURCE: for a team to work effectively it must be led by a leader as is the case during a work in group\n",
      "    TARGET: ukuze iqembu lisebenze ngokuphumelelayo kufanele liholwa umholi njengoba kunjalo ngesikhathi umsebenzi weqembu\n",
      " PREDICTED: eqenjini ukusebenza ngempumelelo kufanele ngesikhathi esifanayo\n",
      "----------------------------------------------------------------------------------------------------\n",
      "Epoch 7 - Validation Loss: 0.0014\n",
      "Improvement: 0.001435 -> 0.001372\n",
      "Saved best model from epoch 7 with validation loss: 0.001372\n"
     ]
    },
    {
     "name": "stderr",
     "output_type": "stream",
     "text": [
      "Processing Epoch 08: 100%|██████████| 1250/1250 [01:57<00:00, 10.67it/s, loss=4.388]\n"
     ]
    },
    {
     "name": "stdout",
     "output_type": "stream",
     "text": [
      "    SOURCE: if you are really lucky you may even end up getting to play the progressive jackpot making it one of the most exciting parts of the casino pay by mobile slot game\n",
      "    TARGET: uma unenhlanhla ngempela ungaqeda kuze kokuthola ukudlala jackpot okuqhubekayo okwenza kube omunye izingxenye ejabulisa kakhulu we pay yekhasino mobile slot game\n",
      " PREDICTED: uma ngempela ungakwazi ngisho ukudlala ukudlala ukwenza enye izingxenye kakhulu casino game\n",
      "    SOURCE: i had no choice but to ring the police\n",
      "    TARGET: ngangingenakukhetha kodwa ukubiza amaphoyisa\n",
      " PREDICTED: kodwa amaphoyisa\n",
      "    SOURCE: for a team to work effectively it must be led by a leader as is the case during a work in group\n",
      "    TARGET: ukuze iqembu lisebenze ngokuphumelelayo kufanele liholwa umholi njengoba kunjalo ngesikhathi umsebenzi weqembu\n",
      " PREDICTED: eqenjini ukusebenza ngempumelelo kufanele umholi njengoba kwenzeka ngesikhathi umsebenzi\n",
      "----------------------------------------------------------------------------------------------------\n",
      "Epoch 8 - Validation Loss: 0.0013\n",
      "Improvement: 0.001372 -> 0.001307\n",
      "Saved best model from epoch 8 with validation loss: 0.001307\n"
     ]
    },
    {
     "name": "stderr",
     "output_type": "stream",
     "text": [
      "Processing Epoch 09: 100%|██████████| 1250/1250 [01:57<00:00, 10.66it/s, loss=4.494]\n"
     ]
    },
    {
     "name": "stdout",
     "output_type": "stream",
     "text": [
      "    SOURCE: if you are really lucky you may even end up getting to play the progressive jackpot making it one of the most exciting parts of the casino pay by mobile slot game\n",
      "    TARGET: uma unenhlanhla ngempela ungaqeda kuze kokuthola ukudlala jackpot okuqhubekayo okwenza kube omunye izingxenye ejabulisa kakhulu we pay yekhasino mobile slot game\n",
      " PREDICTED: uma ngempela ungakwazi ngisho ekupheleni ukudlala ukwenza kube enye izingxenye kakhulu casino game game\n",
      "    SOURCE: i had no choice but to ring the police\n",
      "    TARGET: ngangingenakukhetha kodwa ukubiza amaphoyisa\n",
      " PREDICTED: kepha amaphoyisa\n",
      "    SOURCE: for a team to work effectively it must be led by a leader as is the case during a work in group\n",
      "    TARGET: ukuze iqembu lisebenze ngokuphumelelayo kufanele liholwa umholi njengoba kunjalo ngesikhathi umsebenzi weqembu\n",
      " PREDICTED: eqenjini ukusebenza ngempumelelo kufanele umholi njengoba kwenzeka ngesikhathi umsebenzi eqenjini\n",
      "----------------------------------------------------------------------------------------------------\n",
      "Epoch 9 - Validation Loss: 0.0013\n",
      "Improvement: 0.001307 -> 0.001272\n",
      "Saved best model from epoch 9 with validation loss: 0.001272\n"
     ]
    },
    {
     "name": "stderr",
     "output_type": "stream",
     "text": [
      "Processing Epoch 10: 100%|██████████| 1250/1250 [01:56<00:00, 10.68it/s, loss=4.267]\n"
     ]
    },
    {
     "name": "stdout",
     "output_type": "stream",
     "text": [
      "    SOURCE: if you are really lucky you may even end up getting to play the progressive jackpot making it one of the most exciting parts of the casino pay by mobile slot game\n",
      "    TARGET: uma unenhlanhla ngempela ungaqeda kuze kokuthola ukudlala jackpot okuqhubekayo okwenza kube omunye izingxenye ejabulisa kakhulu we pay yekhasino mobile slot game\n",
      " PREDICTED: uma ngempela ungakwazi ngisho ukudlala umshini ukwenza kube enye yezindawo kakhulu casino casino\n",
      "    SOURCE: i had no choice but to ring the police\n",
      "    TARGET: ngangingenakukhetha kodwa ukubiza amaphoyisa\n",
      " PREDICTED: kodwa amaphoyisa\n",
      "    SOURCE: for a team to work effectively it must be led by a leader as is the case during a work in group\n",
      "    TARGET: ukuze iqembu lisebenze ngokuphumelelayo kufanele liholwa umholi njengoba kunjalo ngesikhathi umsebenzi weqembu\n",
      " PREDICTED: ukuze iqembu ngempumelelo kufanele umholi njengoba kwenzeka ngesikhathi umsebenzi eqenjini\n",
      "----------------------------------------------------------------------------------------------------\n",
      "Epoch 10 - Validation Loss: 0.0013\n",
      "Improvement: 0.001272 -> 0.001255\n",
      "Saved best model from epoch 10 with validation loss: 0.001255\n"
     ]
    },
    {
     "name": "stderr",
     "output_type": "stream",
     "text": [
      "Processing Epoch 11: 100%|██████████| 1250/1250 [01:57<00:00, 10.68it/s, loss=4.316]\n"
     ]
    },
    {
     "name": "stdout",
     "output_type": "stream",
     "text": [
      "    SOURCE: if you are really lucky you may even end up getting to play the progressive jackpot making it one of the most exciting parts of the casino pay by mobile slot game\n",
      "    TARGET: uma unenhlanhla ngempela ungaqeda kuze kokuthola ukudlala jackpot okuqhubekayo okwenza kube omunye izingxenye ejabulisa kakhulu we pay yekhasino mobile slot game\n",
      " PREDICTED: uma ngempela ungakwazi ngisho ekupheleni ukuthola ukudlala okwenza kube enye yezindawo ezithakazelisayo kakhulu casino game game\n",
      "    SOURCE: i had no choice but to ring the police\n",
      "    TARGET: ngangingenakukhetha kodwa ukubiza amaphoyisa\n",
      " PREDICTED: kodwa amaphoyisa\n",
      "    SOURCE: for a team to work effectively it must be led by a leader as is the case during a work in group\n",
      "    TARGET: ukuze iqembu lisebenze ngokuphumelelayo kufanele liholwa umholi njengoba kunjalo ngesikhathi umsebenzi weqembu\n",
      " PREDICTED: eqenjini ukusebenza ngempumelelo kufanele umholi njengoba kwenzeka ngesikhathi somsebenzi eqenjini\n",
      "----------------------------------------------------------------------------------------------------\n",
      "Epoch 11 - Validation Loss: 0.0012\n",
      "Improvement: 0.001255 -> 0.001226\n",
      "Saved best model from epoch 11 with validation loss: 0.001226\n"
     ]
    },
    {
     "name": "stderr",
     "output_type": "stream",
     "text": [
      "Processing Epoch 12: 100%|██████████| 1250/1250 [01:57<00:00, 10.66it/s, loss=4.162]\n"
     ]
    },
    {
     "name": "stdout",
     "output_type": "stream",
     "text": [
      "    SOURCE: if you are really lucky you may even end up getting to play the progressive jackpot making it one of the most exciting parts of the casino pay by mobile slot game\n",
      "    TARGET: uma unenhlanhla ngempela ungaqeda kuze kokuthola ukudlala jackpot okuqhubekayo okwenza kube omunye izingxenye ejabulisa kakhulu we pay yekhasino mobile slot game\n",
      " PREDICTED: uma ngempela ungase ngisho ekupheleni ukudlala ukwenza enye yezindawo kakhulu casino game\n",
      "    SOURCE: i had no choice but to ring the police\n",
      "    TARGET: ngangingenakukhetha kodwa ukubiza amaphoyisa\n",
      " PREDICTED: kodwa amaphoyisa\n",
      "    SOURCE: for a team to work effectively it must be led by a leader as is the case during a work in group\n",
      "    TARGET: ukuze iqembu lisebenze ngokuphumelelayo kufanele liholwa umholi njengoba kunjalo ngesikhathi umsebenzi weqembu\n",
      " PREDICTED: eqenjini ukusebenza ngempumelelo kufanele umholi njengoba kwenzeka ngesikhathi somsebenzi eqenjini\n",
      "----------------------------------------------------------------------------------------------------\n",
      "Epoch 12 - Validation Loss: 0.0012\n",
      "Improvement: 0.001226 -> 0.001220\n",
      "Saved best model from epoch 12 with validation loss: 0.001220\n"
     ]
    },
    {
     "name": "stderr",
     "output_type": "stream",
     "text": [
      "Processing Epoch 13: 100%|██████████| 1250/1250 [01:57<00:00, 10.63it/s, loss=3.774]\n"
     ]
    },
    {
     "name": "stdout",
     "output_type": "stream",
     "text": [
      "    SOURCE: if you are really lucky you may even end up getting to play the progressive jackpot making it one of the most exciting parts of the casino pay by mobile slot game\n",
      "    TARGET: uma unenhlanhla ngempela ungaqeda kuze kokuthola ukudlala jackpot okuqhubekayo okwenza kube omunye izingxenye ejabulisa kakhulu we pay yekhasino mobile slot game\n",
      " PREDICTED: uma ngempela ungakwazi ngisho ukuqeda ukudlala kahle ukwenza enye yezindawo ezithakazelisayo kakhulu casino game by game game\n",
      "    SOURCE: i had no choice but to ring the police\n",
      "    TARGET: ngangingenakukhetha kodwa ukubiza amaphoyisa\n",
      " PREDICTED: kodwa amaphoyisa\n",
      "    SOURCE: for a team to work effectively it must be led by a leader as is the case during a work in group\n",
      "    TARGET: ukuze iqembu lisebenze ngokuphumelelayo kufanele liholwa umholi njengoba kunjalo ngesikhathi umsebenzi weqembu\n",
      " PREDICTED: eqenjini ukusebenza kahle kufanele umholi njengoba kwenzeka ngesikhathi somsebenzi eqenjini\n",
      "----------------------------------------------------------------------------------------------------\n",
      "Epoch 13 - Validation Loss: 0.0012\n",
      "Improvement: 0.001220 -> 0.001199\n",
      "Saved best model from epoch 13 with validation loss: 0.001199\n"
     ]
    },
    {
     "name": "stderr",
     "output_type": "stream",
     "text": [
      "Processing Epoch 14: 100%|██████████| 1250/1250 [01:57<00:00, 10.65it/s, loss=3.815]\n"
     ]
    },
    {
     "name": "stdout",
     "output_type": "stream",
     "text": [
      "    SOURCE: if you are really lucky you may even end up getting to play the progressive jackpot making it one of the most exciting parts of the casino pay by mobile slot game\n",
      "    TARGET: uma unenhlanhla ngempela ungaqeda kuze kokuthola ukudlala jackpot okuqhubekayo okwenza kube omunye izingxenye ejabulisa kakhulu we pay yekhasino mobile slot game\n",
      " PREDICTED: uma ngempela ungase ube nesikhathi ukuthola ukwenza enye yezindawo ezithakazelisayo kakhulu casino game game\n",
      "    SOURCE: i had no choice but to ring the police\n",
      "    TARGET: ngangingenakukhetha kodwa ukubiza amaphoyisa\n",
      " PREDICTED: kodwa amaphoyisa\n",
      "    SOURCE: for a team to work effectively it must be led by a leader as is the case during a work in group\n",
      "    TARGET: ukuze iqembu lisebenze ngokuphumelelayo kufanele liholwa umholi njengoba kunjalo ngesikhathi umsebenzi weqembu\n",
      " PREDICTED: eqenjini ukusebenza ngempumelelo kufanele umholi njengoba kwenzeka ngesikhathi somsebenzi eqenjini\n",
      "----------------------------------------------------------------------------------------------------\n",
      "Epoch 14 - Validation Loss: 0.0012\n",
      "Improvement: 0.001199 -> 0.001192\n",
      "Saved best model from epoch 14 with validation loss: 0.001192\n"
     ]
    },
    {
     "name": "stderr",
     "output_type": "stream",
     "text": [
      "Processing Epoch 15: 100%|██████████| 1250/1250 [01:57<00:00, 10.64it/s, loss=3.639]\n"
     ]
    },
    {
     "name": "stdout",
     "output_type": "stream",
     "text": [
      "    SOURCE: if you are really lucky you may even end up getting to play the progressive jackpot making it one of the most exciting parts of the casino pay by mobile slot game\n",
      "    TARGET: uma unenhlanhla ngempela ungaqeda kuze kokuthola ukudlala jackpot okuqhubekayo okwenza kube omunye izingxenye ejabulisa kakhulu we pay yekhasino mobile slot game\n",
      " PREDICTED: uma unenhlanhla impela ngisho ukudlala jackpot okwenza kube esinye izingxenye ezinhle kakhulu casino game game mobile game\n",
      "    SOURCE: i had no choice but to ring the police\n",
      "    TARGET: ngangingenakukhetha kodwa ukubiza amaphoyisa\n",
      " PREDICTED: kodwa amaphoyisa\n",
      "    SOURCE: for a team to work effectively it must be led by a leader as is the case during a work in group\n",
      "    TARGET: ukuze iqembu lisebenze ngokuphumelelayo kufanele liholwa umholi njengoba kunjalo ngesikhathi umsebenzi weqembu\n",
      " PREDICTED: eqenjini ukusebenza ngempumelelo kufanele umholi njengoba kwenzeka ngesikhathi somsebenzi eqenjini\n",
      "----------------------------------------------------------------------------------------------------\n",
      "Epoch 15 - Validation Loss: 0.0012\n",
      "Loss increased: 0.001192 -> 0.001201. Counter: 1/5\n"
     ]
    },
    {
     "name": "stderr",
     "output_type": "stream",
     "text": [
      "Processing Epoch 16: 100%|██████████| 1250/1250 [01:57<00:00, 10.66it/s, loss=3.840]\n"
     ]
    },
    {
     "name": "stdout",
     "output_type": "stream",
     "text": [
      "    SOURCE: if you are really lucky you may even end up getting to play the progressive jackpot making it one of the most exciting parts of the casino pay by mobile slot game\n",
      "    TARGET: uma unenhlanhla ngempela ungaqeda kuze kokuthola ukudlala jackpot okuqhubekayo okwenza kube omunye izingxenye ejabulisa kakhulu we pay yekhasino mobile slot game\n",
      " PREDICTED: uma unenhlanhla impela ungase ngisho ukuqeda ukudlala umdlalo okwenza kube enye yezindawo ezithakazelisayo kakhulu ikhasino game mobile game mobile game\n",
      "    SOURCE: i had no choice but to ring the police\n",
      "    TARGET: ngangingenakukhetha kodwa ukubiza amaphoyisa\n",
      " PREDICTED: angizange kodwa amaphoyisa\n",
      "    SOURCE: for a team to work effectively it must be led by a leader as is the case during a work in group\n",
      "    TARGET: ukuze iqembu lisebenze ngokuphumelelayo kufanele liholwa umholi njengoba kunjalo ngesikhathi umsebenzi weqembu\n",
      " PREDICTED: eqenjini ukusebenza ngempumelelo kufanele kubhekwe umholi umholi njengoba kwenzeka ngesikhathi umsebenzi eqenjini\n",
      "----------------------------------------------------------------------------------------------------\n",
      "Epoch 16 - Validation Loss: 0.0011\n",
      "Improvement: 0.001192 -> 0.001134\n",
      "Saved best model from epoch 16 with validation loss: 0.001134\n"
     ]
    },
    {
     "name": "stderr",
     "output_type": "stream",
     "text": [
      "Processing Epoch 17: 100%|██████████| 1250/1250 [01:56<00:00, 10.72it/s, loss=3.826]\n"
     ]
    },
    {
     "name": "stdout",
     "output_type": "stream",
     "text": [
      "    SOURCE: if you are really lucky you may even end up getting to play the progressive jackpot making it one of the most exciting parts of the casino pay by mobile slot game\n",
      "    TARGET: uma unenhlanhla ngempela ungaqeda kuze kokuthola ukudlala jackpot okuqhubekayo okwenza kube omunye izingxenye ejabulisa kakhulu we pay yekhasino mobile slot game\n",
      " PREDICTED: uma ngempela ungase ngisho ukuqeda ukudlala umdlalo okwenza kube enye yezindawo ezithakazelisayo kakhulu casino by iphone mobile game by game mobile game\n",
      "    SOURCE: i had no choice but to ring the police\n",
      "    TARGET: ngangingenakukhetha kodwa ukubiza amaphoyisa\n",
      " PREDICTED: kodwa amaphoyisa\n",
      "    SOURCE: for a team to work effectively it must be led by a leader as is the case during a work in group\n",
      "    TARGET: ukuze iqembu lisebenze ngokuphumelelayo kufanele liholwa umholi njengoba kunjalo ngesikhathi umsebenzi weqembu\n",
      " PREDICTED: eqenjini ukusebenza ngempumelelo kufanele umholi uma kwenzeka ngesikhathi umsebenzi eqenjini\n",
      "----------------------------------------------------------------------------------------------------\n",
      "Epoch 17 - Validation Loss: 0.0012\n",
      "Loss increased: 0.001134 -> 0.001170. Counter: 1/5\n"
     ]
    },
    {
     "name": "stderr",
     "output_type": "stream",
     "text": [
      "Processing Epoch 18: 100%|██████████| 1250/1250 [01:56<00:00, 10.69it/s, loss=3.536]\n"
     ]
    },
    {
     "name": "stdout",
     "output_type": "stream",
     "text": [
      "    SOURCE: if you are really lucky you may even end up getting to play the progressive jackpot making it one of the most exciting parts of the casino pay by mobile slot game\n",
      "    TARGET: uma unenhlanhla ngempela ungaqeda kuze kokuthola ukudlala jackpot okuqhubekayo okwenza kube omunye izingxenye ejabulisa kakhulu we pay yekhasino mobile slot game\n",
      " PREDICTED: uma ngempela ungase uze ufike ukudlala ku play okwenza kube enye yezindawo ezithakazelisayo kakhulu ikhasino ukhokha ikhasino mobile game\n",
      "    SOURCE: i had no choice but to ring the police\n",
      "    TARGET: ngangingenakukhetha kodwa ukubiza amaphoyisa\n",
      " PREDICTED: kodwa amaphoyisa\n",
      "    SOURCE: for a team to work effectively it must be led by a leader as is the case during a work in group\n",
      "    TARGET: ukuze iqembu lisebenze ngokuphumelelayo kufanele liholwa umholi njengoba kunjalo ngesikhathi umsebenzi weqembu\n",
      " PREDICTED: eqenjini ukusebenza ngempumelelo kufanele kuholele umholi njengoba kwenzeka ngesikhathi somsebenzi eqenjini\n",
      "----------------------------------------------------------------------------------------------------\n",
      "Epoch 18 - Validation Loss: 0.0012\n",
      "Loss increased: 0.001134 -> 0.001152. Counter: 2/5\n"
     ]
    },
    {
     "name": "stderr",
     "output_type": "stream",
     "text": [
      "Processing Epoch 19: 100%|██████████| 1250/1250 [01:57<00:00, 10.65it/s, loss=3.508]\n"
     ]
    },
    {
     "name": "stdout",
     "output_type": "stream",
     "text": [
      "    SOURCE: if you are really lucky you may even end up getting to play the progressive jackpot making it one of the most exciting parts of the casino pay by mobile slot game\n",
      "    TARGET: uma unenhlanhla ngempela ungaqeda kuze kokuthola ukudlala jackpot okuqhubekayo okwenza kube omunye izingxenye ejabulisa kakhulu we pay yekhasino mobile slot game\n",
      " PREDICTED: uma unenhlanhla ungahle ngisho ukuthola ukudlala ukwenza kube enye yezindawo ezithakazelisayo kakhulu casino mobile game\n",
      "    SOURCE: i had no choice but to ring the police\n",
      "    TARGET: ngangingenakukhetha kodwa ukubiza amaphoyisa\n",
      " PREDICTED: kodwa amaphoyisa\n",
      "    SOURCE: for a team to work effectively it must be led by a leader as is the case during a work in group\n",
      "    TARGET: ukuze iqembu lisebenze ngokuphumelelayo kufanele liholwa umholi njengoba kunjalo ngesikhathi umsebenzi weqembu\n",
      " PREDICTED: eqenjini ukusebenza ngempumelelo kufanele kuholele umholi njengoba kunjalo kwenzeka ngesikhathi somsebenzi eqenjini\n",
      "----------------------------------------------------------------------------------------------------\n",
      "Epoch 19 - Validation Loss: 0.0011\n",
      "Improvement: 0.001134 -> 0.001132\n",
      "Saved best model from epoch 19 with validation loss: 0.001132\n"
     ]
    },
    {
     "name": "stderr",
     "output_type": "stream",
     "text": [
      "Processing Epoch 20: 100%|██████████| 1250/1250 [01:57<00:00, 10.62it/s, loss=3.497]\n"
     ]
    },
    {
     "name": "stdout",
     "output_type": "stream",
     "text": [
      "    SOURCE: if you are really lucky you may even end up getting to play the progressive jackpot making it one of the most exciting parts of the casino pay by mobile slot game\n",
      "    TARGET: uma unenhlanhla ngempela ungaqeda kuze kokuthola ukudlala jackpot okuqhubekayo okwenza kube omunye izingxenye ejabulisa kakhulu we pay yekhasino mobile slot game\n",
      " PREDICTED: uma unenhlanhla ungahle ngisho ukufika ukudlala jackpot okwenza kube enye yezindawo ezithakazelisayo kakhulu casino by game mobile game\n",
      "    SOURCE: i had no choice but to ring the police\n",
      "    TARGET: ngangingenakukhetha kodwa ukubiza amaphoyisa\n",
      " PREDICTED: kodwa amaphoyisa\n",
      "    SOURCE: for a team to work effectively it must be led by a leader as is the case during a work in group\n",
      "    TARGET: ukuze iqembu lisebenze ngokuphumelelayo kufanele liholwa umholi njengoba kunjalo ngesikhathi umsebenzi weqembu\n",
      " PREDICTED: eqenjini ukusebenza ngempumelelo kufanele umholi njengoba kwenzeka ngesikhathi somsebenzi eqenjini\n",
      "----------------------------------------------------------------------------------------------------\n",
      "Epoch 20 - Validation Loss: 0.0011\n",
      "Improvement: 0.001132 -> 0.001129\n",
      "Saved best model from epoch 20 with validation loss: 0.001129\n"
     ]
    },
    {
     "name": "stderr",
     "output_type": "stream",
     "text": [
      "Processing Epoch 21: 100%|██████████| 1250/1250 [01:57<00:00, 10.60it/s, loss=3.509]\n"
     ]
    },
    {
     "name": "stdout",
     "output_type": "stream",
     "text": [
      "    SOURCE: if you are really lucky you may even end up getting to play the progressive jackpot making it one of the most exciting parts of the casino pay by mobile slot game\n",
      "    TARGET: uma unenhlanhla ngempela ungaqeda kuze kokuthola ukudlala jackpot okuqhubekayo okwenza kube omunye izingxenye ejabulisa kakhulu we pay yekhasino mobile slot game\n",
      " PREDICTED: uma unenhlanhla ungase ngisho kuze kufike ku ukuthola i ukudlala jackpot okwenza kube esinye izingxenye okuthakazelisayo kakhulu casino mobile game mobile game\n",
      "    SOURCE: i had no choice but to ring the police\n",
      "    TARGET: ngangingenakukhetha kodwa ukubiza amaphoyisa\n",
      " PREDICTED: kodwa amaphoyisa\n",
      "    SOURCE: for a team to work effectively it must be led by a leader as is the case during a work in group\n",
      "    TARGET: ukuze iqembu lisebenze ngokuphumelelayo kufanele liholwa umholi njengoba kunjalo ngesikhathi umsebenzi weqembu\n",
      " PREDICTED: eqenjini ukusebenza kahle kufanele umholi njengoba kunjalo ngesikhathi somsebenzi eqenjini\n",
      "----------------------------------------------------------------------------------------------------\n",
      "Epoch 21 - Validation Loss: 0.0011\n",
      "Improvement: 0.001129 -> 0.001069\n",
      "Saved best model from epoch 21 with validation loss: 0.001069\n"
     ]
    },
    {
     "name": "stderr",
     "output_type": "stream",
     "text": [
      "Processing Epoch 22: 100%|██████████| 1250/1250 [01:57<00:00, 10.63it/s, loss=3.322]\n"
     ]
    },
    {
     "name": "stdout",
     "output_type": "stream",
     "text": [
      "    SOURCE: if you are really lucky you may even end up getting to play the progressive jackpot making it one of the most exciting parts of the casino pay by mobile slot game\n",
      "    TARGET: uma unenhlanhla ngempela ungaqeda kuze kokuthola ukudlala jackpot okuqhubekayo okwenza kube omunye izingxenye ejabulisa kakhulu we pay yekhasino mobile slot game\n",
      " PREDICTED: uma unenhlanhla ungahle uze ufike ku ukudlala okwenza kube enye yezindawo ezithakazelisayo kakhulu ikhasino pay game mobile game\n",
      "    SOURCE: i had no choice but to ring the police\n",
      "    TARGET: ngangingenakukhetha kodwa ukubiza amaphoyisa\n",
      " PREDICTED: kodwa amaphoyisa\n",
      "    SOURCE: for a team to work effectively it must be led by a leader as is the case during a work in group\n",
      "    TARGET: ukuze iqembu lisebenze ngokuphumelelayo kufanele liholwa umholi njengoba kunjalo ngesikhathi umsebenzi weqembu\n",
      " PREDICTED: eqenjini ukusebenza ngempumelelo kufanele kubhekwe umholi umholi njengoba kwenzeka ngesikhathi somsebenzi eqenjini\n",
      "----------------------------------------------------------------------------------------------------\n",
      "Epoch 22 - Validation Loss: 0.0011\n",
      "Loss increased: 0.001069 -> 0.001114. Counter: 1/5\n"
     ]
    },
    {
     "name": "stderr",
     "output_type": "stream",
     "text": [
      "Processing Epoch 23: 100%|██████████| 1250/1250 [01:57<00:00, 10.62it/s, loss=3.391]\n"
     ]
    },
    {
     "name": "stdout",
     "output_type": "stream",
     "text": [
      "    SOURCE: if you are really lucky you may even end up getting to play the progressive jackpot making it one of the most exciting parts of the casino pay by mobile slot game\n",
      "    TARGET: uma unenhlanhla ngempela ungaqeda kuze kokuthola ukudlala jackpot okuqhubekayo okwenza kube omunye izingxenye ejabulisa kakhulu we pay yekhasino mobile slot game\n",
      " PREDICTED: uma ngempela ungase ngisho ukuqeda ukudlala jackpot okwenza kube enye yezindawo ezithakazelisayo kakhulu ikhasino pay at mobile game mobile game mobile game\n",
      "    SOURCE: i had no choice but to ring the police\n",
      "    TARGET: ngangingenakukhetha kodwa ukubiza amaphoyisa\n",
      " PREDICTED: angizange kodwa amaphoyisa\n",
      "    SOURCE: for a team to work effectively it must be led by a leader as is the case during a work in group\n",
      "    TARGET: ukuze iqembu lisebenze ngokuphumelelayo kufanele liholwa umholi njengoba kunjalo ngesikhathi umsebenzi weqembu\n",
      " PREDICTED: eqenjini ukusebenza kahle kufanele umholi njengoba kwenzeka ngesikhathi somsebenzi eqenjini\n",
      "----------------------------------------------------------------------------------------------------\n",
      "Epoch 23 - Validation Loss: 0.0011\n",
      "Loss increased: 0.001069 -> 0.001106. Counter: 2/5\n"
     ]
    },
    {
     "name": "stderr",
     "output_type": "stream",
     "text": [
      "Processing Epoch 24: 100%|██████████| 1250/1250 [01:57<00:00, 10.66it/s, loss=3.290]\n"
     ]
    },
    {
     "name": "stdout",
     "output_type": "stream",
     "text": [
      "    SOURCE: if you are really lucky you may even end up getting to play the progressive jackpot making it one of the most exciting parts of the casino pay by mobile slot game\n",
      "    TARGET: uma unenhlanhla ngempela ungaqeda kuze kokuthola ukudlala jackpot okuqhubekayo okwenza kube omunye izingxenye ejabulisa kakhulu we pay yekhasino mobile slot game\n",
      " PREDICTED: uma ngempela ungahle uze ufike ukudlala jackpot ukwenza kube enye yezindawo ezithakazelisayo kakhulu ekhasino ukukhokha slot game\n",
      "    SOURCE: i had no choice but to ring the police\n",
      "    TARGET: ngangingenakukhetha kodwa ukubiza amaphoyisa\n",
      " PREDICTED: angizange kodwa amaphoyisa\n",
      "    SOURCE: for a team to work effectively it must be led by a leader as is the case during a work in group\n",
      "    TARGET: ukuze iqembu lisebenze ngokuphumelelayo kufanele liholwa umholi njengoba kunjalo ngesikhathi umsebenzi weqembu\n",
      " PREDICTED: eqenjini ukusebenza ngempumelelo kufanele kuholele umholi njengoba kwenzeka ngesikhathi somsebenzi eqenjini\n",
      "----------------------------------------------------------------------------------------------------\n",
      "Epoch 24 - Validation Loss: 0.0011\n",
      "Loss increased: 0.001069 -> 0.001127. Counter: 3/5\n"
     ]
    },
    {
     "name": "stderr",
     "output_type": "stream",
     "text": [
      "Processing Epoch 25: 100%|██████████| 1250/1250 [01:56<00:00, 10.69it/s, loss=3.343]\n"
     ]
    },
    {
     "name": "stdout",
     "output_type": "stream",
     "text": [
      "    SOURCE: if you are really lucky you may even end up getting to play the progressive jackpot making it one of the most exciting parts of the casino pay by mobile slot game\n",
      "    TARGET: uma unenhlanhla ngempela ungaqeda kuze kokuthola ukudlala jackpot okuqhubekayo okwenza kube omunye izingxenye ejabulisa kakhulu we pay yekhasino mobile slot game\n",
      " PREDICTED: uma unenhlanhla ungakwazi ngisho ukuthola ukudlala jackpot ukwenza kube omunye izingxenye okuthakazelisayo kakhulu ekhasino ukhokhe slots mobile game mobile game\n",
      "    SOURCE: i had no choice but to ring the police\n",
      "    TARGET: ngangingenakukhetha kodwa ukubiza amaphoyisa\n",
      " PREDICTED: kodwa amaphoyisa\n",
      "    SOURCE: for a team to work effectively it must be led by a leader as is the case during a work in group\n",
      "    TARGET: ukuze iqembu lisebenze ngokuphumelelayo kufanele liholwa umholi njengoba kunjalo ngesikhathi umsebenzi weqembu\n",
      " PREDICTED: eqenjini ukusebenza ngempumelelo kumele kuholele umholi njengoba kunjalo ngesikhathi somsebenzi eqenjini eqenjini\n",
      "----------------------------------------------------------------------------------------------------\n",
      "Epoch 25 - Validation Loss: 0.0011\n",
      "Loss increased: 0.001069 -> 0.001109. Counter: 4/5\n"
     ]
    },
    {
     "name": "stderr",
     "output_type": "stream",
     "text": [
      "Processing Epoch 26: 100%|██████████| 1250/1250 [01:57<00:00, 10.68it/s, loss=3.220]\n"
     ]
    },
    {
     "name": "stdout",
     "output_type": "stream",
     "text": [
      "    SOURCE: if you are really lucky you may even end up getting to play the progressive jackpot making it one of the most exciting parts of the casino pay by mobile slot game\n",
      "    TARGET: uma unenhlanhla ngempela ungaqeda kuze kokuthola ukudlala jackpot okuqhubekayo okwenza kube omunye izingxenye ejabulisa kakhulu we pay yekhasino mobile slot game\n",
      " PREDICTED: uma unenhlanhla ungase ngisho ekupheleni ukuthola ukudlala jackpot traffic wenza kube omunye izingxenye okuthakazelisayo kakhulu ekhasino ukhokhe mobile game\n",
      "    SOURCE: i had no choice but to ring the police\n",
      "    TARGET: ngangingenakukhetha kodwa ukubiza amaphoyisa\n",
      " PREDICTED: kodwa amaphoyisa\n",
      "    SOURCE: for a team to work effectively it must be led by a leader as is the case during a work in group\n",
      "    TARGET: ukuze iqembu lisebenze ngokuphumelelayo kufanele liholwa umholi njengoba kunjalo ngesikhathi umsebenzi weqembu\n",
      " PREDICTED: eqenjini ukusebenza ngempumelelo kufanele kuholele umholi njengoba kunjalo ngesikhathi somsebenzi phakathi kweqembu\n",
      "----------------------------------------------------------------------------------------------------\n",
      "Epoch 26 - Validation Loss: 0.0011\n",
      "Loss increased: 0.001069 -> 0.001085. Counter: 5/5\n",
      "Early stopping triggered due to loss increasing.\n",
      "Early stopping triggered\n"
     ]
    },
    {
     "data": {
      "image/png": "[encoded data removed]",
      "text/plain": [
       "<Figure size 1000x500 with 1 Axes>"
      ]
     },
     "metadata": {},
     "output_type": "display_data"
    }
   ],
   "source": [
    "# Initial config with small dataset for tuning\n",
    "\n",
    "if torch.cuda.is_available():\n",
    "    torch.cuda.empty_cache()\n",
    "\n",
    "config = {\n",
    "    # Data and training parameters\n",
    "    \"datasource\": 'final_merged_data_nllb.csv',\n",
    "    \"batch_size\": 64,\n",
    "    \"num_epochs\": 100,\n",
    "    \"lr\": 10**-5,\n",
    "    'plateau_patience': 10,  # New for plateau detection\n",
    "    'worsen_patience': 5,   # New for worsen detection\n",
    "    'min_delta': 0.0005,    # Minimum improvement for loss\n",
    "    'verbose': True,\n",
    "    \"data_length\": 100000,\n",
    "    \n",
    "    # Model architecture parameters\n",
    "    \"seq_len\": 100,\n",
    "    \"d_model\": 512,        # Dimension of the model\n",
    "    \"num_layers\": 6,       # Number of encoder/decoder layers (N)\n",
    "    \"num_heads\": 8,        # Number of attention heads (h)\n",
    "    \"d_ff\": 2048,         # Dimension of feed-forward network\n",
    "    \"dropout\": 0.1,       # Dropout rate\n",
    "    \"max_grad_norm\": 1.0,  # Gradient clipping\n",
    "    \"label_smoothing\": 0.1,# Label smoothing factor\n",
    "    \n",
    "    # Vocabulary and tokenization\n",
    "    'vocab_size': 30000,\n",
    "    \"tokenize_custom\": {\n",
    "        \"english\": False,\n",
    "        \"isizulu\": False\n",
    "    },\n",
    "    'tokenize_method': 'segment',\n",
    "    \n",
    "    # File paths and model settings\n",
    "    \"file_path\": 'english_zulu_models/english_zulu_none',\n",
    "    \"model_folder\": \"weights\",\n",
    "    \"lang_src\": \"english\",\n",
    "    \"lang_tgt\": \"isizulu\",\n",
    "    \"model_basename\": \"model_\",\n",
    "    \"preload\": \"latest\",\n",
    "    \"tokenizer_file\": \"tokenizers_{0}.json\",\n",
    "    \"experiment_name\": \"english_zulu_models/english_zulu_nonetensor_data\",\n",
    "    \"random_seed\": 20,\n",
    "}\n",
    "\n",
    "# Initialize first trainer - this builds vocabulary on full dataset\n",
    "print(\"Initializing trainer with full dataset for vocabulary building...\")\n",
    "trainer = Seq2SeqTrainer(config)\n",
    "\n",
    "# Modify data length for hyperparameter tuning\n",
    "print(\"Reducing dataset size for hyperparameter tuning...\")\n",
    "trainer.config[\"data_length\"] = 20000  # Smaller size for quick tuning\n",
    "tune_trainer = Seq2SeqTrainer(trainer.config)\n",
    "\n",
    "# Run hyperparameter optimization with small dataset\n",
    "best_config, analysis = tune_trainer.tune_hyperparameters(\n",
    "    num_samples=10,  # Number of trials\n",
    "    num_epochs=5    # Epochs per trial\n",
    ")\n",
    "\n",
    "# Now increase dataset size for full training\n",
    "print(\"Increasing dataset size for full training...\")\n",
    "tune_trainer.config[\"data_length\"] = 100000  # Larger size for full training\n",
    "train_trainer = Seq2SeqTrainer(tune_trainer.config)\n",
    "train_trainer.train()"
   ]
  }
 ],
 "metadata": {
  "kernelspec": {
   "display_name": "Python 3 (ipykernel)",
   "language": "python",
   "name": "python3"
  },
  "language_info": {
   "codemirror_mode": {
    "name": "ipython",
    "version": 3
   },
   "file_extension": ".py",
   "mimetype": "text/x-python",
   "name": "python",
   "nbconvert_exporter": "python",
   "pygments_lexer": "ipython3",
   "version": "3.8.10"
  }
 },
 "nbformat": 4,
 "nbformat_minor": 5
}
