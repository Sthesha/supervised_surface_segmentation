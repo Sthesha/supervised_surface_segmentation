{
 "cells": [
  {
   "cell_type": "code",
   "execution_count": 1,
   "id": "2b34e80f-0ca2-4722-893f-84f4c9fcf2d3",
   "metadata": {},
   "outputs": [],
   "source": [
    "# # !pip install torchmetrics\n",
    "# !pip install \"ray[tune]\" optuna"
   ]
  },
  {
   "cell_type": "code",
   "execution_count": 1,
   "id": "bec3dbf7-3fc4-4000-96ff-4172abf8b1f5",
   "metadata": {},
   "outputs": [
    {
     "name": "stderr",
     "output_type": "stream",
     "text": [
      "2025-03-16 00:02:48.711723: I tensorflow/core/platform/cpu_feature_guard.cc:182] This TensorFlow binary is optimized to use available CPU instructions in performance-critical operations.\n",
      "To enable the following instructions: AVX2 FMA, in other operations, rebuild TensorFlow with the appropriate compiler flags.\n",
      "2025-03-16 00:02:49.604669: W tensorflow/compiler/tf2tensorrt/utils/py_utils.cc:38] TF-TRT Warning: Could not find TensorRT\n"
     ]
    }
   ],
   "source": [
    "import torch\n",
    "from pathlib import Path\n",
    "from seq2seq_train import Seq2SeqTrainer"
   ]
  },
  {
   "cell_type": "markdown",
   "id": "98410b51",
   "metadata": {},
   "source": [
    "### use this to train from stretch"
   ]
  },
  {
   "cell_type": "code",
   "execution_count": 2,
   "id": "8227ec43-7534-462e-a2c2-0ac9c0a9169f",
   "metadata": {
    "scrolled": true
   },
   "outputs": [
    {
     "name": "stdout",
     "output_type": "stream",
     "text": [
      "Initializing trainer with full dataset for vocabulary building...\n",
      "Using device: cuda\n",
      "Device name: NVIDIA A100 80GB PCIe\n",
      "Device memory: 79.253662109375 GB\n",
      "Warning: Requested sample size (100000) exceeds available data (76271)\n",
      "Using full dataset instead.\n",
      "Original shape: (76271, 4)\n",
      "Final shape: (76271, 4)\n",
      "The config file has been saved on original/segmenter_one_5\n",
      "Tokenizer path: original/segmenter_one_5/tokenizers/tokenizers_tokens.json\n",
      "Loading existing tokenizer from original/segmenter_one_5/tokenizers/tokenizers_tokens.json\n",
      "Tokenizer path: original/segmenter_one_5/tokenizers/tokenizers_segmenter_one.json\n",
      "Loading existing tokenizer from original/segmenter_one_5/tokenizers/tokenizers_segmenter_one.json\n",
      "the dataset length: 76271\n",
      "Max length of source sentence: 23\n",
      "Max length of target sentence: 31\n",
      "No pretrained model found, starting from scratch.\n",
      "Reducing dataset size for hyperparameter tuning...\n",
      "Using device: cuda\n",
      "Device name: NVIDIA A100 80GB PCIe\n",
      "Device memory: 79.253662109375 GB\n",
      "Original shape: (76271, 4)\n",
      "Final shape: (20000, 4)\n",
      "The config file has been saved on original/segmenter_one_5\n",
      "Tokenizer path: original/segmenter_one_5/tokenizers/tokenizers_tokens.json\n",
      "Loading existing tokenizer from original/segmenter_one_5/tokenizers/tokenizers_tokens.json\n",
      "Tokenizer path: original/segmenter_one_5/tokenizers/tokenizers_segmenter_one.json\n",
      "Loading existing tokenizer from original/segmenter_one_5/tokenizers/tokenizers_segmenter_one.json\n",
      "the dataset length: 20000\n",
      "Max length of source sentence: 23\n",
      "Max length of target sentence: 31\n",
      "No pretrained model found, starting from scratch.\n"
     ]
    },
    {
     "name": "stderr",
     "output_type": "stream",
     "text": [
      "2025-03-16 00:03:00,188\tINFO worker.py:1821 -- Started a local Ray instance.\n",
      "2025-03-16 00:03:01,129\tINFO tune.py:616 -- [output] This uses the legacy output and progress reporter, as Jupyter notebooks are not supported by the new engine, yet. For more information, please see https://github.com/ray-project/ray/issues/36949\n",
      "[I 2025-03-16 00:03:01,142] A new study created in memory with name: optuna\n"
     ]
    },
    {
     "name": "stdout",
     "output_type": "stream",
     "text": [
      "/workspace/pytorch-transformer/original/segmenter_one_5/ray_results\n"
     ]
    },
    {
     "data": {
      "text/html": [
       "<div class=\"tuneStatus\">\n",
       "  <div style=\"display: flex;flex-direction: row\">\n",
       "    <div style=\"display: flex;flex-direction: column;\">\n",
       "      <h3>Tune Status</h3>\n",
       "      <table>\n",
       "<tbody>\n",
       "<tr><td>Current time:</td><td>2025-03-16 00:33:52</td></tr>\n",
       "<tr><td>Running for: </td><td>00:30:51.13        </td></tr>\n",
       "<tr><td>Memory:      </td><td>8.2/125.8 GiB      </td></tr>\n",
       "</tbody>\n",
       "</table>\n",
       "    </div>\n",
       "    <div class=\"vDivider\"></div>\n",
       "    <div class=\"systemInfo\">\n",
       "      <h3>System Info</h3>\n",
       "      Using AsyncHyperBand: num_stopped=5<br>Bracket: Iter 4.000: -0.8524802189767361 | Iter 2.000: -1.131089195102453<br>Bracket: Iter 4.000: -0.8396825679689646<br>Bracket: <br>Logical resource usage: 32.0/64 CPUs, 1.0/1 GPUs (0.0/1.0 accelerator_type:A100)\n",
       "    </div>\n",
       "    \n",
       "  </div>\n",
       "  <div class=\"hDivider\"></div>\n",
       "  <div class=\"trialStatus\">\n",
       "    <h3>Trial Status</h3>\n",
       "    <table>\n",
       "<thead>\n",
       "<tr><th>Trial name                </th><th>status    </th><th>loc            </th><th style=\"text-align: right;\">  d_ff</th><th style=\"text-align: right;\">  d_model</th><th style=\"text-align: right;\">  dropout</th><th style=\"text-align: right;\">  label_smoothing</th><th style=\"text-align: right;\">         lr</th><th style=\"text-align: right;\">  max_grad_norm</th><th style=\"text-align: right;\">  num_heads</th><th style=\"text-align: right;\">  num_layers</th><th style=\"text-align: right;\">  iter</th><th style=\"text-align: right;\">  total time (s)</th><th style=\"text-align: right;\">  train_loss</th><th style=\"text-align: right;\">  val_loss</th><th style=\"text-align: right;\">  epoch</th></tr>\n",
       "</thead>\n",
       "<tbody>\n",
       "<tr><td>training_function_c04d6a09</td><td>TERMINATED</td><td>172.17.0.2:4489</td><td style=\"text-align: right;\">  1024</td><td style=\"text-align: right;\">      256</td><td style=\"text-align: right;\"> 0.183546</td><td style=\"text-align: right;\">        0.119528 </td><td style=\"text-align: right;\">2.64405e-05</td><td style=\"text-align: right;\">       1.55611 </td><td style=\"text-align: right;\">          8</td><td style=\"text-align: right;\">           4</td><td style=\"text-align: right;\">     5</td><td style=\"text-align: right;\">        163.269 </td><td style=\"text-align: right;\">    1.33472 </td><td style=\"text-align: right;\">  1.11827 </td><td style=\"text-align: right;\">      4</td></tr>\n",
       "<tr><td>training_function_105c04e4</td><td>TERMINATED</td><td>172.17.0.2:5294</td><td style=\"text-align: right;\">   512</td><td style=\"text-align: right;\">      512</td><td style=\"text-align: right;\"> 0.165899</td><td style=\"text-align: right;\">        0.0723443</td><td style=\"text-align: right;\">7.51665e-05</td><td style=\"text-align: right;\">       0.77637 </td><td style=\"text-align: right;\">          8</td><td style=\"text-align: right;\">           3</td><td style=\"text-align: right;\">     5</td><td style=\"text-align: right;\">        130.259 </td><td style=\"text-align: right;\">    0.665959</td><td style=\"text-align: right;\">  0.632138</td><td style=\"text-align: right;\">      4</td></tr>\n",
       "<tr><td>training_function_123548b8</td><td>TERMINATED</td><td>172.17.0.2:5534</td><td style=\"text-align: right;\">  2048</td><td style=\"text-align: right;\">      256</td><td style=\"text-align: right;\"> 0.251097</td><td style=\"text-align: right;\">        0.155291 </td><td style=\"text-align: right;\">0.000471659</td><td style=\"text-align: right;\">       1.53465 </td><td style=\"text-align: right;\">          4</td><td style=\"text-align: right;\">           3</td><td style=\"text-align: right;\">     5</td><td style=\"text-align: right;\">        131.411 </td><td style=\"text-align: right;\">    1.07638 </td><td style=\"text-align: right;\">  1.04723 </td><td style=\"text-align: right;\">      4</td></tr>\n",
       "<tr><td>training_function_30f1cf53</td><td>TERMINATED</td><td>172.17.0.2:5774</td><td style=\"text-align: right;\">   512</td><td style=\"text-align: right;\">     1024</td><td style=\"text-align: right;\"> 0.13203 </td><td style=\"text-align: right;\">        0.151441 </td><td style=\"text-align: right;\">1.29391e-05</td><td style=\"text-align: right;\">       1.82193 </td><td style=\"text-align: right;\">          4</td><td style=\"text-align: right;\">           6</td><td style=\"text-align: right;\">     5</td><td style=\"text-align: right;\">        328.07  </td><td style=\"text-align: right;\">    1.14595 </td><td style=\"text-align: right;\">  1.10789 </td><td style=\"text-align: right;\">      4</td></tr>\n",
       "<tr><td>training_function_f1be1014</td><td>TERMINATED</td><td>172.17.0.2:6060</td><td style=\"text-align: right;\">   512</td><td style=\"text-align: right;\">      512</td><td style=\"text-align: right;\"> 0.101711</td><td style=\"text-align: right;\">        0.153861 </td><td style=\"text-align: right;\">1.49488e-05</td><td style=\"text-align: right;\">       0.737466</td><td style=\"text-align: right;\">          4</td><td style=\"text-align: right;\">           6</td><td style=\"text-align: right;\">     5</td><td style=\"text-align: right;\">        229.414 </td><td style=\"text-align: right;\">    1.24906 </td><td style=\"text-align: right;\">  1.16588 </td><td style=\"text-align: right;\">      4</td></tr>\n",
       "<tr><td>training_function_f92d8e43</td><td>TERMINATED</td><td>172.17.0.2:6323</td><td style=\"text-align: right;\">  1024</td><td style=\"text-align: right;\">     1024</td><td style=\"text-align: right;\"> 0.112907</td><td style=\"text-align: right;\">        0.039867 </td><td style=\"text-align: right;\">0.000186092</td><td style=\"text-align: right;\">       1.18438 </td><td style=\"text-align: right;\">          4</td><td style=\"text-align: right;\">           3</td><td style=\"text-align: right;\">     5</td><td style=\"text-align: right;\">        187.771 </td><td style=\"text-align: right;\">    0.405007</td><td style=\"text-align: right;\">  0.395268</td><td style=\"text-align: right;\">      4</td></tr>\n",
       "<tr><td>training_function_162894ea</td><td>TERMINATED</td><td>172.17.0.2:6578</td><td style=\"text-align: right;\">   512</td><td style=\"text-align: right;\">     1024</td><td style=\"text-align: right;\"> 0.179444</td><td style=\"text-align: right;\">        0.0566467</td><td style=\"text-align: right;\">2.50771e-05</td><td style=\"text-align: right;\">       1.77391 </td><td style=\"text-align: right;\">          8</td><td style=\"text-align: right;\">           3</td><td style=\"text-align: right;\">     5</td><td style=\"text-align: right;\">        180.198 </td><td style=\"text-align: right;\">    0.611033</td><td style=\"text-align: right;\">  0.586692</td><td style=\"text-align: right;\">      4</td></tr>\n",
       "<tr><td>training_function_793a8b1a</td><td>TERMINATED</td><td>172.17.0.2:6827</td><td style=\"text-align: right;\">  1024</td><td style=\"text-align: right;\">      128</td><td style=\"text-align: right;\"> 0.169858</td><td style=\"text-align: right;\">        0.0221906</td><td style=\"text-align: right;\">7.49615e-05</td><td style=\"text-align: right;\">       0.799109</td><td style=\"text-align: right;\">         16</td><td style=\"text-align: right;\">           6</td><td style=\"text-align: right;\">     5</td><td style=\"text-align: right;\">        223.99  </td><td style=\"text-align: right;\">    0.695858</td><td style=\"text-align: right;\">  0.448589</td><td style=\"text-align: right;\">      4</td></tr>\n",
       "<tr><td>training_function_a3fa5c2e</td><td>TERMINATED</td><td>172.17.0.2:7088</td><td style=\"text-align: right;\">  1024</td><td style=\"text-align: right;\">      512</td><td style=\"text-align: right;\"> 0.109735</td><td style=\"text-align: right;\">        0.151084 </td><td style=\"text-align: right;\">0.000849188</td><td style=\"text-align: right;\">       1.9412  </td><td style=\"text-align: right;\">         16</td><td style=\"text-align: right;\">           4</td><td style=\"text-align: right;\">     3</td><td style=\"text-align: right;\">        104.668 </td><td style=\"text-align: right;\">    1.07252 </td><td style=\"text-align: right;\">  1.04372 </td><td style=\"text-align: right;\">      2</td></tr>\n",
       "<tr><td>training_function_6125cdac</td><td>TERMINATED</td><td>172.17.0.2:7323</td><td style=\"text-align: right;\">  1024</td><td style=\"text-align: right;\">      512</td><td style=\"text-align: right;\"> 0.289425</td><td style=\"text-align: right;\">        0.178292 </td><td style=\"text-align: right;\">0.000294234</td><td style=\"text-align: right;\">       1.08292 </td><td style=\"text-align: right;\">          4</td><td style=\"text-align: right;\">           4</td><td style=\"text-align: right;\">     3</td><td style=\"text-align: right;\">         99.5975</td><td style=\"text-align: right;\">    1.26463 </td><td style=\"text-align: right;\">  1.21846 </td><td style=\"text-align: right;\">      2</td></tr>\n",
       "</tbody>\n",
       "</table>\n",
       "  </div>\n",
       "</div>\n",
       "<style>\n",
       ".tuneStatus {\n",
       "  color: var(--jp-ui-font-color1);\n",
       "}\n",
       ".tuneStatus .systemInfo {\n",
       "  display: flex;\n",
       "  flex-direction: column;\n",
       "}\n",
       ".tuneStatus td {\n",
       "  white-space: nowrap;\n",
       "}\n",
       ".tuneStatus .trialStatus {\n",
       "  display: flex;\n",
       "  flex-direction: column;\n",
       "}\n",
       ".tuneStatus h3 {\n",
       "  font-weight: bold;\n",
       "}\n",
       ".tuneStatus .hDivider {\n",
       "  border-bottom-width: var(--jp-border-width);\n",
       "  border-bottom-color: var(--jp-border-color0);\n",
       "  border-bottom-style: solid;\n",
       "}\n",
       ".tuneStatus .vDivider {\n",
       "  border-left-width: var(--jp-border-width);\n",
       "  border-left-color: var(--jp-border-color0);\n",
       "  border-left-style: solid;\n",
       "  margin: 0.5em 1em 0.5em 1em;\n",
       "}\n",
       "</style>\n"
      ],
      "text/plain": [
       "<IPython.core.display.HTML object>"
      ]
     },
     "metadata": {},
     "output_type": "display_data"
    },
    {
     "name": "stderr",
     "output_type": "stream",
     "text": [
      "\u001b[36m(pid=4489)\u001b[0m 2025-03-16 00:03:04.749031: I tensorflow/core/platform/cpu_feature_guard.cc:182] This TensorFlow binary is optimized to use available CPU instructions in performance-critical operations.\n",
      "\u001b[36m(pid=4489)\u001b[0m To enable the following instructions: AVX2 FMA, in other operations, rebuild TensorFlow with the appropriate compiler flags.\n",
      "\u001b[36m(pid=4489)\u001b[0m 2025-03-16 00:03:05.653316: W tensorflow/compiler/tf2tensorrt/utils/py_utils.cc:38] TF-TRT Warning: Could not find TensorRT\n"
     ]
    },
    {
     "data": {
      "text/html": [
       "<div class=\"trialProgress\">\n",
       "  <h3>Trial Progress</h3>\n",
       "  <table>\n",
       "<thead>\n",
       "<tr><th>Trial name                </th><th style=\"text-align: right;\">  epoch</th><th style=\"text-align: right;\">  train_loss</th><th style=\"text-align: right;\">  val_loss</th></tr>\n",
       "</thead>\n",
       "<tbody>\n",
       "<tr><td>training_function_105c04e4</td><td style=\"text-align: right;\">      4</td><td style=\"text-align: right;\">    0.665959</td><td style=\"text-align: right;\">  0.632138</td></tr>\n",
       "<tr><td>training_function_123548b8</td><td style=\"text-align: right;\">      4</td><td style=\"text-align: right;\">    1.07638 </td><td style=\"text-align: right;\">  1.04723 </td></tr>\n",
       "<tr><td>training_function_162894ea</td><td style=\"text-align: right;\">      4</td><td style=\"text-align: right;\">    0.611033</td><td style=\"text-align: right;\">  0.586692</td></tr>\n",
       "<tr><td>training_function_30f1cf53</td><td style=\"text-align: right;\">      4</td><td style=\"text-align: right;\">    1.14595 </td><td style=\"text-align: right;\">  1.10789 </td></tr>\n",
       "<tr><td>training_function_6125cdac</td><td style=\"text-align: right;\">      2</td><td style=\"text-align: right;\">    1.26463 </td><td style=\"text-align: right;\">  1.21846 </td></tr>\n",
       "<tr><td>training_function_793a8b1a</td><td style=\"text-align: right;\">      4</td><td style=\"text-align: right;\">    0.695858</td><td style=\"text-align: right;\">  0.448589</td></tr>\n",
       "<tr><td>training_function_a3fa5c2e</td><td style=\"text-align: right;\">      2</td><td style=\"text-align: right;\">    1.07252 </td><td style=\"text-align: right;\">  1.04372 </td></tr>\n",
       "<tr><td>training_function_c04d6a09</td><td style=\"text-align: right;\">      4</td><td style=\"text-align: right;\">    1.33472 </td><td style=\"text-align: right;\">  1.11827 </td></tr>\n",
       "<tr><td>training_function_f1be1014</td><td style=\"text-align: right;\">      4</td><td style=\"text-align: right;\">    1.24906 </td><td style=\"text-align: right;\">  1.16588 </td></tr>\n",
       "<tr><td>training_function_f92d8e43</td><td style=\"text-align: right;\">      4</td><td style=\"text-align: right;\">    0.405007</td><td style=\"text-align: right;\">  0.395268</td></tr>\n",
       "</tbody>\n",
       "</table>\n",
       "</div>\n",
       "<style>\n",
       ".trialProgress {\n",
       "  display: flex;\n",
       "  flex-direction: column;\n",
       "  color: var(--jp-ui-font-color1);\n",
       "}\n",
       ".trialProgress h3 {\n",
       "  font-weight: bold;\n",
       "}\n",
       ".trialProgress td {\n",
       "  white-space: nowrap;\n",
       "}\n",
       "</style>\n"
      ],
      "text/plain": [
       "<IPython.core.display.HTML object>"
      ]
     },
     "metadata": {},
     "output_type": "display_data"
    },
    {
     "name": "stderr",
     "output_type": "stream",
     "text": [
      "\u001b[36m(pid=5294)\u001b[0m 2025-03-16 00:05:55.080461: I tensorflow/core/platform/cpu_feature_guard.cc:182] This TensorFlow binary is optimized to use available CPU instructions in performance-critical operations.\n",
      "\u001b[36m(pid=5294)\u001b[0m To enable the following instructions: AVX2 FMA, in other operations, rebuild TensorFlow with the appropriate compiler flags.\n",
      "\u001b[36m(pid=5294)\u001b[0m 2025-03-16 00:05:55.986162: W tensorflow/compiler/tf2tensorrt/utils/py_utils.cc:38] TF-TRT Warning: Could not find TensorRT\n",
      "\u001b[36m(pid=5534)\u001b[0m 2025-03-16 00:08:12.244069: I tensorflow/core/platform/cpu_feature_guard.cc:182] This TensorFlow binary is optimized to use available CPU instructions in performance-critical operations.\n",
      "\u001b[36m(pid=5534)\u001b[0m To enable the following instructions: AVX2 FMA, in other operations, rebuild TensorFlow with the appropriate compiler flags.\n",
      "\u001b[36m(pid=5534)\u001b[0m 2025-03-16 00:08:13.218682: W tensorflow/compiler/tf2tensorrt/utils/py_utils.cc:38] TF-TRT Warning: Could not find TensorRT\n",
      "\u001b[36m(pid=5774)\u001b[0m 2025-03-16 00:10:31.228382: I tensorflow/core/platform/cpu_feature_guard.cc:182] This TensorFlow binary is optimized to use available CPU instructions in performance-critical operations.\n",
      "\u001b[36m(pid=5774)\u001b[0m To enable the following instructions: AVX2 FMA, in other operations, rebuild TensorFlow with the appropriate compiler flags.\n",
      "\u001b[36m(pid=5774)\u001b[0m 2025-03-16 00:10:32.162615: W tensorflow/compiler/tf2tensorrt/utils/py_utils.cc:38] TF-TRT Warning: Could not find TensorRT\n",
      "\u001b[36m(pid=6060)\u001b[0m 2025-03-16 00:16:06.199484: I tensorflow/core/platform/cpu_feature_guard.cc:182] This TensorFlow binary is optimized to use available CPU instructions in performance-critical operations.\n",
      "\u001b[36m(pid=6060)\u001b[0m To enable the following instructions: AVX2 FMA, in other operations, rebuild TensorFlow with the appropriate compiler flags.\n",
      "\u001b[36m(pid=6060)\u001b[0m 2025-03-16 00:16:07.187521: W tensorflow/compiler/tf2tensorrt/utils/py_utils.cc:38] TF-TRT Warning: Could not find TensorRT\n",
      "\u001b[36m(pid=6323)\u001b[0m 2025-03-16 00:20:03.189037: I tensorflow/core/platform/cpu_feature_guard.cc:182] This TensorFlow binary is optimized to use available CPU instructions in performance-critical operations.\n",
      "\u001b[36m(pid=6323)\u001b[0m To enable the following instructions: AVX2 FMA, in other operations, rebuild TensorFlow with the appropriate compiler flags.\n",
      "\u001b[36m(pid=6323)\u001b[0m 2025-03-16 00:20:04.121380: W tensorflow/compiler/tf2tensorrt/utils/py_utils.cc:38] TF-TRT Warning: Could not find TensorRT\n",
      "\u001b[36m(pid=6578)\u001b[0m 2025-03-16 00:23:18.321673: I tensorflow/core/platform/cpu_feature_guard.cc:182] This TensorFlow binary is optimized to use available CPU instructions in performance-critical operations.\n",
      "\u001b[36m(pid=6578)\u001b[0m To enable the following instructions: AVX2 FMA, in other operations, rebuild TensorFlow with the appropriate compiler flags.\n",
      "\u001b[36m(pid=6578)\u001b[0m 2025-03-16 00:23:19.253698: W tensorflow/compiler/tf2tensorrt/utils/py_utils.cc:38] TF-TRT Warning: Could not find TensorRT\n",
      "\u001b[36m(pid=6827)\u001b[0m 2025-03-16 00:26:26.379445: I tensorflow/core/platform/cpu_feature_guard.cc:182] This TensorFlow binary is optimized to use available CPU instructions in performance-critical operations.\n",
      "\u001b[36m(pid=6827)\u001b[0m To enable the following instructions: AVX2 FMA, in other operations, rebuild TensorFlow with the appropriate compiler flags.\n",
      "\u001b[36m(pid=6827)\u001b[0m 2025-03-16 00:26:27.302764: W tensorflow/compiler/tf2tensorrt/utils/py_utils.cc:38] TF-TRT Warning: Could not find TensorRT\n",
      "\u001b[36m(pid=7088)\u001b[0m 2025-03-16 00:30:17.354390: I tensorflow/core/platform/cpu_feature_guard.cc:182] This TensorFlow binary is optimized to use available CPU instructions in performance-critical operations.\n",
      "\u001b[36m(pid=7088)\u001b[0m To enable the following instructions: AVX2 FMA, in other operations, rebuild TensorFlow with the appropriate compiler flags.\n",
      "\u001b[36m(pid=7088)\u001b[0m 2025-03-16 00:30:18.281722: W tensorflow/compiler/tf2tensorrt/utils/py_utils.cc:38] TF-TRT Warning: Could not find TensorRT\n",
      "\u001b[36m(pid=7323)\u001b[0m 2025-03-16 00:32:09.343221: I tensorflow/core/platform/cpu_feature_guard.cc:182] This TensorFlow binary is optimized to use available CPU instructions in performance-critical operations.\n",
      "\u001b[36m(pid=7323)\u001b[0m To enable the following instructions: AVX2 FMA, in other operations, rebuild TensorFlow with the appropriate compiler flags.\n",
      "\u001b[36m(pid=7323)\u001b[0m 2025-03-16 00:32:10.276388: W tensorflow/compiler/tf2tensorrt/utils/py_utils.cc:38] TF-TRT Warning: Could not find TensorRT\n",
      "2025-03-16 00:33:52,287\tINFO tune.py:1009 -- Wrote the latest version of all result files and experiment state to '/workspace/pytorch-transformer/original/segmenter_one_5/ray_results/transformer_tune' in 0.0262s.\n",
      "2025-03-16 00:33:52,295\tINFO tune.py:1041 -- Total run time: 1851.17 seconds (1851.10 seconds for the tuning loop).\n"
     ]
    },
    {
     "name": "stdout",
     "output_type": "stream",
     "text": [
      "\n",
      "Best hyperparameters found:\n",
      "{'lr': 0.00018609171407151109, 'd_model': 1024, 'num_layers': 3, 'num_heads': 4, 'd_ff': 1024, 'dropout': 0.1129068748094076, 'label_smoothing': 0.03986699895923636, 'max_grad_norm': 1.1843786467139337}\n",
      "No pretrained model found, starting from scratch.\n",
      "Increasing dataset size for full training...\n",
      "Using device: cuda\n",
      "Device name: NVIDIA A100 80GB PCIe\n",
      "Device memory: 79.253662109375 GB\n",
      "Warning: Requested sample size (100000) exceeds available data (76271)\n",
      "Using full dataset instead.\n",
      "Original shape: (76271, 4)\n",
      "Final shape: (76271, 4)\n",
      "The config file has been saved on original/segmenter_one_5\n",
      "Tokenizer path: original/segmenter_one_5/tokenizers/tokenizers_tokens.json\n",
      "Loading existing tokenizer from original/segmenter_one_5/tokenizers/tokenizers_tokens.json\n",
      "Tokenizer path: original/segmenter_one_5/tokenizers/tokenizers_segmenter_one.json\n",
      "Loading existing tokenizer from original/segmenter_one_5/tokenizers/tokenizers_segmenter_one.json\n",
      "the dataset length: 76271\n",
      "Max length of source sentence: 23\n",
      "Max length of target sentence: 31\n",
      "No pretrained model found, starting from scratch.\n",
      "\n",
      "Training with the following configuration:\n",
      "Dataset size: 100000\n",
      "Learning rate: 0.00018609171407151109\n",
      "Model architecture:\n",
      "- d_model: 1024\n",
      "- num_layers: 3\n",
      "- num_heads: 4\n",
      "- d_ff: 1024\n",
      "- dropout: 0.1129068748094076\n",
      "Training parameters:\n",
      "- label_smoothing: 0.03986699895923636\n",
      "- max_grad_norm: 1.1843786467139337\n",
      "\n",
      "No pretrained model found, starting from scratch.\n"
     ]
    },
    {
     "name": "stderr",
     "output_type": "stream",
     "text": [
      "Processing Epoch 00: 100%|██████████| 954/954 [01:17<00:00, 12.34it/s, loss=0.419]\n"
     ]
    },
    {
     "name": "stdout",
     "output_type": "stream",
     "text": [
      "    SOURCE: ezokunqoba\n",
      "    TARGET: e-zo-ku-nqob-a\n",
      " PREDICTED: e-zo-ku-nqob-a\n",
      "    SOURCE: maqhawe\n",
      "    TARGET: ma-qhawe\n",
      " PREDICTED: ma-qhaw-e\n",
      "    SOURCE: zizokhokhela\n",
      "    TARGET: zi-zo-khokhel-a\n",
      " PREDICTED: zi-zo-khokhel-a\n",
      "----------------------------------------------------------------------------------------------------\n",
      "Epoch 0 - Validation Loss: 0.0003\n",
      "Saved best model from epoch 0 with validation loss: 0.000310\n",
      "Initial best loss set to 0.000310.\n"
     ]
    },
    {
     "name": "stderr",
     "output_type": "stream",
     "text": [
      "Processing Epoch 01: 100%|██████████| 954/954 [01:22<00:00, 11.57it/s, loss=0.374]\n"
     ]
    },
    {
     "name": "stdout",
     "output_type": "stream",
     "text": [
      "    SOURCE: ezokunqoba\n",
      "    TARGET: e-zo-ku-nqob-a\n",
      " PREDICTED: e-zo-ku-nqob-a\n",
      "    SOURCE: maqhawe\n",
      "    TARGET: ma-qhawe\n",
      " PREDICTED: ma-qhawe\n",
      "    SOURCE: zizokhokhela\n",
      "    TARGET: zi-zo-khokhel-a\n",
      " PREDICTED: zi-zo-khokhel-a\n",
      "----------------------------------------------------------------------------------------------------\n",
      "Epoch 1 - Validation Loss: 0.0003\n",
      "Improvement: 0.000310 -> 0.000296\n",
      "Saved best model from epoch 1 with validation loss: 0.000296\n"
     ]
    },
    {
     "name": "stderr",
     "output_type": "stream",
     "text": [
      "Processing Epoch 02: 100%|██████████| 954/954 [01:24<00:00, 11.32it/s, loss=0.376]\n"
     ]
    },
    {
     "name": "stdout",
     "output_type": "stream",
     "text": [
      "    SOURCE: ezokunqoba\n",
      "    TARGET: e-zo-ku-nqob-a\n",
      " PREDICTED: e-zo-ku-nqob-a\n",
      "    SOURCE: maqhawe\n",
      "    TARGET: ma-qhawe\n",
      " PREDICTED: ma-qhawe\n",
      "    SOURCE: zizokhokhela\n",
      "    TARGET: zi-zo-khokhel-a\n",
      " PREDICTED: zi-zo-khokhel-a\n",
      "----------------------------------------------------------------------------------------------------\n",
      "Epoch 2 - Validation Loss: 0.0003\n",
      "Improvement: 0.000296 -> 0.000285\n",
      "Saved best model from epoch 2 with validation loss: 0.000285\n"
     ]
    },
    {
     "name": "stderr",
     "output_type": "stream",
     "text": [
      "Processing Epoch 03: 100%|██████████| 954/954 [01:24<00:00, 11.27it/s, loss=0.368]\n"
     ]
    },
    {
     "name": "stdout",
     "output_type": "stream",
     "text": [
      "    SOURCE: ezokunqoba\n",
      "    TARGET: e-zo-ku-nqob-a\n",
      " PREDICTED: e-zo-ku-nqob-a\n",
      "    SOURCE: maqhawe\n",
      "    TARGET: ma-qhawe\n",
      " PREDICTED: ma-qhawe\n",
      "    SOURCE: zizokhokhela\n",
      "    TARGET: zi-zo-khokhel-a\n",
      " PREDICTED: zi-zo-khokhel-a\n",
      "----------------------------------------------------------------------------------------------------\n",
      "Epoch 3 - Validation Loss: 0.0003\n",
      "Improvement: 0.000285 -> 0.000284\n",
      "Saved best model from epoch 3 with validation loss: 0.000284\n"
     ]
    },
    {
     "name": "stderr",
     "output_type": "stream",
     "text": [
      "Processing Epoch 04: 100%|██████████| 954/954 [01:24<00:00, 11.31it/s, loss=0.406]\n"
     ]
    },
    {
     "name": "stdout",
     "output_type": "stream",
     "text": [
      "    SOURCE: ezokunqoba\n",
      "    TARGET: e-zo-ku-nqob-a\n",
      " PREDICTED: e-zo-ku-nqob-a\n",
      "    SOURCE: maqhawe\n",
      "    TARGET: ma-qhawe\n",
      " PREDICTED: ma-qhawe\n",
      "    SOURCE: zizokhokhela\n",
      "    TARGET: zi-zo-khokhel-a\n",
      " PREDICTED: zi-zo-khokhel-a\n",
      "----------------------------------------------------------------------------------------------------\n",
      "Epoch 4 - Validation Loss: 0.0003\n",
      "Loss increased: 0.000284 -> 0.000288. Counter: 1/5\n"
     ]
    },
    {
     "name": "stderr",
     "output_type": "stream",
     "text": [
      "Processing Epoch 05: 100%|██████████| 954/954 [01:24<00:00, 11.24it/s, loss=0.367]\n"
     ]
    },
    {
     "name": "stdout",
     "output_type": "stream",
     "text": [
      "    SOURCE: ezokunqoba\n",
      "    TARGET: e-zo-ku-nqob-a\n",
      " PREDICTED: e-zo-ku-nqob-a\n",
      "    SOURCE: maqhawe\n",
      "    TARGET: ma-qhawe\n",
      " PREDICTED: ma-qhawe\n",
      "    SOURCE: zizokhokhela\n",
      "    TARGET: zi-zo-khokhel-a\n",
      " PREDICTED: zi-zo-khokhel-a\n",
      "----------------------------------------------------------------------------------------------------\n",
      "Epoch 5 - Validation Loss: 0.0003\n",
      "Loss increased: 0.000284 -> 0.000294. Counter: 2/5\n"
     ]
    },
    {
     "name": "stderr",
     "output_type": "stream",
     "text": [
      "Processing Epoch 06: 100%|██████████| 954/954 [01:25<00:00, 11.20it/s, loss=0.379]\n"
     ]
    },
    {
     "name": "stdout",
     "output_type": "stream",
     "text": [
      "    SOURCE: ezokunqoba\n",
      "    TARGET: e-zo-ku-nqob-a\n",
      " PREDICTED: e-zo-ku-nqob-a\n",
      "    SOURCE: maqhawe\n",
      "    TARGET: ma-qhawe\n",
      " PREDICTED: ma-qhawe\n",
      "    SOURCE: zizokhokhela\n",
      "    TARGET: zi-zo-khokhel-a\n",
      " PREDICTED: zi-zo-khokhel-a\n",
      "----------------------------------------------------------------------------------------------------\n",
      "Epoch 6 - Validation Loss: 0.0003\n",
      "Improvement: 0.000284 -> 0.000284\n",
      "Saved best model from epoch 6 with validation loss: 0.000284\n"
     ]
    },
    {
     "name": "stderr",
     "output_type": "stream",
     "text": [
      "Processing Epoch 07: 100%|██████████| 954/954 [01:24<00:00, 11.23it/s, loss=0.422]\n"
     ]
    },
    {
     "name": "stdout",
     "output_type": "stream",
     "text": [
      "    SOURCE: ezokunqoba\n",
      "    TARGET: e-zo-ku-nqob-a\n",
      " PREDICTED: e-zo-ku-nqob-a\n",
      "    SOURCE: maqhawe\n",
      "    TARGET: ma-qhawe\n",
      " PREDICTED: ma-qhaw-e\n",
      "    SOURCE: zizokhokhela\n",
      "    TARGET: zi-zo-khokhel-a\n",
      " PREDICTED: zi-zo-khokhel-a\n",
      "----------------------------------------------------------------------------------------------------\n",
      "Epoch 7 - Validation Loss: 0.0003\n",
      "Loss increased: 0.000284 -> 0.000295. Counter: 1/5\n"
     ]
    },
    {
     "name": "stderr",
     "output_type": "stream",
     "text": [
      "Processing Epoch 08: 100%|██████████| 954/954 [01:24<00:00, 11.28it/s, loss=0.359]\n"
     ]
    },
    {
     "name": "stdout",
     "output_type": "stream",
     "text": [
      "    SOURCE: ezokunqoba\n",
      "    TARGET: e-zo-ku-nqob-a\n",
      " PREDICTED: e-zo-ku-nqob-a\n",
      "    SOURCE: maqhawe\n",
      "    TARGET: ma-qhawe\n",
      " PREDICTED: ma-qhawe\n",
      "    SOURCE: zizokhokhela\n",
      "    TARGET: zi-zo-khokhel-a\n",
      " PREDICTED: zi-zo-khokhel-a\n",
      "----------------------------------------------------------------------------------------------------\n",
      "Epoch 8 - Validation Loss: 0.0003\n",
      "Loss increased: 0.000284 -> 0.000289. Counter: 2/5\n"
     ]
    },
    {
     "name": "stderr",
     "output_type": "stream",
     "text": [
      "Processing Epoch 09: 100%|██████████| 954/954 [01:24<00:00, 11.23it/s, loss=0.415]\n"
     ]
    },
    {
     "name": "stdout",
     "output_type": "stream",
     "text": [
      "    SOURCE: ezokunqoba\n",
      "    TARGET: e-zo-ku-nqob-a\n",
      " PREDICTED: e-zo-ku-nqob-a\n",
      "    SOURCE: maqhawe\n",
      "    TARGET: ma-qhawe\n",
      " PREDICTED: ma-qhawe\n",
      "    SOURCE: zizokhokhela\n",
      "    TARGET: zi-zo-khokhel-a\n",
      " PREDICTED: zi-zo-khokhel-a\n",
      "----------------------------------------------------------------------------------------------------\n",
      "Epoch 9 - Validation Loss: 0.0003\n",
      "Loss increased: 0.000284 -> 0.000286. Counter: 3/5\n"
     ]
    },
    {
     "name": "stderr",
     "output_type": "stream",
     "text": [
      "Processing Epoch 10: 100%|██████████| 954/954 [01:25<00:00, 11.21it/s, loss=0.376]\n"
     ]
    },
    {
     "name": "stdout",
     "output_type": "stream",
     "text": [
      "    SOURCE: ezokunqoba\n",
      "    TARGET: e-zo-ku-nqob-a\n",
      " PREDICTED: e-zo-ku-nqob-a\n",
      "    SOURCE: maqhawe\n",
      "    TARGET: ma-qhawe\n",
      " PREDICTED: ma-qhawe\n",
      "    SOURCE: zizokhokhela\n",
      "    TARGET: zi-zo-khokhel-a\n",
      " PREDICTED: zi-zo-khokhel-a\n",
      "----------------------------------------------------------------------------------------------------\n",
      "Epoch 10 - Validation Loss: 0.0003\n",
      "Loss increased: 0.000284 -> 0.000286. Counter: 4/5\n"
     ]
    },
    {
     "name": "stderr",
     "output_type": "stream",
     "text": [
      "Processing Epoch 11: 100%|██████████| 954/954 [01:25<00:00, 11.21it/s, loss=0.430]\n"
     ]
    },
    {
     "name": "stdout",
     "output_type": "stream",
     "text": [
      "    SOURCE: ezokunqoba\n",
      "    TARGET: e-zo-ku-nqob-a\n",
      " PREDICTED: e-zo-ku-nqob-a\n",
      "    SOURCE: maqhawe\n",
      "    TARGET: ma-qhawe\n",
      " PREDICTED: ma-qhawe\n",
      "    SOURCE: zizokhokhela\n",
      "    TARGET: zi-zo-khokhel-a\n",
      " PREDICTED: zi-zo-khokhel-a\n",
      "----------------------------------------------------------------------------------------------------\n",
      "Epoch 11 - Validation Loss: 0.0003\n",
      "Loss increased: 0.000284 -> 0.000287. Counter: 5/5\n",
      "Early stopping triggered due to loss increasing.\n",
      "Early stopping triggered\n"
     ]
    },
    {
     "data": {
      "image/png": "[encoded data removed]",
      "text/plain": [
       "<Figure size 1000x500 with 1 Axes>"
      ]
     },
     "metadata": {},
     "output_type": "display_data"
    },
    {
     "name": "stderr",
     "output_type": "stream",
     "text": [
      "\u001b[36m(pid=7757)\u001b[0m 2025-03-16 00:51:12.435230: I tensorflow/core/platform/cpu_feature_guard.cc:182] This TensorFlow binary is optimized to use available CPU instructions in performance-critical operations.\n",
      "\u001b[36m(pid=7757)\u001b[0m To enable the following instructions: AVX2 FMA, in other operations, rebuild TensorFlow with the appropriate compiler flags.\n",
      "\u001b[36m(pid=7757)\u001b[0m 2025-03-16 00:51:13.379373: W tensorflow/compiler/tf2tensorrt/utils/py_utils.cc:38] TF-TRT Warning: Could not find TensorRT\n",
      "\u001b[36m(pid=8020)\u001b[0m 2025-03-16 00:55:07.748565: I tensorflow/core/platform/cpu_feature_guard.cc:182] This TensorFlow binary is optimized to use available CPU instructions in performance-critical operations.\n",
      "\u001b[36m(pid=8020)\u001b[0m To enable the following instructions: AVX2 FMA, in other operations, rebuild TensorFlow with the appropriate compiler flags.\n",
      "\u001b[36m(pid=8020)\u001b[0m 2025-03-16 00:55:08.670672: W tensorflow/compiler/tf2tensorrt/utils/py_utils.cc:38] TF-TRT Warning: Could not find TensorRT\n",
      "\u001b[36m(pid=8281)\u001b[0m 2025-03-16 00:58:57.840442: I tensorflow/core/platform/cpu_feature_guard.cc:182] This TensorFlow binary is optimized to use available CPU instructions in performance-critical operations.\n",
      "\u001b[36m(pid=8281)\u001b[0m To enable the following instructions: AVX2 FMA, in other operations, rebuild TensorFlow with the appropriate compiler flags.\n",
      "\u001b[36m(pid=8281)\u001b[0m 2025-03-16 00:58:58.778704: W tensorflow/compiler/tf2tensorrt/utils/py_utils.cc:38] TF-TRT Warning: Could not find TensorRT\n",
      "\u001b[36m(pid=8546)\u001b[0m 2025-03-16 01:02:57.905529: I tensorflow/core/platform/cpu_feature_guard.cc:182] This TensorFlow binary is optimized to use available CPU instructions in performance-critical operations.\n",
      "\u001b[36m(pid=8546)\u001b[0m To enable the following instructions: AVX2 FMA, in other operations, rebuild TensorFlow with the appropriate compiler flags.\n",
      "\u001b[36m(pid=8546)\u001b[0m 2025-03-16 01:02:58.836174: W tensorflow/compiler/tf2tensorrt/utils/py_utils.cc:38] TF-TRT Warning: Could not find TensorRT\n",
      "\u001b[36m(pid=8800)\u001b[0m 2025-03-16 01:06:12.972022: I tensorflow/core/platform/cpu_feature_guard.cc:182] This TensorFlow binary is optimized to use available CPU instructions in performance-critical operations.\n",
      "\u001b[36m(pid=8800)\u001b[0m To enable the following instructions: AVX2 FMA, in other operations, rebuild TensorFlow with the appropriate compiler flags.\n",
      "\u001b[36m(pid=8800)\u001b[0m 2025-03-16 01:06:13.976569: W tensorflow/compiler/tf2tensorrt/utils/py_utils.cc:38] TF-TRT Warning: Could not find TensorRT\n",
      "\u001b[36m(pid=9045)\u001b[0m 2025-03-16 01:09:00.987409: I tensorflow/core/platform/cpu_feature_guard.cc:182] This TensorFlow binary is optimized to use available CPU instructions in performance-critical operations.\n",
      "\u001b[36m(pid=9045)\u001b[0m To enable the following instructions: AVX2 FMA, in other operations, rebuild TensorFlow with the appropriate compiler flags.\n",
      "\u001b[36m(pid=9045)\u001b[0m 2025-03-16 01:09:01.949159: W tensorflow/compiler/tf2tensorrt/utils/py_utils.cc:38] TF-TRT Warning: Could not find TensorRT\n",
      "\u001b[36m(pid=9349)\u001b[0m 2025-03-16 01:15:40.944225: I tensorflow/core/platform/cpu_feature_guard.cc:182] This TensorFlow binary is optimized to use available CPU instructions in performance-critical operations.\n",
      "\u001b[36m(pid=9349)\u001b[0m To enable the following instructions: AVX2 FMA, in other operations, rebuild TensorFlow with the appropriate compiler flags.\n",
      "\u001b[36m(pid=9349)\u001b[0m 2025-03-16 01:15:41.915860: W tensorflow/compiler/tf2tensorrt/utils/py_utils.cc:38] TF-TRT Warning: Could not find TensorRT\n",
      "\u001b[36m(pid=9583)\u001b[0m 2025-03-16 01:17:31.920248: I tensorflow/core/platform/cpu_feature_guard.cc:182] This TensorFlow binary is optimized to use available CPU instructions in performance-critical operations.\n",
      "\u001b[36m(pid=9583)\u001b[0m To enable the following instructions: AVX2 FMA, in other operations, rebuild TensorFlow with the appropriate compiler flags.\n",
      "\u001b[36m(pid=9583)\u001b[0m 2025-03-16 01:17:32.902219: W tensorflow/compiler/tf2tensorrt/utils/py_utils.cc:38] TF-TRT Warning: Could not find TensorRT\n",
      "\u001b[36m(pid=9823)\u001b[0m 2025-03-16 01:19:49.073436: I tensorflow/core/platform/cpu_feature_guard.cc:182] This TensorFlow binary is optimized to use available CPU instructions in performance-critical operations.\n",
      "\u001b[36m(pid=9823)\u001b[0m To enable the following instructions: AVX2 FMA, in other operations, rebuild TensorFlow with the appropriate compiler flags.\n",
      "\u001b[36m(pid=9823)\u001b[0m 2025-03-16 01:19:50.033405: W tensorflow/compiler/tf2tensorrt/utils/py_utils.cc:38] TF-TRT Warning: Could not find TensorRT\n",
      "\u001b[36m(pid=10048)\u001b[0m 2025-03-16 01:21:15.945667: I tensorflow/core/platform/cpu_feature_guard.cc:182] This TensorFlow binary is optimized to use available CPU instructions in performance-critical operations.\n",
      "\u001b[36m(pid=10048)\u001b[0m To enable the following instructions: AVX2 FMA, in other operations, rebuild TensorFlow with the appropriate compiler flags.\n",
      "\u001b[36m(pid=10048)\u001b[0m 2025-03-16 01:21:16.958169: W tensorflow/compiler/tf2tensorrt/utils/py_utils.cc:38] TF-TRT Warning: Could not find TensorRT\n",
      "\u001b[36m(pid=11134)\u001b[0m 2025-03-16 02:06:52.789536: I tensorflow/core/platform/cpu_feature_guard.cc:182] This TensorFlow binary is optimized to use available CPU instructions in performance-critical operations.\n",
      "\u001b[36m(pid=11134)\u001b[0m To enable the following instructions: AVX2 FMA, in other operations, rebuild TensorFlow with the appropriate compiler flags.\n",
      "\u001b[36m(pid=11134)\u001b[0m 2025-03-16 02:06:53.762292: W tensorflow/compiler/tf2tensorrt/utils/py_utils.cc:38] TF-TRT Warning: Could not find TensorRT\n",
      "\u001b[36m(pid=11374)\u001b[0m 2025-03-16 02:09:11.142253: I tensorflow/core/platform/cpu_feature_guard.cc:182] This TensorFlow binary is optimized to use available CPU instructions in performance-critical operations.\n",
      "\u001b[36m(pid=11374)\u001b[0m To enable the following instructions: AVX2 FMA, in other operations, rebuild TensorFlow with the appropriate compiler flags.\n",
      "\u001b[36m(pid=11374)\u001b[0m 2025-03-16 02:09:12.113877: W tensorflow/compiler/tf2tensorrt/utils/py_utils.cc:38] TF-TRT Warning: Could not find TensorRT\n",
      "\u001b[36m(pid=11613)\u001b[0m 2025-03-16 02:11:30.226903: I tensorflow/core/platform/cpu_feature_guard.cc:182] This TensorFlow binary is optimized to use available CPU instructions in performance-critical operations.\n",
      "\u001b[36m(pid=11613)\u001b[0m To enable the following instructions: AVX2 FMA, in other operations, rebuild TensorFlow with the appropriate compiler flags.\n",
      "\u001b[36m(pid=11613)\u001b[0m 2025-03-16 02:11:31.216650: W tensorflow/compiler/tf2tensorrt/utils/py_utils.cc:38] TF-TRT Warning: Could not find TensorRT\n",
      "\u001b[36m(pid=11853)\u001b[0m 2025-03-16 02:13:49.262244: I tensorflow/core/platform/cpu_feature_guard.cc:182] This TensorFlow binary is optimized to use available CPU instructions in performance-critical operations.\n",
      "\u001b[36m(pid=11853)\u001b[0m To enable the following instructions: AVX2 FMA, in other operations, rebuild TensorFlow with the appropriate compiler flags.\n",
      "\u001b[36m(pid=11853)\u001b[0m 2025-03-16 02:13:50.298359: W tensorflow/compiler/tf2tensorrt/utils/py_utils.cc:38] TF-TRT Warning: Could not find TensorRT\n",
      "\u001b[36m(pid=12118)\u001b[0m 2025-03-16 02:17:49.251881: I tensorflow/core/platform/cpu_feature_guard.cc:182] This TensorFlow binary is optimized to use available CPU instructions in performance-critical operations.\n",
      "\u001b[36m(pid=12118)\u001b[0m To enable the following instructions: AVX2 FMA, in other operations, rebuild TensorFlow with the appropriate compiler flags.\n",
      "\u001b[36m(pid=12118)\u001b[0m 2025-03-16 02:17:50.197999: W tensorflow/compiler/tf2tensorrt/utils/py_utils.cc:38] TF-TRT Warning: Could not find TensorRT\n",
      "\u001b[36m(pid=12367)\u001b[0m 2025-03-16 02:20:39.281027: I tensorflow/core/platform/cpu_feature_guard.cc:182] This TensorFlow binary is optimized to use available CPU instructions in performance-critical operations.\n",
      "\u001b[36m(pid=12367)\u001b[0m To enable the following instructions: AVX2 FMA, in other operations, rebuild TensorFlow with the appropriate compiler flags.\n",
      "\u001b[36m(pid=12367)\u001b[0m 2025-03-16 02:20:40.253398: W tensorflow/compiler/tf2tensorrt/utils/py_utils.cc:38] TF-TRT Warning: Could not find TensorRT\n",
      "\u001b[36m(pid=12612)\u001b[0m 2025-03-16 02:23:24.242744: I tensorflow/core/platform/cpu_feature_guard.cc:182] This TensorFlow binary is optimized to use available CPU instructions in performance-critical operations.\n",
      "\u001b[36m(pid=12612)\u001b[0m To enable the following instructions: AVX2 FMA, in other operations, rebuild TensorFlow with the appropriate compiler flags.\n",
      "\u001b[36m(pid=12612)\u001b[0m 2025-03-16 02:23:25.219623: W tensorflow/compiler/tf2tensorrt/utils/py_utils.cc:38] TF-TRT Warning: Could not find TensorRT\n",
      "\u001b[36m(pid=12852)\u001b[0m 2025-03-16 02:25:48.340013: I tensorflow/core/platform/cpu_feature_guard.cc:182] This TensorFlow binary is optimized to use available CPU instructions in performance-critical operations.\n",
      "\u001b[36m(pid=12852)\u001b[0m To enable the following instructions: AVX2 FMA, in other operations, rebuild TensorFlow with the appropriate compiler flags.\n",
      "\u001b[36m(pid=12852)\u001b[0m 2025-03-16 02:25:49.304397: W tensorflow/compiler/tf2tensorrt/utils/py_utils.cc:38] TF-TRT Warning: Could not find TensorRT\n",
      "\u001b[36m(pid=13096)\u001b[0m 2025-03-16 02:28:06.312030: I tensorflow/core/platform/cpu_feature_guard.cc:182] This TensorFlow binary is optimized to use available CPU instructions in performance-critical operations.\n",
      "\u001b[36m(pid=13096)\u001b[0m To enable the following instructions: AVX2 FMA, in other operations, rebuild TensorFlow with the appropriate compiler flags.\n",
      "\u001b[36m(pid=13096)\u001b[0m 2025-03-16 02:28:07.296831: W tensorflow/compiler/tf2tensorrt/utils/py_utils.cc:38] TF-TRT Warning: Could not find TensorRT\n",
      "\u001b[36m(pid=13332)\u001b[0m 2025-03-16 02:30:06.362016: I tensorflow/core/platform/cpu_feature_guard.cc:182] This TensorFlow binary is optimized to use available CPU instructions in performance-critical operations.\n",
      "\u001b[36m(pid=13332)\u001b[0m To enable the following instructions: AVX2 FMA, in other operations, rebuild TensorFlow with the appropriate compiler flags.\n",
      "\u001b[36m(pid=13332)\u001b[0m 2025-03-16 02:30:07.332822: W tensorflow/compiler/tf2tensorrt/utils/py_utils.cc:38] TF-TRT Warning: Could not find TensorRT\n"
     ]
    }
   ],
   "source": [
    "# Initial config with small dataset for tuning\n",
    "config = {\n",
    "    # Data and training parameters\n",
    "    \"datasource\": 'valid_linearizations_original.csv',\n",
    "    \"batch_size\": 64,\n",
    "    \"num_epochs\": 60,\n",
    "    \"lr\": 10**-5,\n",
    "    'plateau_patience': 10,  # New for plateau detection\n",
    "    'worsen_patience': 5,   # New for worsen detection\n",
    "    'min_delta': 0.0005,    # Minimum improvement for loss\n",
    "    'verbose': True,\n",
    "    \"data_length\": 100000,\n",
    "    \n",
    "    # Model architecture parameters\n",
    "    \"seq_len\": 50,\n",
    "    \"d_model\": 512,        # Dimension of the model\n",
    "    \"num_layers\": 6,       # Number of encoder/decoder layers (N)\n",
    "    \"num_heads\": 8,        # Number of attention heads (h)\n",
    "    \"d_ff\": 2048,          # Dimension of feed-forward network\n",
    "    \"dropout\": 0.1,        # Dropout rate\n",
    "    \"max_grad_norm\": 1.0,  # Gradient clipping\n",
    "    \"label_smoothing\": 0.1,# Label smoothing factor\n",
    "    \n",
    "    # Vocabulary and tokenization\n",
    "    'vocab_size': 50,\n",
    "    \"tokenize_custom\": {\n",
    "        \"tokens\": True,\n",
    "        \"segmenter_one\": True\n",
    "    },\n",
    "    'tokenize_method': 'character',\n",
    "    \n",
    "    # File paths and model settings\n",
    "    \"file_path\": 'segmenter_one',\n",
    "    \"model_folder\": \"weights\",\n",
    "    \"lang_src\": \"tokens\",\n",
    "    \"lang_tgt\": \"segmenter_one\",\n",
    "    \"model_basename\": \"model_\",\n",
    "    \"preload\": \"latest\",\n",
    "    \"tokenizer_file\": \"tokenizers_{0}.json\",\n",
    "    \"experiment_name\": \"segmenter_one/tensor_data\",\n",
    "    \"random_seed\": 20,\n",
    "}\n",
    "\n",
    "# Initialize first trainer - this builds vocabulary on full dataset\n",
    "print(\"Initializing trainer with full dataset for vocabulary building...\")\n",
    "trainer = Seq2SeqTrainer(config)\n",
    "\n",
    "# Modify for hyper-parameter tuning\n",
    "print(\"Reducing dataset size for hyperparameter tuning...\")\n",
    "trainer.config[\"data_length\"] = 20000  # Smaller size for quick tuning\n",
    "tune_trainer = Seq2SeqTrainer(trainer.config)\n",
    "\n",
    "# Run hyperparameter optimization with small dataset\n",
    "best_config, analysis = tune_trainer.tune_hyperparameters(\n",
    "    num_samples=10,  # Number of trials\n",
    "    num_epochs=5    # Epochs per trial\n",
    ")\n",
    "\n",
    "# Now increase dataset size for full training\n",
    "print(\"Increasing dataset size for full training...\")\n",
    "tune_trainer.config[\"data_length\"] = 80000  # Larger size for full training\n",
    "train_trainer = Seq2SeqTrainer(tune_trainer.config)\n",
    "train_trainer.train()"
   ]
  },
  {
   "cell_type": "markdown",
   "id": "0864ec48",
   "metadata": {},
   "source": [
    "### Train from the available config"
   ]
  },
  {
   "cell_type": "code",
   "execution_count": null,
   "id": "6e3caa15",
   "metadata": {},
   "outputs": [],
   "source": [
    "#load the config \n",
    "file_path = os.path.join(\"/segmenter_one\", \"model_config.json\")\n",
    "\n",
    "print(f\"Attempting to load from: {file_path}\")\n",
    "\n",
    "if not os.path.exists(file_path):\n",
    "    print(\"File does not exist!\")\n",
    "else:\n",
    "    try:\n",
    "        with open(file_path, \"r\", encoding=\"utf-8\") as f:\n",
    "            loaded_config = json.load(f)\n",
    "            print(\"Config loaded successfully:\", loaded_config)\n",
    "    except json.JSONDecodeError as e:\n",
    "        print(f\"Error decoding JSON: {e}\")\n",
    "    except Exception as e:\n",
    "        print(f\"An unexpected error occurred: {e}\")"
   ]
  },
  {
   "cell_type": "code",
   "execution_count": null,
   "id": "4be23892",
   "metadata": {},
   "outputs": [],
   "source": [
    "#increase epoch_numbers\n",
    "loaded_config[\"num_epochs\"] = 60"
   ]
  },
  {
   "cell_type": "code",
   "execution_count": null,
   "id": "fe69a27d",
   "metadata": {},
   "outputs": [],
   "source": [
    "trainer = Seq2SeqTrainer(loaded_config)\n",
    "trainer.train()"
   ]
  }
 ],
 "metadata": {
  "kernelspec": {
   "display_name": "Python 3 (ipykernel)",
   "language": "python",
   "name": "python3"
  },
  "language_info": {
   "codemirror_mode": {
    "name": "ipython",
    "version": 3
   },
   "file_extension": ".py",
   "mimetype": "text/x-python",
   "name": "python",
   "nbconvert_exporter": "python",
   "pygments_lexer": "ipython3",
   "version": "3.8.10"
  }
 },
 "nbformat": 4,
 "nbformat_minor": 5
}
